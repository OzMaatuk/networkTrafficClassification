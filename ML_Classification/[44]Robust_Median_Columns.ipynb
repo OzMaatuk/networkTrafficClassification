{
 "cells": [
  {
   "cell_type": "markdown",
   "metadata": {},
   "source": [
    "# Robust Test - Median Noise - columns\n",
    "for each column in the data we will permute the values by setting randomly values with diffrent noise  around the median value."
   ]
  },
  {
   "cell_type": "markdown",
   "metadata": {},
   "source": [
    "# Import"
   ]
  },
  {
   "cell_type": "code",
   "execution_count": 1,
   "metadata": {},
   "outputs": [],
   "source": [
    "import pandas as pd\n",
    "import numpy as np\n",
    "from pycaret.classification import *\n",
    "import time\n",
    "# from DB_scripts import rnd_bln_split_CSV as shf"
   ]
  },
  {
   "cell_type": "markdown",
   "metadata": {},
   "source": [
    "# Settings"
   ]
  },
  {
   "cell_type": "code",
   "execution_count": 2,
   "metadata": {},
   "outputs": [],
   "source": [
    "# set constants\n",
    "target_label = 'tuple'\n",
    "learning_model = 'rf' # ['rf','et','lightgbm','xgboost']\n",
    "num_features = ['min_packet_size', 'min_fpkt', 'min_bpkt']\n",
    "file_name = \"new_all_features_\"\n",
    "path = \"../Datasets/\" + target_label + \"_dataset/\""
   ]
  },
  {
   "cell_type": "code",
   "execution_count": 3,
   "metadata": {},
   "outputs": [],
   "source": [
    "# function for making model-prediction over the data set and measure the run time \n",
    "def timed_prediction(in_data,in_model):\n",
    "    t = time.process_time()\n",
    "    predicted = predict_model(in_model, data=in_data)\n",
    "    elapsed_time = time.process_time() - t\n",
    "    print(\"prediction took: \" + str(elapsed_time))\n",
    "    return predicted"
   ]
  },
  {
   "cell_type": "code",
   "execution_count": 4,
   "metadata": {},
   "outputs": [],
   "source": [
    "# compare answers and labeled test\n",
    "def compare_prediction_with_answers(in_predicted, in_answers):\n",
    "    count=0\n",
    "    index = in_predicted.index\n",
    "    number_of_rows = len(index)\n",
    "    errors_arr = []\n",
    "    for i in range(0,number_of_rows):\n",
    "        if str(int(in_answers.iloc[i])) != str(int(in_predicted.iloc[i]['Label'])):\n",
    "            count=count+1\n",
    "            cur_error = str(in_answers[i]) + \"!=\" + str(in_predicted.iloc[i]['Label'])\n",
    "            errors_arr.append(cur_error)\n",
    "#             print(\"error in line \" + str(i) +\n",
    "#                   \" \" + str(in_answers[i]) +\n",
    "#                   \"!=\" + str(in_predicted.iloc[i]['Label']))\n",
    "#     print(\"Errors: \" + str(errors_arr))\n",
    "#     print(\"Number of error: \" + str(count) + \" from \" +\n",
    "#           str(number_of_rows) + \" test samples \\nWhich is \"\n",
    "#           + str(100*count/number_of_rows) + \"% of error.\")\n",
    "    return count"
   ]
  },
  {
   "cell_type": "code",
   "execution_count": 5,
   "metadata": {},
   "outputs": [],
   "source": [
    "# function for checkign the correction of the model-prediction over the data\n",
    "def check_correction(in_predicted):\n",
    "    in_answers=in_predicted['Label']\n",
    "    return compare_prediction_with_answers(in_predicted, in_answers)"
   ]
  },
  {
   "cell_type": "code",
   "execution_count": 6,
   "metadata": {},
   "outputs": [],
   "source": [
    "# activating balanced random data shuffling\n",
    "# shf.split_CSV_randomly_balanced(target_label,file_name)"
   ]
  },
  {
   "cell_type": "code",
   "execution_count": 7,
   "metadata": {},
   "outputs": [],
   "source": [
    "def get_rand_dataframe(in_data, in_column_indx,in_noise):\n",
    "    cur_col=in_data[in_column_indx]\n",
    "    col_len = len(cur_col)\n",
    "    max_value = cur_col.max()\n",
    "    value = cur_col[0]\n",
    "    min_value = cur_col.min()\n",
    "    noise = in_noise\n",
    "    buffer = cur_col.median()*noise\n",
    "    for i in range(0,col_len):\n",
    "        cur_val = cur_col[i]\n",
    "        coeff = np.random.randint(0,1)\n",
    "        if coeff == 0: coeff=-1\n",
    "        cur_col[i] = cur_val + (coeff * buffer)\n",
    "    in_data[in_column_indx] = cur_col\n",
    "    return in_data"
   ]
  },
  {
   "cell_type": "markdown",
   "metadata": {},
   "source": [
    "# Read Data"
   ]
  },
  {
   "cell_type": "code",
   "execution_count": 8,
   "metadata": {},
   "outputs": [],
   "source": [
    "data = pd.read_csv(path+r'new_all_features_'+target_label+'_train.csv',\n",
    "                      sep='\\t',\n",
    "                      skiprows=[1])"
   ]
  },
  {
   "cell_type": "markdown",
   "metadata": {},
   "source": [
    "# Setup Data and Build Model"
   ]
  },
  {
   "cell_type": "code",
   "execution_count": 9,
   "metadata": {
    "tags": []
   },
   "outputs": [
    {
     "data": {
      "text/html": [
       "<style  type=\"text/css\" >\n",
       "#T_d6753f3c_28e5_11eb_ab67_00d8610889aerow10_col0,#T_d6753f3c_28e5_11eb_ab67_00d8610889aerow10_col1,#T_d6753f3c_28e5_11eb_ab67_00d8610889aerow10_col2,#T_d6753f3c_28e5_11eb_ab67_00d8610889aerow10_col3,#T_d6753f3c_28e5_11eb_ab67_00d8610889aerow10_col4,#T_d6753f3c_28e5_11eb_ab67_00d8610889aerow10_col5,#T_d6753f3c_28e5_11eb_ab67_00d8610889aerow10_col6{\n",
       "            background:  yellow;\n",
       "        }</style><table id=\"T_d6753f3c_28e5_11eb_ab67_00d8610889ae\" ><thead>    <tr>        <th class=\"blank level0\" ></th>        <th class=\"col_heading level0 col0\" >Accuracy</th>        <th class=\"col_heading level0 col1\" >AUC</th>        <th class=\"col_heading level0 col2\" >Recall</th>        <th class=\"col_heading level0 col3\" >Prec.</th>        <th class=\"col_heading level0 col4\" >F1</th>        <th class=\"col_heading level0 col5\" >Kappa</th>        <th class=\"col_heading level0 col6\" >MCC</th>    </tr></thead><tbody>\n",
       "                <tr>\n",
       "                        <th id=\"T_d6753f3c_28e5_11eb_ab67_00d8610889aelevel0_row0\" class=\"row_heading level0 row0\" >0</th>\n",
       "                        <td id=\"T_d6753f3c_28e5_11eb_ab67_00d8610889aerow0_col0\" class=\"data row0 col0\" >0.9654</td>\n",
       "                        <td id=\"T_d6753f3c_28e5_11eb_ab67_00d8610889aerow0_col1\" class=\"data row0 col1\" >0.0000</td>\n",
       "                        <td id=\"T_d6753f3c_28e5_11eb_ab67_00d8610889aerow0_col2\" class=\"data row0 col2\" >0.8800</td>\n",
       "                        <td id=\"T_d6753f3c_28e5_11eb_ab67_00d8610889aerow0_col3\" class=\"data row0 col3\" >0.9643</td>\n",
       "                        <td id=\"T_d6753f3c_28e5_11eb_ab67_00d8610889aerow0_col4\" class=\"data row0 col4\" >0.9642</td>\n",
       "                        <td id=\"T_d6753f3c_28e5_11eb_ab67_00d8610889aerow0_col5\" class=\"data row0 col5\" >0.9594</td>\n",
       "                        <td id=\"T_d6753f3c_28e5_11eb_ab67_00d8610889aerow0_col6\" class=\"data row0 col6\" >0.9595</td>\n",
       "            </tr>\n",
       "            <tr>\n",
       "                        <th id=\"T_d6753f3c_28e5_11eb_ab67_00d8610889aelevel0_row1\" class=\"row_heading level0 row1\" >1</th>\n",
       "                        <td id=\"T_d6753f3c_28e5_11eb_ab67_00d8610889aerow1_col0\" class=\"data row1 col0\" >0.9703</td>\n",
       "                        <td id=\"T_d6753f3c_28e5_11eb_ab67_00d8610889aerow1_col1\" class=\"data row1 col1\" >0.0000</td>\n",
       "                        <td id=\"T_d6753f3c_28e5_11eb_ab67_00d8610889aerow1_col2\" class=\"data row1 col2\" >0.9063</td>\n",
       "                        <td id=\"T_d6753f3c_28e5_11eb_ab67_00d8610889aerow1_col3\" class=\"data row1 col3\" >0.9715</td>\n",
       "                        <td id=\"T_d6753f3c_28e5_11eb_ab67_00d8610889aerow1_col4\" class=\"data row1 col4\" >0.9703</td>\n",
       "                        <td id=\"T_d6753f3c_28e5_11eb_ab67_00d8610889aerow1_col5\" class=\"data row1 col5\" >0.9653</td>\n",
       "                        <td id=\"T_d6753f3c_28e5_11eb_ab67_00d8610889aerow1_col6\" class=\"data row1 col6\" >0.9653</td>\n",
       "            </tr>\n",
       "            <tr>\n",
       "                        <th id=\"T_d6753f3c_28e5_11eb_ab67_00d8610889aelevel0_row2\" class=\"row_heading level0 row2\" >2</th>\n",
       "                        <td id=\"T_d6753f3c_28e5_11eb_ab67_00d8610889aerow2_col0\" class=\"data row2 col0\" >0.9594</td>\n",
       "                        <td id=\"T_d6753f3c_28e5_11eb_ab67_00d8610889aerow2_col1\" class=\"data row2 col1\" >0.0000</td>\n",
       "                        <td id=\"T_d6753f3c_28e5_11eb_ab67_00d8610889aerow2_col2\" class=\"data row2 col2\" >0.8496</td>\n",
       "                        <td id=\"T_d6753f3c_28e5_11eb_ab67_00d8610889aerow2_col3\" class=\"data row2 col3\" >0.9600</td>\n",
       "                        <td id=\"T_d6753f3c_28e5_11eb_ab67_00d8610889aerow2_col4\" class=\"data row2 col4\" >0.9580</td>\n",
       "                        <td id=\"T_d6753f3c_28e5_11eb_ab67_00d8610889aerow2_col5\" class=\"data row2 col5\" >0.9525</td>\n",
       "                        <td id=\"T_d6753f3c_28e5_11eb_ab67_00d8610889aerow2_col6\" class=\"data row2 col6\" >0.9526</td>\n",
       "            </tr>\n",
       "            <tr>\n",
       "                        <th id=\"T_d6753f3c_28e5_11eb_ab67_00d8610889aelevel0_row3\" class=\"row_heading level0 row3\" >3</th>\n",
       "                        <td id=\"T_d6753f3c_28e5_11eb_ab67_00d8610889aerow3_col0\" class=\"data row3 col0\" >0.9634</td>\n",
       "                        <td id=\"T_d6753f3c_28e5_11eb_ab67_00d8610889aerow3_col1\" class=\"data row3 col1\" >0.0000</td>\n",
       "                        <td id=\"T_d6753f3c_28e5_11eb_ab67_00d8610889aerow3_col2\" class=\"data row3 col2\" >0.8363</td>\n",
       "                        <td id=\"T_d6753f3c_28e5_11eb_ab67_00d8610889aerow3_col3\" class=\"data row3 col3\" >0.9663</td>\n",
       "                        <td id=\"T_d6753f3c_28e5_11eb_ab67_00d8610889aerow3_col4\" class=\"data row3 col4\" >0.9633</td>\n",
       "                        <td id=\"T_d6753f3c_28e5_11eb_ab67_00d8610889aerow3_col5\" class=\"data row3 col5\" >0.9572</td>\n",
       "                        <td id=\"T_d6753f3c_28e5_11eb_ab67_00d8610889aerow3_col6\" class=\"data row3 col6\" >0.9572</td>\n",
       "            </tr>\n",
       "            <tr>\n",
       "                        <th id=\"T_d6753f3c_28e5_11eb_ab67_00d8610889aelevel0_row4\" class=\"row_heading level0 row4\" >4</th>\n",
       "                        <td id=\"T_d6753f3c_28e5_11eb_ab67_00d8610889aerow4_col0\" class=\"data row4 col0\" >0.9733</td>\n",
       "                        <td id=\"T_d6753f3c_28e5_11eb_ab67_00d8610889aerow4_col1\" class=\"data row4 col1\" >0.0000</td>\n",
       "                        <td id=\"T_d6753f3c_28e5_11eb_ab67_00d8610889aerow4_col2\" class=\"data row4 col2\" >0.8851</td>\n",
       "                        <td id=\"T_d6753f3c_28e5_11eb_ab67_00d8610889aerow4_col3\" class=\"data row4 col3\" >0.9726</td>\n",
       "                        <td id=\"T_d6753f3c_28e5_11eb_ab67_00d8610889aerow4_col4\" class=\"data row4 col4\" >0.9723</td>\n",
       "                        <td id=\"T_d6753f3c_28e5_11eb_ab67_00d8610889aerow4_col5\" class=\"data row4 col5\" >0.9688</td>\n",
       "                        <td id=\"T_d6753f3c_28e5_11eb_ab67_00d8610889aerow4_col6\" class=\"data row4 col6\" >0.9688</td>\n",
       "            </tr>\n",
       "            <tr>\n",
       "                        <th id=\"T_d6753f3c_28e5_11eb_ab67_00d8610889aelevel0_row5\" class=\"row_heading level0 row5\" >5</th>\n",
       "                        <td id=\"T_d6753f3c_28e5_11eb_ab67_00d8610889aerow5_col0\" class=\"data row5 col0\" >0.9614</td>\n",
       "                        <td id=\"T_d6753f3c_28e5_11eb_ab67_00d8610889aerow5_col1\" class=\"data row5 col1\" >0.0000</td>\n",
       "                        <td id=\"T_d6753f3c_28e5_11eb_ab67_00d8610889aerow5_col2\" class=\"data row5 col2\" >0.8339</td>\n",
       "                        <td id=\"T_d6753f3c_28e5_11eb_ab67_00d8610889aerow5_col3\" class=\"data row5 col3\" >0.9617</td>\n",
       "                        <td id=\"T_d6753f3c_28e5_11eb_ab67_00d8610889aerow5_col4\" class=\"data row5 col4\" >0.9603</td>\n",
       "                        <td id=\"T_d6753f3c_28e5_11eb_ab67_00d8610889aerow5_col5\" class=\"data row5 col5\" >0.9548</td>\n",
       "                        <td id=\"T_d6753f3c_28e5_11eb_ab67_00d8610889aerow5_col6\" class=\"data row5 col6\" >0.9549</td>\n",
       "            </tr>\n",
       "            <tr>\n",
       "                        <th id=\"T_d6753f3c_28e5_11eb_ab67_00d8610889aelevel0_row6\" class=\"row_heading level0 row6\" >6</th>\n",
       "                        <td id=\"T_d6753f3c_28e5_11eb_ab67_00d8610889aerow6_col0\" class=\"data row6 col0\" >0.9693</td>\n",
       "                        <td id=\"T_d6753f3c_28e5_11eb_ab67_00d8610889aerow6_col1\" class=\"data row6 col1\" >0.0000</td>\n",
       "                        <td id=\"T_d6753f3c_28e5_11eb_ab67_00d8610889aerow6_col2\" class=\"data row6 col2\" >0.8919</td>\n",
       "                        <td id=\"T_d6753f3c_28e5_11eb_ab67_00d8610889aerow6_col3\" class=\"data row6 col3\" >0.9684</td>\n",
       "                        <td id=\"T_d6753f3c_28e5_11eb_ab67_00d8610889aerow6_col4\" class=\"data row6 col4\" >0.9677</td>\n",
       "                        <td id=\"T_d6753f3c_28e5_11eb_ab67_00d8610889aerow6_col5\" class=\"data row6 col5\" >0.9641</td>\n",
       "                        <td id=\"T_d6753f3c_28e5_11eb_ab67_00d8610889aerow6_col6\" class=\"data row6 col6\" >0.9642</td>\n",
       "            </tr>\n",
       "            <tr>\n",
       "                        <th id=\"T_d6753f3c_28e5_11eb_ab67_00d8610889aelevel0_row7\" class=\"row_heading level0 row7\" >7</th>\n",
       "                        <td id=\"T_d6753f3c_28e5_11eb_ab67_00d8610889aerow7_col0\" class=\"data row7 col0\" >0.9644</td>\n",
       "                        <td id=\"T_d6753f3c_28e5_11eb_ab67_00d8610889aerow7_col1\" class=\"data row7 col1\" >0.0000</td>\n",
       "                        <td id=\"T_d6753f3c_28e5_11eb_ab67_00d8610889aerow7_col2\" class=\"data row7 col2\" >0.8521</td>\n",
       "                        <td id=\"T_d6753f3c_28e5_11eb_ab67_00d8610889aerow7_col3\" class=\"data row7 col3\" >0.9626</td>\n",
       "                        <td id=\"T_d6753f3c_28e5_11eb_ab67_00d8610889aerow7_col4\" class=\"data row7 col4\" >0.9622</td>\n",
       "                        <td id=\"T_d6753f3c_28e5_11eb_ab67_00d8610889aerow7_col5\" class=\"data row7 col5\" >0.9583</td>\n",
       "                        <td id=\"T_d6753f3c_28e5_11eb_ab67_00d8610889aerow7_col6\" class=\"data row7 col6\" >0.9584</td>\n",
       "            </tr>\n",
       "            <tr>\n",
       "                        <th id=\"T_d6753f3c_28e5_11eb_ab67_00d8610889aelevel0_row8\" class=\"row_heading level0 row8\" >8</th>\n",
       "                        <td id=\"T_d6753f3c_28e5_11eb_ab67_00d8610889aerow8_col0\" class=\"data row8 col0\" >0.9703</td>\n",
       "                        <td id=\"T_d6753f3c_28e5_11eb_ab67_00d8610889aerow8_col1\" class=\"data row8 col1\" >0.0000</td>\n",
       "                        <td id=\"T_d6753f3c_28e5_11eb_ab67_00d8610889aerow8_col2\" class=\"data row8 col2\" >0.8699</td>\n",
       "                        <td id=\"T_d6753f3c_28e5_11eb_ab67_00d8610889aerow8_col3\" class=\"data row8 col3\" >0.9691</td>\n",
       "                        <td id=\"T_d6753f3c_28e5_11eb_ab67_00d8610889aerow8_col4\" class=\"data row8 col4\" >0.9682</td>\n",
       "                        <td id=\"T_d6753f3c_28e5_11eb_ab67_00d8610889aerow8_col5\" class=\"data row8 col5\" >0.9653</td>\n",
       "                        <td id=\"T_d6753f3c_28e5_11eb_ab67_00d8610889aerow8_col6\" class=\"data row8 col6\" >0.9653</td>\n",
       "            </tr>\n",
       "            <tr>\n",
       "                        <th id=\"T_d6753f3c_28e5_11eb_ab67_00d8610889aelevel0_row9\" class=\"row_heading level0 row9\" >9</th>\n",
       "                        <td id=\"T_d6753f3c_28e5_11eb_ab67_00d8610889aerow9_col0\" class=\"data row9 col0\" >0.9673</td>\n",
       "                        <td id=\"T_d6753f3c_28e5_11eb_ab67_00d8610889aerow9_col1\" class=\"data row9 col1\" >0.0000</td>\n",
       "                        <td id=\"T_d6753f3c_28e5_11eb_ab67_00d8610889aerow9_col2\" class=\"data row9 col2\" >0.8525</td>\n",
       "                        <td id=\"T_d6753f3c_28e5_11eb_ab67_00d8610889aerow9_col3\" class=\"data row9 col3\" >0.9674</td>\n",
       "                        <td id=\"T_d6753f3c_28e5_11eb_ab67_00d8610889aerow9_col4\" class=\"data row9 col4\" >0.9658</td>\n",
       "                        <td id=\"T_d6753f3c_28e5_11eb_ab67_00d8610889aerow9_col5\" class=\"data row9 col5\" >0.9617</td>\n",
       "                        <td id=\"T_d6753f3c_28e5_11eb_ab67_00d8610889aerow9_col6\" class=\"data row9 col6\" >0.9618</td>\n",
       "            </tr>\n",
       "            <tr>\n",
       "                        <th id=\"T_d6753f3c_28e5_11eb_ab67_00d8610889aelevel0_row10\" class=\"row_heading level0 row10\" >Mean</th>\n",
       "                        <td id=\"T_d6753f3c_28e5_11eb_ab67_00d8610889aerow10_col0\" class=\"data row10 col0\" >0.9665</td>\n",
       "                        <td id=\"T_d6753f3c_28e5_11eb_ab67_00d8610889aerow10_col1\" class=\"data row10 col1\" >0.0000</td>\n",
       "                        <td id=\"T_d6753f3c_28e5_11eb_ab67_00d8610889aerow10_col2\" class=\"data row10 col2\" >0.8658</td>\n",
       "                        <td id=\"T_d6753f3c_28e5_11eb_ab67_00d8610889aerow10_col3\" class=\"data row10 col3\" >0.9664</td>\n",
       "                        <td id=\"T_d6753f3c_28e5_11eb_ab67_00d8610889aerow10_col4\" class=\"data row10 col4\" >0.9652</td>\n",
       "                        <td id=\"T_d6753f3c_28e5_11eb_ab67_00d8610889aerow10_col5\" class=\"data row10 col5\" >0.9607</td>\n",
       "                        <td id=\"T_d6753f3c_28e5_11eb_ab67_00d8610889aerow10_col6\" class=\"data row10 col6\" >0.9608</td>\n",
       "            </tr>\n",
       "            <tr>\n",
       "                        <th id=\"T_d6753f3c_28e5_11eb_ab67_00d8610889aelevel0_row11\" class=\"row_heading level0 row11\" >SD</th>\n",
       "                        <td id=\"T_d6753f3c_28e5_11eb_ab67_00d8610889aerow11_col0\" class=\"data row11 col0\" >0.0042</td>\n",
       "                        <td id=\"T_d6753f3c_28e5_11eb_ab67_00d8610889aerow11_col1\" class=\"data row11 col1\" >0.0000</td>\n",
       "                        <td id=\"T_d6753f3c_28e5_11eb_ab67_00d8610889aerow11_col2\" class=\"data row11 col2\" >0.0233</td>\n",
       "                        <td id=\"T_d6753f3c_28e5_11eb_ab67_00d8610889aerow11_col3\" class=\"data row11 col3\" >0.0040</td>\n",
       "                        <td id=\"T_d6753f3c_28e5_11eb_ab67_00d8610889aerow11_col4\" class=\"data row11 col4\" >0.0043</td>\n",
       "                        <td id=\"T_d6753f3c_28e5_11eb_ab67_00d8610889aerow11_col5\" class=\"data row11 col5\" >0.0049</td>\n",
       "                        <td id=\"T_d6753f3c_28e5_11eb_ab67_00d8610889aerow11_col6\" class=\"data row11 col6\" >0.0049</td>\n",
       "            </tr>\n",
       "    </tbody></table>"
      ],
      "text/plain": [
       "<pandas.io.formats.style.Styler at 0x2b1273485e0>"
      ]
     },
     "metadata": {},
     "output_type": "display_data"
    }
   ],
   "source": [
    "setup(data=data,\n",
    "      target=target_label,\n",
    "      numeric_features=num_features,\n",
    "      silent=True)\n",
    "model=create_model(learning_model)"
   ]
  },
  {
   "cell_type": "markdown",
   "metadata": {},
   "source": [
    "### Read Test Data"
   ]
  },
  {
   "cell_type": "code",
   "execution_count": 10,
   "metadata": {},
   "outputs": [],
   "source": [
    "unseen_data = pd.read_csv(path+file_name+target_label+'_test.csv',\n",
    "                      sep='\\t',\n",
    "                      skiprows=[1])"
   ]
  },
  {
   "cell_type": "markdown",
   "metadata": {},
   "source": [
    "### Predicte and Check"
   ]
  },
  {
   "cell_type": "code",
   "execution_count": 11,
   "metadata": {},
   "outputs": [],
   "source": [
    "answers = unseen_data[target_label]\n",
    "unseen_data = unseen_data.drop(columns=[target_label])"
   ]
  },
  {
   "cell_type": "code",
   "execution_count": 12,
   "metadata": {},
   "outputs": [],
   "source": [
    "predicted = predict_model(model, data=unseen_data)"
   ]
  },
  {
   "cell_type": "markdown",
   "metadata": {},
   "source": [
    "### number of errors of the model for current test set"
   ]
  },
  {
   "cell_type": "code",
   "execution_count": 13,
   "metadata": {
    "scrolled": true
   },
   "outputs": [
    {
     "data": {
      "text/plain": [
       "199"
      ]
     },
     "execution_count": 13,
     "metadata": {},
     "output_type": "execute_result"
    }
   ],
   "source": [
    "compare_prediction_with_answers(predicted,answers)"
   ]
  },
  {
   "cell_type": "markdown",
   "metadata": {},
   "source": [
    "# Add noise and run test\n",
    "each round noise will be increased in 5%"
   ]
  },
  {
   "cell_type": "code",
   "execution_count": 37,
   "metadata": {},
   "outputs": [],
   "source": [
    "noise=0.05\n",
    "results = []\n",
    "results_map = []\n",
    "for index in range(0,4):\n",
    "    ### for any clolumn in the data set\n",
    "    for cur_col in data.columns:\n",
    "        ### Read Test Data\n",
    "        unseen_data = pd.read_csv(path+file_name+target_label+'_test.csv',\n",
    "                          sep='\\t',\n",
    "                          skiprows=[1])\n",
    "        ### Change column values\n",
    "        unseen_data = get_rand_dataframe(unseen_data,cur_col,noise)\n",
    "        ### Predicte and Check\n",
    "        answers = unseen_data[target_label]\n",
    "        unseen_data = unseen_data.drop(columns=[target_label])\n",
    "        predicted = predict_model(model, data=unseen_data)\n",
    "        results.append(compare_prediction_with_answers(predicted,answers))\n",
    "\n",
    "    ### creaing map of results and column names for printing\n",
    "    count = 0\n",
    "    results_map.append({})\n",
    "    for cur_col in data.columns:\n",
    "        results_map[index][cur_col] = results[count]\n",
    "        count=count+1\n",
    "    noise = noise+0.05"
   ]
  },
  {
   "cell_type": "code",
   "execution_count": 38,
   "metadata": {},
   "outputs": [
    {
     "name": "stdout",
     "output_type": "stream",
     "text": [
      "sorted features errors with noise level: 0.2\n",
      "\n",
      "[('tuple', 6189), ('SYN_tcp_winsize', 2065), ('ssl_v', 913), ('fcipher_suites', 699), ('SYN_tcp_scale', 274), ('fSSL_num_extensions', 244), ('size_histogram_3', 204), ('bpeak_features_4', 204), ('mean_biat', 204), ('max_fpkt', 204), ('size_histogram_9', 203), ('bpeak_features_8', 203), ('packet_count', 203), ('mean_packet_size', 203), ('bbytes', 203), ('std_fpkt', 203), ('mean_fttl', 203), ('size_histogram_5', 201), ('size_histogram_6', 201), ('fpeak_features_6', 201), ('bpeak_features_6', 201), ('sizevar', 201), ('bpackets', 201), ('fbytes', 201), ('std_biat', 201), ('size_histogram_8', 200), ('fpeak_features_3', 200), ('fpeak_features_4', 200), ('bpeak_features_5', 200), ('min_packet_size', 200), ('max_packet_size', 200), ('std_fiat', 200), ('max_biat', 200), ('fSSL_session_id_len', 199), ('size_histogram_7', 199), ('size_histogram_10', 199), ('fpeak_features_1', 199), ('fpeak_features_2', 199), ('fpeak_features_9', 199), ('bpeak_features_1', 199), ('bpeak_features_2', 199), ('bpeak_features_3', 199), ('mean_fiat', 199), ('min_fpkt', 199), ('std_bpkt', 199), ('num_keep_alive', 199), ('fpeak_features_7', 198), ('bpeak_features_9', 198), ('fpackets', 198), ('min_bpkt', 198), ('max_bpkt', 198), ('size_histogram_1', 197), ('size_histogram_2', 197), ('size_histogram_4', 197), ('fpeak_features_5', 197), ('bpeak_features_7', 196), ('max_fiat', 196), ('mean_fpkt', 196), ('mean_bpkt', 196), ('fpeak_features_8', 194)]\n",
      "\n",
      "\n",
      "sorted features errors with noise level: 0.15000000000000002\n",
      "\n",
      "[('tuple', 6189), ('SYN_tcp_winsize', 2065), ('ssl_v', 913), ('fcipher_suites', 699), ('SYN_tcp_scale', 274), ('fSSL_num_extensions', 244), ('size_histogram_3', 204), ('bpeak_features_4', 204), ('mean_biat', 204), ('max_fpkt', 204), ('size_histogram_9', 203), ('bpeak_features_8', 203), ('packet_count', 203), ('mean_packet_size', 203), ('bbytes', 203), ('std_fpkt', 203), ('mean_fttl', 203), ('size_histogram_5', 201), ('size_histogram_6', 201), ('fpeak_features_6', 201), ('bpeak_features_6', 201), ('sizevar', 201), ('bpackets', 201), ('fbytes', 201), ('std_biat', 201), ('size_histogram_8', 200), ('fpeak_features_3', 200), ('fpeak_features_4', 200), ('bpeak_features_5', 200), ('min_packet_size', 200), ('max_packet_size', 200), ('std_fiat', 200), ('max_biat', 200), ('fSSL_session_id_len', 199), ('size_histogram_7', 199), ('size_histogram_10', 199), ('fpeak_features_1', 199), ('fpeak_features_2', 199), ('fpeak_features_9', 199), ('bpeak_features_1', 199), ('bpeak_features_2', 199), ('bpeak_features_3', 199), ('mean_fiat', 199), ('min_fpkt', 199), ('std_bpkt', 199), ('num_keep_alive', 199), ('fpeak_features_7', 198), ('bpeak_features_9', 198), ('fpackets', 198), ('min_bpkt', 198), ('max_bpkt', 198), ('size_histogram_1', 197), ('size_histogram_2', 197), ('size_histogram_4', 197), ('fpeak_features_5', 197), ('bpeak_features_7', 196), ('max_fiat', 196), ('mean_fpkt', 196), ('mean_bpkt', 196), ('fpeak_features_8', 194)]\n",
      "\n",
      "\n",
      "sorted features errors with noise level: 0.10000000000000002\n",
      "\n",
      "[('tuple', 6189), ('SYN_tcp_winsize', 2065), ('ssl_v', 913), ('fcipher_suites', 699), ('SYN_tcp_scale', 274), ('fSSL_num_extensions', 244), ('size_histogram_3', 204), ('bpeak_features_4', 204), ('mean_biat', 204), ('max_fpkt', 204), ('size_histogram_9', 203), ('bpeak_features_8', 203), ('packet_count', 203), ('mean_packet_size', 203), ('bbytes', 203), ('std_fpkt', 203), ('mean_fttl', 203), ('size_histogram_5', 201), ('size_histogram_6', 201), ('fpeak_features_6', 201), ('bpeak_features_6', 201), ('sizevar', 201), ('bpackets', 201), ('fbytes', 201), ('std_biat', 201), ('size_histogram_8', 200), ('fpeak_features_3', 200), ('fpeak_features_4', 200), ('bpeak_features_5', 200), ('min_packet_size', 200), ('max_packet_size', 200), ('std_fiat', 200), ('max_biat', 200), ('fSSL_session_id_len', 199), ('size_histogram_7', 199), ('size_histogram_10', 199), ('fpeak_features_1', 199), ('fpeak_features_2', 199), ('fpeak_features_9', 199), ('bpeak_features_1', 199), ('bpeak_features_2', 199), ('bpeak_features_3', 199), ('mean_fiat', 199), ('min_fpkt', 199), ('std_bpkt', 199), ('num_keep_alive', 199), ('fpeak_features_7', 198), ('bpeak_features_9', 198), ('fpackets', 198), ('min_bpkt', 198), ('max_bpkt', 198), ('size_histogram_1', 197), ('size_histogram_2', 197), ('size_histogram_4', 197), ('fpeak_features_5', 197), ('bpeak_features_7', 196), ('max_fiat', 196), ('mean_fpkt', 196), ('mean_bpkt', 196), ('fpeak_features_8', 194)]\n",
      "\n",
      "\n",
      "sorted features errors with noise level: 0.05000000000000002\n",
      "\n",
      "[('tuple', 6189), ('SYN_tcp_winsize', 2065), ('ssl_v', 913), ('fcipher_suites', 699), ('SYN_tcp_scale', 274), ('fSSL_num_extensions', 244), ('size_histogram_3', 204), ('bpeak_features_4', 204), ('mean_biat', 204), ('max_fpkt', 204), ('size_histogram_9', 203), ('bpeak_features_8', 203), ('packet_count', 203), ('mean_packet_size', 203), ('bbytes', 203), ('std_fpkt', 203), ('mean_fttl', 203), ('size_histogram_5', 201), ('size_histogram_6', 201), ('fpeak_features_6', 201), ('bpeak_features_6', 201), ('sizevar', 201), ('bpackets', 201), ('fbytes', 201), ('std_biat', 201), ('size_histogram_8', 200), ('fpeak_features_3', 200), ('fpeak_features_4', 200), ('bpeak_features_5', 200), ('min_packet_size', 200), ('max_packet_size', 200), ('std_fiat', 200), ('max_biat', 200), ('fSSL_session_id_len', 199), ('size_histogram_7', 199), ('size_histogram_10', 199), ('fpeak_features_1', 199), ('fpeak_features_2', 199), ('fpeak_features_9', 199), ('bpeak_features_1', 199), ('bpeak_features_2', 199), ('bpeak_features_3', 199), ('mean_fiat', 199), ('min_fpkt', 199), ('std_bpkt', 199), ('num_keep_alive', 199), ('fpeak_features_7', 198), ('bpeak_features_9', 198), ('fpackets', 198), ('min_bpkt', 198), ('max_bpkt', 198), ('size_histogram_1', 197), ('size_histogram_2', 197), ('size_histogram_4', 197), ('fpeak_features_5', 197), ('bpeak_features_7', 196), ('max_fiat', 196), ('mean_fpkt', 196), ('mean_bpkt', 196), ('fpeak_features_8', 194)]\n",
      "\n",
      "\n"
     ]
    }
   ],
   "source": [
    "sorted_array = []\n",
    "for index in range(0,4):\n",
    "    sorted_array.append([(k, v) for k, v in sorted(results_map[0].items(), key=lambda x: x[1], reverse=True)])\n",
    "#     ### prints results map sorted by values\n",
    "#     #noise = noise - 0.05\n",
    "#     #print(\"noise level = \" + str(noise))\n",
    "for index in range(0,4):\n",
    "    noise=noise-0.05\n",
    "    print(\"sorted features errors with noise level: \" + str(noise) + \"\\n\")\n",
    "    print(sorted_array[index])\n",
    "    print(\"\\n\")"
   ]
  },
  {
   "cell_type": "markdown",
   "metadata": {},
   "source": [
    "obviously the tuple feature is the most sensative one, but it is the predicted feature so just ignore it.\n",
    "we can see that the Window-Size, SSL version and Cipher-suite features (each one represented with one sigle column in our dataset) are the most effective (maximum errors) features when noise added."
   ]
  }
 ],
 "metadata": {
  "kernelspec": {
   "display_name": "Python 3.8.3 64-bit ('base': conda)",
   "language": "python",
   "name": "python38364bitbasecondaed19ee87b6844ca4b2207fe8765813ad"
  },
  "language_info": {
   "codemirror_mode": {
    "name": "ipython",
    "version": 3
   },
   "file_extension": ".py",
   "mimetype": "text/x-python",
   "name": "python",
   "nbconvert_exporter": "python",
   "pygments_lexer": "ipython3",
   "version": "3.8.5"
  }
 },
 "nbformat": 4,
 "nbformat_minor": 4
}
