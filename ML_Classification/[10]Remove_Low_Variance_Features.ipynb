{
 "cells": [
  {
   "cell_type": "markdown",
   "metadata": {},
   "source": [
    "# Low Variance Columns\n",
    "this notebook will check the mean variance of each column in the data. furthermore we will remove all those low variance columns and compare classification scores of the new data (without the low variance columns) and the original data."
   ]
  },
  {
   "cell_type": "markdown",
   "metadata": {},
   "source": [
    "# Import"
   ]
  },
  {
   "cell_type": "code",
   "execution_count": 1,
   "metadata": {},
   "outputs": [],
   "source": [
    "import pandas as pd\n",
    "from pycaret.classification import *\n",
    "import time"
   ]
  },
  {
   "cell_type": "markdown",
   "metadata": {},
   "source": [
    "# Settings"
   ]
  },
  {
   "cell_type": "code",
   "execution_count": 2,
   "metadata": {},
   "outputs": [],
   "source": [
    "# set constants\n",
    "target_label = 'tuple'\n",
    "learning_model = ['rf'] # ['rf','et','lightgbm','xgboost']\n",
    "num_features = ['min_packet_size', 'min_fpkt', 'min_bpkt']\n",
    "file_name = \"all_features_\"\n",
    "path = \"../Datasets/\" + target_label + \"_dataset/\"\n",
    "mean_variance_lim = 0.2\n",
    "low_mean_variance_columns = []\n",
    "mean_variance_sum = 0\n",
    "mean_variance_min = float(\"inf\")\n",
    "mean_variance_max = 0"
   ]
  },
  {
   "cell_type": "code",
   "execution_count": 3,
   "metadata": {},
   "outputs": [],
   "source": [
    "# function for making model-prediction over the data set and measure the run time \n",
    "def timed_prediction(in_data,in_model):\n",
    "    t = time.process_time()\n",
    "    predicted = predict_model(in_model, data=in_data)\n",
    "    elapsed_time = time.process_time() - t\n",
    "    print(\"prediction took: \" + str(elapsed_time))\n",
    "    return predicted"
   ]
  },
  {
   "cell_type": "code",
   "execution_count": 4,
   "metadata": {},
   "outputs": [],
   "source": [
    "# compare answers and labeled test\n",
    "def compare_prediction_with_answers(in_predicted, in_answers):\n",
    "    count=0\n",
    "    index = in_predicted.index\n",
    "    number_of_rows = len(index)\n",
    "    errors_arr = []\n",
    "    for i in range(0,number_of_rows):\n",
    "        if str(int(in_answers.iloc[i])) != str(int(in_predicted.iloc[i]['Label'])):\n",
    "            count=count+1\n",
    "            cur_error = str(in_answers[i]) + \"!=\" + str(in_predicted.iloc[i]['Label'])\n",
    "            errors_arr.append(cur_error)\n",
    "    print(\"Number of error: \" + str(count) + \" from \" +\n",
    "          str(number_of_rows) + \" test samples \\nWhich is \"\n",
    "          + str(100*count/number_of_rows) + \"% of error.\")\n",
    "    return count"
   ]
  },
  {
   "cell_type": "markdown",
   "metadata": {},
   "source": [
    "# Read Data Setup and Create Model"
   ]
  },
  {
   "cell_type": "code",
   "execution_count": 5,
   "metadata": {
    "tags": []
   },
   "outputs": [
    {
     "data": {
      "text/html": [
       "<style  type=\"text/css\" >\n",
       "#T_62f1e8cb_2a92_11eb_9e8c_00d8610889aerow10_col0,#T_62f1e8cb_2a92_11eb_9e8c_00d8610889aerow10_col1,#T_62f1e8cb_2a92_11eb_9e8c_00d8610889aerow10_col2,#T_62f1e8cb_2a92_11eb_9e8c_00d8610889aerow10_col3,#T_62f1e8cb_2a92_11eb_9e8c_00d8610889aerow10_col4,#T_62f1e8cb_2a92_11eb_9e8c_00d8610889aerow10_col5,#T_62f1e8cb_2a92_11eb_9e8c_00d8610889aerow10_col6{\n",
       "            background:  yellow;\n",
       "        }</style><table id=\"T_62f1e8cb_2a92_11eb_9e8c_00d8610889ae\" ><thead>    <tr>        <th class=\"blank level0\" ></th>        <th class=\"col_heading level0 col0\" >Accuracy</th>        <th class=\"col_heading level0 col1\" >AUC</th>        <th class=\"col_heading level0 col2\" >Recall</th>        <th class=\"col_heading level0 col3\" >Prec.</th>        <th class=\"col_heading level0 col4\" >F1</th>        <th class=\"col_heading level0 col5\" >Kappa</th>        <th class=\"col_heading level0 col6\" >MCC</th>    </tr></thead><tbody>\n",
       "                <tr>\n",
       "                        <th id=\"T_62f1e8cb_2a92_11eb_9e8c_00d8610889aelevel0_row0\" class=\"row_heading level0 row0\" >0</th>\n",
       "                        <td id=\"T_62f1e8cb_2a92_11eb_9e8c_00d8610889aerow0_col0\" class=\"data row0 col0\" >0.9822</td>\n",
       "                        <td id=\"T_62f1e8cb_2a92_11eb_9e8c_00d8610889aerow0_col1\" class=\"data row0 col1\" >0.0000</td>\n",
       "                        <td id=\"T_62f1e8cb_2a92_11eb_9e8c_00d8610889aerow0_col2\" class=\"data row0 col2\" >0.8501</td>\n",
       "                        <td id=\"T_62f1e8cb_2a92_11eb_9e8c_00d8610889aerow0_col3\" class=\"data row0 col3\" >0.9789</td>\n",
       "                        <td id=\"T_62f1e8cb_2a92_11eb_9e8c_00d8610889aerow0_col4\" class=\"data row0 col4\" >0.9797</td>\n",
       "                        <td id=\"T_62f1e8cb_2a92_11eb_9e8c_00d8610889aerow0_col5\" class=\"data row0 col5\" >0.9792</td>\n",
       "                        <td id=\"T_62f1e8cb_2a92_11eb_9e8c_00d8610889aerow0_col6\" class=\"data row0 col6\" >0.9792</td>\n",
       "            </tr>\n",
       "            <tr>\n",
       "                        <th id=\"T_62f1e8cb_2a92_11eb_9e8c_00d8610889aelevel0_row1\" class=\"row_heading level0 row1\" >1</th>\n",
       "                        <td id=\"T_62f1e8cb_2a92_11eb_9e8c_00d8610889aerow1_col0\" class=\"data row1 col0\" >0.9763</td>\n",
       "                        <td id=\"T_62f1e8cb_2a92_11eb_9e8c_00d8610889aerow1_col1\" class=\"data row1 col1\" >0.0000</td>\n",
       "                        <td id=\"T_62f1e8cb_2a92_11eb_9e8c_00d8610889aerow1_col2\" class=\"data row1 col2\" >0.8775</td>\n",
       "                        <td id=\"T_62f1e8cb_2a92_11eb_9e8c_00d8610889aerow1_col3\" class=\"data row1 col3\" >0.9761</td>\n",
       "                        <td id=\"T_62f1e8cb_2a92_11eb_9e8c_00d8610889aerow1_col4\" class=\"data row1 col4\" >0.9744</td>\n",
       "                        <td id=\"T_62f1e8cb_2a92_11eb_9e8c_00d8610889aerow1_col5\" class=\"data row1 col5\" >0.9722</td>\n",
       "                        <td id=\"T_62f1e8cb_2a92_11eb_9e8c_00d8610889aerow1_col6\" class=\"data row1 col6\" >0.9723</td>\n",
       "            </tr>\n",
       "            <tr>\n",
       "                        <th id=\"T_62f1e8cb_2a92_11eb_9e8c_00d8610889aelevel0_row2\" class=\"row_heading level0 row2\" >2</th>\n",
       "                        <td id=\"T_62f1e8cb_2a92_11eb_9e8c_00d8610889aerow2_col0\" class=\"data row2 col0\" >0.9763</td>\n",
       "                        <td id=\"T_62f1e8cb_2a92_11eb_9e8c_00d8610889aerow2_col1\" class=\"data row2 col1\" >0.0000</td>\n",
       "                        <td id=\"T_62f1e8cb_2a92_11eb_9e8c_00d8610889aerow2_col2\" class=\"data row2 col2\" >0.9455</td>\n",
       "                        <td id=\"T_62f1e8cb_2a92_11eb_9e8c_00d8610889aerow2_col3\" class=\"data row2 col3\" >0.9785</td>\n",
       "                        <td id=\"T_62f1e8cb_2a92_11eb_9e8c_00d8610889aerow2_col4\" class=\"data row2 col4\" >0.9755</td>\n",
       "                        <td id=\"T_62f1e8cb_2a92_11eb_9e8c_00d8610889aerow2_col5\" class=\"data row2 col5\" >0.9722</td>\n",
       "                        <td id=\"T_62f1e8cb_2a92_11eb_9e8c_00d8610889aerow2_col6\" class=\"data row2 col6\" >0.9723</td>\n",
       "            </tr>\n",
       "            <tr>\n",
       "                        <th id=\"T_62f1e8cb_2a92_11eb_9e8c_00d8610889aelevel0_row3\" class=\"row_heading level0 row3\" >3</th>\n",
       "                        <td id=\"T_62f1e8cb_2a92_11eb_9e8c_00d8610889aerow3_col0\" class=\"data row3 col0\" >0.9693</td>\n",
       "                        <td id=\"T_62f1e8cb_2a92_11eb_9e8c_00d8610889aerow3_col1\" class=\"data row3 col1\" >0.0000</td>\n",
       "                        <td id=\"T_62f1e8cb_2a92_11eb_9e8c_00d8610889aerow3_col2\" class=\"data row3 col2\" >0.8894</td>\n",
       "                        <td id=\"T_62f1e8cb_2a92_11eb_9e8c_00d8610889aerow3_col3\" class=\"data row3 col3\" >0.9688</td>\n",
       "                        <td id=\"T_62f1e8cb_2a92_11eb_9e8c_00d8610889aerow3_col4\" class=\"data row3 col4\" >0.9680</td>\n",
       "                        <td id=\"T_62f1e8cb_2a92_11eb_9e8c_00d8610889aerow3_col5\" class=\"data row3 col5\" >0.9641</td>\n",
       "                        <td id=\"T_62f1e8cb_2a92_11eb_9e8c_00d8610889aerow3_col6\" class=\"data row3 col6\" >0.9642</td>\n",
       "            </tr>\n",
       "            <tr>\n",
       "                        <th id=\"T_62f1e8cb_2a92_11eb_9e8c_00d8610889aelevel0_row4\" class=\"row_heading level0 row4\" >4</th>\n",
       "                        <td id=\"T_62f1e8cb_2a92_11eb_9e8c_00d8610889aerow4_col0\" class=\"data row4 col0\" >0.9693</td>\n",
       "                        <td id=\"T_62f1e8cb_2a92_11eb_9e8c_00d8610889aerow4_col1\" class=\"data row4 col1\" >0.0000</td>\n",
       "                        <td id=\"T_62f1e8cb_2a92_11eb_9e8c_00d8610889aerow4_col2\" class=\"data row4 col2\" >0.9014</td>\n",
       "                        <td id=\"T_62f1e8cb_2a92_11eb_9e8c_00d8610889aerow4_col3\" class=\"data row4 col3\" >0.9708</td>\n",
       "                        <td id=\"T_62f1e8cb_2a92_11eb_9e8c_00d8610889aerow4_col4\" class=\"data row4 col4\" >0.9681</td>\n",
       "                        <td id=\"T_62f1e8cb_2a92_11eb_9e8c_00d8610889aerow4_col5\" class=\"data row4 col5\" >0.9641</td>\n",
       "                        <td id=\"T_62f1e8cb_2a92_11eb_9e8c_00d8610889aerow4_col6\" class=\"data row4 col6\" >0.9642</td>\n",
       "            </tr>\n",
       "            <tr>\n",
       "                        <th id=\"T_62f1e8cb_2a92_11eb_9e8c_00d8610889aelevel0_row5\" class=\"row_heading level0 row5\" >5</th>\n",
       "                        <td id=\"T_62f1e8cb_2a92_11eb_9e8c_00d8610889aerow5_col0\" class=\"data row5 col0\" >0.9743</td>\n",
       "                        <td id=\"T_62f1e8cb_2a92_11eb_9e8c_00d8610889aerow5_col1\" class=\"data row5 col1\" >0.0000</td>\n",
       "                        <td id=\"T_62f1e8cb_2a92_11eb_9e8c_00d8610889aerow5_col2\" class=\"data row5 col2\" >0.9025</td>\n",
       "                        <td id=\"T_62f1e8cb_2a92_11eb_9e8c_00d8610889aerow5_col3\" class=\"data row5 col3\" >0.9760</td>\n",
       "                        <td id=\"T_62f1e8cb_2a92_11eb_9e8c_00d8610889aerow5_col4\" class=\"data row5 col4\" >0.9742</td>\n",
       "                        <td id=\"T_62f1e8cb_2a92_11eb_9e8c_00d8610889aerow5_col5\" class=\"data row5 col5\" >0.9699</td>\n",
       "                        <td id=\"T_62f1e8cb_2a92_11eb_9e8c_00d8610889aerow5_col6\" class=\"data row5 col6\" >0.9699</td>\n",
       "            </tr>\n",
       "            <tr>\n",
       "                        <th id=\"T_62f1e8cb_2a92_11eb_9e8c_00d8610889aelevel0_row6\" class=\"row_heading level0 row6\" >6</th>\n",
       "                        <td id=\"T_62f1e8cb_2a92_11eb_9e8c_00d8610889aerow6_col0\" class=\"data row6 col0\" >0.9743</td>\n",
       "                        <td id=\"T_62f1e8cb_2a92_11eb_9e8c_00d8610889aerow6_col1\" class=\"data row6 col1\" >0.0000</td>\n",
       "                        <td id=\"T_62f1e8cb_2a92_11eb_9e8c_00d8610889aerow6_col2\" class=\"data row6 col2\" >0.8678</td>\n",
       "                        <td id=\"T_62f1e8cb_2a92_11eb_9e8c_00d8610889aerow6_col3\" class=\"data row6 col3\" >0.9727</td>\n",
       "                        <td id=\"T_62f1e8cb_2a92_11eb_9e8c_00d8610889aerow6_col4\" class=\"data row6 col4\" >0.9726</td>\n",
       "                        <td id=\"T_62f1e8cb_2a92_11eb_9e8c_00d8610889aerow6_col5\" class=\"data row6 col5\" >0.9699</td>\n",
       "                        <td id=\"T_62f1e8cb_2a92_11eb_9e8c_00d8610889aerow6_col6\" class=\"data row6 col6\" >0.9699</td>\n",
       "            </tr>\n",
       "            <tr>\n",
       "                        <th id=\"T_62f1e8cb_2a92_11eb_9e8c_00d8610889aelevel0_row7\" class=\"row_heading level0 row7\" >7</th>\n",
       "                        <td id=\"T_62f1e8cb_2a92_11eb_9e8c_00d8610889aerow7_col0\" class=\"data row7 col0\" >0.9753</td>\n",
       "                        <td id=\"T_62f1e8cb_2a92_11eb_9e8c_00d8610889aerow7_col1\" class=\"data row7 col1\" >0.0000</td>\n",
       "                        <td id=\"T_62f1e8cb_2a92_11eb_9e8c_00d8610889aerow7_col2\" class=\"data row7 col2\" >0.9080</td>\n",
       "                        <td id=\"T_62f1e8cb_2a92_11eb_9e8c_00d8610889aerow7_col3\" class=\"data row7 col3\" >0.9752</td>\n",
       "                        <td id=\"T_62f1e8cb_2a92_11eb_9e8c_00d8610889aerow7_col4\" class=\"data row7 col4\" >0.9747</td>\n",
       "                        <td id=\"T_62f1e8cb_2a92_11eb_9e8c_00d8610889aerow7_col5\" class=\"data row7 col5\" >0.9711</td>\n",
       "                        <td id=\"T_62f1e8cb_2a92_11eb_9e8c_00d8610889aerow7_col6\" class=\"data row7 col6\" >0.9711</td>\n",
       "            </tr>\n",
       "            <tr>\n",
       "                        <th id=\"T_62f1e8cb_2a92_11eb_9e8c_00d8610889aelevel0_row8\" class=\"row_heading level0 row8\" >8</th>\n",
       "                        <td id=\"T_62f1e8cb_2a92_11eb_9e8c_00d8610889aerow8_col0\" class=\"data row8 col0\" >0.9792</td>\n",
       "                        <td id=\"T_62f1e8cb_2a92_11eb_9e8c_00d8610889aerow8_col1\" class=\"data row8 col1\" >0.0000</td>\n",
       "                        <td id=\"T_62f1e8cb_2a92_11eb_9e8c_00d8610889aerow8_col2\" class=\"data row8 col2\" >0.9277</td>\n",
       "                        <td id=\"T_62f1e8cb_2a92_11eb_9e8c_00d8610889aerow8_col3\" class=\"data row8 col3\" >0.9784</td>\n",
       "                        <td id=\"T_62f1e8cb_2a92_11eb_9e8c_00d8610889aerow8_col4\" class=\"data row8 col4\" >0.9785</td>\n",
       "                        <td id=\"T_62f1e8cb_2a92_11eb_9e8c_00d8610889aerow8_col5\" class=\"data row8 col5\" >0.9757</td>\n",
       "                        <td id=\"T_62f1e8cb_2a92_11eb_9e8c_00d8610889aerow8_col6\" class=\"data row8 col6\" >0.9757</td>\n",
       "            </tr>\n",
       "            <tr>\n",
       "                        <th id=\"T_62f1e8cb_2a92_11eb_9e8c_00d8610889aelevel0_row9\" class=\"row_heading level0 row9\" >9</th>\n",
       "                        <td id=\"T_62f1e8cb_2a92_11eb_9e8c_00d8610889aerow9_col0\" class=\"data row9 col0\" >0.9752</td>\n",
       "                        <td id=\"T_62f1e8cb_2a92_11eb_9e8c_00d8610889aerow9_col1\" class=\"data row9 col1\" >0.0000</td>\n",
       "                        <td id=\"T_62f1e8cb_2a92_11eb_9e8c_00d8610889aerow9_col2\" class=\"data row9 col2\" >0.8803</td>\n",
       "                        <td id=\"T_62f1e8cb_2a92_11eb_9e8c_00d8610889aerow9_col3\" class=\"data row9 col3\" >0.9728</td>\n",
       "                        <td id=\"T_62f1e8cb_2a92_11eb_9e8c_00d8610889aerow9_col4\" class=\"data row9 col4\" >0.9735</td>\n",
       "                        <td id=\"T_62f1e8cb_2a92_11eb_9e8c_00d8610889aerow9_col5\" class=\"data row9 col5\" >0.9710</td>\n",
       "                        <td id=\"T_62f1e8cb_2a92_11eb_9e8c_00d8610889aerow9_col6\" class=\"data row9 col6\" >0.9710</td>\n",
       "            </tr>\n",
       "            <tr>\n",
       "                        <th id=\"T_62f1e8cb_2a92_11eb_9e8c_00d8610889aelevel0_row10\" class=\"row_heading level0 row10\" >Mean</th>\n",
       "                        <td id=\"T_62f1e8cb_2a92_11eb_9e8c_00d8610889aerow10_col0\" class=\"data row10 col0\" >0.9752</td>\n",
       "                        <td id=\"T_62f1e8cb_2a92_11eb_9e8c_00d8610889aerow10_col1\" class=\"data row10 col1\" >0.0000</td>\n",
       "                        <td id=\"T_62f1e8cb_2a92_11eb_9e8c_00d8610889aerow10_col2\" class=\"data row10 col2\" >0.8950</td>\n",
       "                        <td id=\"T_62f1e8cb_2a92_11eb_9e8c_00d8610889aerow10_col3\" class=\"data row10 col3\" >0.9748</td>\n",
       "                        <td id=\"T_62f1e8cb_2a92_11eb_9e8c_00d8610889aerow10_col4\" class=\"data row10 col4\" >0.9739</td>\n",
       "                        <td id=\"T_62f1e8cb_2a92_11eb_9e8c_00d8610889aerow10_col5\" class=\"data row10 col5\" >0.9709</td>\n",
       "                        <td id=\"T_62f1e8cb_2a92_11eb_9e8c_00d8610889aerow10_col6\" class=\"data row10 col6\" >0.9710</td>\n",
       "            </tr>\n",
       "            <tr>\n",
       "                        <th id=\"T_62f1e8cb_2a92_11eb_9e8c_00d8610889aelevel0_row11\" class=\"row_heading level0 row11\" >SD</th>\n",
       "                        <td id=\"T_62f1e8cb_2a92_11eb_9e8c_00d8610889aerow11_col0\" class=\"data row11 col0\" >0.0037</td>\n",
       "                        <td id=\"T_62f1e8cb_2a92_11eb_9e8c_00d8610889aerow11_col1\" class=\"data row11 col1\" >0.0000</td>\n",
       "                        <td id=\"T_62f1e8cb_2a92_11eb_9e8c_00d8610889aerow11_col2\" class=\"data row11 col2\" >0.0268</td>\n",
       "                        <td id=\"T_62f1e8cb_2a92_11eb_9e8c_00d8610889aerow11_col3\" class=\"data row11 col3\" >0.0033</td>\n",
       "                        <td id=\"T_62f1e8cb_2a92_11eb_9e8c_00d8610889aerow11_col4\" class=\"data row11 col4\" >0.0036</td>\n",
       "                        <td id=\"T_62f1e8cb_2a92_11eb_9e8c_00d8610889aerow11_col5\" class=\"data row11 col5\" >0.0043</td>\n",
       "                        <td id=\"T_62f1e8cb_2a92_11eb_9e8c_00d8610889aerow11_col6\" class=\"data row11 col6\" >0.0043</td>\n",
       "            </tr>\n",
       "    </tbody></table>"
      ],
      "text/plain": [
       "<pandas.io.formats.style.Styler at 0x1ff5ead2190>"
      ]
     },
     "metadata": {},
     "output_type": "display_data"
    }
   ],
   "source": [
    "data = pd.read_csv(path+file_name+target_label+'_train.csv',\n",
    "                      sep='\\t',\n",
    "                      skiprows=[1])\n",
    "\n",
    "setup(data=data,\n",
    "      target=target_label,\n",
    "      numeric_features=num_features,\n",
    "      silent=True)\n",
    "\n",
    "model = create_model('et')"
   ]
  },
  {
   "cell_type": "markdown",
   "metadata": {},
   "source": [
    "# Make Unseen Test"
   ]
  },
  {
   "cell_type": "code",
   "execution_count": 8,
   "metadata": {},
   "outputs": [],
   "source": [
    "# read unseen data\n",
    "unseen_data = pd.read_csv(path+file_name+target_label+'_test.csv',\n",
    "                      sep='\\t',\n",
    "                      skiprows=[1])\n",
    "\n",
    "# saving the target column\n",
    "answers = unseen_data[target_label]\n",
    "\n",
    "# dropping traget column from test.\n",
    "unseen_data = unseen_data.drop(columns=[target_label])"
   ]
  },
  {
   "cell_type": "code",
   "execution_count": 9,
   "metadata": {},
   "outputs": [
    {
     "name": "stdout",
     "output_type": "stream",
     "text": [
      "prediction took: 0.671875\n"
     ]
    }
   ],
   "source": [
    "predicted = timed_prediction(unseen_data,model)"
   ]
  },
  {
   "cell_type": "code",
   "execution_count": 10,
   "metadata": {},
   "outputs": [
    {
     "name": "stdout",
     "output_type": "stream",
     "text": [
      "Number of error: 169 from 6189 test samples \n",
      "Which is 2.730651155275489% of error.\n"
     ]
    },
    {
     "data": {
      "text/plain": [
       "169"
      ]
     },
     "execution_count": 10,
     "metadata": {},
     "output_type": "execute_result"
    }
   ],
   "source": [
    "compare_prediction_with_answers(predicted,answers)"
   ]
  },
  {
   "cell_type": "markdown",
   "metadata": {},
   "source": [
    "# Calculation Mean Variance for each column of the data"
   ]
  },
  {
   "cell_type": "code",
   "execution_count": 12,
   "metadata": {},
   "outputs": [
    {
     "name": "stdout",
     "output_type": "stream",
     "text": [
      "fSSL_num_compression_methods got low mean variance of 0.0 while values are between 1.0 and 1.0\n",
      "SYN_MSS got low mean variance of 0.0 while values are between 1460.0 and 1460.0\n",
      "fSSLv_1 got low mean variance of 0.0 while values are between 0.0 and 0\n",
      "fSSLv_3 got low mean variance of 0.0 while values are between 0.0 and 0\n",
      "bpeak_features_7 got low mean variance of 0.08566631681398115 while values are between 0.0 and 120.84436011314392\n",
      "min_fiat got low mean variance of 3.738576499888164e-09 while values are between 0.0 and 2.2e-05\n",
      "min_biat got low mean variance of 6.158689389402098e-05 while values are between -1e-06 and 0.058487\n",
      "\n",
      " so all low mean variance columns are: ['fSSL_num_compression_methods', 'SYN_MSS', 'fSSLv_1', 'fSSLv_3', 'bpeak_features_7', 'min_fiat', 'min_biat']\n"
     ]
    }
   ],
   "source": [
    "total = len(data)\n",
    "for i in data.columns:\n",
    "    for value in data[i]:\n",
    "        if value > mean_variance_max: mean_variance_max = value\n",
    "        if value < mean_variance_min: mean_variance_min = value\n",
    "        mean_variance = abs(value - data[i].mean()) / total\n",
    "        mean_variance_sum = mean_variance_sum + mean_variance\n",
    "    if mean_variance_lim > mean_variance_sum:\n",
    "        print(str(i) + \" got low mean variance of \" +\n",
    "              str(mean_variance_sum) + \" while values are between \"\n",
    "              + str(mean_variance_min) + \" and \" + str(mean_variance_max))\n",
    "        low_mean_variance_columns.append(i)\n",
    "    mean_variance_sum = 0\n",
    "    mean_variance_max = 0\n",
    "    mean_variance_min = float(\"inf\")\n",
    "    \n",
    "print(\"\\n so all low mean variance columns are: \" + str(low_mean_variance_columns))"
   ]
  },
  {
   "cell_type": "markdown",
   "metadata": {},
   "source": [
    "# Read Data Setup and Create Model"
   ]
  },
  {
   "cell_type": "markdown",
   "metadata": {},
   "source": [
    "droping the low variance column and make unseen data test"
   ]
  },
  {
   "cell_type": "code",
   "execution_count": 13,
   "metadata": {
    "tags": []
   },
   "outputs": [
    {
     "data": {
      "text/html": [
       "<style  type=\"text/css\" >\n",
       "#T_72ed5cd0_2a93_11eb_b148_00d8610889aerow10_col0,#T_72ed5cd0_2a93_11eb_b148_00d8610889aerow10_col1,#T_72ed5cd0_2a93_11eb_b148_00d8610889aerow10_col2,#T_72ed5cd0_2a93_11eb_b148_00d8610889aerow10_col3,#T_72ed5cd0_2a93_11eb_b148_00d8610889aerow10_col4,#T_72ed5cd0_2a93_11eb_b148_00d8610889aerow10_col5,#T_72ed5cd0_2a93_11eb_b148_00d8610889aerow10_col6{\n",
       "            background:  yellow;\n",
       "        }</style><table id=\"T_72ed5cd0_2a93_11eb_b148_00d8610889ae\" ><thead>    <tr>        <th class=\"blank level0\" ></th>        <th class=\"col_heading level0 col0\" >Accuracy</th>        <th class=\"col_heading level0 col1\" >AUC</th>        <th class=\"col_heading level0 col2\" >Recall</th>        <th class=\"col_heading level0 col3\" >Prec.</th>        <th class=\"col_heading level0 col4\" >F1</th>        <th class=\"col_heading level0 col5\" >Kappa</th>        <th class=\"col_heading level0 col6\" >MCC</th>    </tr></thead><tbody>\n",
       "                <tr>\n",
       "                        <th id=\"T_72ed5cd0_2a93_11eb_b148_00d8610889aelevel0_row0\" class=\"row_heading level0 row0\" >0</th>\n",
       "                        <td id=\"T_72ed5cd0_2a93_11eb_b148_00d8610889aerow0_col0\" class=\"data row0 col0\" >0.9802</td>\n",
       "                        <td id=\"T_72ed5cd0_2a93_11eb_b148_00d8610889aerow0_col1\" class=\"data row0 col1\" >0.0000</td>\n",
       "                        <td id=\"T_72ed5cd0_2a93_11eb_b148_00d8610889aerow0_col2\" class=\"data row0 col2\" >0.9020</td>\n",
       "                        <td id=\"T_72ed5cd0_2a93_11eb_b148_00d8610889aerow0_col3\" class=\"data row0 col3\" >0.9794</td>\n",
       "                        <td id=\"T_72ed5cd0_2a93_11eb_b148_00d8610889aerow0_col4\" class=\"data row0 col4\" >0.9792</td>\n",
       "                        <td id=\"T_72ed5cd0_2a93_11eb_b148_00d8610889aerow0_col5\" class=\"data row0 col5\" >0.9769</td>\n",
       "                        <td id=\"T_72ed5cd0_2a93_11eb_b148_00d8610889aerow0_col6\" class=\"data row0 col6\" >0.9769</td>\n",
       "            </tr>\n",
       "            <tr>\n",
       "                        <th id=\"T_72ed5cd0_2a93_11eb_b148_00d8610889aelevel0_row1\" class=\"row_heading level0 row1\" >1</th>\n",
       "                        <td id=\"T_72ed5cd0_2a93_11eb_b148_00d8610889aerow1_col0\" class=\"data row1 col0\" >0.9782</td>\n",
       "                        <td id=\"T_72ed5cd0_2a93_11eb_b148_00d8610889aerow1_col1\" class=\"data row1 col1\" >0.0000</td>\n",
       "                        <td id=\"T_72ed5cd0_2a93_11eb_b148_00d8610889aerow1_col2\" class=\"data row1 col2\" >0.8983</td>\n",
       "                        <td id=\"T_72ed5cd0_2a93_11eb_b148_00d8610889aerow1_col3\" class=\"data row1 col3\" >0.9769</td>\n",
       "                        <td id=\"T_72ed5cd0_2a93_11eb_b148_00d8610889aerow1_col4\" class=\"data row1 col4\" >0.9768</td>\n",
       "                        <td id=\"T_72ed5cd0_2a93_11eb_b148_00d8610889aerow1_col5\" class=\"data row1 col5\" >0.9745</td>\n",
       "                        <td id=\"T_72ed5cd0_2a93_11eb_b148_00d8610889aerow1_col6\" class=\"data row1 col6\" >0.9746</td>\n",
       "            </tr>\n",
       "            <tr>\n",
       "                        <th id=\"T_72ed5cd0_2a93_11eb_b148_00d8610889aelevel0_row2\" class=\"row_heading level0 row2\" >2</th>\n",
       "                        <td id=\"T_72ed5cd0_2a93_11eb_b148_00d8610889aerow2_col0\" class=\"data row2 col0\" >0.9723</td>\n",
       "                        <td id=\"T_72ed5cd0_2a93_11eb_b148_00d8610889aerow2_col1\" class=\"data row2 col1\" >0.0000</td>\n",
       "                        <td id=\"T_72ed5cd0_2a93_11eb_b148_00d8610889aerow2_col2\" class=\"data row2 col2\" >0.8926</td>\n",
       "                        <td id=\"T_72ed5cd0_2a93_11eb_b148_00d8610889aerow2_col3\" class=\"data row2 col3\" >0.9707</td>\n",
       "                        <td id=\"T_72ed5cd0_2a93_11eb_b148_00d8610889aerow2_col4\" class=\"data row2 col4\" >0.9708</td>\n",
       "                        <td id=\"T_72ed5cd0_2a93_11eb_b148_00d8610889aerow2_col5\" class=\"data row2 col5\" >0.9676</td>\n",
       "                        <td id=\"T_72ed5cd0_2a93_11eb_b148_00d8610889aerow2_col6\" class=\"data row2 col6\" >0.9676</td>\n",
       "            </tr>\n",
       "            <tr>\n",
       "                        <th id=\"T_72ed5cd0_2a93_11eb_b148_00d8610889aelevel0_row3\" class=\"row_heading level0 row3\" >3</th>\n",
       "                        <td id=\"T_72ed5cd0_2a93_11eb_b148_00d8610889aerow3_col0\" class=\"data row3 col0\" >0.9743</td>\n",
       "                        <td id=\"T_72ed5cd0_2a93_11eb_b148_00d8610889aerow3_col1\" class=\"data row3 col1\" >0.0000</td>\n",
       "                        <td id=\"T_72ed5cd0_2a93_11eb_b148_00d8610889aerow3_col2\" class=\"data row3 col2\" >0.8785</td>\n",
       "                        <td id=\"T_72ed5cd0_2a93_11eb_b148_00d8610889aerow3_col3\" class=\"data row3 col3\" >0.9738</td>\n",
       "                        <td id=\"T_72ed5cd0_2a93_11eb_b148_00d8610889aerow3_col4\" class=\"data row3 col4\" >0.9736</td>\n",
       "                        <td id=\"T_72ed5cd0_2a93_11eb_b148_00d8610889aerow3_col5\" class=\"data row3 col5\" >0.9699</td>\n",
       "                        <td id=\"T_72ed5cd0_2a93_11eb_b148_00d8610889aerow3_col6\" class=\"data row3 col6\" >0.9699</td>\n",
       "            </tr>\n",
       "            <tr>\n",
       "                        <th id=\"T_72ed5cd0_2a93_11eb_b148_00d8610889aelevel0_row4\" class=\"row_heading level0 row4\" >4</th>\n",
       "                        <td id=\"T_72ed5cd0_2a93_11eb_b148_00d8610889aerow4_col0\" class=\"data row4 col0\" >0.9654</td>\n",
       "                        <td id=\"T_72ed5cd0_2a93_11eb_b148_00d8610889aerow4_col1\" class=\"data row4 col1\" >0.0000</td>\n",
       "                        <td id=\"T_72ed5cd0_2a93_11eb_b148_00d8610889aerow4_col2\" class=\"data row4 col2\" >0.8854</td>\n",
       "                        <td id=\"T_72ed5cd0_2a93_11eb_b148_00d8610889aerow4_col3\" class=\"data row4 col3\" >0.9676</td>\n",
       "                        <td id=\"T_72ed5cd0_2a93_11eb_b148_00d8610889aerow4_col4\" class=\"data row4 col4\" >0.9653</td>\n",
       "                        <td id=\"T_72ed5cd0_2a93_11eb_b148_00d8610889aerow4_col5\" class=\"data row4 col5\" >0.9595</td>\n",
       "                        <td id=\"T_72ed5cd0_2a93_11eb_b148_00d8610889aerow4_col6\" class=\"data row4 col6\" >0.9595</td>\n",
       "            </tr>\n",
       "            <tr>\n",
       "                        <th id=\"T_72ed5cd0_2a93_11eb_b148_00d8610889aelevel0_row5\" class=\"row_heading level0 row5\" >5</th>\n",
       "                        <td id=\"T_72ed5cd0_2a93_11eb_b148_00d8610889aerow5_col0\" class=\"data row5 col0\" >0.9743</td>\n",
       "                        <td id=\"T_72ed5cd0_2a93_11eb_b148_00d8610889aerow5_col1\" class=\"data row5 col1\" >0.0000</td>\n",
       "                        <td id=\"T_72ed5cd0_2a93_11eb_b148_00d8610889aerow5_col2\" class=\"data row5 col2\" >0.8722</td>\n",
       "                        <td id=\"T_72ed5cd0_2a93_11eb_b148_00d8610889aerow5_col3\" class=\"data row5 col3\" >0.9768</td>\n",
       "                        <td id=\"T_72ed5cd0_2a93_11eb_b148_00d8610889aerow5_col4\" class=\"data row5 col4\" >0.9743</td>\n",
       "                        <td id=\"T_72ed5cd0_2a93_11eb_b148_00d8610889aerow5_col5\" class=\"data row5 col5\" >0.9699</td>\n",
       "                        <td id=\"T_72ed5cd0_2a93_11eb_b148_00d8610889aerow5_col6\" class=\"data row5 col6\" >0.9700</td>\n",
       "            </tr>\n",
       "            <tr>\n",
       "                        <th id=\"T_72ed5cd0_2a93_11eb_b148_00d8610889aelevel0_row6\" class=\"row_heading level0 row6\" >6</th>\n",
       "                        <td id=\"T_72ed5cd0_2a93_11eb_b148_00d8610889aerow6_col0\" class=\"data row6 col0\" >0.9802</td>\n",
       "                        <td id=\"T_72ed5cd0_2a93_11eb_b148_00d8610889aerow6_col1\" class=\"data row6 col1\" >0.0000</td>\n",
       "                        <td id=\"T_72ed5cd0_2a93_11eb_b148_00d8610889aerow6_col2\" class=\"data row6 col2\" >0.8706</td>\n",
       "                        <td id=\"T_72ed5cd0_2a93_11eb_b148_00d8610889aerow6_col3\" class=\"data row6 col3\" >0.9812</td>\n",
       "                        <td id=\"T_72ed5cd0_2a93_11eb_b148_00d8610889aerow6_col4\" class=\"data row6 col4\" >0.9797</td>\n",
       "                        <td id=\"T_72ed5cd0_2a93_11eb_b148_00d8610889aerow6_col5\" class=\"data row6 col5\" >0.9769</td>\n",
       "                        <td id=\"T_72ed5cd0_2a93_11eb_b148_00d8610889aerow6_col6\" class=\"data row6 col6\" >0.9769</td>\n",
       "            </tr>\n",
       "            <tr>\n",
       "                        <th id=\"T_72ed5cd0_2a93_11eb_b148_00d8610889aelevel0_row7\" class=\"row_heading level0 row7\" >7</th>\n",
       "                        <td id=\"T_72ed5cd0_2a93_11eb_b148_00d8610889aerow7_col0\" class=\"data row7 col0\" >0.9792</td>\n",
       "                        <td id=\"T_72ed5cd0_2a93_11eb_b148_00d8610889aerow7_col1\" class=\"data row7 col1\" >0.0000</td>\n",
       "                        <td id=\"T_72ed5cd0_2a93_11eb_b148_00d8610889aerow7_col2\" class=\"data row7 col2\" >0.8528</td>\n",
       "                        <td id=\"T_72ed5cd0_2a93_11eb_b148_00d8610889aerow7_col3\" class=\"data row7 col3\" >0.9769</td>\n",
       "                        <td id=\"T_72ed5cd0_2a93_11eb_b148_00d8610889aerow7_col4\" class=\"data row7 col4\" >0.9775</td>\n",
       "                        <td id=\"T_72ed5cd0_2a93_11eb_b148_00d8610889aerow7_col5\" class=\"data row7 col5\" >0.9757</td>\n",
       "                        <td id=\"T_72ed5cd0_2a93_11eb_b148_00d8610889aerow7_col6\" class=\"data row7 col6\" >0.9757</td>\n",
       "            </tr>\n",
       "            <tr>\n",
       "                        <th id=\"T_72ed5cd0_2a93_11eb_b148_00d8610889aelevel0_row8\" class=\"row_heading level0 row8\" >8</th>\n",
       "                        <td id=\"T_72ed5cd0_2a93_11eb_b148_00d8610889aerow8_col0\" class=\"data row8 col0\" >0.9753</td>\n",
       "                        <td id=\"T_72ed5cd0_2a93_11eb_b148_00d8610889aerow8_col1\" class=\"data row8 col1\" >0.0000</td>\n",
       "                        <td id=\"T_72ed5cd0_2a93_11eb_b148_00d8610889aerow8_col2\" class=\"data row8 col2\" >0.8403</td>\n",
       "                        <td id=\"T_72ed5cd0_2a93_11eb_b148_00d8610889aerow8_col3\" class=\"data row8 col3\" >0.9749</td>\n",
       "                        <td id=\"T_72ed5cd0_2a93_11eb_b148_00d8610889aerow8_col4\" class=\"data row8 col4\" >0.9740</td>\n",
       "                        <td id=\"T_72ed5cd0_2a93_11eb_b148_00d8610889aerow8_col5\" class=\"data row8 col5\" >0.9711</td>\n",
       "                        <td id=\"T_72ed5cd0_2a93_11eb_b148_00d8610889aerow8_col6\" class=\"data row8 col6\" >0.9711</td>\n",
       "            </tr>\n",
       "            <tr>\n",
       "                        <th id=\"T_72ed5cd0_2a93_11eb_b148_00d8610889aelevel0_row9\" class=\"row_heading level0 row9\" >9</th>\n",
       "                        <td id=\"T_72ed5cd0_2a93_11eb_b148_00d8610889aerow9_col0\" class=\"data row9 col0\" >0.9792</td>\n",
       "                        <td id=\"T_72ed5cd0_2a93_11eb_b148_00d8610889aerow9_col1\" class=\"data row9 col1\" >0.0000</td>\n",
       "                        <td id=\"T_72ed5cd0_2a93_11eb_b148_00d8610889aerow9_col2\" class=\"data row9 col2\" >0.9321</td>\n",
       "                        <td id=\"T_72ed5cd0_2a93_11eb_b148_00d8610889aerow9_col3\" class=\"data row9 col3\" >0.9809</td>\n",
       "                        <td id=\"T_72ed5cd0_2a93_11eb_b148_00d8610889aerow9_col4\" class=\"data row9 col4\" >0.9795</td>\n",
       "                        <td id=\"T_72ed5cd0_2a93_11eb_b148_00d8610889aerow9_col5\" class=\"data row9 col5\" >0.9757</td>\n",
       "                        <td id=\"T_72ed5cd0_2a93_11eb_b148_00d8610889aerow9_col6\" class=\"data row9 col6\" >0.9757</td>\n",
       "            </tr>\n",
       "            <tr>\n",
       "                        <th id=\"T_72ed5cd0_2a93_11eb_b148_00d8610889aelevel0_row10\" class=\"row_heading level0 row10\" >Mean</th>\n",
       "                        <td id=\"T_72ed5cd0_2a93_11eb_b148_00d8610889aerow10_col0\" class=\"data row10 col0\" >0.9759</td>\n",
       "                        <td id=\"T_72ed5cd0_2a93_11eb_b148_00d8610889aerow10_col1\" class=\"data row10 col1\" >0.0000</td>\n",
       "                        <td id=\"T_72ed5cd0_2a93_11eb_b148_00d8610889aerow10_col2\" class=\"data row10 col2\" >0.8825</td>\n",
       "                        <td id=\"T_72ed5cd0_2a93_11eb_b148_00d8610889aerow10_col3\" class=\"data row10 col3\" >0.9759</td>\n",
       "                        <td id=\"T_72ed5cd0_2a93_11eb_b148_00d8610889aerow10_col4\" class=\"data row10 col4\" >0.9751</td>\n",
       "                        <td id=\"T_72ed5cd0_2a93_11eb_b148_00d8610889aerow10_col5\" class=\"data row10 col5\" >0.9718</td>\n",
       "                        <td id=\"T_72ed5cd0_2a93_11eb_b148_00d8610889aerow10_col6\" class=\"data row10 col6\" >0.9718</td>\n",
       "            </tr>\n",
       "            <tr>\n",
       "                        <th id=\"T_72ed5cd0_2a93_11eb_b148_00d8610889aelevel0_row11\" class=\"row_heading level0 row11\" >SD</th>\n",
       "                        <td id=\"T_72ed5cd0_2a93_11eb_b148_00d8610889aerow11_col0\" class=\"data row11 col0\" >0.0044</td>\n",
       "                        <td id=\"T_72ed5cd0_2a93_11eb_b148_00d8610889aerow11_col1\" class=\"data row11 col1\" >0.0000</td>\n",
       "                        <td id=\"T_72ed5cd0_2a93_11eb_b148_00d8610889aerow11_col2\" class=\"data row11 col2\" >0.0248</td>\n",
       "                        <td id=\"T_72ed5cd0_2a93_11eb_b148_00d8610889aerow11_col3\" class=\"data row11 col3\" >0.0041</td>\n",
       "                        <td id=\"T_72ed5cd0_2a93_11eb_b148_00d8610889aerow11_col4\" class=\"data row11 col4\" >0.0043</td>\n",
       "                        <td id=\"T_72ed5cd0_2a93_11eb_b148_00d8610889aerow11_col5\" class=\"data row11 col5\" >0.0052</td>\n",
       "                        <td id=\"T_72ed5cd0_2a93_11eb_b148_00d8610889aerow11_col6\" class=\"data row11 col6\" >0.0052</td>\n",
       "            </tr>\n",
       "    </tbody></table>"
      ],
      "text/plain": [
       "<pandas.io.formats.style.Styler at 0x1ff5b351dc0>"
      ]
     },
     "metadata": {},
     "output_type": "display_data"
    }
   ],
   "source": [
    "data = pd.read_csv(path+file_name+target_label+'_train.csv',\n",
    "                      sep='\\t',\n",
    "                      skiprows=[1])\n",
    "\n",
    "# droping low variance columns\n",
    "data.drop(low_mean_variance_columns, axis=1)\n",
    "\n",
    "setup(data=data,\n",
    "      target=target_label,\n",
    "      numeric_features=num_features,\n",
    "      silent=True)\n",
    "\n",
    "model = create_model('et')"
   ]
  },
  {
   "cell_type": "markdown",
   "metadata": {},
   "source": [
    "# Make Unseen Test"
   ]
  },
  {
   "cell_type": "code",
   "execution_count": 16,
   "metadata": {},
   "outputs": [],
   "source": [
    "#read unseen data\n",
    "unseen_data = pd.read_csv(path+file_name+target_label+'_test.csv',\n",
    "                      sep='\\t',\n",
    "                      skiprows=[1])\n",
    "\n",
    "# droping low variance columns\n",
    "data.drop(low_mean_variance_columns, axis=1)\n",
    "\n",
    "# saving the target column.\n",
    "answers = unseen_data[target_label]\n",
    "\n",
    "# dropping traget column from test.\n",
    "unseen_data = unseen_data.drop(columns=[target_label])"
   ]
  },
  {
   "cell_type": "code",
   "execution_count": 17,
   "metadata": {},
   "outputs": [
    {
     "name": "stdout",
     "output_type": "stream",
     "text": [
      "prediction took: 0.609375\n"
     ]
    }
   ],
   "source": [
    "predicted = timed_prediction(unseen_data,model)"
   ]
  },
  {
   "cell_type": "code",
   "execution_count": 18,
   "metadata": {},
   "outputs": [
    {
     "name": "stdout",
     "output_type": "stream",
     "text": [
      "Number of error: 161 from 6189 test samples \n",
      "Which is 2.601389562126353% of error.\n"
     ]
    },
    {
     "data": {
      "text/plain": [
       "161"
      ]
     },
     "execution_count": 18,
     "metadata": {},
     "output_type": "execute_result"
    }
   ],
   "source": [
    "compare_prediction_with_answers(predicted,answers)"
   ]
  },
  {
   "cell_type": "markdown",
   "metadata": {},
   "source": [
    "we can see improvment with our scores while removing 7 low mean variance columns"
   ]
  },
  {
   "cell_type": "code",
   "execution_count": null,
   "metadata": {},
   "outputs": [],
   "source": []
  }
 ],
 "metadata": {
  "kernelspec": {
   "display_name": "Python 3.8.3 64-bit ('base': conda)",
   "language": "python",
   "name": "python38364bitbasecondaed19ee87b6844ca4b2207fe8765813ad"
  },
  "language_info": {
   "codemirror_mode": {
    "name": "ipython",
    "version": 3
   },
   "file_extension": ".py",
   "mimetype": "text/x-python",
   "name": "python",
   "nbconvert_exporter": "python",
   "pygments_lexer": "ipython3",
   "version": "3.8.5"
  }
 },
 "nbformat": 4,
 "nbformat_minor": 4
}
