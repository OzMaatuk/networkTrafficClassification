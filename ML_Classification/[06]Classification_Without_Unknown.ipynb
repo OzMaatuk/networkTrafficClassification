{
 "cells": [
  {
   "cell_type": "markdown",
   "metadata": {},
   "source": [
    "# Classification Without Unknown Data\n",
    "this notbook will present the classification preformance of chosen model in predicting the BOA tuple of a record (samples). when the unknown records are removed (our original dataset include records which thier BOA label is unknow, when BOA label can be unknown only for one of the three Browser, Operation-system, Application and considered unknown for all the tuple)."
   ]
  },
  {
   "cell_type": "markdown",
   "metadata": {},
   "source": [
    "# Import"
   ]
  },
  {
   "cell_type": "code",
   "execution_count": 1,
   "metadata": {},
   "outputs": [],
   "source": [
    "import pandas as pd\n",
    "from pycaret.classification import *\n",
    "import time"
   ]
  },
  {
   "cell_type": "markdown",
   "metadata": {},
   "source": [
    "# Settings"
   ]
  },
  {
   "cell_type": "code",
   "execution_count": 2,
   "metadata": {},
   "outputs": [],
   "source": [
    "# set constants\n",
    "target_label = 'tuple'\n",
    "learning_model = ['rf','et','lightgbm','xgboost']\n",
    "num_features = ['min_packet_size', 'min_fpkt', 'min_bpkt']\n",
    "file_name = \"new_all_features_\"\n",
    "path = target_label + \"_dataset/\""
   ]
  },
  {
   "cell_type": "code",
   "execution_count": 3,
   "metadata": {},
   "outputs": [],
   "source": [
    "# function for making model-prediction over the data set and measure the run time \n",
    "def timed_prediction(in_data,in_model):\n",
    "    t = time.process_time()\n",
    "    predicted = predict_model(in_model, data=in_data)\n",
    "    elapsed_time = time.process_time() - t\n",
    "    print(\"prediction took: \" + str(elapsed_time))\n",
    "    return predicted"
   ]
  },
  {
   "cell_type": "code",
   "execution_count": 4,
   "metadata": {},
   "outputs": [],
   "source": [
    "# compare answers and labeled test\n",
    "def compare_prediction_with_answers(in_predicted, in_answers):\n",
    "    count=0\n",
    "    index = in_predicted.index\n",
    "    number_of_rows = len(index)\n",
    "    errors_arr = []\n",
    "    for i in range(0,number_of_rows):\n",
    "        if str(int(in_answers[i])) != str(int(in_predicted.iloc[i]['Label'])):\n",
    "            count=count+1\n",
    "            cur_error = str(in_answers[i]) + \"!=\" + str(in_predicted.iloc[i]['Label'])\n",
    "            errors_arr.append(cur_error)\n",
    "#             print(\"error in line \" + str(i) +\n",
    "#                   \" \" + str(in_answers[i]) +\n",
    "#                   \"!=\" + str(in_predicted.iloc[i]['Label']))\n",
    "#     print(\"Errors: \" + str(errors_arr))\n",
    "    print(\"Number of error: \" + str(count) + \" from \" +\n",
    "          str(number_of_rows) + \" test samples \\nWhich is \"\n",
    "          + str(count/number_of_rows) + \"% of error.\")\n",
    "    return count"
   ]
  },
  {
   "cell_type": "code",
   "execution_count": 5,
   "metadata": {},
   "outputs": [],
   "source": [
    "# function for checkign the correction of the model-prediction over the data\n",
    "def check_correction(in_predicted):\n",
    "    in_answers=in_predicted['Label']\n",
    "    return compare_prediction_with_answers(in_predicted, in_answers)"
   ]
  },
  {
   "cell_type": "markdown",
   "metadata": {},
   "source": [
    "# Read Data"
   ]
  },
  {
   "cell_type": "code",
   "execution_count": 7,
   "metadata": {},
   "outputs": [],
   "source": [
    "data = pd.read_csv(path+file_name+target_label+'_train.csv',\n",
    "                      sep='\\t',\n",
    "                      skiprows=[1])"
   ]
  },
  {
   "cell_type": "markdown",
   "metadata": {},
   "source": [
    "# Setup Classifier and Comparing Learning Models"
   ]
  },
  {
   "cell_type": "code",
   "execution_count": 8,
   "metadata": {
    "tags": []
   },
   "outputs": [
    {
     "data": {
      "text/html": [
       "<style  type=\"text/css\" >\n",
       "    #T_740a4764_f0cd_11ea_bd64_00d8610889ae th {\n",
       "          text-align: left;\n",
       "    }    #T_740a4764_f0cd_11ea_bd64_00d8610889aerow0_col0 {\n",
       "            text-align:  left;\n",
       "        }    #T_740a4764_f0cd_11ea_bd64_00d8610889aerow0_col1 {\n",
       "            background-color:  yellow;\n",
       "            text-align:  left;\n",
       "        }    #T_740a4764_f0cd_11ea_bd64_00d8610889aerow0_col2 {\n",
       "            text-align:  left;\n",
       "        }    #T_740a4764_f0cd_11ea_bd64_00d8610889aerow0_col3 {\n",
       "            background-color:  yellow;\n",
       "            text-align:  left;\n",
       "        }    #T_740a4764_f0cd_11ea_bd64_00d8610889aerow0_col4 {\n",
       "            background-color:  yellow;\n",
       "            text-align:  left;\n",
       "        }    #T_740a4764_f0cd_11ea_bd64_00d8610889aerow0_col5 {\n",
       "            background-color:  yellow;\n",
       "            text-align:  left;\n",
       "        }    #T_740a4764_f0cd_11ea_bd64_00d8610889aerow0_col6 {\n",
       "            background-color:  yellow;\n",
       "            text-align:  left;\n",
       "        }    #T_740a4764_f0cd_11ea_bd64_00d8610889aerow0_col7 {\n",
       "            background-color:  yellow;\n",
       "            text-align:  left;\n",
       "        }    #T_740a4764_f0cd_11ea_bd64_00d8610889aerow0_col8 {\n",
       "            background-color:  lightgrey;\n",
       "            text-align:  left;\n",
       "        }    #T_740a4764_f0cd_11ea_bd64_00d8610889aerow1_col0 {\n",
       "            text-align:  left;\n",
       "        }    #T_740a4764_f0cd_11ea_bd64_00d8610889aerow1_col1 {\n",
       "            : ;\n",
       "            text-align:  left;\n",
       "        }    #T_740a4764_f0cd_11ea_bd64_00d8610889aerow1_col2 {\n",
       "            text-align:  left;\n",
       "        }    #T_740a4764_f0cd_11ea_bd64_00d8610889aerow1_col3 {\n",
       "            : ;\n",
       "            text-align:  left;\n",
       "        }    #T_740a4764_f0cd_11ea_bd64_00d8610889aerow1_col4 {\n",
       "            : ;\n",
       "            text-align:  left;\n",
       "        }    #T_740a4764_f0cd_11ea_bd64_00d8610889aerow1_col5 {\n",
       "            : ;\n",
       "            text-align:  left;\n",
       "        }    #T_740a4764_f0cd_11ea_bd64_00d8610889aerow1_col6 {\n",
       "            : ;\n",
       "            text-align:  left;\n",
       "        }    #T_740a4764_f0cd_11ea_bd64_00d8610889aerow1_col7 {\n",
       "            : ;\n",
       "            text-align:  left;\n",
       "        }    #T_740a4764_f0cd_11ea_bd64_00d8610889aerow1_col8 {\n",
       "            background-color:  lightgrey;\n",
       "            text-align:  left;\n",
       "        }    #T_740a4764_f0cd_11ea_bd64_00d8610889aerow2_col0 {\n",
       "            text-align:  left;\n",
       "        }    #T_740a4764_f0cd_11ea_bd64_00d8610889aerow2_col1 {\n",
       "            : ;\n",
       "            text-align:  left;\n",
       "        }    #T_740a4764_f0cd_11ea_bd64_00d8610889aerow2_col2 {\n",
       "            text-align:  left;\n",
       "        }    #T_740a4764_f0cd_11ea_bd64_00d8610889aerow2_col3 {\n",
       "            : ;\n",
       "            text-align:  left;\n",
       "        }    #T_740a4764_f0cd_11ea_bd64_00d8610889aerow2_col4 {\n",
       "            : ;\n",
       "            text-align:  left;\n",
       "        }    #T_740a4764_f0cd_11ea_bd64_00d8610889aerow2_col5 {\n",
       "            : ;\n",
       "            text-align:  left;\n",
       "        }    #T_740a4764_f0cd_11ea_bd64_00d8610889aerow2_col6 {\n",
       "            : ;\n",
       "            text-align:  left;\n",
       "        }    #T_740a4764_f0cd_11ea_bd64_00d8610889aerow2_col7 {\n",
       "            : ;\n",
       "            text-align:  left;\n",
       "        }    #T_740a4764_f0cd_11ea_bd64_00d8610889aerow2_col8 {\n",
       "            background-color:  lightgrey;\n",
       "            text-align:  left;\n",
       "        }    #T_740a4764_f0cd_11ea_bd64_00d8610889aerow3_col0 {\n",
       "            text-align:  left;\n",
       "        }    #T_740a4764_f0cd_11ea_bd64_00d8610889aerow3_col1 {\n",
       "            : ;\n",
       "            text-align:  left;\n",
       "        }    #T_740a4764_f0cd_11ea_bd64_00d8610889aerow3_col2 {\n",
       "            text-align:  left;\n",
       "        }    #T_740a4764_f0cd_11ea_bd64_00d8610889aerow3_col3 {\n",
       "            : ;\n",
       "            text-align:  left;\n",
       "        }    #T_740a4764_f0cd_11ea_bd64_00d8610889aerow3_col4 {\n",
       "            : ;\n",
       "            text-align:  left;\n",
       "        }    #T_740a4764_f0cd_11ea_bd64_00d8610889aerow3_col5 {\n",
       "            : ;\n",
       "            text-align:  left;\n",
       "        }    #T_740a4764_f0cd_11ea_bd64_00d8610889aerow3_col6 {\n",
       "            : ;\n",
       "            text-align:  left;\n",
       "        }    #T_740a4764_f0cd_11ea_bd64_00d8610889aerow3_col7 {\n",
       "            : ;\n",
       "            text-align:  left;\n",
       "        }    #T_740a4764_f0cd_11ea_bd64_00d8610889aerow3_col8 {\n",
       "            background-color:  lightgrey;\n",
       "            text-align:  left;\n",
       "        }</style><table id=\"T_740a4764_f0cd_11ea_bd64_00d8610889ae\" ><thead>    <tr>        <th class=\"blank level0\" ></th>        <th class=\"col_heading level0 col0\" >Model</th>        <th class=\"col_heading level0 col1\" >Accuracy</th>        <th class=\"col_heading level0 col2\" >AUC</th>        <th class=\"col_heading level0 col3\" >Recall</th>        <th class=\"col_heading level0 col4\" >Prec.</th>        <th class=\"col_heading level0 col5\" >F1</th>        <th class=\"col_heading level0 col6\" >Kappa</th>        <th class=\"col_heading level0 col7\" >MCC</th>        <th class=\"col_heading level0 col8\" >TT (Sec)</th>    </tr></thead><tbody>\n",
       "                <tr>\n",
       "                        <th id=\"T_740a4764_f0cd_11ea_bd64_00d8610889aelevel0_row0\" class=\"row_heading level0 row0\" >0</th>\n",
       "                        <td id=\"T_740a4764_f0cd_11ea_bd64_00d8610889aerow0_col0\" class=\"data row0 col0\" >Extreme Gradient Boosting</td>\n",
       "                        <td id=\"T_740a4764_f0cd_11ea_bd64_00d8610889aerow0_col1\" class=\"data row0 col1\" >0.9770</td>\n",
       "                        <td id=\"T_740a4764_f0cd_11ea_bd64_00d8610889aerow0_col2\" class=\"data row0 col2\" >0.0000</td>\n",
       "                        <td id=\"T_740a4764_f0cd_11ea_bd64_00d8610889aerow0_col3\" class=\"data row0 col3\" >0.8834</td>\n",
       "                        <td id=\"T_740a4764_f0cd_11ea_bd64_00d8610889aerow0_col4\" class=\"data row0 col4\" >0.9759</td>\n",
       "                        <td id=\"T_740a4764_f0cd_11ea_bd64_00d8610889aerow0_col5\" class=\"data row0 col5\" >0.9756</td>\n",
       "                        <td id=\"T_740a4764_f0cd_11ea_bd64_00d8610889aerow0_col6\" class=\"data row0 col6\" >0.9730</td>\n",
       "                        <td id=\"T_740a4764_f0cd_11ea_bd64_00d8610889aerow0_col7\" class=\"data row0 col7\" >0.9731</td>\n",
       "                        <td id=\"T_740a4764_f0cd_11ea_bd64_00d8610889aerow0_col8\" class=\"data row0 col8\" >12.9354</td>\n",
       "            </tr>\n",
       "            <tr>\n",
       "                        <th id=\"T_740a4764_f0cd_11ea_bd64_00d8610889aelevel0_row1\" class=\"row_heading level0 row1\" >1</th>\n",
       "                        <td id=\"T_740a4764_f0cd_11ea_bd64_00d8610889aerow1_col0\" class=\"data row1 col0\" >Extra Trees Classifier</td>\n",
       "                        <td id=\"T_740a4764_f0cd_11ea_bd64_00d8610889aerow1_col1\" class=\"data row1 col1\" >0.9760</td>\n",
       "                        <td id=\"T_740a4764_f0cd_11ea_bd64_00d8610889aerow1_col2\" class=\"data row1 col2\" >0.0000</td>\n",
       "                        <td id=\"T_740a4764_f0cd_11ea_bd64_00d8610889aerow1_col3\" class=\"data row1 col3\" >0.8796</td>\n",
       "                        <td id=\"T_740a4764_f0cd_11ea_bd64_00d8610889aerow1_col4\" class=\"data row1 col4\" >0.9757</td>\n",
       "                        <td id=\"T_740a4764_f0cd_11ea_bd64_00d8610889aerow1_col5\" class=\"data row1 col5\" >0.9749</td>\n",
       "                        <td id=\"T_740a4764_f0cd_11ea_bd64_00d8610889aerow1_col6\" class=\"data row1 col6\" >0.9719</td>\n",
       "                        <td id=\"T_740a4764_f0cd_11ea_bd64_00d8610889aerow1_col7\" class=\"data row1 col7\" >0.9719</td>\n",
       "                        <td id=\"T_740a4764_f0cd_11ea_bd64_00d8610889aerow1_col8\" class=\"data row1 col8\" >7.0813</td>\n",
       "            </tr>\n",
       "            <tr>\n",
       "                        <th id=\"T_740a4764_f0cd_11ea_bd64_00d8610889aelevel0_row2\" class=\"row_heading level0 row2\" >2</th>\n",
       "                        <td id=\"T_740a4764_f0cd_11ea_bd64_00d8610889aerow2_col0\" class=\"data row2 col0\" >Random Forest Classifier</td>\n",
       "                        <td id=\"T_740a4764_f0cd_11ea_bd64_00d8610889aerow2_col1\" class=\"data row2 col1\" >0.9664</td>\n",
       "                        <td id=\"T_740a4764_f0cd_11ea_bd64_00d8610889aerow2_col2\" class=\"data row2 col2\" >0.0000</td>\n",
       "                        <td id=\"T_740a4764_f0cd_11ea_bd64_00d8610889aerow2_col3\" class=\"data row2 col3\" >0.8444</td>\n",
       "                        <td id=\"T_740a4764_f0cd_11ea_bd64_00d8610889aerow2_col4\" class=\"data row2 col4\" >0.9654</td>\n",
       "                        <td id=\"T_740a4764_f0cd_11ea_bd64_00d8610889aerow2_col5\" class=\"data row2 col5\" >0.9643</td>\n",
       "                        <td id=\"T_740a4764_f0cd_11ea_bd64_00d8610889aerow2_col6\" class=\"data row2 col6\" >0.9606</td>\n",
       "                        <td id=\"T_740a4764_f0cd_11ea_bd64_00d8610889aerow2_col7\" class=\"data row2 col7\" >0.9607</td>\n",
       "                        <td id=\"T_740a4764_f0cd_11ea_bd64_00d8610889aerow2_col8\" class=\"data row2 col8\" >4.4500</td>\n",
       "            </tr>\n",
       "            <tr>\n",
       "                        <th id=\"T_740a4764_f0cd_11ea_bd64_00d8610889aelevel0_row3\" class=\"row_heading level0 row3\" >3</th>\n",
       "                        <td id=\"T_740a4764_f0cd_11ea_bd64_00d8610889aerow3_col0\" class=\"data row3 col0\" >Light Gradient Boosting Machine</td>\n",
       "                        <td id=\"T_740a4764_f0cd_11ea_bd64_00d8610889aerow3_col1\" class=\"data row3 col1\" >0.9509</td>\n",
       "                        <td id=\"T_740a4764_f0cd_11ea_bd64_00d8610889aerow3_col2\" class=\"data row3 col2\" >0.0000</td>\n",
       "                        <td id=\"T_740a4764_f0cd_11ea_bd64_00d8610889aerow3_col3\" class=\"data row3 col3\" >0.8263</td>\n",
       "                        <td id=\"T_740a4764_f0cd_11ea_bd64_00d8610889aerow3_col4\" class=\"data row3 col4\" >0.9725</td>\n",
       "                        <td id=\"T_740a4764_f0cd_11ea_bd64_00d8610889aerow3_col5\" class=\"data row3 col5\" >0.9587</td>\n",
       "                        <td id=\"T_740a4764_f0cd_11ea_bd64_00d8610889aerow3_col6\" class=\"data row3 col6\" >0.9430</td>\n",
       "                        <td id=\"T_740a4764_f0cd_11ea_bd64_00d8610889aerow3_col7\" class=\"data row3 col7\" >0.9441</td>\n",
       "                        <td id=\"T_740a4764_f0cd_11ea_bd64_00d8610889aerow3_col8\" class=\"data row3 col8\" >6.3204</td>\n",
       "            </tr>\n",
       "    </tbody></table>"
      ],
      "text/plain": [
       "<pandas.io.formats.style.Styler at 0x167e53a1c10>"
      ]
     },
     "metadata": {},
     "output_type": "display_data"
    }
   ],
   "source": [
    "setup(data=data,\n",
    "      target=target_label,\n",
    "      numeric_features=num_features,\n",
    "      silent=True)\n",
    "model = compare_models(whitelist=learning_model)"
   ]
  },
  {
   "cell_type": "markdown",
   "metadata": {},
   "source": [
    "# Prediction"
   ]
  },
  {
   "cell_type": "code",
   "execution_count": 9,
   "metadata": {
    "scrolled": true
   },
   "outputs": [
    {
     "name": "stdout",
     "output_type": "stream",
     "text": [
      "prediction took: 25.296875\n"
     ]
    }
   ],
   "source": [
    "predicted = timed_prediction(data,model)"
   ]
  },
  {
   "cell_type": "code",
   "execution_count": 10,
   "metadata": {},
   "outputs": [
    {
     "name": "stdout",
     "output_type": "stream",
     "text": [
      "Number of error: 0 from 14442 test samples \n",
      "Which is 0.0% of error.\n"
     ]
    },
    {
     "data": {
      "text/plain": [
       "0"
      ]
     },
     "execution_count": 10,
     "metadata": {},
     "output_type": "execute_result"
    }
   ],
   "source": [
    "check_correction(predicted)"
   ]
  },
  {
   "cell_type": "markdown",
   "metadata": {},
   "source": [
    "# Read Unseen Test"
   ]
  },
  {
   "cell_type": "code",
   "execution_count": 11,
   "metadata": {},
   "outputs": [],
   "source": [
    "unseen_data = pd.read_csv(path+file_name+target_label+'_test.csv',\n",
    "                      sep='\\t',\n",
    "                      skiprows=[1])"
   ]
  },
  {
   "cell_type": "code",
   "execution_count": 12,
   "metadata": {},
   "outputs": [],
   "source": [
    "# saving the target column\n",
    "answers = unseen_data[target_label]"
   ]
  },
  {
   "cell_type": "code",
   "execution_count": 13,
   "metadata": {},
   "outputs": [],
   "source": [
    "# dropping traget column from test.\n",
    "unseen_data = unseen_data.drop(columns=[target_label])"
   ]
  },
  {
   "cell_type": "markdown",
   "metadata": {},
   "source": [
    "# Make Unseen Test"
   ]
  },
  {
   "cell_type": "code",
   "execution_count": 14,
   "metadata": {},
   "outputs": [],
   "source": [
    "predicted = predict_model(model, data=unseen_data)"
   ]
  },
  {
   "cell_type": "code",
   "execution_count": 15,
   "metadata": {},
   "outputs": [
    {
     "name": "stdout",
     "output_type": "stream",
     "text": [
      "Number of error: 139 from 6189 test samples \n",
      "Which is 0.022459201809662304% of error.\n"
     ]
    },
    {
     "data": {
      "text/plain": [
       "139"
      ]
     },
     "execution_count": 15,
     "metadata": {},
     "output_type": "execute_result"
    }
   ],
   "source": [
    "compare_prediction_with_answers(predicted,answers)"
   ]
  },
  {
   "cell_type": "markdown",
   "metadata": {},
   "source": [
    "# Removing unknown tuple labels from data"
   ]
  },
  {
   "cell_type": "markdown",
   "metadata": {},
   "source": [
    "### Original data"
   ]
  },
  {
   "cell_type": "code",
   "execution_count": 18,
   "metadata": {},
   "outputs": [
    {
     "data": {
      "text/plain": [
       "(14442, 60)"
      ]
     },
     "execution_count": 18,
     "metadata": {},
     "output_type": "execute_result"
    }
   ],
   "source": [
    "data.shape"
   ]
  },
  {
   "cell_type": "markdown",
   "metadata": {},
   "source": [
    "### removing unknown browser"
   ]
  },
  {
   "cell_type": "code",
   "execution_count": 19,
   "metadata": {},
   "outputs": [],
   "source": [
    "data=data[((data.tuple/100)%10) < 5]"
   ]
  },
  {
   "cell_type": "code",
   "execution_count": 22,
   "metadata": {},
   "outputs": [
    {
     "data": {
      "text/plain": [
       "(13094, 60)"
      ]
     },
     "execution_count": 22,
     "metadata": {},
     "output_type": "execute_result"
    }
   ],
   "source": [
    "data.shape"
   ]
  },
  {
   "cell_type": "markdown",
   "metadata": {},
   "source": [
    "### removing unknown os"
   ]
  },
  {
   "cell_type": "code",
   "execution_count": 23,
   "metadata": {},
   "outputs": [],
   "source": [
    "data=data[(data.tuple%10) < 4]"
   ]
  },
  {
   "cell_type": "code",
   "execution_count": 26,
   "metadata": {},
   "outputs": [
    {
     "data": {
      "text/plain": [
       "(13094, 60)"
      ]
     },
     "execution_count": 26,
     "metadata": {},
     "output_type": "execute_result"
    }
   ],
   "source": [
    "data.shape"
   ]
  },
  {
   "cell_type": "markdown",
   "metadata": {},
   "source": [
    "### removing unknown application"
   ]
  },
  {
   "cell_type": "code",
   "execution_count": 27,
   "metadata": {},
   "outputs": [],
   "source": [
    "data=data[(data.tuple/1000) < 18]"
   ]
  },
  {
   "cell_type": "code",
   "execution_count": 30,
   "metadata": {},
   "outputs": [
    {
     "data": {
      "text/plain": [
       "(11799, 60)"
      ]
     },
     "execution_count": 30,
     "metadata": {},
     "output_type": "execute_result"
    }
   ],
   "source": [
    "data.shape"
   ]
  },
  {
   "cell_type": "markdown",
   "metadata": {},
   "source": [
    "# Setup Classifier and Comparing Learning Models"
   ]
  },
  {
   "cell_type": "code",
   "execution_count": 31,
   "metadata": {
    "tags": []
   },
   "outputs": [
    {
     "data": {
      "text/html": [
       "<style  type=\"text/css\" >\n",
       "    #T_0ea6898d_f0ce_11ea_af59_00d8610889ae th {\n",
       "          text-align: left;\n",
       "    }    #T_0ea6898d_f0ce_11ea_af59_00d8610889aerow0_col0 {\n",
       "            text-align:  left;\n",
       "        }    #T_0ea6898d_f0ce_11ea_af59_00d8610889aerow0_col1 {\n",
       "            background-color:  yellow;\n",
       "            text-align:  left;\n",
       "        }    #T_0ea6898d_f0ce_11ea_af59_00d8610889aerow0_col2 {\n",
       "            text-align:  left;\n",
       "        }    #T_0ea6898d_f0ce_11ea_af59_00d8610889aerow0_col3 {\n",
       "            background-color:  yellow;\n",
       "            text-align:  left;\n",
       "        }    #T_0ea6898d_f0ce_11ea_af59_00d8610889aerow0_col4 {\n",
       "            : ;\n",
       "            text-align:  left;\n",
       "        }    #T_0ea6898d_f0ce_11ea_af59_00d8610889aerow0_col5 {\n",
       "            : ;\n",
       "            text-align:  left;\n",
       "        }    #T_0ea6898d_f0ce_11ea_af59_00d8610889aerow0_col6 {\n",
       "            background-color:  yellow;\n",
       "            text-align:  left;\n",
       "        }    #T_0ea6898d_f0ce_11ea_af59_00d8610889aerow0_col7 {\n",
       "            background-color:  yellow;\n",
       "            text-align:  left;\n",
       "        }    #T_0ea6898d_f0ce_11ea_af59_00d8610889aerow0_col8 {\n",
       "            background-color:  lightgrey;\n",
       "            text-align:  left;\n",
       "        }    #T_0ea6898d_f0ce_11ea_af59_00d8610889aerow1_col0 {\n",
       "            text-align:  left;\n",
       "        }    #T_0ea6898d_f0ce_11ea_af59_00d8610889aerow1_col1 {\n",
       "            : ;\n",
       "            text-align:  left;\n",
       "        }    #T_0ea6898d_f0ce_11ea_af59_00d8610889aerow1_col2 {\n",
       "            text-align:  left;\n",
       "        }    #T_0ea6898d_f0ce_11ea_af59_00d8610889aerow1_col3 {\n",
       "            : ;\n",
       "            text-align:  left;\n",
       "        }    #T_0ea6898d_f0ce_11ea_af59_00d8610889aerow1_col4 {\n",
       "            background-color:  yellow;\n",
       "            text-align:  left;\n",
       "        }    #T_0ea6898d_f0ce_11ea_af59_00d8610889aerow1_col5 {\n",
       "            background-color:  yellow;\n",
       "            text-align:  left;\n",
       "        }    #T_0ea6898d_f0ce_11ea_af59_00d8610889aerow1_col6 {\n",
       "            : ;\n",
       "            text-align:  left;\n",
       "        }    #T_0ea6898d_f0ce_11ea_af59_00d8610889aerow1_col7 {\n",
       "            : ;\n",
       "            text-align:  left;\n",
       "        }    #T_0ea6898d_f0ce_11ea_af59_00d8610889aerow1_col8 {\n",
       "            background-color:  lightgrey;\n",
       "            text-align:  left;\n",
       "        }    #T_0ea6898d_f0ce_11ea_af59_00d8610889aerow2_col0 {\n",
       "            text-align:  left;\n",
       "        }    #T_0ea6898d_f0ce_11ea_af59_00d8610889aerow2_col1 {\n",
       "            : ;\n",
       "            text-align:  left;\n",
       "        }    #T_0ea6898d_f0ce_11ea_af59_00d8610889aerow2_col2 {\n",
       "            text-align:  left;\n",
       "        }    #T_0ea6898d_f0ce_11ea_af59_00d8610889aerow2_col3 {\n",
       "            : ;\n",
       "            text-align:  left;\n",
       "        }    #T_0ea6898d_f0ce_11ea_af59_00d8610889aerow2_col4 {\n",
       "            : ;\n",
       "            text-align:  left;\n",
       "        }    #T_0ea6898d_f0ce_11ea_af59_00d8610889aerow2_col5 {\n",
       "            : ;\n",
       "            text-align:  left;\n",
       "        }    #T_0ea6898d_f0ce_11ea_af59_00d8610889aerow2_col6 {\n",
       "            : ;\n",
       "            text-align:  left;\n",
       "        }    #T_0ea6898d_f0ce_11ea_af59_00d8610889aerow2_col7 {\n",
       "            : ;\n",
       "            text-align:  left;\n",
       "        }    #T_0ea6898d_f0ce_11ea_af59_00d8610889aerow2_col8 {\n",
       "            background-color:  lightgrey;\n",
       "            text-align:  left;\n",
       "        }    #T_0ea6898d_f0ce_11ea_af59_00d8610889aerow3_col0 {\n",
       "            text-align:  left;\n",
       "        }    #T_0ea6898d_f0ce_11ea_af59_00d8610889aerow3_col1 {\n",
       "            : ;\n",
       "            text-align:  left;\n",
       "        }    #T_0ea6898d_f0ce_11ea_af59_00d8610889aerow3_col2 {\n",
       "            text-align:  left;\n",
       "        }    #T_0ea6898d_f0ce_11ea_af59_00d8610889aerow3_col3 {\n",
       "            : ;\n",
       "            text-align:  left;\n",
       "        }    #T_0ea6898d_f0ce_11ea_af59_00d8610889aerow3_col4 {\n",
       "            : ;\n",
       "            text-align:  left;\n",
       "        }    #T_0ea6898d_f0ce_11ea_af59_00d8610889aerow3_col5 {\n",
       "            : ;\n",
       "            text-align:  left;\n",
       "        }    #T_0ea6898d_f0ce_11ea_af59_00d8610889aerow3_col6 {\n",
       "            : ;\n",
       "            text-align:  left;\n",
       "        }    #T_0ea6898d_f0ce_11ea_af59_00d8610889aerow3_col7 {\n",
       "            : ;\n",
       "            text-align:  left;\n",
       "        }    #T_0ea6898d_f0ce_11ea_af59_00d8610889aerow3_col8 {\n",
       "            background-color:  lightgrey;\n",
       "            text-align:  left;\n",
       "        }</style><table id=\"T_0ea6898d_f0ce_11ea_af59_00d8610889ae\" ><thead>    <tr>        <th class=\"blank level0\" ></th>        <th class=\"col_heading level0 col0\" >Model</th>        <th class=\"col_heading level0 col1\" >Accuracy</th>        <th class=\"col_heading level0 col2\" >AUC</th>        <th class=\"col_heading level0 col3\" >Recall</th>        <th class=\"col_heading level0 col4\" >Prec.</th>        <th class=\"col_heading level0 col5\" >F1</th>        <th class=\"col_heading level0 col6\" >Kappa</th>        <th class=\"col_heading level0 col7\" >MCC</th>        <th class=\"col_heading level0 col8\" >TT (Sec)</th>    </tr></thead><tbody>\n",
       "                <tr>\n",
       "                        <th id=\"T_0ea6898d_f0ce_11ea_af59_00d8610889aelevel0_row0\" class=\"row_heading level0 row0\" >0</th>\n",
       "                        <td id=\"T_0ea6898d_f0ce_11ea_af59_00d8610889aerow0_col0\" class=\"data row0 col0\" >Extreme Gradient Boosting</td>\n",
       "                        <td id=\"T_0ea6898d_f0ce_11ea_af59_00d8610889aerow0_col1\" class=\"data row0 col1\" >0.9897</td>\n",
       "                        <td id=\"T_0ea6898d_f0ce_11ea_af59_00d8610889aerow0_col2\" class=\"data row0 col2\" >0.0000</td>\n",
       "                        <td id=\"T_0ea6898d_f0ce_11ea_af59_00d8610889aerow0_col3\" class=\"data row0 col3\" >0.9562</td>\n",
       "                        <td id=\"T_0ea6898d_f0ce_11ea_af59_00d8610889aerow0_col4\" class=\"data row0 col4\" >0.9896</td>\n",
       "                        <td id=\"T_0ea6898d_f0ce_11ea_af59_00d8610889aerow0_col5\" class=\"data row0 col5\" >0.9893</td>\n",
       "                        <td id=\"T_0ea6898d_f0ce_11ea_af59_00d8610889aerow0_col6\" class=\"data row0 col6\" >0.9871</td>\n",
       "                        <td id=\"T_0ea6898d_f0ce_11ea_af59_00d8610889aerow0_col7\" class=\"data row0 col7\" >0.9871</td>\n",
       "                        <td id=\"T_0ea6898d_f0ce_11ea_af59_00d8610889aerow0_col8\" class=\"data row0 col8\" >6.1864</td>\n",
       "            </tr>\n",
       "            <tr>\n",
       "                        <th id=\"T_0ea6898d_f0ce_11ea_af59_00d8610889aelevel0_row1\" class=\"row_heading level0 row1\" >1</th>\n",
       "                        <td id=\"T_0ea6898d_f0ce_11ea_af59_00d8610889aerow1_col0\" class=\"data row1 col0\" >Extra Trees Classifier</td>\n",
       "                        <td id=\"T_0ea6898d_f0ce_11ea_af59_00d8610889aerow1_col1\" class=\"data row1 col1\" >0.9896</td>\n",
       "                        <td id=\"T_0ea6898d_f0ce_11ea_af59_00d8610889aerow1_col2\" class=\"data row1 col2\" >0.0000</td>\n",
       "                        <td id=\"T_0ea6898d_f0ce_11ea_af59_00d8610889aerow1_col3\" class=\"data row1 col3\" >0.9552</td>\n",
       "                        <td id=\"T_0ea6898d_f0ce_11ea_af59_00d8610889aerow1_col4\" class=\"data row1 col4\" >0.9900</td>\n",
       "                        <td id=\"T_0ea6898d_f0ce_11ea_af59_00d8610889aerow1_col5\" class=\"data row1 col5\" >0.9894</td>\n",
       "                        <td id=\"T_0ea6898d_f0ce_11ea_af59_00d8610889aerow1_col6\" class=\"data row1 col6\" >0.9869</td>\n",
       "                        <td id=\"T_0ea6898d_f0ce_11ea_af59_00d8610889aerow1_col7\" class=\"data row1 col7\" >0.9869</td>\n",
       "                        <td id=\"T_0ea6898d_f0ce_11ea_af59_00d8610889aerow1_col8\" class=\"data row1 col8\" >4.3139</td>\n",
       "            </tr>\n",
       "            <tr>\n",
       "                        <th id=\"T_0ea6898d_f0ce_11ea_af59_00d8610889aelevel0_row2\" class=\"row_heading level0 row2\" >2</th>\n",
       "                        <td id=\"T_0ea6898d_f0ce_11ea_af59_00d8610889aerow2_col0\" class=\"data row2 col0\" >Random Forest Classifier</td>\n",
       "                        <td id=\"T_0ea6898d_f0ce_11ea_af59_00d8610889aerow2_col1\" class=\"data row2 col1\" >0.9845</td>\n",
       "                        <td id=\"T_0ea6898d_f0ce_11ea_af59_00d8610889aerow2_col2\" class=\"data row2 col2\" >0.0000</td>\n",
       "                        <td id=\"T_0ea6898d_f0ce_11ea_af59_00d8610889aerow2_col3\" class=\"data row2 col3\" >0.9233</td>\n",
       "                        <td id=\"T_0ea6898d_f0ce_11ea_af59_00d8610889aerow2_col4\" class=\"data row2 col4\" >0.9841</td>\n",
       "                        <td id=\"T_0ea6898d_f0ce_11ea_af59_00d8610889aerow2_col5\" class=\"data row2 col5\" >0.9837</td>\n",
       "                        <td id=\"T_0ea6898d_f0ce_11ea_af59_00d8610889aerow2_col6\" class=\"data row2 col6\" >0.9805</td>\n",
       "                        <td id=\"T_0ea6898d_f0ce_11ea_af59_00d8610889aerow2_col7\" class=\"data row2 col7\" >0.9805</td>\n",
       "                        <td id=\"T_0ea6898d_f0ce_11ea_af59_00d8610889aerow2_col8\" class=\"data row2 col8\" >2.6540</td>\n",
       "            </tr>\n",
       "            <tr>\n",
       "                        <th id=\"T_0ea6898d_f0ce_11ea_af59_00d8610889aelevel0_row3\" class=\"row_heading level0 row3\" >3</th>\n",
       "                        <td id=\"T_0ea6898d_f0ce_11ea_af59_00d8610889aerow3_col0\" class=\"data row3 col0\" >Light Gradient Boosting Machine</td>\n",
       "                        <td id=\"T_0ea6898d_f0ce_11ea_af59_00d8610889aerow3_col1\" class=\"data row3 col1\" >0.9824</td>\n",
       "                        <td id=\"T_0ea6898d_f0ce_11ea_af59_00d8610889aerow3_col2\" class=\"data row3 col2\" >0.0000</td>\n",
       "                        <td id=\"T_0ea6898d_f0ce_11ea_af59_00d8610889aerow3_col3\" class=\"data row3 col3\" >0.8996</td>\n",
       "                        <td id=\"T_0ea6898d_f0ce_11ea_af59_00d8610889aerow3_col4\" class=\"data row3 col4\" >0.9880</td>\n",
       "                        <td id=\"T_0ea6898d_f0ce_11ea_af59_00d8610889aerow3_col5\" class=\"data row3 col5\" >0.9845</td>\n",
       "                        <td id=\"T_0ea6898d_f0ce_11ea_af59_00d8610889aerow3_col6\" class=\"data row3 col6\" >0.9779</td>\n",
       "                        <td id=\"T_0ea6898d_f0ce_11ea_af59_00d8610889aerow3_col7\" class=\"data row3 col7\" >0.9780</td>\n",
       "                        <td id=\"T_0ea6898d_f0ce_11ea_af59_00d8610889aerow3_col8\" class=\"data row3 col8\" >3.8779</td>\n",
       "            </tr>\n",
       "    </tbody></table>"
      ],
      "text/plain": [
       "<pandas.io.formats.style.Styler at 0x167e4813130>"
      ]
     },
     "metadata": {},
     "output_type": "display_data"
    }
   ],
   "source": [
    "setup(data=data,\n",
    "      target=target_label,\n",
    "      numeric_features=num_features,\n",
    "      silent=True)\n",
    "model = compare_models(whitelist=learning_model)"
   ]
  },
  {
   "cell_type": "markdown",
   "metadata": {},
   "source": [
    "# Removing unknown tuple labels from test"
   ]
  },
  {
   "cell_type": "code",
   "execution_count": 33,
   "metadata": {},
   "outputs": [],
   "source": [
    "unseen_data=unseen_data[((unseen_data.tuple/100)%10) < 5]"
   ]
  },
  {
   "cell_type": "code",
   "execution_count": 34,
   "metadata": {},
   "outputs": [
    {
     "data": {
      "text/plain": [
       "(5611, 60)"
      ]
     },
     "execution_count": 34,
     "metadata": {},
     "output_type": "execute_result"
    }
   ],
   "source": [
    "unseen_data.shape"
   ]
  },
  {
   "cell_type": "code",
   "execution_count": 35,
   "metadata": {},
   "outputs": [],
   "source": [
    "unseen_data=unseen_data[(unseen_data.tuple%10) < 4]"
   ]
  },
  {
   "cell_type": "code",
   "execution_count": 36,
   "metadata": {},
   "outputs": [
    {
     "data": {
      "text/plain": [
       "(5611, 60)"
      ]
     },
     "execution_count": 36,
     "metadata": {},
     "output_type": "execute_result"
    }
   ],
   "source": [
    "unseen_data.shape"
   ]
  },
  {
   "cell_type": "code",
   "execution_count": 37,
   "metadata": {},
   "outputs": [],
   "source": [
    "unseen_data=unseen_data[(unseen_data.tuple/1000) < 18]"
   ]
  },
  {
   "cell_type": "code",
   "execution_count": 38,
   "metadata": {
    "scrolled": true
   },
   "outputs": [
    {
     "data": {
      "text/plain": [
       "(5056, 60)"
      ]
     },
     "execution_count": 38,
     "metadata": {},
     "output_type": "execute_result"
    }
   ],
   "source": [
    "unseen_data.shape"
   ]
  },
  {
   "cell_type": "code",
   "execution_count": 39,
   "metadata": {},
   "outputs": [],
   "source": [
    "unseen_data=unseen_data.reset_index(drop=True)"
   ]
  },
  {
   "cell_type": "markdown",
   "metadata": {},
   "source": [
    "# deal with answers column"
   ]
  },
  {
   "cell_type": "code",
   "execution_count": 40,
   "metadata": {},
   "outputs": [],
   "source": [
    "# saving the target column\n",
    "answers = unseen_data[target_label]"
   ]
  },
  {
   "cell_type": "code",
   "execution_count": 41,
   "metadata": {},
   "outputs": [],
   "source": [
    "# dropping traget column from test.\n",
    "unseen_data = unseen_data.drop(columns=[target_label])"
   ]
  },
  {
   "cell_type": "markdown",
   "metadata": {},
   "source": [
    "# Make Unseen Test"
   ]
  },
  {
   "cell_type": "code",
   "execution_count": 42,
   "metadata": {},
   "outputs": [],
   "source": [
    "predicted = predict_model(model, data=unseen_data)"
   ]
  },
  {
   "cell_type": "code",
   "execution_count": 43,
   "metadata": {},
   "outputs": [
    {
     "name": "stdout",
     "output_type": "stream",
     "text": [
      "Number of error: 56 from 5056 test samples \n",
      "Which is 0.011075949367088608% of error.\n"
     ]
    },
    {
     "data": {
      "text/plain": [
       "56"
      ]
     },
     "execution_count": 43,
     "metadata": {},
     "output_type": "execute_result"
    }
   ],
   "source": [
    "compare_prediction_with_answers(predicted,answers)"
   ]
  },
  {
   "cell_type": "markdown",
   "metadata": {},
   "source": [
    "we can see that removing the unknown labels records reduce the number of errors"
   ]
  },
  {
   "cell_type": "code",
   "execution_count": null,
   "metadata": {},
   "outputs": [],
   "source": []
  }
 ],
 "metadata": {
  "kernelspec": {
   "display_name": "Python 3.8.3 64-bit ('base': conda)",
   "language": "python",
   "name": "python38364bitbasecondaed19ee87b6844ca4b2207fe8765813ad"
  },
  "language_info": {
   "codemirror_mode": {
    "name": "ipython",
    "version": 3
   },
   "file_extension": ".py",
   "mimetype": "text/x-python",
   "name": "python",
   "nbconvert_exporter": "python",
   "pygments_lexer": "ipython3",
   "version": "3.8.5"
  }
 },
 "nbformat": 4,
 "nbformat_minor": 4
}
