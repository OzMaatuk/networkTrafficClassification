{
 "cells": [
  {
   "cell_type": "markdown",
   "metadata": {},
   "source": [
    "# Robust Test - Distributed values - Features Groups\n",
    "for each group features (which presented by several columns in the data) we will permute the values by setting randomly values that distrebuted the same as the original values."
   ]
  },
  {
   "cell_type": "markdown",
   "metadata": {},
   "source": [
    "# Import"
   ]
  },
  {
   "cell_type": "code",
   "execution_count": 1,
   "metadata": {},
   "outputs": [],
   "source": [
    "import pandas as pd\n",
    "import numpy as np\n",
    "from pycaret.classification import *\n",
    "import time"
   ]
  },
  {
   "cell_type": "markdown",
   "metadata": {},
   "source": [
    "# Settings"
   ]
  },
  {
   "cell_type": "code",
   "execution_count": 2,
   "metadata": {},
   "outputs": [],
   "source": [
    "# set constants\n",
    "target_label = 'tuple'\n",
    "learning_model = 'rf' # ['rf','et','lightgbm','xgboost']\n",
    "num_features = ['min_packet_size', 'min_fpkt', 'min_bpkt']\n",
    "file_name = \"new_all_features_\"\n",
    "path = \"../Datasets/\" + target_label + \"_dataset/\""
   ]
  },
  {
   "cell_type": "code",
   "execution_count": 3,
   "metadata": {},
   "outputs": [],
   "source": [
    "# function for making model-prediction over the data set and measure the run time \n",
    "def timed_prediction(in_data,in_model):\n",
    "    t = time.process_time()\n",
    "    predicted = predict_model(in_model, data=in_data)\n",
    "    elapsed_time = time.process_time() - t\n",
    "    print(\"prediction took: \" + str(elapsed_time))\n",
    "    return predicted"
   ]
  },
  {
   "cell_type": "code",
   "execution_count": 4,
   "metadata": {},
   "outputs": [],
   "source": [
    "# compare answers and labeled test\n",
    "def compare_prediction_with_answers(in_predicted, in_answers):\n",
    "    count=0\n",
    "    index = in_predicted.index\n",
    "    number_of_rows = len(index)\n",
    "    errors_arr = []\n",
    "    for i in range(0,number_of_rows):\n",
    "        if str(int(in_answers.iloc[i])) != str(int(in_predicted.iloc[i]['Label'])):\n",
    "            count=count+1\n",
    "            cur_error = str(in_answers[i]) + \"!=\" + str(in_predicted.iloc[i]['Label'])\n",
    "            errors_arr.append(cur_error)\n",
    "#             print(\"error in line \" + str(i) +\n",
    "#                   \" \" + str(in_answers[i]) +\n",
    "#                   \"!=\" + str(in_predicted.iloc[i]['Label']))\n",
    "#     print(\"Errors: \" + str(errors_arr))\n",
    "    print(\"Number of error: \" + str(count) + \" from \" +\n",
    "          str(number_of_rows) + \" test samples \\nWhich is \"\n",
    "          + str(100*count/number_of_rows) + \"% of error.\")"
   ]
  },
  {
   "cell_type": "code",
   "execution_count": 7,
   "metadata": {},
   "outputs": [],
   "source": [
    "# set up features groups\n",
    "SSL_features = ['fSSL_session_id_len', 'fSSL_num_extensions', 'fcipher_suites', 'ssl_v', ]\n",
    "size_features = ['size_histogram_1','size_histogram_2','size_histogram_3',\n",
    "                 'size_histogram_4','size_histogram_5','size_histogram_6',\n",
    "                 'size_histogram_7','size_histogram_8','size_histogram_9', 'size_histogram_10',\n",
    "                'fpackets', 'bpackets', 'fbytes', 'bbytes','min_packet_size',\n",
    "                 'max_packet_size', 'mean_packet_size','sizevar']\n",
    "peak_features = ['fpeak_features_1','fpeak_features_2','fpeak_features_3',\n",
    "                 'fpeak_features_4','fpeak_features_5','fpeak_features_6',\n",
    "                 'fpeak_features_7','fpeak_features_8','fpeak_features_9',\n",
    "                 'bpeak_features_1','bpeak_features_2','bpeak_features_3',\n",
    "                 'bpeak_features_4','bpeak_features_5','bpeak_features_6',\n",
    "                 'bpeak_features_7','bpeak_features_8','bpeak_features_9']\n",
    "TCP_features = ['SYN_tcp_scale', 'SYN_tcp_winsize']\n",
    "common_features = ['packet_count','num_keep_alive', 'mean_fttl',\n",
    "                   'max_fpkt','max_bpkt','std_fpkt','std_bpkt','mean_fpkt','mean_bpkt']\n",
    "stat_features = ['min_packet_size', 'max_packet_size', 'mean_packet_size',\n",
    "                 'sizevar', 'std_fiat','max_fiat','max_biat','std_biat','mean_fiat','mean_biat',\n",
    "                'min_fpkt','min_bpkt','max_fpkt','max_bpkt','std_fpkt','std_bpkt','mean_fpkt','mean_bpkt']\n",
    "time_features = ['std_fiat','max_fiat','max_biat','std_biat','mean_fiat','mean_biat']"
   ]
  },
  {
   "cell_type": "markdown",
   "metadata": {},
   "source": [
    "# Read Data"
   ]
  },
  {
   "cell_type": "code",
   "execution_count": 8,
   "metadata": {},
   "outputs": [],
   "source": [
    "data = pd.read_csv(path+file_name+target_label+'_train.csv',\n",
    "                      sep='\\t',\n",
    "                      skiprows=[1])"
   ]
  },
  {
   "cell_type": "markdown",
   "metadata": {},
   "source": [
    "# Setup Data and Build Model"
   ]
  },
  {
   "cell_type": "code",
   "execution_count": 9,
   "metadata": {
    "tags": []
   },
   "outputs": [
    {
     "data": {
      "text/html": [
       "<style  type=\"text/css\" >\n",
       "    #T_cebb8027_ed60_11ea_a052_00d8610889aerow10_col0 {\n",
       "            background:  yellow;\n",
       "        }    #T_cebb8027_ed60_11ea_a052_00d8610889aerow10_col1 {\n",
       "            background:  yellow;\n",
       "        }    #T_cebb8027_ed60_11ea_a052_00d8610889aerow10_col2 {\n",
       "            background:  yellow;\n",
       "        }    #T_cebb8027_ed60_11ea_a052_00d8610889aerow10_col3 {\n",
       "            background:  yellow;\n",
       "        }    #T_cebb8027_ed60_11ea_a052_00d8610889aerow10_col4 {\n",
       "            background:  yellow;\n",
       "        }    #T_cebb8027_ed60_11ea_a052_00d8610889aerow10_col5 {\n",
       "            background:  yellow;\n",
       "        }    #T_cebb8027_ed60_11ea_a052_00d8610889aerow10_col6 {\n",
       "            background:  yellow;\n",
       "        }</style><table id=\"T_cebb8027_ed60_11ea_a052_00d8610889ae\" ><thead>    <tr>        <th class=\"blank level0\" ></th>        <th class=\"col_heading level0 col0\" >Accuracy</th>        <th class=\"col_heading level0 col1\" >AUC</th>        <th class=\"col_heading level0 col2\" >Recall</th>        <th class=\"col_heading level0 col3\" >Prec.</th>        <th class=\"col_heading level0 col4\" >F1</th>        <th class=\"col_heading level0 col5\" >Kappa</th>        <th class=\"col_heading level0 col6\" >MCC</th>    </tr></thead><tbody>\n",
       "                <tr>\n",
       "                        <th id=\"T_cebb8027_ed60_11ea_a052_00d8610889aelevel0_row0\" class=\"row_heading level0 row0\" >0</th>\n",
       "                        <td id=\"T_cebb8027_ed60_11ea_a052_00d8610889aerow0_col0\" class=\"data row0 col0\" >0.9755</td>\n",
       "                        <td id=\"T_cebb8027_ed60_11ea_a052_00d8610889aerow0_col1\" class=\"data row0 col1\" >0.0000</td>\n",
       "                        <td id=\"T_cebb8027_ed60_11ea_a052_00d8610889aerow0_col2\" class=\"data row0 col2\" >0.8760</td>\n",
       "                        <td id=\"T_cebb8027_ed60_11ea_a052_00d8610889aerow0_col3\" class=\"data row0 col3\" >0.9753</td>\n",
       "                        <td id=\"T_cebb8027_ed60_11ea_a052_00d8610889aerow0_col4\" class=\"data row0 col4\" >0.9734</td>\n",
       "                        <td id=\"T_cebb8027_ed60_11ea_a052_00d8610889aerow0_col5\" class=\"data row0 col5\" >0.9710</td>\n",
       "                        <td id=\"T_cebb8027_ed60_11ea_a052_00d8610889aerow0_col6\" class=\"data row0 col6\" >0.9711</td>\n",
       "            </tr>\n",
       "            <tr>\n",
       "                        <th id=\"T_cebb8027_ed60_11ea_a052_00d8610889aelevel0_row1\" class=\"row_heading level0 row1\" >1</th>\n",
       "                        <td id=\"T_cebb8027_ed60_11ea_a052_00d8610889aerow1_col0\" class=\"data row1 col0\" >0.9633</td>\n",
       "                        <td id=\"T_cebb8027_ed60_11ea_a052_00d8610889aerow1_col1\" class=\"data row1 col1\" >0.0000</td>\n",
       "                        <td id=\"T_cebb8027_ed60_11ea_a052_00d8610889aerow1_col2\" class=\"data row1 col2\" >0.6446</td>\n",
       "                        <td id=\"T_cebb8027_ed60_11ea_a052_00d8610889aerow1_col3\" class=\"data row1 col3\" >0.9550</td>\n",
       "                        <td id=\"T_cebb8027_ed60_11ea_a052_00d8610889aerow1_col4\" class=\"data row1 col4\" >0.9567</td>\n",
       "                        <td id=\"T_cebb8027_ed60_11ea_a052_00d8610889aerow1_col5\" class=\"data row1 col5\" >0.9565</td>\n",
       "                        <td id=\"T_cebb8027_ed60_11ea_a052_00d8610889aerow1_col6\" class=\"data row1 col6\" >0.9566</td>\n",
       "            </tr>\n",
       "            <tr>\n",
       "                        <th id=\"T_cebb8027_ed60_11ea_a052_00d8610889aelevel0_row2\" class=\"row_heading level0 row2\" >2</th>\n",
       "                        <td id=\"T_cebb8027_ed60_11ea_a052_00d8610889aerow2_col0\" class=\"data row2 col0\" >0.9668</td>\n",
       "                        <td id=\"T_cebb8027_ed60_11ea_a052_00d8610889aerow2_col1\" class=\"data row2 col1\" >0.0000</td>\n",
       "                        <td id=\"T_cebb8027_ed60_11ea_a052_00d8610889aerow2_col2\" class=\"data row2 col2\" >0.7314</td>\n",
       "                        <td id=\"T_cebb8027_ed60_11ea_a052_00d8610889aerow2_col3\" class=\"data row2 col3\" >0.9667</td>\n",
       "                        <td id=\"T_cebb8027_ed60_11ea_a052_00d8610889aerow2_col4\" class=\"data row2 col4\" >0.9651</td>\n",
       "                        <td id=\"T_cebb8027_ed60_11ea_a052_00d8610889aerow2_col5\" class=\"data row2 col5\" >0.9607</td>\n",
       "                        <td id=\"T_cebb8027_ed60_11ea_a052_00d8610889aerow2_col6\" class=\"data row2 col6\" >0.9607</td>\n",
       "            </tr>\n",
       "            <tr>\n",
       "                        <th id=\"T_cebb8027_ed60_11ea_a052_00d8610889aelevel0_row3\" class=\"row_heading level0 row3\" >3</th>\n",
       "                        <td id=\"T_cebb8027_ed60_11ea_a052_00d8610889aerow3_col0\" class=\"data row3 col0\" >0.9703</td>\n",
       "                        <td id=\"T_cebb8027_ed60_11ea_a052_00d8610889aerow3_col1\" class=\"data row3 col1\" >0.0000</td>\n",
       "                        <td id=\"T_cebb8027_ed60_11ea_a052_00d8610889aerow3_col2\" class=\"data row3 col2\" >0.8318</td>\n",
       "                        <td id=\"T_cebb8027_ed60_11ea_a052_00d8610889aerow3_col3\" class=\"data row3 col3\" >0.9688</td>\n",
       "                        <td id=\"T_cebb8027_ed60_11ea_a052_00d8610889aerow3_col4\" class=\"data row3 col4\" >0.9673</td>\n",
       "                        <td id=\"T_cebb8027_ed60_11ea_a052_00d8610889aerow3_col5\" class=\"data row3 col5\" >0.9648</td>\n",
       "                        <td id=\"T_cebb8027_ed60_11ea_a052_00d8610889aerow3_col6\" class=\"data row3 col6\" >0.9649</td>\n",
       "            </tr>\n",
       "            <tr>\n",
       "                        <th id=\"T_cebb8027_ed60_11ea_a052_00d8610889aelevel0_row4\" class=\"row_heading level0 row4\" >4</th>\n",
       "                        <td id=\"T_cebb8027_ed60_11ea_a052_00d8610889aerow4_col0\" class=\"data row4 col0\" >0.9563</td>\n",
       "                        <td id=\"T_cebb8027_ed60_11ea_a052_00d8610889aerow4_col1\" class=\"data row4 col1\" >0.0000</td>\n",
       "                        <td id=\"T_cebb8027_ed60_11ea_a052_00d8610889aerow4_col2\" class=\"data row4 col2\" >0.7536</td>\n",
       "                        <td id=\"T_cebb8027_ed60_11ea_a052_00d8610889aerow4_col3\" class=\"data row4 col3\" >0.9537</td>\n",
       "                        <td id=\"T_cebb8027_ed60_11ea_a052_00d8610889aerow4_col4\" class=\"data row4 col4\" >0.9507</td>\n",
       "                        <td id=\"T_cebb8027_ed60_11ea_a052_00d8610889aerow4_col5\" class=\"data row4 col5\" >0.9482</td>\n",
       "                        <td id=\"T_cebb8027_ed60_11ea_a052_00d8610889aerow4_col6\" class=\"data row4 col6\" >0.9484</td>\n",
       "            </tr>\n",
       "            <tr>\n",
       "                        <th id=\"T_cebb8027_ed60_11ea_a052_00d8610889aelevel0_row5\" class=\"row_heading level0 row5\" >5</th>\n",
       "                        <td id=\"T_cebb8027_ed60_11ea_a052_00d8610889aerow5_col0\" class=\"data row5 col0\" >0.9703</td>\n",
       "                        <td id=\"T_cebb8027_ed60_11ea_a052_00d8610889aerow5_col1\" class=\"data row5 col1\" >0.0000</td>\n",
       "                        <td id=\"T_cebb8027_ed60_11ea_a052_00d8610889aerow5_col2\" class=\"data row5 col2\" >0.8247</td>\n",
       "                        <td id=\"T_cebb8027_ed60_11ea_a052_00d8610889aerow5_col3\" class=\"data row5 col3\" >0.9603</td>\n",
       "                        <td id=\"T_cebb8027_ed60_11ea_a052_00d8610889aerow5_col4\" class=\"data row5 col4\" >0.9634</td>\n",
       "                        <td id=\"T_cebb8027_ed60_11ea_a052_00d8610889aerow5_col5\" class=\"data row5 col5\" >0.9648</td>\n",
       "                        <td id=\"T_cebb8027_ed60_11ea_a052_00d8610889aerow5_col6\" class=\"data row5 col6\" >0.9650</td>\n",
       "            </tr>\n",
       "            <tr>\n",
       "                        <th id=\"T_cebb8027_ed60_11ea_a052_00d8610889aelevel0_row6\" class=\"row_heading level0 row6\" >6</th>\n",
       "                        <td id=\"T_cebb8027_ed60_11ea_a052_00d8610889aerow6_col0\" class=\"data row6 col0\" >0.9598</td>\n",
       "                        <td id=\"T_cebb8027_ed60_11ea_a052_00d8610889aerow6_col1\" class=\"data row6 col1\" >0.0000</td>\n",
       "                        <td id=\"T_cebb8027_ed60_11ea_a052_00d8610889aerow6_col2\" class=\"data row6 col2\" >0.7481</td>\n",
       "                        <td id=\"T_cebb8027_ed60_11ea_a052_00d8610889aerow6_col3\" class=\"data row6 col3\" >0.9553</td>\n",
       "                        <td id=\"T_cebb8027_ed60_11ea_a052_00d8610889aerow6_col4\" class=\"data row6 col4\" >0.9560</td>\n",
       "                        <td id=\"T_cebb8027_ed60_11ea_a052_00d8610889aerow6_col5\" class=\"data row6 col5\" >0.9524</td>\n",
       "                        <td id=\"T_cebb8027_ed60_11ea_a052_00d8610889aerow6_col6\" class=\"data row6 col6\" >0.9525</td>\n",
       "            </tr>\n",
       "            <tr>\n",
       "                        <th id=\"T_cebb8027_ed60_11ea_a052_00d8610889aelevel0_row7\" class=\"row_heading level0 row7\" >7</th>\n",
       "                        <td id=\"T_cebb8027_ed60_11ea_a052_00d8610889aerow7_col0\" class=\"data row7 col0\" >0.9685</td>\n",
       "                        <td id=\"T_cebb8027_ed60_11ea_a052_00d8610889aerow7_col1\" class=\"data row7 col1\" >0.0000</td>\n",
       "                        <td id=\"T_cebb8027_ed60_11ea_a052_00d8610889aerow7_col2\" class=\"data row7 col2\" >0.7728</td>\n",
       "                        <td id=\"T_cebb8027_ed60_11ea_a052_00d8610889aerow7_col3\" class=\"data row7 col3\" >0.9660</td>\n",
       "                        <td id=\"T_cebb8027_ed60_11ea_a052_00d8610889aerow7_col4\" class=\"data row7 col4\" >0.9659</td>\n",
       "                        <td id=\"T_cebb8027_ed60_11ea_a052_00d8610889aerow7_col5\" class=\"data row7 col5\" >0.9627</td>\n",
       "                        <td id=\"T_cebb8027_ed60_11ea_a052_00d8610889aerow7_col6\" class=\"data row7 col6\" >0.9628</td>\n",
       "            </tr>\n",
       "            <tr>\n",
       "                        <th id=\"T_cebb8027_ed60_11ea_a052_00d8610889aelevel0_row8\" class=\"row_heading level0 row8\" >8</th>\n",
       "                        <td id=\"T_cebb8027_ed60_11ea_a052_00d8610889aerow8_col0\" class=\"data row8 col0\" >0.9772</td>\n",
       "                        <td id=\"T_cebb8027_ed60_11ea_a052_00d8610889aerow8_col1\" class=\"data row8 col1\" >0.0000</td>\n",
       "                        <td id=\"T_cebb8027_ed60_11ea_a052_00d8610889aerow8_col2\" class=\"data row8 col2\" >0.7713</td>\n",
       "                        <td id=\"T_cebb8027_ed60_11ea_a052_00d8610889aerow8_col3\" class=\"data row8 col3\" >0.9659</td>\n",
       "                        <td id=\"T_cebb8027_ed60_11ea_a052_00d8610889aerow8_col4\" class=\"data row8 col4\" >0.9708</td>\n",
       "                        <td id=\"T_cebb8027_ed60_11ea_a052_00d8610889aerow8_col5\" class=\"data row8 col5\" >0.9730</td>\n",
       "                        <td id=\"T_cebb8027_ed60_11ea_a052_00d8610889aerow8_col6\" class=\"data row8 col6\" >0.9731</td>\n",
       "            </tr>\n",
       "            <tr>\n",
       "                        <th id=\"T_cebb8027_ed60_11ea_a052_00d8610889aelevel0_row9\" class=\"row_heading level0 row9\" >9</th>\n",
       "                        <td id=\"T_cebb8027_ed60_11ea_a052_00d8610889aerow9_col0\" class=\"data row9 col0\" >0.9720</td>\n",
       "                        <td id=\"T_cebb8027_ed60_11ea_a052_00d8610889aerow9_col1\" class=\"data row9 col1\" >0.0000</td>\n",
       "                        <td id=\"T_cebb8027_ed60_11ea_a052_00d8610889aerow9_col2\" class=\"data row9 col2\" >0.8083</td>\n",
       "                        <td id=\"T_cebb8027_ed60_11ea_a052_00d8610889aerow9_col3\" class=\"data row9 col3\" >0.9694</td>\n",
       "                        <td id=\"T_cebb8027_ed60_11ea_a052_00d8610889aerow9_col4\" class=\"data row9 col4\" >0.9685</td>\n",
       "                        <td id=\"T_cebb8027_ed60_11ea_a052_00d8610889aerow9_col5\" class=\"data row9 col5\" >0.9668</td>\n",
       "                        <td id=\"T_cebb8027_ed60_11ea_a052_00d8610889aerow9_col6\" class=\"data row9 col6\" >0.9669</td>\n",
       "            </tr>\n",
       "            <tr>\n",
       "                        <th id=\"T_cebb8027_ed60_11ea_a052_00d8610889aelevel0_row10\" class=\"row_heading level0 row10\" >Mean</th>\n",
       "                        <td id=\"T_cebb8027_ed60_11ea_a052_00d8610889aerow10_col0\" class=\"data row10 col0\" >0.9680</td>\n",
       "                        <td id=\"T_cebb8027_ed60_11ea_a052_00d8610889aerow10_col1\" class=\"data row10 col1\" >0.0000</td>\n",
       "                        <td id=\"T_cebb8027_ed60_11ea_a052_00d8610889aerow10_col2\" class=\"data row10 col2\" >0.7763</td>\n",
       "                        <td id=\"T_cebb8027_ed60_11ea_a052_00d8610889aerow10_col3\" class=\"data row10 col3\" >0.9636</td>\n",
       "                        <td id=\"T_cebb8027_ed60_11ea_a052_00d8610889aerow10_col4\" class=\"data row10 col4\" >0.9638</td>\n",
       "                        <td id=\"T_cebb8027_ed60_11ea_a052_00d8610889aerow10_col5\" class=\"data row10 col5\" >0.9621</td>\n",
       "                        <td id=\"T_cebb8027_ed60_11ea_a052_00d8610889aerow10_col6\" class=\"data row10 col6\" >0.9622</td>\n",
       "            </tr>\n",
       "            <tr>\n",
       "                        <th id=\"T_cebb8027_ed60_11ea_a052_00d8610889aelevel0_row11\" class=\"row_heading level0 row11\" >SD</th>\n",
       "                        <td id=\"T_cebb8027_ed60_11ea_a052_00d8610889aerow11_col0\" class=\"data row11 col0\" >0.0063</td>\n",
       "                        <td id=\"T_cebb8027_ed60_11ea_a052_00d8610889aerow11_col1\" class=\"data row11 col1\" >0.0000</td>\n",
       "                        <td id=\"T_cebb8027_ed60_11ea_a052_00d8610889aerow11_col2\" class=\"data row11 col2\" >0.0609</td>\n",
       "                        <td id=\"T_cebb8027_ed60_11ea_a052_00d8610889aerow11_col3\" class=\"data row11 col3\" >0.0069</td>\n",
       "                        <td id=\"T_cebb8027_ed60_11ea_a052_00d8610889aerow11_col4\" class=\"data row11 col4\" >0.0068</td>\n",
       "                        <td id=\"T_cebb8027_ed60_11ea_a052_00d8610889aerow11_col5\" class=\"data row11 col5\" >0.0075</td>\n",
       "                        <td id=\"T_cebb8027_ed60_11ea_a052_00d8610889aerow11_col6\" class=\"data row11 col6\" >0.0075</td>\n",
       "            </tr>\n",
       "    </tbody></table>"
      ],
      "text/plain": [
       "<pandas.io.formats.style.Styler at 0x1ee249dd310>"
      ]
     },
     "metadata": {},
     "output_type": "display_data"
    }
   ],
   "source": [
    "setup(data=data,\n",
    "      target=target_label,\n",
    "      numeric_features=num_features,\n",
    "      silent=True)\n",
    "model=create_model(learning_model)"
   ]
  },
  {
   "cell_type": "markdown",
   "metadata": {},
   "source": [
    "### Read Test Data"
   ]
  },
  {
   "cell_type": "code",
   "execution_count": 10,
   "metadata": {},
   "outputs": [],
   "source": [
    "unseen_data = pd.read_csv(path+file_name+target_label+'_test.csv',\n",
    "                      sep='\\t',\n",
    "                      skiprows=[1])"
   ]
  },
  {
   "cell_type": "markdown",
   "metadata": {},
   "source": [
    "### Predicte and Check"
   ]
  },
  {
   "cell_type": "code",
   "execution_count": 11,
   "metadata": {},
   "outputs": [],
   "source": [
    "answers = unseen_data[target_label]\n",
    "unseen_data = unseen_data.drop(columns=[target_label])"
   ]
  },
  {
   "cell_type": "code",
   "execution_count": 12,
   "metadata": {},
   "outputs": [],
   "source": [
    "predicted = predict_model(model, data=unseen_data)"
   ]
  },
  {
   "cell_type": "code",
   "execution_count": 13,
   "metadata": {},
   "outputs": [
    {
     "name": "stdout",
     "output_type": "stream",
     "text": [
      "Number of error: 94 from 3501 test samples \n",
      "Which is 0.0268494715795487% of error.\n"
     ]
    }
   ],
   "source": [
    "compare_prediction_with_answers(predicted,answers)"
   ]
  },
  {
   "cell_type": "markdown",
   "metadata": {},
   "source": [
    "# SSL Features Group"
   ]
  },
  {
   "cell_type": "markdown",
   "metadata": {},
   "source": [
    "### Read Test Data"
   ]
  },
  {
   "cell_type": "code",
   "execution_count": 14,
   "metadata": {},
   "outputs": [],
   "source": [
    "unseen_data = pd.read_csv(path+file_name+target_label+'_test.csv',\n",
    "                      sep='\\t',\n",
    "                      skiprows=[1])"
   ]
  },
  {
   "cell_type": "markdown",
   "metadata": {},
   "source": [
    "### Change values"
   ]
  },
  {
   "cell_type": "code",
   "execution_count": 15,
   "metadata": {
    "scrolled": true
   },
   "outputs": [
    {
     "name": "stdout",
     "output_type": "stream",
     "text": [
      "current columns are : ['fSSL_session_id_len', 'fSSL_num_extensions', 'fcipher_suites', 'ssl_v']\n"
     ]
    }
   ],
   "source": [
    "features_group = SSL_features\n",
    "print ('current columns are : ' + str(features_group))\n",
    "for i in SSL_features:\n",
    "    unseen_data[i] = np.random.permutation(unseen_data[i].values)"
   ]
  },
  {
   "cell_type": "markdown",
   "metadata": {},
   "source": [
    "### Predicte and Check"
   ]
  },
  {
   "cell_type": "code",
   "execution_count": 16,
   "metadata": {},
   "outputs": [],
   "source": [
    "answers = unseen_data[target_label]\n",
    "unseen_data = unseen_data.drop(columns=[target_label])"
   ]
  },
  {
   "cell_type": "code",
   "execution_count": 17,
   "metadata": {},
   "outputs": [],
   "source": [
    "predicted = predict_model(model, data=unseen_data)"
   ]
  },
  {
   "cell_type": "code",
   "execution_count": 18,
   "metadata": {},
   "outputs": [
    {
     "name": "stdout",
     "output_type": "stream",
     "text": [
      "Number of error: 322 from 3501 test samples \n",
      "Which is 0.09197372179377321% of error.\n"
     ]
    }
   ],
   "source": [
    "compare_prediction_with_answers(predicted,answers)"
   ]
  },
  {
   "cell_type": "markdown",
   "metadata": {},
   "source": [
    "# Size Features Group"
   ]
  },
  {
   "cell_type": "markdown",
   "metadata": {},
   "source": [
    "### Read Test Data"
   ]
  },
  {
   "cell_type": "code",
   "execution_count": 19,
   "metadata": {},
   "outputs": [],
   "source": [
    "unseen_data = pd.read_csv(path+file_name+target_label+'_test.csv',\n",
    "                      sep='\\t',\n",
    "                      skiprows=[1])"
   ]
  },
  {
   "cell_type": "markdown",
   "metadata": {},
   "source": [
    "### Change values"
   ]
  },
  {
   "cell_type": "code",
   "execution_count": 20,
   "metadata": {
    "scrolled": true
   },
   "outputs": [
    {
     "name": "stdout",
     "output_type": "stream",
     "text": [
      "current columns are : ['size_histogram_1', 'size_histogram_2', 'size_histogram_3', 'size_histogram_4', 'size_histogram_5', 'size_histogram_6', 'size_histogram_7', 'size_histogram_8', 'size_histogram_9', 'size_histogram_10', 'fpackets', 'bpackets', 'fbytes', 'bbytes', 'min_packet_size', 'max_packet_size', 'mean_packet_size', 'sizevar']\n"
     ]
    }
   ],
   "source": [
    "features_group = size_features\n",
    "print ('current columns are : ' + str(features_group))\n",
    "for i in features_group:\n",
    "    unseen_data[i] = np.random.permutation(unseen_data[i].values)"
   ]
  },
  {
   "cell_type": "markdown",
   "metadata": {},
   "source": [
    "### Predicte and Check"
   ]
  },
  {
   "cell_type": "code",
   "execution_count": 21,
   "metadata": {},
   "outputs": [],
   "source": [
    "answers = unseen_data[target_label]\n",
    "unseen_data = unseen_data.drop(columns=[target_label])"
   ]
  },
  {
   "cell_type": "code",
   "execution_count": 22,
   "metadata": {},
   "outputs": [],
   "source": [
    "predicted = predict_model(model, data=unseen_data)"
   ]
  },
  {
   "cell_type": "code",
   "execution_count": 23,
   "metadata": {},
   "outputs": [
    {
     "name": "stdout",
     "output_type": "stream",
     "text": [
      "Number of error: 254 from 3501 test samples \n",
      "Which is 0.07255069980005713% of error.\n"
     ]
    }
   ],
   "source": [
    "compare_prediction_with_answers(predicted,answers)"
   ]
  },
  {
   "cell_type": "markdown",
   "metadata": {},
   "source": [
    "# COMMON Features Group"
   ]
  },
  {
   "cell_type": "markdown",
   "metadata": {},
   "source": [
    "### Read Test Data"
   ]
  },
  {
   "cell_type": "code",
   "execution_count": 24,
   "metadata": {},
   "outputs": [],
   "source": [
    "unseen_data = pd.read_csv(path+file_name+target_label+'_test.csv',\n",
    "                      sep='\\t',\n",
    "                      skiprows=[1])"
   ]
  },
  {
   "cell_type": "markdown",
   "metadata": {},
   "source": [
    "### Change values"
   ]
  },
  {
   "cell_type": "code",
   "execution_count": 25,
   "metadata": {
    "scrolled": true
   },
   "outputs": [
    {
     "name": "stdout",
     "output_type": "stream",
     "text": [
      "current columns are : ['packet_count', 'num_keep_alive', 'mean_fttl', 'max_fpkt', 'max_bpkt', 'std_fpkt', 'std_bpkt', 'mean_fpkt', 'mean_bpkt']\n"
     ]
    }
   ],
   "source": [
    "features_group = common_features\n",
    "print ('current columns are : ' + str(features_group))\n",
    "for i in features_group:\n",
    "    unseen_data[i] = np.random.permutation(unseen_data[i].values)"
   ]
  },
  {
   "cell_type": "markdown",
   "metadata": {},
   "source": [
    "### Predicte and Check"
   ]
  },
  {
   "cell_type": "code",
   "execution_count": 26,
   "metadata": {},
   "outputs": [],
   "source": [
    "answers = unseen_data[target_label]\n",
    "unseen_data = unseen_data.drop(columns=[target_label])"
   ]
  },
  {
   "cell_type": "code",
   "execution_count": 27,
   "metadata": {},
   "outputs": [],
   "source": [
    "predicted = predict_model(model, data=unseen_data)"
   ]
  },
  {
   "cell_type": "code",
   "execution_count": 28,
   "metadata": {},
   "outputs": [
    {
     "name": "stdout",
     "output_type": "stream",
     "text": [
      "Number of error: 190 from 3501 test samples \n",
      "Which is 0.054270208511853754% of error.\n"
     ]
    }
   ],
   "source": [
    "compare_prediction_with_answers(predicted,answers)"
   ]
  },
  {
   "cell_type": "markdown",
   "metadata": {},
   "source": [
    "# TCP Features Group"
   ]
  },
  {
   "cell_type": "markdown",
   "metadata": {},
   "source": [
    "### Read Test Data"
   ]
  },
  {
   "cell_type": "code",
   "execution_count": 29,
   "metadata": {},
   "outputs": [],
   "source": [
    "unseen_data = pd.read_csv(path+file_name+target_label+'_test.csv',\n",
    "                      sep='\\t',\n",
    "                      skiprows=[1])"
   ]
  },
  {
   "cell_type": "markdown",
   "metadata": {},
   "source": [
    "### Change values"
   ]
  },
  {
   "cell_type": "code",
   "execution_count": 30,
   "metadata": {
    "scrolled": true
   },
   "outputs": [
    {
     "name": "stdout",
     "output_type": "stream",
     "text": [
      "current columns are : ['SYN_tcp_scale', 'SYN_tcp_winsize']\n"
     ]
    }
   ],
   "source": [
    "features_group = TCP_features\n",
    "print ('current columns are : ' + str(features_group))\n",
    "for i in features_group:\n",
    "    unseen_data[i] = np.random.permutation(unseen_data[i].values)"
   ]
  },
  {
   "cell_type": "markdown",
   "metadata": {},
   "source": [
    "### Predicte and Check"
   ]
  },
  {
   "cell_type": "code",
   "execution_count": 31,
   "metadata": {},
   "outputs": [],
   "source": [
    "answers = unseen_data[target_label]\n",
    "unseen_data = unseen_data.drop(columns=[target_label])"
   ]
  },
  {
   "cell_type": "code",
   "execution_count": 32,
   "metadata": {},
   "outputs": [],
   "source": [
    "predicted = predict_model(model, data=unseen_data)"
   ]
  },
  {
   "cell_type": "code",
   "execution_count": 33,
   "metadata": {},
   "outputs": [
    {
     "name": "stdout",
     "output_type": "stream",
     "text": [
      "Number of error: 292 from 3501 test samples \n",
      "Which is 0.08340474150242788% of error.\n"
     ]
    }
   ],
   "source": [
    "compare_prediction_with_answers(predicted,answers)"
   ]
  },
  {
   "cell_type": "markdown",
   "metadata": {},
   "source": [
    "# STAT Features Group"
   ]
  },
  {
   "cell_type": "markdown",
   "metadata": {},
   "source": [
    "### Read Test Data"
   ]
  },
  {
   "cell_type": "code",
   "execution_count": 34,
   "metadata": {},
   "outputs": [],
   "source": [
    "unseen_data = pd.read_csv(path+file_name+target_label+'_test.csv',\n",
    "                      sep='\\t',\n",
    "                      skiprows=[1])"
   ]
  },
  {
   "cell_type": "markdown",
   "metadata": {},
   "source": [
    "### Change values"
   ]
  },
  {
   "cell_type": "code",
   "execution_count": 35,
   "metadata": {
    "scrolled": false
   },
   "outputs": [
    {
     "name": "stdout",
     "output_type": "stream",
     "text": [
      "current columns are : ['min_packet_size', 'max_packet_size', 'mean_packet_size', 'sizevar', 'std_fiat', 'max_fiat', 'max_biat', 'std_biat', 'mean_fiat', 'mean_biat', 'min_fpkt', 'min_bpkt', 'max_fpkt', 'max_bpkt', 'std_fpkt', 'std_bpkt', 'mean_fpkt', 'mean_bpkt']\n"
     ]
    }
   ],
   "source": [
    "features_group = stat_features\n",
    "print ('current columns are : ' + str(features_group))\n",
    "for i in features_group:\n",
    "    unseen_data[i] = np.random.permutation(unseen_data[i].values)"
   ]
  },
  {
   "cell_type": "markdown",
   "metadata": {},
   "source": [
    "### Predicte and Check"
   ]
  },
  {
   "cell_type": "code",
   "execution_count": 36,
   "metadata": {},
   "outputs": [],
   "source": [
    "answers = unseen_data[target_label]\n",
    "unseen_data = unseen_data.drop(columns=[target_label])"
   ]
  },
  {
   "cell_type": "code",
   "execution_count": 37,
   "metadata": {},
   "outputs": [],
   "source": [
    "predicted = predict_model(model, data=unseen_data)"
   ]
  },
  {
   "cell_type": "code",
   "execution_count": 38,
   "metadata": {},
   "outputs": [
    {
     "name": "stdout",
     "output_type": "stream",
     "text": [
      "Number of error: 505 from 3501 test samples \n",
      "Which is 0.14424450157097973% of error.\n"
     ]
    }
   ],
   "source": [
    "compare_prediction_with_answers(predicted,answers)"
   ]
  },
  {
   "cell_type": "markdown",
   "metadata": {},
   "source": [
    "# Time Features Group"
   ]
  },
  {
   "cell_type": "markdown",
   "metadata": {},
   "source": [
    "### Read Test Data"
   ]
  },
  {
   "cell_type": "code",
   "execution_count": 39,
   "metadata": {},
   "outputs": [],
   "source": [
    "unseen_data = pd.read_csv(path+file_name+target_label+'_test.csv',\n",
    "                      sep='\\t',\n",
    "                      skiprows=[1])"
   ]
  },
  {
   "cell_type": "markdown",
   "metadata": {},
   "source": [
    "### Change values"
   ]
  },
  {
   "cell_type": "code",
   "execution_count": 40,
   "metadata": {
    "scrolled": false
   },
   "outputs": [
    {
     "name": "stdout",
     "output_type": "stream",
     "text": [
      "current columns are : ['std_fiat', 'max_fiat', 'max_biat', 'std_biat', 'mean_fiat', 'mean_biat']\n"
     ]
    }
   ],
   "source": [
    "features_group = time_features\n",
    "print ('current columns are : ' + str(features_group))\n",
    "for i in features_group:\n",
    "    unseen_data[i] = np.random.permutation(unseen_data[i].values)"
   ]
  },
  {
   "cell_type": "markdown",
   "metadata": {},
   "source": [
    "### Predicte and Check"
   ]
  },
  {
   "cell_type": "code",
   "execution_count": 41,
   "metadata": {},
   "outputs": [],
   "source": [
    "answers = unseen_data[target_label]\n",
    "unseen_data = unseen_data.drop(columns=[target_label])"
   ]
  },
  {
   "cell_type": "code",
   "execution_count": 42,
   "metadata": {},
   "outputs": [],
   "source": [
    "predicted = predict_model(model, data=unseen_data)"
   ]
  },
  {
   "cell_type": "code",
   "execution_count": 43,
   "metadata": {},
   "outputs": [
    {
     "name": "stdout",
     "output_type": "stream",
     "text": [
      "Number of error: 148 from 3501 test samples \n",
      "Which is 0.042273636103970294% of error.\n"
     ]
    }
   ],
   "source": [
    "compare_prediction_with_answers(predicted,answers)"
   ]
  }
 ],
 "metadata": {
  "kernelspec": {
   "display_name": "Python 3.8.3 64-bit ('base': conda)",
   "language": "python",
   "name": "python38364bitbasecondaed19ee87b6844ca4b2207fe8765813ad"
  },
  "language_info": {
   "codemirror_mode": {
    "name": "ipython",
    "version": 3
   },
   "file_extension": ".py",
   "mimetype": "text/x-python",
   "name": "python",
   "nbconvert_exporter": "python",
   "pygments_lexer": "ipython3",
   "version": "3.8.5"
  }
 },
 "nbformat": 4,
 "nbformat_minor": 4
}
