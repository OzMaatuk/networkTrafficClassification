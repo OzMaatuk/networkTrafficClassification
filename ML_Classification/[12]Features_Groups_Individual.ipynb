{
 "cells": [
  {
   "cell_type": "markdown",
   "metadata": {},
   "source": [
    "# Features Groups Individual Test\n",
    "this notebook will present the performance of relevant machine learning scores when in each section we are taking whole group of features seperatlly to deteminate thier effection compare to the full features score."
   ]
  },
  {
   "cell_type": "markdown",
   "metadata": {},
   "source": [
    "### Import and Settings"
   ]
  },
  {
   "cell_type": "code",
   "execution_count": 1,
   "metadata": {},
   "outputs": [],
   "source": [
    "import pandas as pd\n",
    "import numpy as np\n",
    "from pycaret.classification import *\n",
    "import time"
   ]
  },
  {
   "cell_type": "code",
   "execution_count": 2,
   "metadata": {},
   "outputs": [],
   "source": [
    "# set constants\n",
    "target_label = 'tuple'\n",
    "learning_model = 'et'\n",
    "num_features = ['min_packet_size', 'min_fpkt', 'min_bpkt']\n",
    "file_name = \"new_all_features_\"\n",
    "path = \"../Datasets/\" + target_label + \"_dataset/\""
   ]
  },
  {
   "cell_type": "code",
   "execution_count": 3,
   "metadata": {},
   "outputs": [],
   "source": [
    "# function for making model-prediction over the data set and measure the run time \n",
    "def timed_prediction(in_data,in_model):\n",
    "    t = time.process_time()\n",
    "    predicted = predict_model(in_model, data=in_data)\n",
    "    elapsed_time = time.process_time() - t\n",
    "    print(\"prediction took: \" + str(elapsed_time))\n",
    "    return predicted"
   ]
  },
  {
   "cell_type": "code",
   "execution_count": 4,
   "metadata": {},
   "outputs": [],
   "source": [
    "# compare answers and labeled test\n",
    "def compare_prediction_with_answers(in_predicted, in_answers):\n",
    "    count=0\n",
    "    index = in_predicted.index\n",
    "    number_of_rows = len(index)\n",
    "    errors_arr = []\n",
    "    for i in range(0,number_of_rows):\n",
    "        if str(int(in_answers.iloc[i])) != str(int(in_predicted.iloc[i]['Label'])):\n",
    "            count=count+1\n",
    "            cur_error = str(in_answers[i]) + \"!=\" + str(in_predicted.iloc[i]['Label'])\n",
    "            errors_arr.append(cur_error)\n",
    "    print(\"Number of error: \" + str(count) + \" from \" +\n",
    "          str(number_of_rows) + \" test samples \\nWhich is \"\n",
    "          + str(100*count/number_of_rows) + \"% of error.\")"
   ]
  },
  {
   "cell_type": "code",
   "execution_count": 5,
   "metadata": {},
   "outputs": [],
   "source": [
    "# set up features groups\n",
    "SSL_features = ['fSSL_session_id_len', 'fSSL_num_extensions', 'fcipher_suites', 'ssl_v', ]\n",
    "size_features = ['size_histogram_1','size_histogram_2','size_histogram_3',\n",
    "                 'size_histogram_4','size_histogram_5','size_histogram_6',\n",
    "                 'size_histogram_7','size_histogram_8','size_histogram_9', 'size_histogram_10',\n",
    "                'fpackets', 'bpackets', 'fbytes', 'bbytes','min_packet_size',\n",
    "                 'max_packet_size', 'mean_packet_size','sizevar']\n",
    "peak_features = ['fpeak_features_1','fpeak_features_2','fpeak_features_3',\n",
    "                 'fpeak_features_4','fpeak_features_5','fpeak_features_6',\n",
    "                 'fpeak_features_7','fpeak_features_8','fpeak_features_9',\n",
    "                 'bpeak_features_1','bpeak_features_2','bpeak_features_3',\n",
    "                 'bpeak_features_4','bpeak_features_5','bpeak_features_6',\n",
    "                 'bpeak_features_7','bpeak_features_8','bpeak_features_9']\n",
    "TCP_features = ['SYN_tcp_scale', 'SYN_tcp_winsize']\n",
    "common_features = ['packet_count','num_keep_alive', 'mean_fttl',\n",
    "                   'max_fpkt','max_bpkt','std_fpkt','std_bpkt','mean_fpkt','mean_bpkt']\n",
    "stat_features = ['min_packet_size', 'max_packet_size', 'mean_packet_size',\n",
    "                 'sizevar', 'std_fiat','max_fiat','max_biat','std_biat','mean_fiat','mean_biat',\n",
    "                'min_fpkt','min_bpkt','max_fpkt','max_bpkt','std_fpkt','std_bpkt','mean_fpkt','mean_bpkt']\n",
    "time_features = ['std_fiat','max_fiat','max_biat','std_biat','mean_fiat','mean_biat']"
   ]
  },
  {
   "cell_type": "markdown",
   "metadata": {},
   "source": [
    "### Read Data"
   ]
  },
  {
   "cell_type": "code",
   "execution_count": 6,
   "metadata": {},
   "outputs": [],
   "source": [
    "data = pd.read_csv(path+file_name+target_label+'_train.csv',\n",
    "                      sep='\\t',\n",
    "                      skiprows=[1])"
   ]
  },
  {
   "cell_type": "markdown",
   "metadata": {},
   "source": [
    "# Full Features"
   ]
  },
  {
   "cell_type": "markdown",
   "metadata": {},
   "source": [
    "### Setup Data and Build Model\n",
    "The output of the function is a table showing averaged score of all models across the folds. By default, the fold is set to 10. "
   ]
  },
  {
   "cell_type": "code",
   "execution_count": 7,
   "metadata": {
    "tags": []
   },
   "outputs": [
    {
     "data": {
      "text/html": [
       "<style  type=\"text/css\" >\n",
       "#T_298fe628_2a93_11eb_9b1d_00d8610889aerow10_col0,#T_298fe628_2a93_11eb_9b1d_00d8610889aerow10_col1,#T_298fe628_2a93_11eb_9b1d_00d8610889aerow10_col2,#T_298fe628_2a93_11eb_9b1d_00d8610889aerow10_col3,#T_298fe628_2a93_11eb_9b1d_00d8610889aerow10_col4,#T_298fe628_2a93_11eb_9b1d_00d8610889aerow10_col5,#T_298fe628_2a93_11eb_9b1d_00d8610889aerow10_col6{\n",
       "            background:  yellow;\n",
       "        }</style><table id=\"T_298fe628_2a93_11eb_9b1d_00d8610889ae\" ><thead>    <tr>        <th class=\"blank level0\" ></th>        <th class=\"col_heading level0 col0\" >Accuracy</th>        <th class=\"col_heading level0 col1\" >AUC</th>        <th class=\"col_heading level0 col2\" >Recall</th>        <th class=\"col_heading level0 col3\" >Prec.</th>        <th class=\"col_heading level0 col4\" >F1</th>        <th class=\"col_heading level0 col5\" >Kappa</th>        <th class=\"col_heading level0 col6\" >MCC</th>    </tr></thead><tbody>\n",
       "                <tr>\n",
       "                        <th id=\"T_298fe628_2a93_11eb_9b1d_00d8610889aelevel0_row0\" class=\"row_heading level0 row0\" >0</th>\n",
       "                        <td id=\"T_298fe628_2a93_11eb_9b1d_00d8610889aerow0_col0\" class=\"data row0 col0\" >0.9782</td>\n",
       "                        <td id=\"T_298fe628_2a93_11eb_9b1d_00d8610889aerow0_col1\" class=\"data row0 col1\" >0.0000</td>\n",
       "                        <td id=\"T_298fe628_2a93_11eb_9b1d_00d8610889aerow0_col2\" class=\"data row0 col2\" >0.9313</td>\n",
       "                        <td id=\"T_298fe628_2a93_11eb_9b1d_00d8610889aerow0_col3\" class=\"data row0 col3\" >0.9796</td>\n",
       "                        <td id=\"T_298fe628_2a93_11eb_9b1d_00d8610889aerow0_col4\" class=\"data row0 col4\" >0.9777</td>\n",
       "                        <td id=\"T_298fe628_2a93_11eb_9b1d_00d8610889aerow0_col5\" class=\"data row0 col5\" >0.9745</td>\n",
       "                        <td id=\"T_298fe628_2a93_11eb_9b1d_00d8610889aerow0_col6\" class=\"data row0 col6\" >0.9746</td>\n",
       "            </tr>\n",
       "            <tr>\n",
       "                        <th id=\"T_298fe628_2a93_11eb_9b1d_00d8610889aelevel0_row1\" class=\"row_heading level0 row1\" >1</th>\n",
       "                        <td id=\"T_298fe628_2a93_11eb_9b1d_00d8610889aerow1_col0\" class=\"data row1 col0\" >0.9773</td>\n",
       "                        <td id=\"T_298fe628_2a93_11eb_9b1d_00d8610889aerow1_col1\" class=\"data row1 col1\" >0.0000</td>\n",
       "                        <td id=\"T_298fe628_2a93_11eb_9b1d_00d8610889aerow1_col2\" class=\"data row1 col2\" >0.8925</td>\n",
       "                        <td id=\"T_298fe628_2a93_11eb_9b1d_00d8610889aerow1_col3\" class=\"data row1 col3\" >0.9755</td>\n",
       "                        <td id=\"T_298fe628_2a93_11eb_9b1d_00d8610889aerow1_col4\" class=\"data row1 col4\" >0.9761</td>\n",
       "                        <td id=\"T_298fe628_2a93_11eb_9b1d_00d8610889aerow1_col5\" class=\"data row1 col5\" >0.9734</td>\n",
       "                        <td id=\"T_298fe628_2a93_11eb_9b1d_00d8610889aerow1_col6\" class=\"data row1 col6\" >0.9734</td>\n",
       "            </tr>\n",
       "            <tr>\n",
       "                        <th id=\"T_298fe628_2a93_11eb_9b1d_00d8610889aelevel0_row2\" class=\"row_heading level0 row2\" >2</th>\n",
       "                        <td id=\"T_298fe628_2a93_11eb_9b1d_00d8610889aerow2_col0\" class=\"data row2 col0\" >0.9703</td>\n",
       "                        <td id=\"T_298fe628_2a93_11eb_9b1d_00d8610889aerow2_col1\" class=\"data row2 col1\" >0.0000</td>\n",
       "                        <td id=\"T_298fe628_2a93_11eb_9b1d_00d8610889aerow2_col2\" class=\"data row2 col2\" >0.8373</td>\n",
       "                        <td id=\"T_298fe628_2a93_11eb_9b1d_00d8610889aerow2_col3\" class=\"data row2 col3\" >0.9694</td>\n",
       "                        <td id=\"T_298fe628_2a93_11eb_9b1d_00d8610889aerow2_col4\" class=\"data row2 col4\" >0.9689</td>\n",
       "                        <td id=\"T_298fe628_2a93_11eb_9b1d_00d8610889aerow2_col5\" class=\"data row2 col5\" >0.9653</td>\n",
       "                        <td id=\"T_298fe628_2a93_11eb_9b1d_00d8610889aerow2_col6\" class=\"data row2 col6\" >0.9653</td>\n",
       "            </tr>\n",
       "            <tr>\n",
       "                        <th id=\"T_298fe628_2a93_11eb_9b1d_00d8610889aelevel0_row3\" class=\"row_heading level0 row3\" >3</th>\n",
       "                        <td id=\"T_298fe628_2a93_11eb_9b1d_00d8610889aerow3_col0\" class=\"data row3 col0\" >0.9763</td>\n",
       "                        <td id=\"T_298fe628_2a93_11eb_9b1d_00d8610889aerow3_col1\" class=\"data row3 col1\" >0.0000</td>\n",
       "                        <td id=\"T_298fe628_2a93_11eb_9b1d_00d8610889aerow3_col2\" class=\"data row3 col2\" >0.8922</td>\n",
       "                        <td id=\"T_298fe628_2a93_11eb_9b1d_00d8610889aerow3_col3\" class=\"data row3 col3\" >0.9764</td>\n",
       "                        <td id=\"T_298fe628_2a93_11eb_9b1d_00d8610889aerow3_col4\" class=\"data row3 col4\" >0.9748</td>\n",
       "                        <td id=\"T_298fe628_2a93_11eb_9b1d_00d8610889aerow3_col5\" class=\"data row3 col5\" >0.9722</td>\n",
       "                        <td id=\"T_298fe628_2a93_11eb_9b1d_00d8610889aerow3_col6\" class=\"data row3 col6\" >0.9723</td>\n",
       "            </tr>\n",
       "            <tr>\n",
       "                        <th id=\"T_298fe628_2a93_11eb_9b1d_00d8610889aelevel0_row4\" class=\"row_heading level0 row4\" >4</th>\n",
       "                        <td id=\"T_298fe628_2a93_11eb_9b1d_00d8610889aerow4_col0\" class=\"data row4 col0\" >0.9763</td>\n",
       "                        <td id=\"T_298fe628_2a93_11eb_9b1d_00d8610889aerow4_col1\" class=\"data row4 col1\" >0.0000</td>\n",
       "                        <td id=\"T_298fe628_2a93_11eb_9b1d_00d8610889aerow4_col2\" class=\"data row4 col2\" >0.9012</td>\n",
       "                        <td id=\"T_298fe628_2a93_11eb_9b1d_00d8610889aerow4_col3\" class=\"data row4 col3\" >0.9764</td>\n",
       "                        <td id=\"T_298fe628_2a93_11eb_9b1d_00d8610889aerow4_col4\" class=\"data row4 col4\" >0.9753</td>\n",
       "                        <td id=\"T_298fe628_2a93_11eb_9b1d_00d8610889aerow4_col5\" class=\"data row4 col5\" >0.9722</td>\n",
       "                        <td id=\"T_298fe628_2a93_11eb_9b1d_00d8610889aerow4_col6\" class=\"data row4 col6\" >0.9723</td>\n",
       "            </tr>\n",
       "            <tr>\n",
       "                        <th id=\"T_298fe628_2a93_11eb_9b1d_00d8610889aelevel0_row5\" class=\"row_heading level0 row5\" >5</th>\n",
       "                        <td id=\"T_298fe628_2a93_11eb_9b1d_00d8610889aerow5_col0\" class=\"data row5 col0\" >0.9763</td>\n",
       "                        <td id=\"T_298fe628_2a93_11eb_9b1d_00d8610889aerow5_col1\" class=\"data row5 col1\" >0.0000</td>\n",
       "                        <td id=\"T_298fe628_2a93_11eb_9b1d_00d8610889aerow5_col2\" class=\"data row5 col2\" >0.8443</td>\n",
       "                        <td id=\"T_298fe628_2a93_11eb_9b1d_00d8610889aerow5_col3\" class=\"data row5 col3\" >0.9733</td>\n",
       "                        <td id=\"T_298fe628_2a93_11eb_9b1d_00d8610889aerow5_col4\" class=\"data row5 col4\" >0.9740</td>\n",
       "                        <td id=\"T_298fe628_2a93_11eb_9b1d_00d8610889aerow5_col5\" class=\"data row5 col5\" >0.9722</td>\n",
       "                        <td id=\"T_298fe628_2a93_11eb_9b1d_00d8610889aerow5_col6\" class=\"data row5 col6\" >0.9722</td>\n",
       "            </tr>\n",
       "            <tr>\n",
       "                        <th id=\"T_298fe628_2a93_11eb_9b1d_00d8610889aelevel0_row6\" class=\"row_heading level0 row6\" >6</th>\n",
       "                        <td id=\"T_298fe628_2a93_11eb_9b1d_00d8610889aerow6_col0\" class=\"data row6 col0\" >0.9763</td>\n",
       "                        <td id=\"T_298fe628_2a93_11eb_9b1d_00d8610889aerow6_col1\" class=\"data row6 col1\" >0.0000</td>\n",
       "                        <td id=\"T_298fe628_2a93_11eb_9b1d_00d8610889aerow6_col2\" class=\"data row6 col2\" >0.8859</td>\n",
       "                        <td id=\"T_298fe628_2a93_11eb_9b1d_00d8610889aerow6_col3\" class=\"data row6 col3\" >0.9772</td>\n",
       "                        <td id=\"T_298fe628_2a93_11eb_9b1d_00d8610889aerow6_col4\" class=\"data row6 col4\" >0.9761</td>\n",
       "                        <td id=\"T_298fe628_2a93_11eb_9b1d_00d8610889aerow6_col5\" class=\"data row6 col5\" >0.9722</td>\n",
       "                        <td id=\"T_298fe628_2a93_11eb_9b1d_00d8610889aerow6_col6\" class=\"data row6 col6\" >0.9723</td>\n",
       "            </tr>\n",
       "            <tr>\n",
       "                        <th id=\"T_298fe628_2a93_11eb_9b1d_00d8610889aelevel0_row7\" class=\"row_heading level0 row7\" >7</th>\n",
       "                        <td id=\"T_298fe628_2a93_11eb_9b1d_00d8610889aerow7_col0\" class=\"data row7 col0\" >0.9703</td>\n",
       "                        <td id=\"T_298fe628_2a93_11eb_9b1d_00d8610889aerow7_col1\" class=\"data row7 col1\" >0.0000</td>\n",
       "                        <td id=\"T_298fe628_2a93_11eb_9b1d_00d8610889aerow7_col2\" class=\"data row7 col2\" >0.8938</td>\n",
       "                        <td id=\"T_298fe628_2a93_11eb_9b1d_00d8610889aerow7_col3\" class=\"data row7 col3\" >0.9701</td>\n",
       "                        <td id=\"T_298fe628_2a93_11eb_9b1d_00d8610889aerow7_col4\" class=\"data row7 col4\" >0.9696</td>\n",
       "                        <td id=\"T_298fe628_2a93_11eb_9b1d_00d8610889aerow7_col5\" class=\"data row7 col5\" >0.9653</td>\n",
       "                        <td id=\"T_298fe628_2a93_11eb_9b1d_00d8610889aerow7_col6\" class=\"data row7 col6\" >0.9653</td>\n",
       "            </tr>\n",
       "            <tr>\n",
       "                        <th id=\"T_298fe628_2a93_11eb_9b1d_00d8610889aelevel0_row8\" class=\"row_heading level0 row8\" >8</th>\n",
       "                        <td id=\"T_298fe628_2a93_11eb_9b1d_00d8610889aerow8_col0\" class=\"data row8 col0\" >0.9763</td>\n",
       "                        <td id=\"T_298fe628_2a93_11eb_9b1d_00d8610889aerow8_col1\" class=\"data row8 col1\" >0.0000</td>\n",
       "                        <td id=\"T_298fe628_2a93_11eb_9b1d_00d8610889aerow8_col2\" class=\"data row8 col2\" >0.9231</td>\n",
       "                        <td id=\"T_298fe628_2a93_11eb_9b1d_00d8610889aerow8_col3\" class=\"data row8 col3\" >0.9775</td>\n",
       "                        <td id=\"T_298fe628_2a93_11eb_9b1d_00d8610889aerow8_col4\" class=\"data row8 col4\" >0.9758</td>\n",
       "                        <td id=\"T_298fe628_2a93_11eb_9b1d_00d8610889aerow8_col5\" class=\"data row8 col5\" >0.9722</td>\n",
       "                        <td id=\"T_298fe628_2a93_11eb_9b1d_00d8610889aerow8_col6\" class=\"data row8 col6\" >0.9722</td>\n",
       "            </tr>\n",
       "            <tr>\n",
       "                        <th id=\"T_298fe628_2a93_11eb_9b1d_00d8610889aelevel0_row9\" class=\"row_heading level0 row9\" >9</th>\n",
       "                        <td id=\"T_298fe628_2a93_11eb_9b1d_00d8610889aerow9_col0\" class=\"data row9 col0\" >0.9782</td>\n",
       "                        <td id=\"T_298fe628_2a93_11eb_9b1d_00d8610889aerow9_col1\" class=\"data row9 col1\" >0.0000</td>\n",
       "                        <td id=\"T_298fe628_2a93_11eb_9b1d_00d8610889aerow9_col2\" class=\"data row9 col2\" >0.9403</td>\n",
       "                        <td id=\"T_298fe628_2a93_11eb_9b1d_00d8610889aerow9_col3\" class=\"data row9 col3\" >0.9792</td>\n",
       "                        <td id=\"T_298fe628_2a93_11eb_9b1d_00d8610889aerow9_col4\" class=\"data row9 col4\" >0.9780</td>\n",
       "                        <td id=\"T_298fe628_2a93_11eb_9b1d_00d8610889aerow9_col5\" class=\"data row9 col5\" >0.9745</td>\n",
       "                        <td id=\"T_298fe628_2a93_11eb_9b1d_00d8610889aerow9_col6\" class=\"data row9 col6\" >0.9745</td>\n",
       "            </tr>\n",
       "            <tr>\n",
       "                        <th id=\"T_298fe628_2a93_11eb_9b1d_00d8610889aelevel0_row10\" class=\"row_heading level0 row10\" >Mean</th>\n",
       "                        <td id=\"T_298fe628_2a93_11eb_9b1d_00d8610889aerow10_col0\" class=\"data row10 col0\" >0.9756</td>\n",
       "                        <td id=\"T_298fe628_2a93_11eb_9b1d_00d8610889aerow10_col1\" class=\"data row10 col1\" >0.0000</td>\n",
       "                        <td id=\"T_298fe628_2a93_11eb_9b1d_00d8610889aerow10_col2\" class=\"data row10 col2\" >0.8942</td>\n",
       "                        <td id=\"T_298fe628_2a93_11eb_9b1d_00d8610889aerow10_col3\" class=\"data row10 col3\" >0.9755</td>\n",
       "                        <td id=\"T_298fe628_2a93_11eb_9b1d_00d8610889aerow10_col4\" class=\"data row10 col4\" >0.9746</td>\n",
       "                        <td id=\"T_298fe628_2a93_11eb_9b1d_00d8610889aerow10_col5\" class=\"data row10 col5\" >0.9714</td>\n",
       "                        <td id=\"T_298fe628_2a93_11eb_9b1d_00d8610889aerow10_col6\" class=\"data row10 col6\" >0.9714</td>\n",
       "            </tr>\n",
       "            <tr>\n",
       "                        <th id=\"T_298fe628_2a93_11eb_9b1d_00d8610889aelevel0_row11\" class=\"row_heading level0 row11\" >SD</th>\n",
       "                        <td id=\"T_298fe628_2a93_11eb_9b1d_00d8610889aerow11_col0\" class=\"data row11 col0\" >0.0027</td>\n",
       "                        <td id=\"T_298fe628_2a93_11eb_9b1d_00d8610889aerow11_col1\" class=\"data row11 col1\" >0.0000</td>\n",
       "                        <td id=\"T_298fe628_2a93_11eb_9b1d_00d8610889aerow11_col2\" class=\"data row11 col2\" >0.0319</td>\n",
       "                        <td id=\"T_298fe628_2a93_11eb_9b1d_00d8610889aerow11_col3\" class=\"data row11 col3\" >0.0033</td>\n",
       "                        <td id=\"T_298fe628_2a93_11eb_9b1d_00d8610889aerow11_col4\" class=\"data row11 col4\" >0.0029</td>\n",
       "                        <td id=\"T_298fe628_2a93_11eb_9b1d_00d8610889aerow11_col5\" class=\"data row11 col5\" >0.0032</td>\n",
       "                        <td id=\"T_298fe628_2a93_11eb_9b1d_00d8610889aerow11_col6\" class=\"data row11 col6\" >0.0032</td>\n",
       "            </tr>\n",
       "    </tbody></table>"
      ],
      "text/plain": [
       "<pandas.io.formats.style.Styler at 0x2e892ee34f0>"
      ]
     },
     "metadata": {},
     "output_type": "display_data"
    }
   ],
   "source": [
    "setup(data=data,\n",
    "      target=target_label,\n",
    "      silent=True)\n",
    "model=create_model(learning_model)"
   ]
  },
  {
   "cell_type": "markdown",
   "metadata": {},
   "source": [
    "### Read Unseen Data and make Validation Test"
   ]
  },
  {
   "cell_type": "code",
   "execution_count": 8,
   "metadata": {},
   "outputs": [],
   "source": [
    "unseen_data = pd.read_csv(path+file_name+target_label+'_test.csv',\n",
    "                      sep='\\t',\n",
    "                      skiprows=[1])\n",
    "\n",
    "answers = unseen_data[target_label]\n",
    "unseen_data = unseen_data.drop(columns=[target_label])"
   ]
  },
  {
   "cell_type": "code",
   "execution_count": 9,
   "metadata": {},
   "outputs": [
    {
     "name": "stdout",
     "output_type": "stream",
     "text": [
      "prediction took: 0.796875\n"
     ]
    }
   ],
   "source": [
    "predicted = timed_prediction(unseen_data,model)"
   ]
  },
  {
   "cell_type": "code",
   "execution_count": 10,
   "metadata": {},
   "outputs": [
    {
     "name": "stdout",
     "output_type": "stream",
     "text": [
      "Number of error: 145 from 6189 test samples \n",
      "Which is 2.342866375828082% of error.\n"
     ]
    }
   ],
   "source": [
    "compare_prediction_with_answers(predicted,answers)"
   ]
  },
  {
   "cell_type": "markdown",
   "metadata": {},
   "source": [
    "# Only SSL Features Group"
   ]
  },
  {
   "cell_type": "code",
   "execution_count": 13,
   "metadata": {
    "tags": []
   },
   "outputs": [
    {
     "data": {
      "text/html": [
       "<style  type=\"text/css\" >\n",
       "#T_2406508a_2a94_11eb_8ead_00d8610889aerow10_col0,#T_2406508a_2a94_11eb_8ead_00d8610889aerow10_col1,#T_2406508a_2a94_11eb_8ead_00d8610889aerow10_col2,#T_2406508a_2a94_11eb_8ead_00d8610889aerow10_col3,#T_2406508a_2a94_11eb_8ead_00d8610889aerow10_col4,#T_2406508a_2a94_11eb_8ead_00d8610889aerow10_col5,#T_2406508a_2a94_11eb_8ead_00d8610889aerow10_col6{\n",
       "            background:  yellow;\n",
       "        }</style><table id=\"T_2406508a_2a94_11eb_8ead_00d8610889ae\" ><thead>    <tr>        <th class=\"blank level0\" ></th>        <th class=\"col_heading level0 col0\" >Accuracy</th>        <th class=\"col_heading level0 col1\" >AUC</th>        <th class=\"col_heading level0 col2\" >Recall</th>        <th class=\"col_heading level0 col3\" >Prec.</th>        <th class=\"col_heading level0 col4\" >F1</th>        <th class=\"col_heading level0 col5\" >Kappa</th>        <th class=\"col_heading level0 col6\" >MCC</th>    </tr></thead><tbody>\n",
       "                <tr>\n",
       "                        <th id=\"T_2406508a_2a94_11eb_8ead_00d8610889aelevel0_row0\" class=\"row_heading level0 row0\" >0</th>\n",
       "                        <td id=\"T_2406508a_2a94_11eb_8ead_00d8610889aerow0_col0\" class=\"data row0 col0\" >0.6657</td>\n",
       "                        <td id=\"T_2406508a_2a94_11eb_8ead_00d8610889aerow0_col1\" class=\"data row0 col1\" >0.0000</td>\n",
       "                        <td id=\"T_2406508a_2a94_11eb_8ead_00d8610889aerow0_col2\" class=\"data row0 col2\" >0.2928</td>\n",
       "                        <td id=\"T_2406508a_2a94_11eb_8ead_00d8610889aerow0_col3\" class=\"data row0 col3\" >0.6397</td>\n",
       "                        <td id=\"T_2406508a_2a94_11eb_8ead_00d8610889aerow0_col4\" class=\"data row0 col4\" >0.5729</td>\n",
       "                        <td id=\"T_2406508a_2a94_11eb_8ead_00d8610889aerow0_col5\" class=\"data row0 col5\" >0.5950</td>\n",
       "                        <td id=\"T_2406508a_2a94_11eb_8ead_00d8610889aerow0_col6\" class=\"data row0 col6\" >0.6064</td>\n",
       "            </tr>\n",
       "            <tr>\n",
       "                        <th id=\"T_2406508a_2a94_11eb_8ead_00d8610889aelevel0_row1\" class=\"row_heading level0 row1\" >1</th>\n",
       "                        <td id=\"T_2406508a_2a94_11eb_8ead_00d8610889aerow1_col0\" class=\"data row1 col0\" >0.6617</td>\n",
       "                        <td id=\"T_2406508a_2a94_11eb_8ead_00d8610889aerow1_col1\" class=\"data row1 col1\" >0.0000</td>\n",
       "                        <td id=\"T_2406508a_2a94_11eb_8ead_00d8610889aerow1_col2\" class=\"data row1 col2\" >0.2747</td>\n",
       "                        <td id=\"T_2406508a_2a94_11eb_8ead_00d8610889aerow1_col3\" class=\"data row1 col3\" >0.6100</td>\n",
       "                        <td id=\"T_2406508a_2a94_11eb_8ead_00d8610889aerow1_col4\" class=\"data row1 col4\" >0.5706</td>\n",
       "                        <td id=\"T_2406508a_2a94_11eb_8ead_00d8610889aerow1_col5\" class=\"data row1 col5\" >0.5901</td>\n",
       "                        <td id=\"T_2406508a_2a94_11eb_8ead_00d8610889aerow1_col6\" class=\"data row1 col6\" >0.6010</td>\n",
       "            </tr>\n",
       "            <tr>\n",
       "                        <th id=\"T_2406508a_2a94_11eb_8ead_00d8610889aelevel0_row2\" class=\"row_heading level0 row2\" >2</th>\n",
       "                        <td id=\"T_2406508a_2a94_11eb_8ead_00d8610889aerow2_col0\" class=\"data row2 col0\" >0.6677</td>\n",
       "                        <td id=\"T_2406508a_2a94_11eb_8ead_00d8610889aerow2_col1\" class=\"data row2 col1\" >0.0000</td>\n",
       "                        <td id=\"T_2406508a_2a94_11eb_8ead_00d8610889aerow2_col2\" class=\"data row2 col2\" >0.2909</td>\n",
       "                        <td id=\"T_2406508a_2a94_11eb_8ead_00d8610889aerow2_col3\" class=\"data row2 col3\" >0.6568</td>\n",
       "                        <td id=\"T_2406508a_2a94_11eb_8ead_00d8610889aerow2_col4\" class=\"data row2 col4\" >0.5810</td>\n",
       "                        <td id=\"T_2406508a_2a94_11eb_8ead_00d8610889aerow2_col5\" class=\"data row2 col5\" >0.5976</td>\n",
       "                        <td id=\"T_2406508a_2a94_11eb_8ead_00d8610889aerow2_col6\" class=\"data row2 col6\" >0.6085</td>\n",
       "            </tr>\n",
       "            <tr>\n",
       "                        <th id=\"T_2406508a_2a94_11eb_8ead_00d8610889aelevel0_row3\" class=\"row_heading level0 row3\" >3</th>\n",
       "                        <td id=\"T_2406508a_2a94_11eb_8ead_00d8610889aerow3_col0\" class=\"data row3 col0\" >0.6667</td>\n",
       "                        <td id=\"T_2406508a_2a94_11eb_8ead_00d8610889aerow3_col1\" class=\"data row3 col1\" >0.0000</td>\n",
       "                        <td id=\"T_2406508a_2a94_11eb_8ead_00d8610889aerow3_col2\" class=\"data row3 col2\" >0.2719</td>\n",
       "                        <td id=\"T_2406508a_2a94_11eb_8ead_00d8610889aerow3_col3\" class=\"data row3 col3\" >0.5910</td>\n",
       "                        <td id=\"T_2406508a_2a94_11eb_8ead_00d8610889aerow3_col4\" class=\"data row3 col4\" >0.5736</td>\n",
       "                        <td id=\"T_2406508a_2a94_11eb_8ead_00d8610889aerow3_col5\" class=\"data row3 col5\" >0.5957</td>\n",
       "                        <td id=\"T_2406508a_2a94_11eb_8ead_00d8610889aerow3_col6\" class=\"data row3 col6\" >0.6071</td>\n",
       "            </tr>\n",
       "            <tr>\n",
       "                        <th id=\"T_2406508a_2a94_11eb_8ead_00d8610889aelevel0_row4\" class=\"row_heading level0 row4\" >4</th>\n",
       "                        <td id=\"T_2406508a_2a94_11eb_8ead_00d8610889aerow4_col0\" class=\"data row4 col0\" >0.6706</td>\n",
       "                        <td id=\"T_2406508a_2a94_11eb_8ead_00d8610889aerow4_col1\" class=\"data row4 col1\" >0.0000</td>\n",
       "                        <td id=\"T_2406508a_2a94_11eb_8ead_00d8610889aerow4_col2\" class=\"data row4 col2\" >0.2885</td>\n",
       "                        <td id=\"T_2406508a_2a94_11eb_8ead_00d8610889aerow4_col3\" class=\"data row4 col3\" >0.6197</td>\n",
       "                        <td id=\"T_2406508a_2a94_11eb_8ead_00d8610889aerow4_col4\" class=\"data row4 col4\" >0.5833</td>\n",
       "                        <td id=\"T_2406508a_2a94_11eb_8ead_00d8610889aerow4_col5\" class=\"data row4 col5\" >0.6009</td>\n",
       "                        <td id=\"T_2406508a_2a94_11eb_8ead_00d8610889aerow4_col6\" class=\"data row4 col6\" >0.6116</td>\n",
       "            </tr>\n",
       "            <tr>\n",
       "                        <th id=\"T_2406508a_2a94_11eb_8ead_00d8610889aelevel0_row5\" class=\"row_heading level0 row5\" >5</th>\n",
       "                        <td id=\"T_2406508a_2a94_11eb_8ead_00d8610889aerow5_col0\" class=\"data row5 col0\" >0.6677</td>\n",
       "                        <td id=\"T_2406508a_2a94_11eb_8ead_00d8610889aerow5_col1\" class=\"data row5 col1\" >0.0000</td>\n",
       "                        <td id=\"T_2406508a_2a94_11eb_8ead_00d8610889aerow5_col2\" class=\"data row5 col2\" >0.2797</td>\n",
       "                        <td id=\"T_2406508a_2a94_11eb_8ead_00d8610889aerow5_col3\" class=\"data row5 col3\" >0.6068</td>\n",
       "                        <td id=\"T_2406508a_2a94_11eb_8ead_00d8610889aerow5_col4\" class=\"data row5 col4\" >0.5789</td>\n",
       "                        <td id=\"T_2406508a_2a94_11eb_8ead_00d8610889aerow5_col5\" class=\"data row5 col5\" >0.5970</td>\n",
       "                        <td id=\"T_2406508a_2a94_11eb_8ead_00d8610889aerow5_col6\" class=\"data row5 col6\" >0.6081</td>\n",
       "            </tr>\n",
       "            <tr>\n",
       "                        <th id=\"T_2406508a_2a94_11eb_8ead_00d8610889aelevel0_row6\" class=\"row_heading level0 row6\" >6</th>\n",
       "                        <td id=\"T_2406508a_2a94_11eb_8ead_00d8610889aerow6_col0\" class=\"data row6 col0\" >0.6637</td>\n",
       "                        <td id=\"T_2406508a_2a94_11eb_8ead_00d8610889aerow6_col1\" class=\"data row6 col1\" >0.0000</td>\n",
       "                        <td id=\"T_2406508a_2a94_11eb_8ead_00d8610889aerow6_col2\" class=\"data row6 col2\" >0.2809</td>\n",
       "                        <td id=\"T_2406508a_2a94_11eb_8ead_00d8610889aerow6_col3\" class=\"data row6 col3\" >0.6020</td>\n",
       "                        <td id=\"T_2406508a_2a94_11eb_8ead_00d8610889aerow6_col4\" class=\"data row6 col4\" >0.5745</td>\n",
       "                        <td id=\"T_2406508a_2a94_11eb_8ead_00d8610889aerow6_col5\" class=\"data row6 col5\" >0.5922</td>\n",
       "                        <td id=\"T_2406508a_2a94_11eb_8ead_00d8610889aerow6_col6\" class=\"data row6 col6\" >0.6035</td>\n",
       "            </tr>\n",
       "            <tr>\n",
       "                        <th id=\"T_2406508a_2a94_11eb_8ead_00d8610889aelevel0_row7\" class=\"row_heading level0 row7\" >7</th>\n",
       "                        <td id=\"T_2406508a_2a94_11eb_8ead_00d8610889aerow7_col0\" class=\"data row7 col0\" >0.6647</td>\n",
       "                        <td id=\"T_2406508a_2a94_11eb_8ead_00d8610889aerow7_col1\" class=\"data row7 col1\" >0.0000</td>\n",
       "                        <td id=\"T_2406508a_2a94_11eb_8ead_00d8610889aerow7_col2\" class=\"data row7 col2\" >0.2903</td>\n",
       "                        <td id=\"T_2406508a_2a94_11eb_8ead_00d8610889aerow7_col3\" class=\"data row7 col3\" >0.6060</td>\n",
       "                        <td id=\"T_2406508a_2a94_11eb_8ead_00d8610889aerow7_col4\" class=\"data row7 col4\" >0.5785</td>\n",
       "                        <td id=\"T_2406508a_2a94_11eb_8ead_00d8610889aerow7_col5\" class=\"data row7 col5\" >0.5930</td>\n",
       "                        <td id=\"T_2406508a_2a94_11eb_8ead_00d8610889aerow7_col6\" class=\"data row7 col6\" >0.6039</td>\n",
       "            </tr>\n",
       "            <tr>\n",
       "                        <th id=\"T_2406508a_2a94_11eb_8ead_00d8610889aelevel0_row8\" class=\"row_heading level0 row8\" >8</th>\n",
       "                        <td id=\"T_2406508a_2a94_11eb_8ead_00d8610889aerow8_col0\" class=\"data row8 col0\" >0.6696</td>\n",
       "                        <td id=\"T_2406508a_2a94_11eb_8ead_00d8610889aerow8_col1\" class=\"data row8 col1\" >0.0000</td>\n",
       "                        <td id=\"T_2406508a_2a94_11eb_8ead_00d8610889aerow8_col2\" class=\"data row8 col2\" >0.2951</td>\n",
       "                        <td id=\"T_2406508a_2a94_11eb_8ead_00d8610889aerow8_col3\" class=\"data row8 col3\" >0.6021</td>\n",
       "                        <td id=\"T_2406508a_2a94_11eb_8ead_00d8610889aerow8_col4\" class=\"data row8 col4\" >0.5759</td>\n",
       "                        <td id=\"T_2406508a_2a94_11eb_8ead_00d8610889aerow8_col5\" class=\"data row8 col5\" >0.5993</td>\n",
       "                        <td id=\"T_2406508a_2a94_11eb_8ead_00d8610889aerow8_col6\" class=\"data row8 col6\" >0.6106</td>\n",
       "            </tr>\n",
       "            <tr>\n",
       "                        <th id=\"T_2406508a_2a94_11eb_8ead_00d8610889aelevel0_row9\" class=\"row_heading level0 row9\" >9</th>\n",
       "                        <td id=\"T_2406508a_2a94_11eb_8ead_00d8610889aerow9_col0\" class=\"data row9 col0\" >0.6693</td>\n",
       "                        <td id=\"T_2406508a_2a94_11eb_8ead_00d8610889aerow9_col1\" class=\"data row9 col1\" >0.0000</td>\n",
       "                        <td id=\"T_2406508a_2a94_11eb_8ead_00d8610889aerow9_col2\" class=\"data row9 col2\" >0.3051</td>\n",
       "                        <td id=\"T_2406508a_2a94_11eb_8ead_00d8610889aerow9_col3\" class=\"data row9 col3\" >0.6216</td>\n",
       "                        <td id=\"T_2406508a_2a94_11eb_8ead_00d8610889aerow9_col4\" class=\"data row9 col4\" >0.5829</td>\n",
       "                        <td id=\"T_2406508a_2a94_11eb_8ead_00d8610889aerow9_col5\" class=\"data row9 col5\" >0.5994</td>\n",
       "                        <td id=\"T_2406508a_2a94_11eb_8ead_00d8610889aerow9_col6\" class=\"data row9 col6\" >0.6101</td>\n",
       "            </tr>\n",
       "            <tr>\n",
       "                        <th id=\"T_2406508a_2a94_11eb_8ead_00d8610889aelevel0_row10\" class=\"row_heading level0 row10\" >Mean</th>\n",
       "                        <td id=\"T_2406508a_2a94_11eb_8ead_00d8610889aerow10_col0\" class=\"data row10 col0\" >0.6667</td>\n",
       "                        <td id=\"T_2406508a_2a94_11eb_8ead_00d8610889aerow10_col1\" class=\"data row10 col1\" >0.0000</td>\n",
       "                        <td id=\"T_2406508a_2a94_11eb_8ead_00d8610889aerow10_col2\" class=\"data row10 col2\" >0.2870</td>\n",
       "                        <td id=\"T_2406508a_2a94_11eb_8ead_00d8610889aerow10_col3\" class=\"data row10 col3\" >0.6156</td>\n",
       "                        <td id=\"T_2406508a_2a94_11eb_8ead_00d8610889aerow10_col4\" class=\"data row10 col4\" >0.5772</td>\n",
       "                        <td id=\"T_2406508a_2a94_11eb_8ead_00d8610889aerow10_col5\" class=\"data row10 col5\" >0.5960</td>\n",
       "                        <td id=\"T_2406508a_2a94_11eb_8ead_00d8610889aerow10_col6\" class=\"data row10 col6\" >0.6071</td>\n",
       "            </tr>\n",
       "            <tr>\n",
       "                        <th id=\"T_2406508a_2a94_11eb_8ead_00d8610889aelevel0_row11\" class=\"row_heading level0 row11\" >SD</th>\n",
       "                        <td id=\"T_2406508a_2a94_11eb_8ead_00d8610889aerow11_col0\" class=\"data row11 col0\" >0.0027</td>\n",
       "                        <td id=\"T_2406508a_2a94_11eb_8ead_00d8610889aerow11_col1\" class=\"data row11 col1\" >0.0000</td>\n",
       "                        <td id=\"T_2406508a_2a94_11eb_8ead_00d8610889aerow11_col2\" class=\"data row11 col2\" >0.0096</td>\n",
       "                        <td id=\"T_2406508a_2a94_11eb_8ead_00d8610889aerow11_col3\" class=\"data row11 col3\" >0.0187</td>\n",
       "                        <td id=\"T_2406508a_2a94_11eb_8ead_00d8610889aerow11_col4\" class=\"data row11 col4\" >0.0042</td>\n",
       "                        <td id=\"T_2406508a_2a94_11eb_8ead_00d8610889aerow11_col5\" class=\"data row11 col5\" >0.0033</td>\n",
       "                        <td id=\"T_2406508a_2a94_11eb_8ead_00d8610889aerow11_col6\" class=\"data row11 col6\" >0.0032</td>\n",
       "            </tr>\n",
       "    </tbody></table>"
      ],
      "text/plain": [
       "<pandas.io.formats.style.Styler at 0x2e8933e4df0>"
      ]
     },
     "metadata": {},
     "output_type": "display_data"
    }
   ],
   "source": [
    "setup(data=data[SSL_features+[target_label]],\n",
    "      target=target_label,\n",
    "      silent=True)\n",
    "model=create_model(learning_model)"
   ]
  },
  {
   "cell_type": "code",
   "execution_count": 14,
   "metadata": {},
   "outputs": [
    {
     "name": "stdout",
     "output_type": "stream",
     "text": [
      "prediction took: 0.421875\n"
     ]
    }
   ],
   "source": [
    "predicted = timed_prediction(unseen_data[SSL_features],model)"
   ]
  },
  {
   "cell_type": "code",
   "execution_count": 15,
   "metadata": {},
   "outputs": [
    {
     "name": "stdout",
     "output_type": "stream",
     "text": [
      "Number of error: 2070 from 6189 test samples \n",
      "Which is 33.446437227338826% of error.\n"
     ]
    }
   ],
   "source": [
    "compare_prediction_with_answers(predicted,answers)"
   ]
  },
  {
   "cell_type": "markdown",
   "metadata": {},
   "source": [
    "# Only TCP Features Group"
   ]
  },
  {
   "cell_type": "code",
   "execution_count": 16,
   "metadata": {
    "scrolled": true,
    "tags": []
   },
   "outputs": [
    {
     "data": {
      "text/html": [
       "<style  type=\"text/css\" >\n",
       "#T_365aeeea_2a94_11eb_bb91_00d8610889aerow10_col0,#T_365aeeea_2a94_11eb_bb91_00d8610889aerow10_col1,#T_365aeeea_2a94_11eb_bb91_00d8610889aerow10_col2,#T_365aeeea_2a94_11eb_bb91_00d8610889aerow10_col3,#T_365aeeea_2a94_11eb_bb91_00d8610889aerow10_col4,#T_365aeeea_2a94_11eb_bb91_00d8610889aerow10_col5,#T_365aeeea_2a94_11eb_bb91_00d8610889aerow10_col6{\n",
       "            background:  yellow;\n",
       "        }</style><table id=\"T_365aeeea_2a94_11eb_bb91_00d8610889ae\" ><thead>    <tr>        <th class=\"blank level0\" ></th>        <th class=\"col_heading level0 col0\" >Accuracy</th>        <th class=\"col_heading level0 col1\" >AUC</th>        <th class=\"col_heading level0 col2\" >Recall</th>        <th class=\"col_heading level0 col3\" >Prec.</th>        <th class=\"col_heading level0 col4\" >F1</th>        <th class=\"col_heading level0 col5\" >Kappa</th>        <th class=\"col_heading level0 col6\" >MCC</th>    </tr></thead><tbody>\n",
       "                <tr>\n",
       "                        <th id=\"T_365aeeea_2a94_11eb_bb91_00d8610889aelevel0_row0\" class=\"row_heading level0 row0\" >0</th>\n",
       "                        <td id=\"T_365aeeea_2a94_11eb_bb91_00d8610889aerow0_col0\" class=\"data row0 col0\" >0.5747</td>\n",
       "                        <td id=\"T_365aeeea_2a94_11eb_bb91_00d8610889aerow0_col1\" class=\"data row0 col1\" >0.0000</td>\n",
       "                        <td id=\"T_365aeeea_2a94_11eb_bb91_00d8610889aerow0_col2\" class=\"data row0 col2\" >0.1379</td>\n",
       "                        <td id=\"T_365aeeea_2a94_11eb_bb91_00d8610889aerow0_col3\" class=\"data row0 col3\" >0.4014</td>\n",
       "                        <td id=\"T_365aeeea_2a94_11eb_bb91_00d8610889aerow0_col4\" class=\"data row0 col4\" >0.4546</td>\n",
       "                        <td id=\"T_365aeeea_2a94_11eb_bb91_00d8610889aerow0_col5\" class=\"data row0 col5\" >0.4858</td>\n",
       "                        <td id=\"T_365aeeea_2a94_11eb_bb91_00d8610889aerow0_col6\" class=\"data row0 col6\" >0.5104</td>\n",
       "            </tr>\n",
       "            <tr>\n",
       "                        <th id=\"T_365aeeea_2a94_11eb_bb91_00d8610889aelevel0_row1\" class=\"row_heading level0 row1\" >1</th>\n",
       "                        <td id=\"T_365aeeea_2a94_11eb_bb91_00d8610889aerow1_col0\" class=\"data row1 col0\" >0.5747</td>\n",
       "                        <td id=\"T_365aeeea_2a94_11eb_bb91_00d8610889aerow1_col1\" class=\"data row1 col1\" >0.0000</td>\n",
       "                        <td id=\"T_365aeeea_2a94_11eb_bb91_00d8610889aerow1_col2\" class=\"data row1 col2\" >0.1379</td>\n",
       "                        <td id=\"T_365aeeea_2a94_11eb_bb91_00d8610889aerow1_col3\" class=\"data row1 col3\" >0.4088</td>\n",
       "                        <td id=\"T_365aeeea_2a94_11eb_bb91_00d8610889aerow1_col4\" class=\"data row1 col4\" >0.4582</td>\n",
       "                        <td id=\"T_365aeeea_2a94_11eb_bb91_00d8610889aerow1_col5\" class=\"data row1 col5\" >0.4872</td>\n",
       "                        <td id=\"T_365aeeea_2a94_11eb_bb91_00d8610889aerow1_col6\" class=\"data row1 col6\" >0.5128</td>\n",
       "            </tr>\n",
       "            <tr>\n",
       "                        <th id=\"T_365aeeea_2a94_11eb_bb91_00d8610889aelevel0_row2\" class=\"row_heading level0 row2\" >2</th>\n",
       "                        <td id=\"T_365aeeea_2a94_11eb_bb91_00d8610889aerow2_col0\" class=\"data row2 col0\" >0.5747</td>\n",
       "                        <td id=\"T_365aeeea_2a94_11eb_bb91_00d8610889aerow2_col1\" class=\"data row2 col1\" >0.0000</td>\n",
       "                        <td id=\"T_365aeeea_2a94_11eb_bb91_00d8610889aerow2_col2\" class=\"data row2 col2\" >0.1429</td>\n",
       "                        <td id=\"T_365aeeea_2a94_11eb_bb91_00d8610889aerow2_col3\" class=\"data row2 col3\" >0.4034</td>\n",
       "                        <td id=\"T_365aeeea_2a94_11eb_bb91_00d8610889aerow2_col4\" class=\"data row2 col4\" >0.4557</td>\n",
       "                        <td id=\"T_365aeeea_2a94_11eb_bb91_00d8610889aerow2_col5\" class=\"data row2 col5\" >0.4862</td>\n",
       "                        <td id=\"T_365aeeea_2a94_11eb_bb91_00d8610889aerow2_col6\" class=\"data row2 col6\" >0.5111</td>\n",
       "            </tr>\n",
       "            <tr>\n",
       "                        <th id=\"T_365aeeea_2a94_11eb_bb91_00d8610889aelevel0_row3\" class=\"row_heading level0 row3\" >3</th>\n",
       "                        <td id=\"T_365aeeea_2a94_11eb_bb91_00d8610889aerow3_col0\" class=\"data row3 col0\" >0.5727</td>\n",
       "                        <td id=\"T_365aeeea_2a94_11eb_bb91_00d8610889aerow3_col1\" class=\"data row3 col1\" >0.0000</td>\n",
       "                        <td id=\"T_365aeeea_2a94_11eb_bb91_00d8610889aerow3_col2\" class=\"data row3 col2\" >0.1379</td>\n",
       "                        <td id=\"T_365aeeea_2a94_11eb_bb91_00d8610889aerow3_col3\" class=\"data row3 col3\" >0.4037</td>\n",
       "                        <td id=\"T_365aeeea_2a94_11eb_bb91_00d8610889aerow3_col4\" class=\"data row3 col4\" >0.4548</td>\n",
       "                        <td id=\"T_365aeeea_2a94_11eb_bb91_00d8610889aerow3_col5\" class=\"data row3 col5\" >0.4845</td>\n",
       "                        <td id=\"T_365aeeea_2a94_11eb_bb91_00d8610889aerow3_col6\" class=\"data row3 col6\" >0.5097</td>\n",
       "            </tr>\n",
       "            <tr>\n",
       "                        <th id=\"T_365aeeea_2a94_11eb_bb91_00d8610889aelevel0_row4\" class=\"row_heading level0 row4\" >4</th>\n",
       "                        <td id=\"T_365aeeea_2a94_11eb_bb91_00d8610889aerow4_col0\" class=\"data row4 col0\" >0.5737</td>\n",
       "                        <td id=\"T_365aeeea_2a94_11eb_bb91_00d8610889aerow4_col1\" class=\"data row4 col1\" >0.0000</td>\n",
       "                        <td id=\"T_365aeeea_2a94_11eb_bb91_00d8610889aerow4_col2\" class=\"data row4 col2\" >0.1379</td>\n",
       "                        <td id=\"T_365aeeea_2a94_11eb_bb91_00d8610889aerow4_col3\" class=\"data row4 col3\" >0.4065</td>\n",
       "                        <td id=\"T_365aeeea_2a94_11eb_bb91_00d8610889aerow4_col4\" class=\"data row4 col4\" >0.4565</td>\n",
       "                        <td id=\"T_365aeeea_2a94_11eb_bb91_00d8610889aerow4_col5\" class=\"data row4 col5\" >0.4860</td>\n",
       "                        <td id=\"T_365aeeea_2a94_11eb_bb91_00d8610889aerow4_col6\" class=\"data row4 col6\" >0.5113</td>\n",
       "            </tr>\n",
       "            <tr>\n",
       "                        <th id=\"T_365aeeea_2a94_11eb_bb91_00d8610889aelevel0_row5\" class=\"row_heading level0 row5\" >5</th>\n",
       "                        <td id=\"T_365aeeea_2a94_11eb_bb91_00d8610889aerow5_col0\" class=\"data row5 col0\" >0.5747</td>\n",
       "                        <td id=\"T_365aeeea_2a94_11eb_bb91_00d8610889aerow5_col1\" class=\"data row5 col1\" >0.0000</td>\n",
       "                        <td id=\"T_365aeeea_2a94_11eb_bb91_00d8610889aerow5_col2\" class=\"data row5 col2\" >0.1379</td>\n",
       "                        <td id=\"T_365aeeea_2a94_11eb_bb91_00d8610889aerow5_col3\" class=\"data row5 col3\" >0.4049</td>\n",
       "                        <td id=\"T_365aeeea_2a94_11eb_bb91_00d8610889aerow5_col4\" class=\"data row5 col4\" >0.4564</td>\n",
       "                        <td id=\"T_365aeeea_2a94_11eb_bb91_00d8610889aerow5_col5\" class=\"data row5 col5\" >0.4865</td>\n",
       "                        <td id=\"T_365aeeea_2a94_11eb_bb91_00d8610889aerow5_col6\" class=\"data row5 col6\" >0.5115</td>\n",
       "            </tr>\n",
       "            <tr>\n",
       "                        <th id=\"T_365aeeea_2a94_11eb_bb91_00d8610889aelevel0_row6\" class=\"row_heading level0 row6\" >6</th>\n",
       "                        <td id=\"T_365aeeea_2a94_11eb_bb91_00d8610889aerow6_col0\" class=\"data row6 col0\" >0.5747</td>\n",
       "                        <td id=\"T_365aeeea_2a94_11eb_bb91_00d8610889aerow6_col1\" class=\"data row6 col1\" >0.0000</td>\n",
       "                        <td id=\"T_365aeeea_2a94_11eb_bb91_00d8610889aerow6_col2\" class=\"data row6 col2\" >0.1333</td>\n",
       "                        <td id=\"T_365aeeea_2a94_11eb_bb91_00d8610889aerow6_col3\" class=\"data row6 col3\" >0.4049</td>\n",
       "                        <td id=\"T_365aeeea_2a94_11eb_bb91_00d8610889aerow6_col4\" class=\"data row6 col4\" >0.4564</td>\n",
       "                        <td id=\"T_365aeeea_2a94_11eb_bb91_00d8610889aerow6_col5\" class=\"data row6 col5\" >0.4865</td>\n",
       "                        <td id=\"T_365aeeea_2a94_11eb_bb91_00d8610889aerow6_col6\" class=\"data row6 col6\" >0.5115</td>\n",
       "            </tr>\n",
       "            <tr>\n",
       "                        <th id=\"T_365aeeea_2a94_11eb_bb91_00d8610889aelevel0_row7\" class=\"row_heading level0 row7\" >7</th>\n",
       "                        <td id=\"T_365aeeea_2a94_11eb_bb91_00d8610889aerow7_col0\" class=\"data row7 col0\" >0.5737</td>\n",
       "                        <td id=\"T_365aeeea_2a94_11eb_bb91_00d8610889aerow7_col1\" class=\"data row7 col1\" >0.0000</td>\n",
       "                        <td id=\"T_365aeeea_2a94_11eb_bb91_00d8610889aerow7_col2\" class=\"data row7 col2\" >0.1327</td>\n",
       "                        <td id=\"T_365aeeea_2a94_11eb_bb91_00d8610889aerow7_col3\" class=\"data row7 col3\" >0.4070</td>\n",
       "                        <td id=\"T_365aeeea_2a94_11eb_bb91_00d8610889aerow7_col4\" class=\"data row7 col4\" >0.4571</td>\n",
       "                        <td id=\"T_365aeeea_2a94_11eb_bb91_00d8610889aerow7_col5\" class=\"data row7 col5\" >0.4858</td>\n",
       "                        <td id=\"T_365aeeea_2a94_11eb_bb91_00d8610889aerow7_col6\" class=\"data row7 col6\" >0.5109</td>\n",
       "            </tr>\n",
       "            <tr>\n",
       "                        <th id=\"T_365aeeea_2a94_11eb_bb91_00d8610889aelevel0_row8\" class=\"row_heading level0 row8\" >8</th>\n",
       "                        <td id=\"T_365aeeea_2a94_11eb_bb91_00d8610889aerow8_col0\" class=\"data row8 col0\" >0.5747</td>\n",
       "                        <td id=\"T_365aeeea_2a94_11eb_bb91_00d8610889aerow8_col1\" class=\"data row8 col1\" >0.0000</td>\n",
       "                        <td id=\"T_365aeeea_2a94_11eb_bb91_00d8610889aerow8_col2\" class=\"data row8 col2\" >0.1333</td>\n",
       "                        <td id=\"T_365aeeea_2a94_11eb_bb91_00d8610889aerow8_col3\" class=\"data row8 col3\" >0.4095</td>\n",
       "                        <td id=\"T_365aeeea_2a94_11eb_bb91_00d8610889aerow8_col4\" class=\"data row8 col4\" >0.4585</td>\n",
       "                        <td id=\"T_365aeeea_2a94_11eb_bb91_00d8610889aerow8_col5\" class=\"data row8 col5\" >0.4874</td>\n",
       "                        <td id=\"T_365aeeea_2a94_11eb_bb91_00d8610889aerow8_col6\" class=\"data row8 col6\" >0.5129</td>\n",
       "            </tr>\n",
       "            <tr>\n",
       "                        <th id=\"T_365aeeea_2a94_11eb_bb91_00d8610889aelevel0_row9\" class=\"row_heading level0 row9\" >9</th>\n",
       "                        <td id=\"T_365aeeea_2a94_11eb_bb91_00d8610889aerow9_col0\" class=\"data row9 col0\" >0.5743</td>\n",
       "                        <td id=\"T_365aeeea_2a94_11eb_bb91_00d8610889aerow9_col1\" class=\"data row9 col1\" >0.0000</td>\n",
       "                        <td id=\"T_365aeeea_2a94_11eb_bb91_00d8610889aerow9_col2\" class=\"data row9 col2\" >0.1372</td>\n",
       "                        <td id=\"T_365aeeea_2a94_11eb_bb91_00d8610889aerow9_col3\" class=\"data row9 col3\" >0.4033</td>\n",
       "                        <td id=\"T_365aeeea_2a94_11eb_bb91_00d8610889aerow9_col4\" class=\"data row9 col4\" >0.4556</td>\n",
       "                        <td id=\"T_365aeeea_2a94_11eb_bb91_00d8610889aerow9_col5\" class=\"data row9 col5\" >0.4854</td>\n",
       "                        <td id=\"T_365aeeea_2a94_11eb_bb91_00d8610889aerow9_col6\" class=\"data row9 col6\" >0.5101</td>\n",
       "            </tr>\n",
       "            <tr>\n",
       "                        <th id=\"T_365aeeea_2a94_11eb_bb91_00d8610889aelevel0_row10\" class=\"row_heading level0 row10\" >Mean</th>\n",
       "                        <td id=\"T_365aeeea_2a94_11eb_bb91_00d8610889aerow10_col0\" class=\"data row10 col0\" >0.5742</td>\n",
       "                        <td id=\"T_365aeeea_2a94_11eb_bb91_00d8610889aerow10_col1\" class=\"data row10 col1\" >0.0000</td>\n",
       "                        <td id=\"T_365aeeea_2a94_11eb_bb91_00d8610889aerow10_col2\" class=\"data row10 col2\" >0.1369</td>\n",
       "                        <td id=\"T_365aeeea_2a94_11eb_bb91_00d8610889aerow10_col3\" class=\"data row10 col3\" >0.4053</td>\n",
       "                        <td id=\"T_365aeeea_2a94_11eb_bb91_00d8610889aerow10_col4\" class=\"data row10 col4\" >0.4564</td>\n",
       "                        <td id=\"T_365aeeea_2a94_11eb_bb91_00d8610889aerow10_col5\" class=\"data row10 col5\" >0.4861</td>\n",
       "                        <td id=\"T_365aeeea_2a94_11eb_bb91_00d8610889aerow10_col6\" class=\"data row10 col6\" >0.5112</td>\n",
       "            </tr>\n",
       "            <tr>\n",
       "                        <th id=\"T_365aeeea_2a94_11eb_bb91_00d8610889aelevel0_row11\" class=\"row_heading level0 row11\" >SD</th>\n",
       "                        <td id=\"T_365aeeea_2a94_11eb_bb91_00d8610889aerow11_col0\" class=\"data row11 col0\" >0.0006</td>\n",
       "                        <td id=\"T_365aeeea_2a94_11eb_bb91_00d8610889aerow11_col1\" class=\"data row11 col1\" >0.0000</td>\n",
       "                        <td id=\"T_365aeeea_2a94_11eb_bb91_00d8610889aerow11_col2\" class=\"data row11 col2\" >0.0029</td>\n",
       "                        <td id=\"T_365aeeea_2a94_11eb_bb91_00d8610889aerow11_col3\" class=\"data row11 col3\" >0.0025</td>\n",
       "                        <td id=\"T_365aeeea_2a94_11eb_bb91_00d8610889aerow11_col4\" class=\"data row11 col4\" >0.0012</td>\n",
       "                        <td id=\"T_365aeeea_2a94_11eb_bb91_00d8610889aerow11_col5\" class=\"data row11 col5\" >0.0008</td>\n",
       "                        <td id=\"T_365aeeea_2a94_11eb_bb91_00d8610889aerow11_col6\" class=\"data row11 col6\" >0.0010</td>\n",
       "            </tr>\n",
       "    </tbody></table>"
      ],
      "text/plain": [
       "<pandas.io.formats.style.Styler at 0x2e8933f0370>"
      ]
     },
     "metadata": {},
     "output_type": "display_data"
    }
   ],
   "source": [
    "setup(data=data[TCP_features+[target_label]],\n",
    "      target=target_label,\n",
    "      silent=True)\n",
    "model=create_model(learning_model)"
   ]
  },
  {
   "cell_type": "code",
   "execution_count": 17,
   "metadata": {},
   "outputs": [
    {
     "name": "stdout",
     "output_type": "stream",
     "text": [
      "prediction took: 0.296875\n"
     ]
    }
   ],
   "source": [
    "predicted = timed_prediction(unseen_data[TCP_features],model)"
   ]
  },
  {
   "cell_type": "code",
   "execution_count": 18,
   "metadata": {},
   "outputs": [
    {
     "name": "stdout",
     "output_type": "stream",
     "text": [
      "Number of error: 2634 from 6189 test samples \n",
      "Which is 42.559379544352886% of error.\n"
     ]
    }
   ],
   "source": [
    "compare_prediction_with_answers(predicted,answers)"
   ]
  },
  {
   "cell_type": "markdown",
   "metadata": {},
   "source": [
    "# Only Size Features Group"
   ]
  },
  {
   "cell_type": "code",
   "execution_count": 19,
   "metadata": {
    "scrolled": true,
    "tags": []
   },
   "outputs": [
    {
     "data": {
      "text/html": [
       "<style  type=\"text/css\" >\n",
       "#T_38c1b0ec_2a94_11eb_abe0_00d8610889aerow10_col0,#T_38c1b0ec_2a94_11eb_abe0_00d8610889aerow10_col1,#T_38c1b0ec_2a94_11eb_abe0_00d8610889aerow10_col2,#T_38c1b0ec_2a94_11eb_abe0_00d8610889aerow10_col3,#T_38c1b0ec_2a94_11eb_abe0_00d8610889aerow10_col4,#T_38c1b0ec_2a94_11eb_abe0_00d8610889aerow10_col5,#T_38c1b0ec_2a94_11eb_abe0_00d8610889aerow10_col6{\n",
       "            background:  yellow;\n",
       "        }</style><table id=\"T_38c1b0ec_2a94_11eb_abe0_00d8610889ae\" ><thead>    <tr>        <th class=\"blank level0\" ></th>        <th class=\"col_heading level0 col0\" >Accuracy</th>        <th class=\"col_heading level0 col1\" >AUC</th>        <th class=\"col_heading level0 col2\" >Recall</th>        <th class=\"col_heading level0 col3\" >Prec.</th>        <th class=\"col_heading level0 col4\" >F1</th>        <th class=\"col_heading level0 col5\" >Kappa</th>        <th class=\"col_heading level0 col6\" >MCC</th>    </tr></thead><tbody>\n",
       "                <tr>\n",
       "                        <th id=\"T_38c1b0ec_2a94_11eb_abe0_00d8610889aelevel0_row0\" class=\"row_heading level0 row0\" >0</th>\n",
       "                        <td id=\"T_38c1b0ec_2a94_11eb_abe0_00d8610889aerow0_col0\" class=\"data row0 col0\" >0.9209</td>\n",
       "                        <td id=\"T_38c1b0ec_2a94_11eb_abe0_00d8610889aerow0_col1\" class=\"data row0 col1\" >0.0000</td>\n",
       "                        <td id=\"T_38c1b0ec_2a94_11eb_abe0_00d8610889aerow0_col2\" class=\"data row0 col2\" >0.7356</td>\n",
       "                        <td id=\"T_38c1b0ec_2a94_11eb_abe0_00d8610889aerow0_col3\" class=\"data row0 col3\" >0.9198</td>\n",
       "                        <td id=\"T_38c1b0ec_2a94_11eb_abe0_00d8610889aerow0_col4\" class=\"data row0 col4\" >0.9178</td>\n",
       "                        <td id=\"T_38c1b0ec_2a94_11eb_abe0_00d8610889aerow0_col5\" class=\"data row0 col5\" >0.9074</td>\n",
       "                        <td id=\"T_38c1b0ec_2a94_11eb_abe0_00d8610889aerow0_col6\" class=\"data row0 col6\" >0.9076</td>\n",
       "            </tr>\n",
       "            <tr>\n",
       "                        <th id=\"T_38c1b0ec_2a94_11eb_abe0_00d8610889aelevel0_row1\" class=\"row_heading level0 row1\" >1</th>\n",
       "                        <td id=\"T_38c1b0ec_2a94_11eb_abe0_00d8610889aerow1_col0\" class=\"data row1 col0\" >0.9199</td>\n",
       "                        <td id=\"T_38c1b0ec_2a94_11eb_abe0_00d8610889aerow1_col1\" class=\"data row1 col1\" >0.0000</td>\n",
       "                        <td id=\"T_38c1b0ec_2a94_11eb_abe0_00d8610889aerow1_col2\" class=\"data row1 col2\" >0.7597</td>\n",
       "                        <td id=\"T_38c1b0ec_2a94_11eb_abe0_00d8610889aerow1_col3\" class=\"data row1 col3\" >0.9185</td>\n",
       "                        <td id=\"T_38c1b0ec_2a94_11eb_abe0_00d8610889aerow1_col4\" class=\"data row1 col4\" >0.9164</td>\n",
       "                        <td id=\"T_38c1b0ec_2a94_11eb_abe0_00d8610889aerow1_col5\" class=\"data row1 col5\" >0.9061</td>\n",
       "                        <td id=\"T_38c1b0ec_2a94_11eb_abe0_00d8610889aerow1_col6\" class=\"data row1 col6\" >0.9062</td>\n",
       "            </tr>\n",
       "            <tr>\n",
       "                        <th id=\"T_38c1b0ec_2a94_11eb_abe0_00d8610889aelevel0_row2\" class=\"row_heading level0 row2\" >2</th>\n",
       "                        <td id=\"T_38c1b0ec_2a94_11eb_abe0_00d8610889aerow2_col0\" class=\"data row2 col0\" >0.9318</td>\n",
       "                        <td id=\"T_38c1b0ec_2a94_11eb_abe0_00d8610889aerow2_col1\" class=\"data row2 col1\" >0.0000</td>\n",
       "                        <td id=\"T_38c1b0ec_2a94_11eb_abe0_00d8610889aerow2_col2\" class=\"data row2 col2\" >0.8073</td>\n",
       "                        <td id=\"T_38c1b0ec_2a94_11eb_abe0_00d8610889aerow2_col3\" class=\"data row2 col3\" >0.9308</td>\n",
       "                        <td id=\"T_38c1b0ec_2a94_11eb_abe0_00d8610889aerow2_col4\" class=\"data row2 col4\" >0.9284</td>\n",
       "                        <td id=\"T_38c1b0ec_2a94_11eb_abe0_00d8610889aerow2_col5\" class=\"data row2 col5\" >0.9202</td>\n",
       "                        <td id=\"T_38c1b0ec_2a94_11eb_abe0_00d8610889aerow2_col6\" class=\"data row2 col6\" >0.9204</td>\n",
       "            </tr>\n",
       "            <tr>\n",
       "                        <th id=\"T_38c1b0ec_2a94_11eb_abe0_00d8610889aelevel0_row3\" class=\"row_heading level0 row3\" >3</th>\n",
       "                        <td id=\"T_38c1b0ec_2a94_11eb_abe0_00d8610889aerow3_col0\" class=\"data row3 col0\" >0.9278</td>\n",
       "                        <td id=\"T_38c1b0ec_2a94_11eb_abe0_00d8610889aerow3_col1\" class=\"data row3 col1\" >0.0000</td>\n",
       "                        <td id=\"T_38c1b0ec_2a94_11eb_abe0_00d8610889aerow3_col2\" class=\"data row3 col2\" >0.7378</td>\n",
       "                        <td id=\"T_38c1b0ec_2a94_11eb_abe0_00d8610889aerow3_col3\" class=\"data row3 col3\" >0.9259</td>\n",
       "                        <td id=\"T_38c1b0ec_2a94_11eb_abe0_00d8610889aerow3_col4\" class=\"data row3 col4\" >0.9231</td>\n",
       "                        <td id=\"T_38c1b0ec_2a94_11eb_abe0_00d8610889aerow3_col5\" class=\"data row3 col5\" >0.9154</td>\n",
       "                        <td id=\"T_38c1b0ec_2a94_11eb_abe0_00d8610889aerow3_col6\" class=\"data row3 col6\" >0.9157</td>\n",
       "            </tr>\n",
       "            <tr>\n",
       "                        <th id=\"T_38c1b0ec_2a94_11eb_abe0_00d8610889aelevel0_row4\" class=\"row_heading level0 row4\" >4</th>\n",
       "                        <td id=\"T_38c1b0ec_2a94_11eb_abe0_00d8610889aerow4_col0\" class=\"data row4 col0\" >0.9238</td>\n",
       "                        <td id=\"T_38c1b0ec_2a94_11eb_abe0_00d8610889aerow4_col1\" class=\"data row4 col1\" >0.0000</td>\n",
       "                        <td id=\"T_38c1b0ec_2a94_11eb_abe0_00d8610889aerow4_col2\" class=\"data row4 col2\" >0.7972</td>\n",
       "                        <td id=\"T_38c1b0ec_2a94_11eb_abe0_00d8610889aerow4_col3\" class=\"data row4 col3\" >0.9226</td>\n",
       "                        <td id=\"T_38c1b0ec_2a94_11eb_abe0_00d8610889aerow4_col4\" class=\"data row4 col4\" >0.9197</td>\n",
       "                        <td id=\"T_38c1b0ec_2a94_11eb_abe0_00d8610889aerow4_col5\" class=\"data row4 col5\" >0.9108</td>\n",
       "                        <td id=\"T_38c1b0ec_2a94_11eb_abe0_00d8610889aerow4_col6\" class=\"data row4 col6\" >0.9110</td>\n",
       "            </tr>\n",
       "            <tr>\n",
       "                        <th id=\"T_38c1b0ec_2a94_11eb_abe0_00d8610889aelevel0_row5\" class=\"row_heading level0 row5\" >5</th>\n",
       "                        <td id=\"T_38c1b0ec_2a94_11eb_abe0_00d8610889aerow5_col0\" class=\"data row5 col0\" >0.9179</td>\n",
       "                        <td id=\"T_38c1b0ec_2a94_11eb_abe0_00d8610889aerow5_col1\" class=\"data row5 col1\" >0.0000</td>\n",
       "                        <td id=\"T_38c1b0ec_2a94_11eb_abe0_00d8610889aerow5_col2\" class=\"data row5 col2\" >0.6807</td>\n",
       "                        <td id=\"T_38c1b0ec_2a94_11eb_abe0_00d8610889aerow5_col3\" class=\"data row5 col3\" >0.9143</td>\n",
       "                        <td id=\"T_38c1b0ec_2a94_11eb_abe0_00d8610889aerow5_col4\" class=\"data row5 col4\" >0.9127</td>\n",
       "                        <td id=\"T_38c1b0ec_2a94_11eb_abe0_00d8610889aerow5_col5\" class=\"data row5 col5\" >0.9037</td>\n",
       "                        <td id=\"T_38c1b0ec_2a94_11eb_abe0_00d8610889aerow5_col6\" class=\"data row5 col6\" >0.9040</td>\n",
       "            </tr>\n",
       "            <tr>\n",
       "                        <th id=\"T_38c1b0ec_2a94_11eb_abe0_00d8610889aelevel0_row6\" class=\"row_heading level0 row6\" >6</th>\n",
       "                        <td id=\"T_38c1b0ec_2a94_11eb_abe0_00d8610889aerow6_col0\" class=\"data row6 col0\" >0.9248</td>\n",
       "                        <td id=\"T_38c1b0ec_2a94_11eb_abe0_00d8610889aerow6_col1\" class=\"data row6 col1\" >0.0000</td>\n",
       "                        <td id=\"T_38c1b0ec_2a94_11eb_abe0_00d8610889aerow6_col2\" class=\"data row6 col2\" >0.7864</td>\n",
       "                        <td id=\"T_38c1b0ec_2a94_11eb_abe0_00d8610889aerow6_col3\" class=\"data row6 col3\" >0.9220</td>\n",
       "                        <td id=\"T_38c1b0ec_2a94_11eb_abe0_00d8610889aerow6_col4\" class=\"data row6 col4\" >0.9218</td>\n",
       "                        <td id=\"T_38c1b0ec_2a94_11eb_abe0_00d8610889aerow6_col5\" class=\"data row6 col5\" >0.9119</td>\n",
       "                        <td id=\"T_38c1b0ec_2a94_11eb_abe0_00d8610889aerow6_col6\" class=\"data row6 col6\" >0.9120</td>\n",
       "            </tr>\n",
       "            <tr>\n",
       "                        <th id=\"T_38c1b0ec_2a94_11eb_abe0_00d8610889aelevel0_row7\" class=\"row_heading level0 row7\" >7</th>\n",
       "                        <td id=\"T_38c1b0ec_2a94_11eb_abe0_00d8610889aerow7_col0\" class=\"data row7 col0\" >0.9248</td>\n",
       "                        <td id=\"T_38c1b0ec_2a94_11eb_abe0_00d8610889aerow7_col1\" class=\"data row7 col1\" >0.0000</td>\n",
       "                        <td id=\"T_38c1b0ec_2a94_11eb_abe0_00d8610889aerow7_col2\" class=\"data row7 col2\" >0.6695</td>\n",
       "                        <td id=\"T_38c1b0ec_2a94_11eb_abe0_00d8610889aerow7_col3\" class=\"data row7 col3\" >0.9240</td>\n",
       "                        <td id=\"T_38c1b0ec_2a94_11eb_abe0_00d8610889aerow7_col4\" class=\"data row7 col4\" >0.9207</td>\n",
       "                        <td id=\"T_38c1b0ec_2a94_11eb_abe0_00d8610889aerow7_col5\" class=\"data row7 col5\" >0.9121</td>\n",
       "                        <td id=\"T_38c1b0ec_2a94_11eb_abe0_00d8610889aerow7_col6\" class=\"data row7 col6\" >0.9123</td>\n",
       "            </tr>\n",
       "            <tr>\n",
       "                        <th id=\"T_38c1b0ec_2a94_11eb_abe0_00d8610889aelevel0_row8\" class=\"row_heading level0 row8\" >8</th>\n",
       "                        <td id=\"T_38c1b0ec_2a94_11eb_abe0_00d8610889aerow8_col0\" class=\"data row8 col0\" >0.9209</td>\n",
       "                        <td id=\"T_38c1b0ec_2a94_11eb_abe0_00d8610889aerow8_col1\" class=\"data row8 col1\" >0.0000</td>\n",
       "                        <td id=\"T_38c1b0ec_2a94_11eb_abe0_00d8610889aerow8_col2\" class=\"data row8 col2\" >0.7611</td>\n",
       "                        <td id=\"T_38c1b0ec_2a94_11eb_abe0_00d8610889aerow8_col3\" class=\"data row8 col3\" >0.9202</td>\n",
       "                        <td id=\"T_38c1b0ec_2a94_11eb_abe0_00d8610889aerow8_col4\" class=\"data row8 col4\" >0.9178</td>\n",
       "                        <td id=\"T_38c1b0ec_2a94_11eb_abe0_00d8610889aerow8_col5\" class=\"data row8 col5\" >0.9073</td>\n",
       "                        <td id=\"T_38c1b0ec_2a94_11eb_abe0_00d8610889aerow8_col6\" class=\"data row8 col6\" >0.9076</td>\n",
       "            </tr>\n",
       "            <tr>\n",
       "                        <th id=\"T_38c1b0ec_2a94_11eb_abe0_00d8610889aelevel0_row9\" class=\"row_heading level0 row9\" >9</th>\n",
       "                        <td id=\"T_38c1b0ec_2a94_11eb_abe0_00d8610889aerow9_col0\" class=\"data row9 col0\" >0.9317</td>\n",
       "                        <td id=\"T_38c1b0ec_2a94_11eb_abe0_00d8610889aerow9_col1\" class=\"data row9 col1\" >0.0000</td>\n",
       "                        <td id=\"T_38c1b0ec_2a94_11eb_abe0_00d8610889aerow9_col2\" class=\"data row9 col2\" >0.8047</td>\n",
       "                        <td id=\"T_38c1b0ec_2a94_11eb_abe0_00d8610889aerow9_col3\" class=\"data row9 col3\" >0.9313</td>\n",
       "                        <td id=\"T_38c1b0ec_2a94_11eb_abe0_00d8610889aerow9_col4\" class=\"data row9 col4\" >0.9277</td>\n",
       "                        <td id=\"T_38c1b0ec_2a94_11eb_abe0_00d8610889aerow9_col5\" class=\"data row9 col5\" >0.9200</td>\n",
       "                        <td id=\"T_38c1b0ec_2a94_11eb_abe0_00d8610889aerow9_col6\" class=\"data row9 col6\" >0.9203</td>\n",
       "            </tr>\n",
       "            <tr>\n",
       "                        <th id=\"T_38c1b0ec_2a94_11eb_abe0_00d8610889aelevel0_row10\" class=\"row_heading level0 row10\" >Mean</th>\n",
       "                        <td id=\"T_38c1b0ec_2a94_11eb_abe0_00d8610889aerow10_col0\" class=\"data row10 col0\" >0.9244</td>\n",
       "                        <td id=\"T_38c1b0ec_2a94_11eb_abe0_00d8610889aerow10_col1\" class=\"data row10 col1\" >0.0000</td>\n",
       "                        <td id=\"T_38c1b0ec_2a94_11eb_abe0_00d8610889aerow10_col2\" class=\"data row10 col2\" >0.7540</td>\n",
       "                        <td id=\"T_38c1b0ec_2a94_11eb_abe0_00d8610889aerow10_col3\" class=\"data row10 col3\" >0.9229</td>\n",
       "                        <td id=\"T_38c1b0ec_2a94_11eb_abe0_00d8610889aerow10_col4\" class=\"data row10 col4\" >0.9206</td>\n",
       "                        <td id=\"T_38c1b0ec_2a94_11eb_abe0_00d8610889aerow10_col5\" class=\"data row10 col5\" >0.9115</td>\n",
       "                        <td id=\"T_38c1b0ec_2a94_11eb_abe0_00d8610889aerow10_col6\" class=\"data row10 col6\" >0.9117</td>\n",
       "            </tr>\n",
       "            <tr>\n",
       "                        <th id=\"T_38c1b0ec_2a94_11eb_abe0_00d8610889aelevel0_row11\" class=\"row_heading level0 row11\" >SD</th>\n",
       "                        <td id=\"T_38c1b0ec_2a94_11eb_abe0_00d8610889aerow11_col0\" class=\"data row11 col0\" >0.0045</td>\n",
       "                        <td id=\"T_38c1b0ec_2a94_11eb_abe0_00d8610889aerow11_col1\" class=\"data row11 col1\" >0.0000</td>\n",
       "                        <td id=\"T_38c1b0ec_2a94_11eb_abe0_00d8610889aerow11_col2\" class=\"data row11 col2\" >0.0464</td>\n",
       "                        <td id=\"T_38c1b0ec_2a94_11eb_abe0_00d8610889aerow11_col3\" class=\"data row11 col3\" >0.0050</td>\n",
       "                        <td id=\"T_38c1b0ec_2a94_11eb_abe0_00d8610889aerow11_col4\" class=\"data row11 col4\" >0.0046</td>\n",
       "                        <td id=\"T_38c1b0ec_2a94_11eb_abe0_00d8610889aerow11_col5\" class=\"data row11 col5\" >0.0054</td>\n",
       "                        <td id=\"T_38c1b0ec_2a94_11eb_abe0_00d8610889aerow11_col6\" class=\"data row11 col6\" >0.0054</td>\n",
       "            </tr>\n",
       "    </tbody></table>"
      ],
      "text/plain": [
       "<pandas.io.formats.style.Styler at 0x2e8933f0e50>"
      ]
     },
     "metadata": {},
     "output_type": "display_data"
    }
   ],
   "source": [
    "setup(data=data[size_features+[target_label]],\n",
    "      target=target_label,\n",
    "      silent=True)\n",
    "model=create_model(learning_model)"
   ]
  },
  {
   "cell_type": "code",
   "execution_count": 20,
   "metadata": {},
   "outputs": [
    {
     "name": "stdout",
     "output_type": "stream",
     "text": [
      "prediction took: 0.78125\n"
     ]
    }
   ],
   "source": [
    "predicted = timed_prediction(unseen_data[size_features],model)"
   ]
  },
  {
   "cell_type": "code",
   "execution_count": 21,
   "metadata": {},
   "outputs": [
    {
     "name": "stdout",
     "output_type": "stream",
     "text": [
      "Number of error: 452 from 6189 test samples \n",
      "Which is 7.30328001292616% of error.\n"
     ]
    }
   ],
   "source": [
    "compare_prediction_with_answers(predicted,answers)"
   ]
  },
  {
   "cell_type": "markdown",
   "metadata": {},
   "source": [
    "# Only Peak Features Group"
   ]
  },
  {
   "cell_type": "code",
   "execution_count": 22,
   "metadata": {
    "scrolled": true,
    "tags": []
   },
   "outputs": [
    {
     "data": {
      "text/html": [
       "<style  type=\"text/css\" >\n",
       "#T_3b539471_2a94_11eb_a026_00d8610889aerow10_col0,#T_3b539471_2a94_11eb_a026_00d8610889aerow10_col1,#T_3b539471_2a94_11eb_a026_00d8610889aerow10_col2,#T_3b539471_2a94_11eb_a026_00d8610889aerow10_col3,#T_3b539471_2a94_11eb_a026_00d8610889aerow10_col4,#T_3b539471_2a94_11eb_a026_00d8610889aerow10_col5,#T_3b539471_2a94_11eb_a026_00d8610889aerow10_col6{\n",
       "            background:  yellow;\n",
       "        }</style><table id=\"T_3b539471_2a94_11eb_a026_00d8610889ae\" ><thead>    <tr>        <th class=\"blank level0\" ></th>        <th class=\"col_heading level0 col0\" >Accuracy</th>        <th class=\"col_heading level0 col1\" >AUC</th>        <th class=\"col_heading level0 col2\" >Recall</th>        <th class=\"col_heading level0 col3\" >Prec.</th>        <th class=\"col_heading level0 col4\" >F1</th>        <th class=\"col_heading level0 col5\" >Kappa</th>        <th class=\"col_heading level0 col6\" >MCC</th>    </tr></thead><tbody>\n",
       "                <tr>\n",
       "                        <th id=\"T_3b539471_2a94_11eb_a026_00d8610889aelevel0_row0\" class=\"row_heading level0 row0\" >0</th>\n",
       "                        <td id=\"T_3b539471_2a94_11eb_a026_00d8610889aerow0_col0\" class=\"data row0 col0\" >0.9070</td>\n",
       "                        <td id=\"T_3b539471_2a94_11eb_a026_00d8610889aerow0_col1\" class=\"data row0 col1\" >0.0000</td>\n",
       "                        <td id=\"T_3b539471_2a94_11eb_a026_00d8610889aerow0_col2\" class=\"data row0 col2\" >0.7579</td>\n",
       "                        <td id=\"T_3b539471_2a94_11eb_a026_00d8610889aerow0_col3\" class=\"data row0 col3\" >0.9008</td>\n",
       "                        <td id=\"T_3b539471_2a94_11eb_a026_00d8610889aerow0_col4\" class=\"data row0 col4\" >0.8993</td>\n",
       "                        <td id=\"T_3b539471_2a94_11eb_a026_00d8610889aerow0_col5\" class=\"data row0 col5\" >0.8909</td>\n",
       "                        <td id=\"T_3b539471_2a94_11eb_a026_00d8610889aerow0_col6\" class=\"data row0 col6\" >0.8913</td>\n",
       "            </tr>\n",
       "            <tr>\n",
       "                        <th id=\"T_3b539471_2a94_11eb_a026_00d8610889aelevel0_row1\" class=\"row_heading level0 row1\" >1</th>\n",
       "                        <td id=\"T_3b539471_2a94_11eb_a026_00d8610889aerow1_col0\" class=\"data row1 col0\" >0.8991</td>\n",
       "                        <td id=\"T_3b539471_2a94_11eb_a026_00d8610889aerow1_col1\" class=\"data row1 col1\" >0.0000</td>\n",
       "                        <td id=\"T_3b539471_2a94_11eb_a026_00d8610889aerow1_col2\" class=\"data row1 col2\" >0.6722</td>\n",
       "                        <td id=\"T_3b539471_2a94_11eb_a026_00d8610889aerow1_col3\" class=\"data row1 col3\" >0.9029</td>\n",
       "                        <td id=\"T_3b539471_2a94_11eb_a026_00d8610889aerow1_col4\" class=\"data row1 col4\" >0.8967</td>\n",
       "                        <td id=\"T_3b539471_2a94_11eb_a026_00d8610889aerow1_col5\" class=\"data row1 col5\" >0.8818</td>\n",
       "                        <td id=\"T_3b539471_2a94_11eb_a026_00d8610889aerow1_col6\" class=\"data row1 col6\" >0.8821</td>\n",
       "            </tr>\n",
       "            <tr>\n",
       "                        <th id=\"T_3b539471_2a94_11eb_a026_00d8610889aelevel0_row2\" class=\"row_heading level0 row2\" >2</th>\n",
       "                        <td id=\"T_3b539471_2a94_11eb_a026_00d8610889aerow2_col0\" class=\"data row2 col0\" >0.9120</td>\n",
       "                        <td id=\"T_3b539471_2a94_11eb_a026_00d8610889aerow2_col1\" class=\"data row2 col1\" >0.0000</td>\n",
       "                        <td id=\"T_3b539471_2a94_11eb_a026_00d8610889aerow2_col2\" class=\"data row2 col2\" >0.7834</td>\n",
       "                        <td id=\"T_3b539471_2a94_11eb_a026_00d8610889aerow2_col3\" class=\"data row2 col3\" >0.9113</td>\n",
       "                        <td id=\"T_3b539471_2a94_11eb_a026_00d8610889aerow2_col4\" class=\"data row2 col4\" >0.9090</td>\n",
       "                        <td id=\"T_3b539471_2a94_11eb_a026_00d8610889aerow2_col5\" class=\"data row2 col5\" >0.8968</td>\n",
       "                        <td id=\"T_3b539471_2a94_11eb_a026_00d8610889aerow2_col6\" class=\"data row2 col6\" >0.8970</td>\n",
       "            </tr>\n",
       "            <tr>\n",
       "                        <th id=\"T_3b539471_2a94_11eb_a026_00d8610889aelevel0_row3\" class=\"row_heading level0 row3\" >3</th>\n",
       "                        <td id=\"T_3b539471_2a94_11eb_a026_00d8610889aerow3_col0\" class=\"data row3 col0\" >0.9050</td>\n",
       "                        <td id=\"T_3b539471_2a94_11eb_a026_00d8610889aerow3_col1\" class=\"data row3 col1\" >0.0000</td>\n",
       "                        <td id=\"T_3b539471_2a94_11eb_a026_00d8610889aerow3_col2\" class=\"data row3 col2\" >0.8505</td>\n",
       "                        <td id=\"T_3b539471_2a94_11eb_a026_00d8610889aerow3_col3\" class=\"data row3 col3\" >0.9137</td>\n",
       "                        <td id=\"T_3b539471_2a94_11eb_a026_00d8610889aerow3_col4\" class=\"data row3 col4\" >0.9050</td>\n",
       "                        <td id=\"T_3b539471_2a94_11eb_a026_00d8610889aerow3_col5\" class=\"data row3 col5\" >0.8890</td>\n",
       "                        <td id=\"T_3b539471_2a94_11eb_a026_00d8610889aerow3_col6\" class=\"data row3 col6\" >0.8894</td>\n",
       "            </tr>\n",
       "            <tr>\n",
       "                        <th id=\"T_3b539471_2a94_11eb_a026_00d8610889aelevel0_row4\" class=\"row_heading level0 row4\" >4</th>\n",
       "                        <td id=\"T_3b539471_2a94_11eb_a026_00d8610889aerow4_col0\" class=\"data row4 col0\" >0.8991</td>\n",
       "                        <td id=\"T_3b539471_2a94_11eb_a026_00d8610889aerow4_col1\" class=\"data row4 col1\" >0.0000</td>\n",
       "                        <td id=\"T_3b539471_2a94_11eb_a026_00d8610889aerow4_col2\" class=\"data row4 col2\" >0.7011</td>\n",
       "                        <td id=\"T_3b539471_2a94_11eb_a026_00d8610889aerow4_col3\" class=\"data row4 col3\" >0.8979</td>\n",
       "                        <td id=\"T_3b539471_2a94_11eb_a026_00d8610889aerow4_col4\" class=\"data row4 col4\" >0.8921</td>\n",
       "                        <td id=\"T_3b539471_2a94_11eb_a026_00d8610889aerow4_col5\" class=\"data row4 col5\" >0.8817</td>\n",
       "                        <td id=\"T_3b539471_2a94_11eb_a026_00d8610889aerow4_col6\" class=\"data row4 col6\" >0.8819</td>\n",
       "            </tr>\n",
       "            <tr>\n",
       "                        <th id=\"T_3b539471_2a94_11eb_a026_00d8610889aelevel0_row5\" class=\"row_heading level0 row5\" >5</th>\n",
       "                        <td id=\"T_3b539471_2a94_11eb_a026_00d8610889aerow5_col0\" class=\"data row5 col0\" >0.8843</td>\n",
       "                        <td id=\"T_3b539471_2a94_11eb_a026_00d8610889aerow5_col1\" class=\"data row5 col1\" >0.0000</td>\n",
       "                        <td id=\"T_3b539471_2a94_11eb_a026_00d8610889aerow5_col2\" class=\"data row5 col2\" >0.7484</td>\n",
       "                        <td id=\"T_3b539471_2a94_11eb_a026_00d8610889aerow5_col3\" class=\"data row5 col3\" >0.8883</td>\n",
       "                        <td id=\"T_3b539471_2a94_11eb_a026_00d8610889aerow5_col4\" class=\"data row5 col4\" >0.8819</td>\n",
       "                        <td id=\"T_3b539471_2a94_11eb_a026_00d8610889aerow5_col5\" class=\"data row5 col5\" >0.8641</td>\n",
       "                        <td id=\"T_3b539471_2a94_11eb_a026_00d8610889aerow5_col6\" class=\"data row5 col6\" >0.8645</td>\n",
       "            </tr>\n",
       "            <tr>\n",
       "                        <th id=\"T_3b539471_2a94_11eb_a026_00d8610889aelevel0_row6\" class=\"row_heading level0 row6\" >6</th>\n",
       "                        <td id=\"T_3b539471_2a94_11eb_a026_00d8610889aerow6_col0\" class=\"data row6 col0\" >0.9031</td>\n",
       "                        <td id=\"T_3b539471_2a94_11eb_a026_00d8610889aerow6_col1\" class=\"data row6 col1\" >0.0000</td>\n",
       "                        <td id=\"T_3b539471_2a94_11eb_a026_00d8610889aerow6_col2\" class=\"data row6 col2\" >0.7289</td>\n",
       "                        <td id=\"T_3b539471_2a94_11eb_a026_00d8610889aerow6_col3\" class=\"data row6 col3\" >0.9078</td>\n",
       "                        <td id=\"T_3b539471_2a94_11eb_a026_00d8610889aerow6_col4\" class=\"data row6 col4\" >0.8998</td>\n",
       "                        <td id=\"T_3b539471_2a94_11eb_a026_00d8610889aerow6_col5\" class=\"data row6 col5\" >0.8865</td>\n",
       "                        <td id=\"T_3b539471_2a94_11eb_a026_00d8610889aerow6_col6\" class=\"data row6 col6\" >0.8868</td>\n",
       "            </tr>\n",
       "            <tr>\n",
       "                        <th id=\"T_3b539471_2a94_11eb_a026_00d8610889aelevel0_row7\" class=\"row_heading level0 row7\" >7</th>\n",
       "                        <td id=\"T_3b539471_2a94_11eb_a026_00d8610889aerow7_col0\" class=\"data row7 col0\" >0.9021</td>\n",
       "                        <td id=\"T_3b539471_2a94_11eb_a026_00d8610889aerow7_col1\" class=\"data row7 col1\" >0.0000</td>\n",
       "                        <td id=\"T_3b539471_2a94_11eb_a026_00d8610889aerow7_col2\" class=\"data row7 col2\" >0.7550</td>\n",
       "                        <td id=\"T_3b539471_2a94_11eb_a026_00d8610889aerow7_col3\" class=\"data row7 col3\" >0.9032</td>\n",
       "                        <td id=\"T_3b539471_2a94_11eb_a026_00d8610889aerow7_col4\" class=\"data row7 col4\" >0.8972</td>\n",
       "                        <td id=\"T_3b539471_2a94_11eb_a026_00d8610889aerow7_col5\" class=\"data row7 col5\" >0.8851</td>\n",
       "                        <td id=\"T_3b539471_2a94_11eb_a026_00d8610889aerow7_col6\" class=\"data row7 col6\" >0.8854</td>\n",
       "            </tr>\n",
       "            <tr>\n",
       "                        <th id=\"T_3b539471_2a94_11eb_a026_00d8610889aelevel0_row8\" class=\"row_heading level0 row8\" >8</th>\n",
       "                        <td id=\"T_3b539471_2a94_11eb_a026_00d8610889aerow8_col0\" class=\"data row8 col0\" >0.8971</td>\n",
       "                        <td id=\"T_3b539471_2a94_11eb_a026_00d8610889aerow8_col1\" class=\"data row8 col1\" >0.0000</td>\n",
       "                        <td id=\"T_3b539471_2a94_11eb_a026_00d8610889aerow8_col2\" class=\"data row8 col2\" >0.7129</td>\n",
       "                        <td id=\"T_3b539471_2a94_11eb_a026_00d8610889aerow8_col3\" class=\"data row8 col3\" >0.8847</td>\n",
       "                        <td id=\"T_3b539471_2a94_11eb_a026_00d8610889aerow8_col4\" class=\"data row8 col4\" >0.8872</td>\n",
       "                        <td id=\"T_3b539471_2a94_11eb_a026_00d8610889aerow8_col5\" class=\"data row8 col5\" >0.8791</td>\n",
       "                        <td id=\"T_3b539471_2a94_11eb_a026_00d8610889aerow8_col6\" class=\"data row8 col6\" >0.8795</td>\n",
       "            </tr>\n",
       "            <tr>\n",
       "                        <th id=\"T_3b539471_2a94_11eb_a026_00d8610889aelevel0_row9\" class=\"row_heading level0 row9\" >9</th>\n",
       "                        <td id=\"T_3b539471_2a94_11eb_a026_00d8610889aerow9_col0\" class=\"data row9 col0\" >0.8842</td>\n",
       "                        <td id=\"T_3b539471_2a94_11eb_a026_00d8610889aerow9_col1\" class=\"data row9 col1\" >0.0000</td>\n",
       "                        <td id=\"T_3b539471_2a94_11eb_a026_00d8610889aerow9_col2\" class=\"data row9 col2\" >0.6852</td>\n",
       "                        <td id=\"T_3b539471_2a94_11eb_a026_00d8610889aerow9_col3\" class=\"data row9 col3\" >0.8736</td>\n",
       "                        <td id=\"T_3b539471_2a94_11eb_a026_00d8610889aerow9_col4\" class=\"data row9 col4\" >0.8759</td>\n",
       "                        <td id=\"T_3b539471_2a94_11eb_a026_00d8610889aerow9_col5\" class=\"data row9 col5\" >0.8639</td>\n",
       "                        <td id=\"T_3b539471_2a94_11eb_a026_00d8610889aerow9_col6\" class=\"data row9 col6\" >0.8642</td>\n",
       "            </tr>\n",
       "            <tr>\n",
       "                        <th id=\"T_3b539471_2a94_11eb_a026_00d8610889aelevel0_row10\" class=\"row_heading level0 row10\" >Mean</th>\n",
       "                        <td id=\"T_3b539471_2a94_11eb_a026_00d8610889aerow10_col0\" class=\"data row10 col0\" >0.8993</td>\n",
       "                        <td id=\"T_3b539471_2a94_11eb_a026_00d8610889aerow10_col1\" class=\"data row10 col1\" >0.0000</td>\n",
       "                        <td id=\"T_3b539471_2a94_11eb_a026_00d8610889aerow10_col2\" class=\"data row10 col2\" >0.7395</td>\n",
       "                        <td id=\"T_3b539471_2a94_11eb_a026_00d8610889aerow10_col3\" class=\"data row10 col3\" >0.8984</td>\n",
       "                        <td id=\"T_3b539471_2a94_11eb_a026_00d8610889aerow10_col4\" class=\"data row10 col4\" >0.8944</td>\n",
       "                        <td id=\"T_3b539471_2a94_11eb_a026_00d8610889aerow10_col5\" class=\"data row10 col5\" >0.8819</td>\n",
       "                        <td id=\"T_3b539471_2a94_11eb_a026_00d8610889aerow10_col6\" class=\"data row10 col6\" >0.8822</td>\n",
       "            </tr>\n",
       "            <tr>\n",
       "                        <th id=\"T_3b539471_2a94_11eb_a026_00d8610889aelevel0_row11\" class=\"row_heading level0 row11\" >SD</th>\n",
       "                        <td id=\"T_3b539471_2a94_11eb_a026_00d8610889aerow11_col0\" class=\"data row11 col0\" >0.0086</td>\n",
       "                        <td id=\"T_3b539471_2a94_11eb_a026_00d8610889aerow11_col1\" class=\"data row11 col1\" >0.0000</td>\n",
       "                        <td id=\"T_3b539471_2a94_11eb_a026_00d8610889aerow11_col2\" class=\"data row11 col2\" >0.0497</td>\n",
       "                        <td id=\"T_3b539471_2a94_11eb_a026_00d8610889aerow11_col3\" class=\"data row11 col3\" >0.0120</td>\n",
       "                        <td id=\"T_3b539471_2a94_11eb_a026_00d8610889aerow11_col4\" class=\"data row11 col4\" >0.0097</td>\n",
       "                        <td id=\"T_3b539471_2a94_11eb_a026_00d8610889aerow11_col5\" class=\"data row11 col5\" >0.0102</td>\n",
       "                        <td id=\"T_3b539471_2a94_11eb_a026_00d8610889aerow11_col6\" class=\"data row11 col6\" >0.0101</td>\n",
       "            </tr>\n",
       "    </tbody></table>"
      ],
      "text/plain": [
       "<pandas.io.formats.style.Styler at 0x2e8f1ead940>"
      ]
     },
     "metadata": {},
     "output_type": "display_data"
    }
   ],
   "source": [
    "setup(data=data[peak_features+[target_label]],\n",
    "      target=target_label,\n",
    "      silent=True)\n",
    "model=create_model(learning_model)"
   ]
  },
  {
   "cell_type": "code",
   "execution_count": 23,
   "metadata": {},
   "outputs": [
    {
     "name": "stdout",
     "output_type": "stream",
     "text": [
      "prediction took: 0.53125\n"
     ]
    }
   ],
   "source": [
    "predicted = timed_prediction(unseen_data[peak_features],model)"
   ]
  },
  {
   "cell_type": "code",
   "execution_count": 24,
   "metadata": {},
   "outputs": [
    {
     "name": "stdout",
     "output_type": "stream",
     "text": [
      "Number of error: 623 from 6189 test samples \n",
      "Which is 10.066246566488932% of error.\n"
     ]
    }
   ],
   "source": [
    "compare_prediction_with_answers(predicted,answers)"
   ]
  },
  {
   "cell_type": "markdown",
   "metadata": {},
   "source": [
    "# Only Common Features Group"
   ]
  },
  {
   "cell_type": "code",
   "execution_count": 25,
   "metadata": {
    "scrolled": true,
    "tags": []
   },
   "outputs": [
    {
     "data": {
      "text/html": [
       "<style  type=\"text/css\" >\n",
       "#T_3d871f01_2a94_11eb_9cfe_00d8610889aerow10_col0,#T_3d871f01_2a94_11eb_9cfe_00d8610889aerow10_col1,#T_3d871f01_2a94_11eb_9cfe_00d8610889aerow10_col2,#T_3d871f01_2a94_11eb_9cfe_00d8610889aerow10_col3,#T_3d871f01_2a94_11eb_9cfe_00d8610889aerow10_col4,#T_3d871f01_2a94_11eb_9cfe_00d8610889aerow10_col5,#T_3d871f01_2a94_11eb_9cfe_00d8610889aerow10_col6{\n",
       "            background:  yellow;\n",
       "        }</style><table id=\"T_3d871f01_2a94_11eb_9cfe_00d8610889ae\" ><thead>    <tr>        <th class=\"blank level0\" ></th>        <th class=\"col_heading level0 col0\" >Accuracy</th>        <th class=\"col_heading level0 col1\" >AUC</th>        <th class=\"col_heading level0 col2\" >Recall</th>        <th class=\"col_heading level0 col3\" >Prec.</th>        <th class=\"col_heading level0 col4\" >F1</th>        <th class=\"col_heading level0 col5\" >Kappa</th>        <th class=\"col_heading level0 col6\" >MCC</th>    </tr></thead><tbody>\n",
       "                <tr>\n",
       "                        <th id=\"T_3d871f01_2a94_11eb_9cfe_00d8610889aelevel0_row0\" class=\"row_heading level0 row0\" >0</th>\n",
       "                        <td id=\"T_3d871f01_2a94_11eb_9cfe_00d8610889aerow0_col0\" class=\"data row0 col0\" >0.9308</td>\n",
       "                        <td id=\"T_3d871f01_2a94_11eb_9cfe_00d8610889aerow0_col1\" class=\"data row0 col1\" >0.0000</td>\n",
       "                        <td id=\"T_3d871f01_2a94_11eb_9cfe_00d8610889aerow0_col2\" class=\"data row0 col2\" >0.8270</td>\n",
       "                        <td id=\"T_3d871f01_2a94_11eb_9cfe_00d8610889aerow0_col3\" class=\"data row0 col3\" >0.9277</td>\n",
       "                        <td id=\"T_3d871f01_2a94_11eb_9cfe_00d8610889aerow0_col4\" class=\"data row0 col4\" >0.9278</td>\n",
       "                        <td id=\"T_3d871f01_2a94_11eb_9cfe_00d8610889aerow0_col5\" class=\"data row0 col5\" >0.9190</td>\n",
       "                        <td id=\"T_3d871f01_2a94_11eb_9cfe_00d8610889aerow0_col6\" class=\"data row0 col6\" >0.9191</td>\n",
       "            </tr>\n",
       "            <tr>\n",
       "                        <th id=\"T_3d871f01_2a94_11eb_9cfe_00d8610889aelevel0_row1\" class=\"row_heading level0 row1\" >1</th>\n",
       "                        <td id=\"T_3d871f01_2a94_11eb_9cfe_00d8610889aerow1_col0\" class=\"data row1 col0\" >0.9446</td>\n",
       "                        <td id=\"T_3d871f01_2a94_11eb_9cfe_00d8610889aerow1_col1\" class=\"data row1 col1\" >0.0000</td>\n",
       "                        <td id=\"T_3d871f01_2a94_11eb_9cfe_00d8610889aerow1_col2\" class=\"data row1 col2\" >0.7982</td>\n",
       "                        <td id=\"T_3d871f01_2a94_11eb_9cfe_00d8610889aerow1_col3\" class=\"data row1 col3\" >0.9414</td>\n",
       "                        <td id=\"T_3d871f01_2a94_11eb_9cfe_00d8610889aerow1_col4\" class=\"data row1 col4\" >0.9416</td>\n",
       "                        <td id=\"T_3d871f01_2a94_11eb_9cfe_00d8610889aerow1_col5\" class=\"data row1 col5\" >0.9351</td>\n",
       "                        <td id=\"T_3d871f01_2a94_11eb_9cfe_00d8610889aerow1_col6\" class=\"data row1 col6\" >0.9352</td>\n",
       "            </tr>\n",
       "            <tr>\n",
       "                        <th id=\"T_3d871f01_2a94_11eb_9cfe_00d8610889aelevel0_row2\" class=\"row_heading level0 row2\" >2</th>\n",
       "                        <td id=\"T_3d871f01_2a94_11eb_9cfe_00d8610889aerow2_col0\" class=\"data row2 col0\" >0.9357</td>\n",
       "                        <td id=\"T_3d871f01_2a94_11eb_9cfe_00d8610889aerow2_col1\" class=\"data row2 col1\" >0.0000</td>\n",
       "                        <td id=\"T_3d871f01_2a94_11eb_9cfe_00d8610889aerow2_col2\" class=\"data row2 col2\" >0.8367</td>\n",
       "                        <td id=\"T_3d871f01_2a94_11eb_9cfe_00d8610889aerow2_col3\" class=\"data row2 col3\" >0.9340</td>\n",
       "                        <td id=\"T_3d871f01_2a94_11eb_9cfe_00d8610889aerow2_col4\" class=\"data row2 col4\" >0.9324</td>\n",
       "                        <td id=\"T_3d871f01_2a94_11eb_9cfe_00d8610889aerow2_col5\" class=\"data row2 col5\" >0.9247</td>\n",
       "                        <td id=\"T_3d871f01_2a94_11eb_9cfe_00d8610889aerow2_col6\" class=\"data row2 col6\" >0.9249</td>\n",
       "            </tr>\n",
       "            <tr>\n",
       "                        <th id=\"T_3d871f01_2a94_11eb_9cfe_00d8610889aelevel0_row3\" class=\"row_heading level0 row3\" >3</th>\n",
       "                        <td id=\"T_3d871f01_2a94_11eb_9cfe_00d8610889aerow3_col0\" class=\"data row3 col0\" >0.9426</td>\n",
       "                        <td id=\"T_3d871f01_2a94_11eb_9cfe_00d8610889aerow3_col1\" class=\"data row3 col1\" >0.0000</td>\n",
       "                        <td id=\"T_3d871f01_2a94_11eb_9cfe_00d8610889aerow3_col2\" class=\"data row3 col2\" >0.8239</td>\n",
       "                        <td id=\"T_3d871f01_2a94_11eb_9cfe_00d8610889aerow3_col3\" class=\"data row3 col3\" >0.9409</td>\n",
       "                        <td id=\"T_3d871f01_2a94_11eb_9cfe_00d8610889aerow3_col4\" class=\"data row3 col4\" >0.9408</td>\n",
       "                        <td id=\"T_3d871f01_2a94_11eb_9cfe_00d8610889aerow3_col5\" class=\"data row3 col5\" >0.9329</td>\n",
       "                        <td id=\"T_3d871f01_2a94_11eb_9cfe_00d8610889aerow3_col6\" class=\"data row3 col6\" >0.9329</td>\n",
       "            </tr>\n",
       "            <tr>\n",
       "                        <th id=\"T_3d871f01_2a94_11eb_9cfe_00d8610889aelevel0_row4\" class=\"row_heading level0 row4\" >4</th>\n",
       "                        <td id=\"T_3d871f01_2a94_11eb_9cfe_00d8610889aerow4_col0\" class=\"data row4 col0\" >0.9496</td>\n",
       "                        <td id=\"T_3d871f01_2a94_11eb_9cfe_00d8610889aerow4_col1\" class=\"data row4 col1\" >0.0000</td>\n",
       "                        <td id=\"T_3d871f01_2a94_11eb_9cfe_00d8610889aerow4_col2\" class=\"data row4 col2\" >0.8527</td>\n",
       "                        <td id=\"T_3d871f01_2a94_11eb_9cfe_00d8610889aerow4_col3\" class=\"data row4 col3\" >0.9489</td>\n",
       "                        <td id=\"T_3d871f01_2a94_11eb_9cfe_00d8610889aerow4_col4\" class=\"data row4 col4\" >0.9475</td>\n",
       "                        <td id=\"T_3d871f01_2a94_11eb_9cfe_00d8610889aerow4_col5\" class=\"data row4 col5\" >0.9409</td>\n",
       "                        <td id=\"T_3d871f01_2a94_11eb_9cfe_00d8610889aerow4_col6\" class=\"data row4 col6\" >0.9410</td>\n",
       "            </tr>\n",
       "            <tr>\n",
       "                        <th id=\"T_3d871f01_2a94_11eb_9cfe_00d8610889aelevel0_row5\" class=\"row_heading level0 row5\" >5</th>\n",
       "                        <td id=\"T_3d871f01_2a94_11eb_9cfe_00d8610889aerow5_col0\" class=\"data row5 col0\" >0.9278</td>\n",
       "                        <td id=\"T_3d871f01_2a94_11eb_9cfe_00d8610889aerow5_col1\" class=\"data row5 col1\" >0.0000</td>\n",
       "                        <td id=\"T_3d871f01_2a94_11eb_9cfe_00d8610889aerow5_col2\" class=\"data row5 col2\" >0.7720</td>\n",
       "                        <td id=\"T_3d871f01_2a94_11eb_9cfe_00d8610889aerow5_col3\" class=\"data row5 col3\" >0.9250</td>\n",
       "                        <td id=\"T_3d871f01_2a94_11eb_9cfe_00d8610889aerow5_col4\" class=\"data row5 col4\" >0.9250</td>\n",
       "                        <td id=\"T_3d871f01_2a94_11eb_9cfe_00d8610889aerow5_col5\" class=\"data row5 col5\" >0.9154</td>\n",
       "                        <td id=\"T_3d871f01_2a94_11eb_9cfe_00d8610889aerow5_col6\" class=\"data row5 col6\" >0.9155</td>\n",
       "            </tr>\n",
       "            <tr>\n",
       "                        <th id=\"T_3d871f01_2a94_11eb_9cfe_00d8610889aelevel0_row6\" class=\"row_heading level0 row6\" >6</th>\n",
       "                        <td id=\"T_3d871f01_2a94_11eb_9cfe_00d8610889aerow6_col0\" class=\"data row6 col0\" >0.9446</td>\n",
       "                        <td id=\"T_3d871f01_2a94_11eb_9cfe_00d8610889aerow6_col1\" class=\"data row6 col1\" >0.0000</td>\n",
       "                        <td id=\"T_3d871f01_2a94_11eb_9cfe_00d8610889aerow6_col2\" class=\"data row6 col2\" >0.8055</td>\n",
       "                        <td id=\"T_3d871f01_2a94_11eb_9cfe_00d8610889aerow6_col3\" class=\"data row6 col3\" >0.9418</td>\n",
       "                        <td id=\"T_3d871f01_2a94_11eb_9cfe_00d8610889aerow6_col4\" class=\"data row6 col4\" >0.9417</td>\n",
       "                        <td id=\"T_3d871f01_2a94_11eb_9cfe_00d8610889aerow6_col5\" class=\"data row6 col5\" >0.9352</td>\n",
       "                        <td id=\"T_3d871f01_2a94_11eb_9cfe_00d8610889aerow6_col6\" class=\"data row6 col6\" >0.9353</td>\n",
       "            </tr>\n",
       "            <tr>\n",
       "                        <th id=\"T_3d871f01_2a94_11eb_9cfe_00d8610889aelevel0_row7\" class=\"row_heading level0 row7\" >7</th>\n",
       "                        <td id=\"T_3d871f01_2a94_11eb_9cfe_00d8610889aerow7_col0\" class=\"data row7 col0\" >0.9436</td>\n",
       "                        <td id=\"T_3d871f01_2a94_11eb_9cfe_00d8610889aerow7_col1\" class=\"data row7 col1\" >0.0000</td>\n",
       "                        <td id=\"T_3d871f01_2a94_11eb_9cfe_00d8610889aerow7_col2\" class=\"data row7 col2\" >0.8129</td>\n",
       "                        <td id=\"T_3d871f01_2a94_11eb_9cfe_00d8610889aerow7_col3\" class=\"data row7 col3\" >0.9463</td>\n",
       "                        <td id=\"T_3d871f01_2a94_11eb_9cfe_00d8610889aerow7_col4\" class=\"data row7 col4\" >0.9429</td>\n",
       "                        <td id=\"T_3d871f01_2a94_11eb_9cfe_00d8610889aerow7_col5\" class=\"data row7 col5\" >0.9340</td>\n",
       "                        <td id=\"T_3d871f01_2a94_11eb_9cfe_00d8610889aerow7_col6\" class=\"data row7 col6\" >0.9340</td>\n",
       "            </tr>\n",
       "            <tr>\n",
       "                        <th id=\"T_3d871f01_2a94_11eb_9cfe_00d8610889aelevel0_row8\" class=\"row_heading level0 row8\" >8</th>\n",
       "                        <td id=\"T_3d871f01_2a94_11eb_9cfe_00d8610889aerow8_col0\" class=\"data row8 col0\" >0.9426</td>\n",
       "                        <td id=\"T_3d871f01_2a94_11eb_9cfe_00d8610889aerow8_col1\" class=\"data row8 col1\" >0.0000</td>\n",
       "                        <td id=\"T_3d871f01_2a94_11eb_9cfe_00d8610889aerow8_col2\" class=\"data row8 col2\" >0.7988</td>\n",
       "                        <td id=\"T_3d871f01_2a94_11eb_9cfe_00d8610889aerow8_col3\" class=\"data row8 col3\" >0.9398</td>\n",
       "                        <td id=\"T_3d871f01_2a94_11eb_9cfe_00d8610889aerow8_col4\" class=\"data row8 col4\" >0.9388</td>\n",
       "                        <td id=\"T_3d871f01_2a94_11eb_9cfe_00d8610889aerow8_col5\" class=\"data row8 col5\" >0.9328</td>\n",
       "                        <td id=\"T_3d871f01_2a94_11eb_9cfe_00d8610889aerow8_col6\" class=\"data row8 col6\" >0.9330</td>\n",
       "            </tr>\n",
       "            <tr>\n",
       "                        <th id=\"T_3d871f01_2a94_11eb_9cfe_00d8610889aelevel0_row9\" class=\"row_heading level0 row9\" >9</th>\n",
       "                        <td id=\"T_3d871f01_2a94_11eb_9cfe_00d8610889aerow9_col0\" class=\"data row9 col0\" >0.9455</td>\n",
       "                        <td id=\"T_3d871f01_2a94_11eb_9cfe_00d8610889aerow9_col1\" class=\"data row9 col1\" >0.0000</td>\n",
       "                        <td id=\"T_3d871f01_2a94_11eb_9cfe_00d8610889aerow9_col2\" class=\"data row9 col2\" >0.8198</td>\n",
       "                        <td id=\"T_3d871f01_2a94_11eb_9cfe_00d8610889aerow9_col3\" class=\"data row9 col3\" >0.9444</td>\n",
       "                        <td id=\"T_3d871f01_2a94_11eb_9cfe_00d8610889aerow9_col4\" class=\"data row9 col4\" >0.9439</td>\n",
       "                        <td id=\"T_3d871f01_2a94_11eb_9cfe_00d8610889aerow9_col5\" class=\"data row9 col5\" >0.9362</td>\n",
       "                        <td id=\"T_3d871f01_2a94_11eb_9cfe_00d8610889aerow9_col6\" class=\"data row9 col6\" >0.9363</td>\n",
       "            </tr>\n",
       "            <tr>\n",
       "                        <th id=\"T_3d871f01_2a94_11eb_9cfe_00d8610889aelevel0_row10\" class=\"row_heading level0 row10\" >Mean</th>\n",
       "                        <td id=\"T_3d871f01_2a94_11eb_9cfe_00d8610889aerow10_col0\" class=\"data row10 col0\" >0.9407</td>\n",
       "                        <td id=\"T_3d871f01_2a94_11eb_9cfe_00d8610889aerow10_col1\" class=\"data row10 col1\" >0.0000</td>\n",
       "                        <td id=\"T_3d871f01_2a94_11eb_9cfe_00d8610889aerow10_col2\" class=\"data row10 col2\" >0.8147</td>\n",
       "                        <td id=\"T_3d871f01_2a94_11eb_9cfe_00d8610889aerow10_col3\" class=\"data row10 col3\" >0.9390</td>\n",
       "                        <td id=\"T_3d871f01_2a94_11eb_9cfe_00d8610889aerow10_col4\" class=\"data row10 col4\" >0.9382</td>\n",
       "                        <td id=\"T_3d871f01_2a94_11eb_9cfe_00d8610889aerow10_col5\" class=\"data row10 col5\" >0.9306</td>\n",
       "                        <td id=\"T_3d871f01_2a94_11eb_9cfe_00d8610889aerow10_col6\" class=\"data row10 col6\" >0.9307</td>\n",
       "            </tr>\n",
       "            <tr>\n",
       "                        <th id=\"T_3d871f01_2a94_11eb_9cfe_00d8610889aelevel0_row11\" class=\"row_heading level0 row11\" >SD</th>\n",
       "                        <td id=\"T_3d871f01_2a94_11eb_9cfe_00d8610889aerow11_col0\" class=\"data row11 col0\" >0.0066</td>\n",
       "                        <td id=\"T_3d871f01_2a94_11eb_9cfe_00d8610889aerow11_col1\" class=\"data row11 col1\" >0.0000</td>\n",
       "                        <td id=\"T_3d871f01_2a94_11eb_9cfe_00d8610889aerow11_col2\" class=\"data row11 col2\" >0.0215</td>\n",
       "                        <td id=\"T_3d871f01_2a94_11eb_9cfe_00d8610889aerow11_col3\" class=\"data row11 col3\" >0.0074</td>\n",
       "                        <td id=\"T_3d871f01_2a94_11eb_9cfe_00d8610889aerow11_col4\" class=\"data row11 col4\" >0.0070</td>\n",
       "                        <td id=\"T_3d871f01_2a94_11eb_9cfe_00d8610889aerow11_col5\" class=\"data row11 col5\" >0.0077</td>\n",
       "                        <td id=\"T_3d871f01_2a94_11eb_9cfe_00d8610889aerow11_col6\" class=\"data row11 col6\" >0.0077</td>\n",
       "            </tr>\n",
       "    </tbody></table>"
      ],
      "text/plain": [
       "<pandas.io.formats.style.Styler at 0x2e892ee3040>"
      ]
     },
     "metadata": {},
     "output_type": "display_data"
    }
   ],
   "source": [
    "setup(data=data[common_features+[target_label]],\n",
    "      target=target_label,\n",
    "      silent=True)\n",
    "model=create_model(learning_model)"
   ]
  },
  {
   "cell_type": "code",
   "execution_count": 26,
   "metadata": {},
   "outputs": [
    {
     "name": "stdout",
     "output_type": "stream",
     "text": [
      "prediction took: 0.5\n"
     ]
    }
   ],
   "source": [
    "predicted = timed_prediction(unseen_data[common_features],model)"
   ]
  },
  {
   "cell_type": "code",
   "execution_count": 27,
   "metadata": {
    "scrolled": true
   },
   "outputs": [
    {
     "name": "stdout",
     "output_type": "stream",
     "text": [
      "Number of error: 367 from 6189 test samples \n",
      "Which is 5.929875585716594% of error.\n"
     ]
    }
   ],
   "source": [
    "compare_prediction_with_answers(predicted,answers)"
   ]
  },
  {
   "cell_type": "markdown",
   "metadata": {},
   "source": [
    "# Only Statistics Features Group"
   ]
  },
  {
   "cell_type": "code",
   "execution_count": 28,
   "metadata": {
    "scrolled": true,
    "tags": []
   },
   "outputs": [
    {
     "data": {
      "text/html": [
       "<style  type=\"text/css\" >\n",
       "#T_3fcf6fcc_2a94_11eb_9738_00d8610889aerow10_col0,#T_3fcf6fcc_2a94_11eb_9738_00d8610889aerow10_col1,#T_3fcf6fcc_2a94_11eb_9738_00d8610889aerow10_col2,#T_3fcf6fcc_2a94_11eb_9738_00d8610889aerow10_col3,#T_3fcf6fcc_2a94_11eb_9738_00d8610889aerow10_col4,#T_3fcf6fcc_2a94_11eb_9738_00d8610889aerow10_col5,#T_3fcf6fcc_2a94_11eb_9738_00d8610889aerow10_col6{\n",
       "            background:  yellow;\n",
       "        }</style><table id=\"T_3fcf6fcc_2a94_11eb_9738_00d8610889ae\" ><thead>    <tr>        <th class=\"blank level0\" ></th>        <th class=\"col_heading level0 col0\" >Accuracy</th>        <th class=\"col_heading level0 col1\" >AUC</th>        <th class=\"col_heading level0 col2\" >Recall</th>        <th class=\"col_heading level0 col3\" >Prec.</th>        <th class=\"col_heading level0 col4\" >F1</th>        <th class=\"col_heading level0 col5\" >Kappa</th>        <th class=\"col_heading level0 col6\" >MCC</th>    </tr></thead><tbody>\n",
       "                <tr>\n",
       "                        <th id=\"T_3fcf6fcc_2a94_11eb_9738_00d8610889aelevel0_row0\" class=\"row_heading level0 row0\" >0</th>\n",
       "                        <td id=\"T_3fcf6fcc_2a94_11eb_9738_00d8610889aerow0_col0\" class=\"data row0 col0\" >0.9486</td>\n",
       "                        <td id=\"T_3fcf6fcc_2a94_11eb_9738_00d8610889aerow0_col1\" class=\"data row0 col1\" >0.0000</td>\n",
       "                        <td id=\"T_3fcf6fcc_2a94_11eb_9738_00d8610889aerow0_col2\" class=\"data row0 col2\" >0.8239</td>\n",
       "                        <td id=\"T_3fcf6fcc_2a94_11eb_9738_00d8610889aerow0_col3\" class=\"data row0 col3\" >0.9511</td>\n",
       "                        <td id=\"T_3fcf6fcc_2a94_11eb_9738_00d8610889aerow0_col4\" class=\"data row0 col4\" >0.9475</td>\n",
       "                        <td id=\"T_3fcf6fcc_2a94_11eb_9738_00d8610889aerow0_col5\" class=\"data row0 col5\" >0.9398</td>\n",
       "                        <td id=\"T_3fcf6fcc_2a94_11eb_9738_00d8610889aerow0_col6\" class=\"data row0 col6\" >0.9399</td>\n",
       "            </tr>\n",
       "            <tr>\n",
       "                        <th id=\"T_3fcf6fcc_2a94_11eb_9738_00d8610889aelevel0_row1\" class=\"row_heading level0 row1\" >1</th>\n",
       "                        <td id=\"T_3fcf6fcc_2a94_11eb_9738_00d8610889aerow1_col0\" class=\"data row1 col0\" >0.9515</td>\n",
       "                        <td id=\"T_3fcf6fcc_2a94_11eb_9738_00d8610889aerow1_col1\" class=\"data row1 col1\" >0.0000</td>\n",
       "                        <td id=\"T_3fcf6fcc_2a94_11eb_9738_00d8610889aerow1_col2\" class=\"data row1 col2\" >0.8248</td>\n",
       "                        <td id=\"T_3fcf6fcc_2a94_11eb_9738_00d8610889aerow1_col3\" class=\"data row1 col3\" >0.9495</td>\n",
       "                        <td id=\"T_3fcf6fcc_2a94_11eb_9738_00d8610889aerow1_col4\" class=\"data row1 col4\" >0.9491</td>\n",
       "                        <td id=\"T_3fcf6fcc_2a94_11eb_9738_00d8610889aerow1_col5\" class=\"data row1 col5\" >0.9433</td>\n",
       "                        <td id=\"T_3fcf6fcc_2a94_11eb_9738_00d8610889aerow1_col6\" class=\"data row1 col6\" >0.9433</td>\n",
       "            </tr>\n",
       "            <tr>\n",
       "                        <th id=\"T_3fcf6fcc_2a94_11eb_9738_00d8610889aelevel0_row2\" class=\"row_heading level0 row2\" >2</th>\n",
       "                        <td id=\"T_3fcf6fcc_2a94_11eb_9738_00d8610889aerow2_col0\" class=\"data row2 col0\" >0.9545</td>\n",
       "                        <td id=\"T_3fcf6fcc_2a94_11eb_9738_00d8610889aerow2_col1\" class=\"data row2 col1\" >0.0000</td>\n",
       "                        <td id=\"T_3fcf6fcc_2a94_11eb_9738_00d8610889aerow2_col2\" class=\"data row2 col2\" >0.8974</td>\n",
       "                        <td id=\"T_3fcf6fcc_2a94_11eb_9738_00d8610889aerow2_col3\" class=\"data row2 col3\" >0.9568</td>\n",
       "                        <td id=\"T_3fcf6fcc_2a94_11eb_9738_00d8610889aerow2_col4\" class=\"data row2 col4\" >0.9546</td>\n",
       "                        <td id=\"T_3fcf6fcc_2a94_11eb_9738_00d8610889aerow2_col5\" class=\"data row2 col5\" >0.9468</td>\n",
       "                        <td id=\"T_3fcf6fcc_2a94_11eb_9738_00d8610889aerow2_col6\" class=\"data row2 col6\" >0.9468</td>\n",
       "            </tr>\n",
       "            <tr>\n",
       "                        <th id=\"T_3fcf6fcc_2a94_11eb_9738_00d8610889aelevel0_row3\" class=\"row_heading level0 row3\" >3</th>\n",
       "                        <td id=\"T_3fcf6fcc_2a94_11eb_9738_00d8610889aerow3_col0\" class=\"data row3 col0\" >0.9496</td>\n",
       "                        <td id=\"T_3fcf6fcc_2a94_11eb_9738_00d8610889aerow3_col1\" class=\"data row3 col1\" >0.0000</td>\n",
       "                        <td id=\"T_3fcf6fcc_2a94_11eb_9738_00d8610889aerow3_col2\" class=\"data row3 col2\" >0.8144</td>\n",
       "                        <td id=\"T_3fcf6fcc_2a94_11eb_9738_00d8610889aerow3_col3\" class=\"data row3 col3\" >0.9463</td>\n",
       "                        <td id=\"T_3fcf6fcc_2a94_11eb_9738_00d8610889aerow3_col4\" class=\"data row3 col4\" >0.9461</td>\n",
       "                        <td id=\"T_3fcf6fcc_2a94_11eb_9738_00d8610889aerow3_col5\" class=\"data row3 col5\" >0.9410</td>\n",
       "                        <td id=\"T_3fcf6fcc_2a94_11eb_9738_00d8610889aerow3_col6\" class=\"data row3 col6\" >0.9410</td>\n",
       "            </tr>\n",
       "            <tr>\n",
       "                        <th id=\"T_3fcf6fcc_2a94_11eb_9738_00d8610889aelevel0_row4\" class=\"row_heading level0 row4\" >4</th>\n",
       "                        <td id=\"T_3fcf6fcc_2a94_11eb_9738_00d8610889aerow4_col0\" class=\"data row4 col0\" >0.9535</td>\n",
       "                        <td id=\"T_3fcf6fcc_2a94_11eb_9738_00d8610889aerow4_col1\" class=\"data row4 col1\" >0.0000</td>\n",
       "                        <td id=\"T_3fcf6fcc_2a94_11eb_9738_00d8610889aerow4_col2\" class=\"data row4 col2\" >0.8473</td>\n",
       "                        <td id=\"T_3fcf6fcc_2a94_11eb_9738_00d8610889aerow4_col3\" class=\"data row4 col3\" >0.9548</td>\n",
       "                        <td id=\"T_3fcf6fcc_2a94_11eb_9738_00d8610889aerow4_col4\" class=\"data row4 col4\" >0.9527</td>\n",
       "                        <td id=\"T_3fcf6fcc_2a94_11eb_9738_00d8610889aerow4_col5\" class=\"data row4 col5\" >0.9456</td>\n",
       "                        <td id=\"T_3fcf6fcc_2a94_11eb_9738_00d8610889aerow4_col6\" class=\"data row4 col6\" >0.9456</td>\n",
       "            </tr>\n",
       "            <tr>\n",
       "                        <th id=\"T_3fcf6fcc_2a94_11eb_9738_00d8610889aelevel0_row5\" class=\"row_heading level0 row5\" >5</th>\n",
       "                        <td id=\"T_3fcf6fcc_2a94_11eb_9738_00d8610889aerow5_col0\" class=\"data row5 col0\" >0.9624</td>\n",
       "                        <td id=\"T_3fcf6fcc_2a94_11eb_9738_00d8610889aerow5_col1\" class=\"data row5 col1\" >0.0000</td>\n",
       "                        <td id=\"T_3fcf6fcc_2a94_11eb_9738_00d8610889aerow5_col2\" class=\"data row5 col2\" >0.8315</td>\n",
       "                        <td id=\"T_3fcf6fcc_2a94_11eb_9738_00d8610889aerow5_col3\" class=\"data row5 col3\" >0.9611</td>\n",
       "                        <td id=\"T_3fcf6fcc_2a94_11eb_9738_00d8610889aerow5_col4\" class=\"data row5 col4\" >0.9607</td>\n",
       "                        <td id=\"T_3fcf6fcc_2a94_11eb_9738_00d8610889aerow5_col5\" class=\"data row5 col5\" >0.9560</td>\n",
       "                        <td id=\"T_3fcf6fcc_2a94_11eb_9738_00d8610889aerow5_col6\" class=\"data row5 col6\" >0.9561</td>\n",
       "            </tr>\n",
       "            <tr>\n",
       "                        <th id=\"T_3fcf6fcc_2a94_11eb_9738_00d8610889aelevel0_row6\" class=\"row_heading level0 row6\" >6</th>\n",
       "                        <td id=\"T_3fcf6fcc_2a94_11eb_9738_00d8610889aerow6_col0\" class=\"data row6 col0\" >0.9555</td>\n",
       "                        <td id=\"T_3fcf6fcc_2a94_11eb_9738_00d8610889aerow6_col1\" class=\"data row6 col1\" >0.0000</td>\n",
       "                        <td id=\"T_3fcf6fcc_2a94_11eb_9738_00d8610889aerow6_col2\" class=\"data row6 col2\" >0.8662</td>\n",
       "                        <td id=\"T_3fcf6fcc_2a94_11eb_9738_00d8610889aerow6_col3\" class=\"data row6 col3\" >0.9550</td>\n",
       "                        <td id=\"T_3fcf6fcc_2a94_11eb_9738_00d8610889aerow6_col4\" class=\"data row6 col4\" >0.9528</td>\n",
       "                        <td id=\"T_3fcf6fcc_2a94_11eb_9738_00d8610889aerow6_col5\" class=\"data row6 col5\" >0.9478</td>\n",
       "                        <td id=\"T_3fcf6fcc_2a94_11eb_9738_00d8610889aerow6_col6\" class=\"data row6 col6\" >0.9480</td>\n",
       "            </tr>\n",
       "            <tr>\n",
       "                        <th id=\"T_3fcf6fcc_2a94_11eb_9738_00d8610889aelevel0_row7\" class=\"row_heading level0 row7\" >7</th>\n",
       "                        <td id=\"T_3fcf6fcc_2a94_11eb_9738_00d8610889aerow7_col0\" class=\"data row7 col0\" >0.9535</td>\n",
       "                        <td id=\"T_3fcf6fcc_2a94_11eb_9738_00d8610889aerow7_col1\" class=\"data row7 col1\" >0.0000</td>\n",
       "                        <td id=\"T_3fcf6fcc_2a94_11eb_9738_00d8610889aerow7_col2\" class=\"data row7 col2\" >0.8490</td>\n",
       "                        <td id=\"T_3fcf6fcc_2a94_11eb_9738_00d8610889aerow7_col3\" class=\"data row7 col3\" >0.9550</td>\n",
       "                        <td id=\"T_3fcf6fcc_2a94_11eb_9738_00d8610889aerow7_col4\" class=\"data row7 col4\" >0.9527</td>\n",
       "                        <td id=\"T_3fcf6fcc_2a94_11eb_9738_00d8610889aerow7_col5\" class=\"data row7 col5\" >0.9456</td>\n",
       "                        <td id=\"T_3fcf6fcc_2a94_11eb_9738_00d8610889aerow7_col6\" class=\"data row7 col6\" >0.9457</td>\n",
       "            </tr>\n",
       "            <tr>\n",
       "                        <th id=\"T_3fcf6fcc_2a94_11eb_9738_00d8610889aelevel0_row8\" class=\"row_heading level0 row8\" >8</th>\n",
       "                        <td id=\"T_3fcf6fcc_2a94_11eb_9738_00d8610889aerow8_col0\" class=\"data row8 col0\" >0.9515</td>\n",
       "                        <td id=\"T_3fcf6fcc_2a94_11eb_9738_00d8610889aerow8_col1\" class=\"data row8 col1\" >0.0000</td>\n",
       "                        <td id=\"T_3fcf6fcc_2a94_11eb_9738_00d8610889aerow8_col2\" class=\"data row8 col2\" >0.8194</td>\n",
       "                        <td id=\"T_3fcf6fcc_2a94_11eb_9738_00d8610889aerow8_col3\" class=\"data row8 col3\" >0.9499</td>\n",
       "                        <td id=\"T_3fcf6fcc_2a94_11eb_9738_00d8610889aerow8_col4\" class=\"data row8 col4\" >0.9497</td>\n",
       "                        <td id=\"T_3fcf6fcc_2a94_11eb_9738_00d8610889aerow8_col5\" class=\"data row8 col5\" >0.9433</td>\n",
       "                        <td id=\"T_3fcf6fcc_2a94_11eb_9738_00d8610889aerow8_col6\" class=\"data row8 col6\" >0.9433</td>\n",
       "            </tr>\n",
       "            <tr>\n",
       "                        <th id=\"T_3fcf6fcc_2a94_11eb_9738_00d8610889aelevel0_row9\" class=\"row_heading level0 row9\" >9</th>\n",
       "                        <td id=\"T_3fcf6fcc_2a94_11eb_9738_00d8610889aerow9_col0\" class=\"data row9 col0\" >0.9535</td>\n",
       "                        <td id=\"T_3fcf6fcc_2a94_11eb_9738_00d8610889aerow9_col1\" class=\"data row9 col1\" >0.0000</td>\n",
       "                        <td id=\"T_3fcf6fcc_2a94_11eb_9738_00d8610889aerow9_col2\" class=\"data row9 col2\" >0.8120</td>\n",
       "                        <td id=\"T_3fcf6fcc_2a94_11eb_9738_00d8610889aerow9_col3\" class=\"data row9 col3\" >0.9533</td>\n",
       "                        <td id=\"T_3fcf6fcc_2a94_11eb_9738_00d8610889aerow9_col4\" class=\"data row9 col4\" >0.9509</td>\n",
       "                        <td id=\"T_3fcf6fcc_2a94_11eb_9738_00d8610889aerow9_col5\" class=\"data row9 col5\" >0.9455</td>\n",
       "                        <td id=\"T_3fcf6fcc_2a94_11eb_9738_00d8610889aerow9_col6\" class=\"data row9 col6\" >0.9456</td>\n",
       "            </tr>\n",
       "            <tr>\n",
       "                        <th id=\"T_3fcf6fcc_2a94_11eb_9738_00d8610889aelevel0_row10\" class=\"row_heading level0 row10\" >Mean</th>\n",
       "                        <td id=\"T_3fcf6fcc_2a94_11eb_9738_00d8610889aerow10_col0\" class=\"data row10 col0\" >0.9534</td>\n",
       "                        <td id=\"T_3fcf6fcc_2a94_11eb_9738_00d8610889aerow10_col1\" class=\"data row10 col1\" >0.0000</td>\n",
       "                        <td id=\"T_3fcf6fcc_2a94_11eb_9738_00d8610889aerow10_col2\" class=\"data row10 col2\" >0.8386</td>\n",
       "                        <td id=\"T_3fcf6fcc_2a94_11eb_9738_00d8610889aerow10_col3\" class=\"data row10 col3\" >0.9533</td>\n",
       "                        <td id=\"T_3fcf6fcc_2a94_11eb_9738_00d8610889aerow10_col4\" class=\"data row10 col4\" >0.9517</td>\n",
       "                        <td id=\"T_3fcf6fcc_2a94_11eb_9738_00d8610889aerow10_col5\" class=\"data row10 col5\" >0.9455</td>\n",
       "                        <td id=\"T_3fcf6fcc_2a94_11eb_9738_00d8610889aerow10_col6\" class=\"data row10 col6\" >0.9455</td>\n",
       "            </tr>\n",
       "            <tr>\n",
       "                        <th id=\"T_3fcf6fcc_2a94_11eb_9738_00d8610889aelevel0_row11\" class=\"row_heading level0 row11\" >SD</th>\n",
       "                        <td id=\"T_3fcf6fcc_2a94_11eb_9738_00d8610889aerow11_col0\" class=\"data row11 col0\" >0.0036</td>\n",
       "                        <td id=\"T_3fcf6fcc_2a94_11eb_9738_00d8610889aerow11_col1\" class=\"data row11 col1\" >0.0000</td>\n",
       "                        <td id=\"T_3fcf6fcc_2a94_11eb_9738_00d8610889aerow11_col2\" class=\"data row11 col2\" >0.0255</td>\n",
       "                        <td id=\"T_3fcf6fcc_2a94_11eb_9738_00d8610889aerow11_col3\" class=\"data row11 col3\" >0.0040</td>\n",
       "                        <td id=\"T_3fcf6fcc_2a94_11eb_9738_00d8610889aerow11_col4\" class=\"data row11 col4\" >0.0039</td>\n",
       "                        <td id=\"T_3fcf6fcc_2a94_11eb_9738_00d8610889aerow11_col5\" class=\"data row11 col5\" >0.0043</td>\n",
       "                        <td id=\"T_3fcf6fcc_2a94_11eb_9738_00d8610889aerow11_col6\" class=\"data row11 col6\" >0.0043</td>\n",
       "            </tr>\n",
       "    </tbody></table>"
      ],
      "text/plain": [
       "<pandas.io.formats.style.Styler at 0x2e893506a90>"
      ]
     },
     "metadata": {},
     "output_type": "display_data"
    }
   ],
   "source": [
    "setup(data=data[stat_features+[target_label]],\n",
    "      target=target_label,\n",
    "      silent=True)\n",
    "model=create_model(learning_model)"
   ]
  },
  {
   "cell_type": "code",
   "execution_count": 29,
   "metadata": {},
   "outputs": [
    {
     "name": "stdout",
     "output_type": "stream",
     "text": [
      "prediction took: 0.5\n"
     ]
    }
   ],
   "source": [
    "predicted = timed_prediction(unseen_data[stat_features],model)"
   ]
  },
  {
   "cell_type": "code",
   "execution_count": 30,
   "metadata": {
    "scrolled": true
   },
   "outputs": [
    {
     "name": "stdout",
     "output_type": "stream",
     "text": [
      "Number of error: 262 from 6189 test samples \n",
      "Which is 4.233317175634189% of error.\n"
     ]
    }
   ],
   "source": [
    "compare_prediction_with_answers(predicted,answers)"
   ]
  },
  {
   "cell_type": "markdown",
   "metadata": {},
   "source": [
    "# Only Time Features Group"
   ]
  },
  {
   "cell_type": "code",
   "execution_count": 31,
   "metadata": {
    "scrolled": true,
    "tags": []
   },
   "outputs": [
    {
     "data": {
      "text/html": [
       "<style  type=\"text/css\" >\n",
       "#T_423259b0_2a94_11eb_90bd_00d8610889aerow10_col0,#T_423259b0_2a94_11eb_90bd_00d8610889aerow10_col1,#T_423259b0_2a94_11eb_90bd_00d8610889aerow10_col2,#T_423259b0_2a94_11eb_90bd_00d8610889aerow10_col3,#T_423259b0_2a94_11eb_90bd_00d8610889aerow10_col4,#T_423259b0_2a94_11eb_90bd_00d8610889aerow10_col5,#T_423259b0_2a94_11eb_90bd_00d8610889aerow10_col6{\n",
       "            background:  yellow;\n",
       "        }</style><table id=\"T_423259b0_2a94_11eb_90bd_00d8610889ae\" ><thead>    <tr>        <th class=\"blank level0\" ></th>        <th class=\"col_heading level0 col0\" >Accuracy</th>        <th class=\"col_heading level0 col1\" >AUC</th>        <th class=\"col_heading level0 col2\" >Recall</th>        <th class=\"col_heading level0 col3\" >Prec.</th>        <th class=\"col_heading level0 col4\" >F1</th>        <th class=\"col_heading level0 col5\" >Kappa</th>        <th class=\"col_heading level0 col6\" >MCC</th>    </tr></thead><tbody>\n",
       "                <tr>\n",
       "                        <th id=\"T_423259b0_2a94_11eb_90bd_00d8610889aelevel0_row0\" class=\"row_heading level0 row0\" >0</th>\n",
       "                        <td id=\"T_423259b0_2a94_11eb_90bd_00d8610889aerow0_col0\" class=\"data row0 col0\" >0.8872</td>\n",
       "                        <td id=\"T_423259b0_2a94_11eb_90bd_00d8610889aerow0_col1\" class=\"data row0 col1\" >0.0000</td>\n",
       "                        <td id=\"T_423259b0_2a94_11eb_90bd_00d8610889aerow0_col2\" class=\"data row0 col2\" >0.6789</td>\n",
       "                        <td id=\"T_423259b0_2a94_11eb_90bd_00d8610889aerow0_col3\" class=\"data row0 col3\" >0.8801</td>\n",
       "                        <td id=\"T_423259b0_2a94_11eb_90bd_00d8610889aerow0_col4\" class=\"data row0 col4\" >0.8800</td>\n",
       "                        <td id=\"T_423259b0_2a94_11eb_90bd_00d8610889aerow0_col5\" class=\"data row0 col5\" >0.8677</td>\n",
       "                        <td id=\"T_423259b0_2a94_11eb_90bd_00d8610889aerow0_col6\" class=\"data row0 col6\" >0.8680</td>\n",
       "            </tr>\n",
       "            <tr>\n",
       "                        <th id=\"T_423259b0_2a94_11eb_90bd_00d8610889aelevel0_row1\" class=\"row_heading level0 row1\" >1</th>\n",
       "                        <td id=\"T_423259b0_2a94_11eb_90bd_00d8610889aerow1_col0\" class=\"data row1 col0\" >0.8892</td>\n",
       "                        <td id=\"T_423259b0_2a94_11eb_90bd_00d8610889aerow1_col1\" class=\"data row1 col1\" >0.0000</td>\n",
       "                        <td id=\"T_423259b0_2a94_11eb_90bd_00d8610889aerow1_col2\" class=\"data row1 col2\" >0.7564</td>\n",
       "                        <td id=\"T_423259b0_2a94_11eb_90bd_00d8610889aerow1_col3\" class=\"data row1 col3\" >0.8862</td>\n",
       "                        <td id=\"T_423259b0_2a94_11eb_90bd_00d8610889aerow1_col4\" class=\"data row1 col4\" >0.8855</td>\n",
       "                        <td id=\"T_423259b0_2a94_11eb_90bd_00d8610889aerow1_col5\" class=\"data row1 col5\" >0.8703</td>\n",
       "                        <td id=\"T_423259b0_2a94_11eb_90bd_00d8610889aerow1_col6\" class=\"data row1 col6\" >0.8704</td>\n",
       "            </tr>\n",
       "            <tr>\n",
       "                        <th id=\"T_423259b0_2a94_11eb_90bd_00d8610889aelevel0_row2\" class=\"row_heading level0 row2\" >2</th>\n",
       "                        <td id=\"T_423259b0_2a94_11eb_90bd_00d8610889aerow2_col0\" class=\"data row2 col0\" >0.8932</td>\n",
       "                        <td id=\"T_423259b0_2a94_11eb_90bd_00d8610889aerow2_col1\" class=\"data row2 col1\" >0.0000</td>\n",
       "                        <td id=\"T_423259b0_2a94_11eb_90bd_00d8610889aerow2_col2\" class=\"data row2 col2\" >0.6762</td>\n",
       "                        <td id=\"T_423259b0_2a94_11eb_90bd_00d8610889aerow2_col3\" class=\"data row2 col3\" >0.8862</td>\n",
       "                        <td id=\"T_423259b0_2a94_11eb_90bd_00d8610889aerow2_col4\" class=\"data row2 col4\" >0.8856</td>\n",
       "                        <td id=\"T_423259b0_2a94_11eb_90bd_00d8610889aerow2_col5\" class=\"data row2 col5\" >0.8749</td>\n",
       "                        <td id=\"T_423259b0_2a94_11eb_90bd_00d8610889aerow2_col6\" class=\"data row2 col6\" >0.8752</td>\n",
       "            </tr>\n",
       "            <tr>\n",
       "                        <th id=\"T_423259b0_2a94_11eb_90bd_00d8610889aelevel0_row3\" class=\"row_heading level0 row3\" >3</th>\n",
       "                        <td id=\"T_423259b0_2a94_11eb_90bd_00d8610889aerow3_col0\" class=\"data row3 col0\" >0.8912</td>\n",
       "                        <td id=\"T_423259b0_2a94_11eb_90bd_00d8610889aerow3_col1\" class=\"data row3 col1\" >0.0000</td>\n",
       "                        <td id=\"T_423259b0_2a94_11eb_90bd_00d8610889aerow3_col2\" class=\"data row3 col2\" >0.6797</td>\n",
       "                        <td id=\"T_423259b0_2a94_11eb_90bd_00d8610889aerow3_col3\" class=\"data row3 col3\" >0.8909</td>\n",
       "                        <td id=\"T_423259b0_2a94_11eb_90bd_00d8610889aerow3_col4\" class=\"data row3 col4\" >0.8869</td>\n",
       "                        <td id=\"T_423259b0_2a94_11eb_90bd_00d8610889aerow3_col5\" class=\"data row3 col5\" >0.8726</td>\n",
       "                        <td id=\"T_423259b0_2a94_11eb_90bd_00d8610889aerow3_col6\" class=\"data row3 col6\" >0.8728</td>\n",
       "            </tr>\n",
       "            <tr>\n",
       "                        <th id=\"T_423259b0_2a94_11eb_90bd_00d8610889aelevel0_row4\" class=\"row_heading level0 row4\" >4</th>\n",
       "                        <td id=\"T_423259b0_2a94_11eb_90bd_00d8610889aerow4_col0\" class=\"data row4 col0\" >0.8744</td>\n",
       "                        <td id=\"T_423259b0_2a94_11eb_90bd_00d8610889aerow4_col1\" class=\"data row4 col1\" >0.0000</td>\n",
       "                        <td id=\"T_423259b0_2a94_11eb_90bd_00d8610889aerow4_col2\" class=\"data row4 col2\" >0.7182</td>\n",
       "                        <td id=\"T_423259b0_2a94_11eb_90bd_00d8610889aerow4_col3\" class=\"data row4 col3\" >0.8683</td>\n",
       "                        <td id=\"T_423259b0_2a94_11eb_90bd_00d8610889aerow4_col4\" class=\"data row4 col4\" >0.8689</td>\n",
       "                        <td id=\"T_423259b0_2a94_11eb_90bd_00d8610889aerow4_col5\" class=\"data row4 col5\" >0.8526</td>\n",
       "                        <td id=\"T_423259b0_2a94_11eb_90bd_00d8610889aerow4_col6\" class=\"data row4 col6\" >0.8528</td>\n",
       "            </tr>\n",
       "            <tr>\n",
       "                        <th id=\"T_423259b0_2a94_11eb_90bd_00d8610889aelevel0_row5\" class=\"row_heading level0 row5\" >5</th>\n",
       "                        <td id=\"T_423259b0_2a94_11eb_90bd_00d8610889aerow5_col0\" class=\"data row5 col0\" >0.8971</td>\n",
       "                        <td id=\"T_423259b0_2a94_11eb_90bd_00d8610889aerow5_col1\" class=\"data row5 col1\" >0.0000</td>\n",
       "                        <td id=\"T_423259b0_2a94_11eb_90bd_00d8610889aerow5_col2\" class=\"data row5 col2\" >0.7697</td>\n",
       "                        <td id=\"T_423259b0_2a94_11eb_90bd_00d8610889aerow5_col3\" class=\"data row5 col3\" >0.8934</td>\n",
       "                        <td id=\"T_423259b0_2a94_11eb_90bd_00d8610889aerow5_col4\" class=\"data row5 col4\" >0.8897</td>\n",
       "                        <td id=\"T_423259b0_2a94_11eb_90bd_00d8610889aerow5_col5\" class=\"data row5 col5\" >0.8791</td>\n",
       "                        <td id=\"T_423259b0_2a94_11eb_90bd_00d8610889aerow5_col6\" class=\"data row5 col6\" >0.8795</td>\n",
       "            </tr>\n",
       "            <tr>\n",
       "                        <th id=\"T_423259b0_2a94_11eb_90bd_00d8610889aelevel0_row6\" class=\"row_heading level0 row6\" >6</th>\n",
       "                        <td id=\"T_423259b0_2a94_11eb_90bd_00d8610889aerow6_col0\" class=\"data row6 col0\" >0.8853</td>\n",
       "                        <td id=\"T_423259b0_2a94_11eb_90bd_00d8610889aerow6_col1\" class=\"data row6 col1\" >0.0000</td>\n",
       "                        <td id=\"T_423259b0_2a94_11eb_90bd_00d8610889aerow6_col2\" class=\"data row6 col2\" >0.7193</td>\n",
       "                        <td id=\"T_423259b0_2a94_11eb_90bd_00d8610889aerow6_col3\" class=\"data row6 col3\" >0.8832</td>\n",
       "                        <td id=\"T_423259b0_2a94_11eb_90bd_00d8610889aerow6_col4\" class=\"data row6 col4\" >0.8801</td>\n",
       "                        <td id=\"T_423259b0_2a94_11eb_90bd_00d8610889aerow6_col5\" class=\"data row6 col5\" >0.8656</td>\n",
       "                        <td id=\"T_423259b0_2a94_11eb_90bd_00d8610889aerow6_col6\" class=\"data row6 col6\" >0.8658</td>\n",
       "            </tr>\n",
       "            <tr>\n",
       "                        <th id=\"T_423259b0_2a94_11eb_90bd_00d8610889aelevel0_row7\" class=\"row_heading level0 row7\" >7</th>\n",
       "                        <td id=\"T_423259b0_2a94_11eb_90bd_00d8610889aerow7_col0\" class=\"data row7 col0\" >0.8714</td>\n",
       "                        <td id=\"T_423259b0_2a94_11eb_90bd_00d8610889aerow7_col1\" class=\"data row7 col1\" >0.0000</td>\n",
       "                        <td id=\"T_423259b0_2a94_11eb_90bd_00d8610889aerow7_col2\" class=\"data row7 col2\" >0.6808</td>\n",
       "                        <td id=\"T_423259b0_2a94_11eb_90bd_00d8610889aerow7_col3\" class=\"data row7 col3\" >0.8701</td>\n",
       "                        <td id=\"T_423259b0_2a94_11eb_90bd_00d8610889aerow7_col4\" class=\"data row7 col4\" >0.8674</td>\n",
       "                        <td id=\"T_423259b0_2a94_11eb_90bd_00d8610889aerow7_col5\" class=\"data row7 col5\" >0.8492</td>\n",
       "                        <td id=\"T_423259b0_2a94_11eb_90bd_00d8610889aerow7_col6\" class=\"data row7 col6\" >0.8495</td>\n",
       "            </tr>\n",
       "            <tr>\n",
       "                        <th id=\"T_423259b0_2a94_11eb_90bd_00d8610889aelevel0_row8\" class=\"row_heading level0 row8\" >8</th>\n",
       "                        <td id=\"T_423259b0_2a94_11eb_90bd_00d8610889aerow8_col0\" class=\"data row8 col0\" >0.8823</td>\n",
       "                        <td id=\"T_423259b0_2a94_11eb_90bd_00d8610889aerow8_col1\" class=\"data row8 col1\" >0.0000</td>\n",
       "                        <td id=\"T_423259b0_2a94_11eb_90bd_00d8610889aerow8_col2\" class=\"data row8 col2\" >0.6894</td>\n",
       "                        <td id=\"T_423259b0_2a94_11eb_90bd_00d8610889aerow8_col3\" class=\"data row8 col3\" >0.8789</td>\n",
       "                        <td id=\"T_423259b0_2a94_11eb_90bd_00d8610889aerow8_col4\" class=\"data row8 col4\" >0.8766</td>\n",
       "                        <td id=\"T_423259b0_2a94_11eb_90bd_00d8610889aerow8_col5\" class=\"data row8 col5\" >0.8621</td>\n",
       "                        <td id=\"T_423259b0_2a94_11eb_90bd_00d8610889aerow8_col6\" class=\"data row8 col6\" >0.8623</td>\n",
       "            </tr>\n",
       "            <tr>\n",
       "                        <th id=\"T_423259b0_2a94_11eb_90bd_00d8610889aelevel0_row9\" class=\"row_heading level0 row9\" >9</th>\n",
       "                        <td id=\"T_423259b0_2a94_11eb_90bd_00d8610889aerow9_col0\" class=\"data row9 col0\" >0.8931</td>\n",
       "                        <td id=\"T_423259b0_2a94_11eb_90bd_00d8610889aerow9_col1\" class=\"data row9 col1\" >0.0000</td>\n",
       "                        <td id=\"T_423259b0_2a94_11eb_90bd_00d8610889aerow9_col2\" class=\"data row9 col2\" >0.7047</td>\n",
       "                        <td id=\"T_423259b0_2a94_11eb_90bd_00d8610889aerow9_col3\" class=\"data row9 col3\" >0.8890</td>\n",
       "                        <td id=\"T_423259b0_2a94_11eb_90bd_00d8610889aerow9_col4\" class=\"data row9 col4\" >0.8891</td>\n",
       "                        <td id=\"T_423259b0_2a94_11eb_90bd_00d8610889aerow9_col5\" class=\"data row9 col5\" >0.8747</td>\n",
       "                        <td id=\"T_423259b0_2a94_11eb_90bd_00d8610889aerow9_col6\" class=\"data row9 col6\" >0.8748</td>\n",
       "            </tr>\n",
       "            <tr>\n",
       "                        <th id=\"T_423259b0_2a94_11eb_90bd_00d8610889aelevel0_row10\" class=\"row_heading level0 row10\" >Mean</th>\n",
       "                        <td id=\"T_423259b0_2a94_11eb_90bd_00d8610889aerow10_col0\" class=\"data row10 col0\" >0.8864</td>\n",
       "                        <td id=\"T_423259b0_2a94_11eb_90bd_00d8610889aerow10_col1\" class=\"data row10 col1\" >0.0000</td>\n",
       "                        <td id=\"T_423259b0_2a94_11eb_90bd_00d8610889aerow10_col2\" class=\"data row10 col2\" >0.7073</td>\n",
       "                        <td id=\"T_423259b0_2a94_11eb_90bd_00d8610889aerow10_col3\" class=\"data row10 col3\" >0.8826</td>\n",
       "                        <td id=\"T_423259b0_2a94_11eb_90bd_00d8610889aerow10_col4\" class=\"data row10 col4\" >0.8810</td>\n",
       "                        <td id=\"T_423259b0_2a94_11eb_90bd_00d8610889aerow10_col5\" class=\"data row10 col5\" >0.8669</td>\n",
       "                        <td id=\"T_423259b0_2a94_11eb_90bd_00d8610889aerow10_col6\" class=\"data row10 col6\" >0.8671</td>\n",
       "            </tr>\n",
       "            <tr>\n",
       "                        <th id=\"T_423259b0_2a94_11eb_90bd_00d8610889aelevel0_row11\" class=\"row_heading level0 row11\" >SD</th>\n",
       "                        <td id=\"T_423259b0_2a94_11eb_90bd_00d8610889aerow11_col0\" class=\"data row11 col0\" >0.0079</td>\n",
       "                        <td id=\"T_423259b0_2a94_11eb_90bd_00d8610889aerow11_col1\" class=\"data row11 col1\" >0.0000</td>\n",
       "                        <td id=\"T_423259b0_2a94_11eb_90bd_00d8610889aerow11_col2\" class=\"data row11 col2\" >0.0318</td>\n",
       "                        <td id=\"T_423259b0_2a94_11eb_90bd_00d8610889aerow11_col3\" class=\"data row11 col3\" >0.0080</td>\n",
       "                        <td id=\"T_423259b0_2a94_11eb_90bd_00d8610889aerow11_col4\" class=\"data row11 col4\" >0.0075</td>\n",
       "                        <td id=\"T_423259b0_2a94_11eb_90bd_00d8610889aerow11_col5\" class=\"data row11 col5\" >0.0093</td>\n",
       "                        <td id=\"T_423259b0_2a94_11eb_90bd_00d8610889aerow11_col6\" class=\"data row11 col6\" >0.0093</td>\n",
       "            </tr>\n",
       "    </tbody></table>"
      ],
      "text/plain": [
       "<pandas.io.formats.style.Styler at 0x2e8922f7670>"
      ]
     },
     "metadata": {},
     "output_type": "display_data"
    }
   ],
   "source": [
    "setup(data=data[time_features+[target_label]],\n",
    "      target=target_label,\n",
    "      silent=True)\n",
    "model=create_model(learning_model)"
   ]
  },
  {
   "cell_type": "code",
   "execution_count": 32,
   "metadata": {},
   "outputs": [
    {
     "name": "stdout",
     "output_type": "stream",
     "text": [
      "prediction took: 0.71875\n"
     ]
    }
   ],
   "source": [
    "predicted = timed_prediction(unseen_data[time_features],model)"
   ]
  },
  {
   "cell_type": "code",
   "execution_count": 33,
   "metadata": {},
   "outputs": [
    {
     "name": "stdout",
     "output_type": "stream",
     "text": [
      "Number of error: 650 from 6189 test samples \n",
      "Which is 10.502504443367265% of error.\n"
     ]
    }
   ],
   "source": [
    "compare_prediction_with_answers(predicted,answers)"
   ]
  },
  {
   "cell_type": "code",
   "execution_count": null,
   "metadata": {},
   "outputs": [],
   "source": []
  }
 ],
 "metadata": {
  "kernelspec": {
   "display_name": "Python 3.8.3 64-bit ('base': conda)",
   "language": "python",
   "name": "python38364bitbasecondaed19ee87b6844ca4b2207fe8765813ad"
  },
  "language_info": {
   "codemirror_mode": {
    "name": "ipython",
    "version": 3
   },
   "file_extension": ".py",
   "mimetype": "text/x-python",
   "name": "python",
   "nbconvert_exporter": "python",
   "pygments_lexer": "ipython3",
   "version": "3.8.5"
  }
 },
 "nbformat": 4,
 "nbformat_minor": 4
}
