{
 "cells": [
  {
   "cell_type": "markdown",
   "metadata": {},
   "source": [
    "# Minimal Features\n",
    "This notebook check classification preformance for the minimal and  most important features in our dataset."
   ]
  },
  {
   "cell_type": "markdown",
   "metadata": {},
   "source": [
    "# Import"
   ]
  },
  {
   "cell_type": "code",
   "execution_count": 1,
   "metadata": {},
   "outputs": [],
   "source": [
    "import pandas as pd\n",
    "from pycaret.classification import *\n",
    "import numpy as np"
   ]
  },
  {
   "cell_type": "markdown",
   "metadata": {},
   "source": [
    "# Functions and Constants"
   ]
  },
  {
   "cell_type": "code",
   "execution_count": 2,
   "metadata": {},
   "outputs": [],
   "source": [
    "# set target feature\n",
    "target_label = 'tuple'\n",
    "path = \"../Datasets/\" + target_label + \"_dataset/\"\n",
    "num_features = ['min_packet_size', 'min_fpkt', 'min_bpkt']\n",
    "\n",
    "\n",
    "# set up features groups\n",
    "SSL_features = ['fSSL_session_id_len', 'fSSL_num_extensions', 'fcipher_suites', 'ssl_v', ]\n",
    "size_features = ['size_histogram_1','size_histogram_2','size_histogram_3',\n",
    "                 'size_histogram_4','size_histogram_5','size_histogram_6',\n",
    "                 'size_histogram_7','size_histogram_8','size_histogram_9', 'size_histogram_10']\n",
    "peak_features = ['fpeak_features_1','fpeak_features_2','fpeak_features_3',\n",
    "                 'fpeak_features_4','fpeak_features_5','fpeak_features_6',\n",
    "                 'fpeak_features_7','fpeak_features_8','fpeak_features_9',\n",
    "                 'bpeak_features_1','bpeak_features_2','bpeak_features_3',\n",
    "                 'bpeak_features_4','bpeak_features_5','bpeak_features_6',\n",
    "                 'bpeak_features_7','bpeak_features_8','bpeak_features_9']\n",
    "TCP_features = ['SYN_tcp_scale', 'SYN_tcp_winsize']\n",
    "common_features = ['packet_count', 'fpackets', 'bpackets', 'fbytes', 'bbytes','num_keep_alive', 'mean_fttl']\n",
    "stat_features = ['min_packet_size', 'max_packet_size', 'mean_packet_size',\n",
    "                 'sizevar', 'std_fiat', # 'min_fiat', 'min_biat',\n",
    "                'max_fiat','max_biat','std_biat','mean_fiat','mean_biat',\n",
    "                'min_fpkt','min_bpkt','max_fpkt','max_bpkt','std_fpkt','std_bpkt','mean_fpkt','mean_bpkt']\n",
    "time_features = []\n",
    "forward_features = ['fpeak_features_1','fpeak_features_2','fpeak_features_3','fpeak_features_4',\n",
    "                    'fpeak_features_5','fpeak_features_6','fpeak_features_7','fpeak_features_8',\n",
    "                    'fpeak_features_9','std_fiat','fpackets','fbytes','max_fiat', #'min_fiat'\n",
    "                    'mean_fiat','min_fpkt','max_fpkt','std_fpkt','mean_fpkt','fcipher_suites','ssl_v','mean_fttl']\n",
    "backward_features = ['bpeak_features_1','bpeak_features_2','bpeak_features_3',\n",
    "                    'bpeak_features_4','bpeak_features_5','bpeak_features_6',\n",
    "                     'bpeak_features_7','bpeak_features_8','bpeak_features_9',\n",
    "                     'bpackets','bbytes','max_biat','std_biat','mean_biat', #'min_biat'\n",
    "                     'min_bpkt','max_bpkt','std_bpkt','mean_bpkt']\n",
    "both_features = ['fSSL_session_id_len','fSSL_num_extensions','SYN_tcp_scale',\n",
    "                 'SYN_tcp_winsize','size_histogram_1','size_histogram_2',\n",
    "                 'size_histogram_3','size_histogram_4','size_histogram_5',\n",
    "                 'size_histogram_6','size_histogram_7','size_histogram_8',\n",
    "                 'size_histogram_9','size_histogram_10','packet_count',\n",
    "                 'min_packet_size','max_packet_size','mean_packet_size','sizevar','num_keep_alive']"
   ]
  },
  {
   "cell_type": "markdown",
   "metadata": {},
   "source": [
    "# Read Data"
   ]
  },
  {
   "cell_type": "code",
   "execution_count": 12,
   "metadata": {},
   "outputs": [
    {
     "data": {
      "text/plain": [
       "(20632, 60)"
      ]
     },
     "execution_count": 12,
     "metadata": {},
     "output_type": "execute_result"
    }
   ],
   "source": [
    "data = pd.read_csv(path+r'new_all_features_'+target_label+'.csv',\n",
    "                      sep='\\t',\n",
    "                      skiprows=[1])\n",
    "data.shape"
   ]
  },
  {
   "cell_type": "markdown",
   "metadata": {},
   "source": [
    "# Setup Classifier and Compare"
   ]
  },
  {
   "cell_type": "code",
   "execution_count": 8,
   "metadata": {
    "tags": []
   },
   "outputs": [
    {
     "data": {
      "text/html": [
       "<style  type=\"text/css\" >\n",
       "#T_946ceda6_2834_11eb_b1bd_00d8610889aerow10_col0,#T_946ceda6_2834_11eb_b1bd_00d8610889aerow10_col1,#T_946ceda6_2834_11eb_b1bd_00d8610889aerow10_col2,#T_946ceda6_2834_11eb_b1bd_00d8610889aerow10_col3,#T_946ceda6_2834_11eb_b1bd_00d8610889aerow10_col4,#T_946ceda6_2834_11eb_b1bd_00d8610889aerow10_col5,#T_946ceda6_2834_11eb_b1bd_00d8610889aerow10_col6{\n",
       "            background:  yellow;\n",
       "        }</style><table id=\"T_946ceda6_2834_11eb_b1bd_00d8610889ae\" ><thead>    <tr>        <th class=\"blank level0\" ></th>        <th class=\"col_heading level0 col0\" >Accuracy</th>        <th class=\"col_heading level0 col1\" >AUC</th>        <th class=\"col_heading level0 col2\" >Recall</th>        <th class=\"col_heading level0 col3\" >Prec.</th>        <th class=\"col_heading level0 col4\" >F1</th>        <th class=\"col_heading level0 col5\" >Kappa</th>        <th class=\"col_heading level0 col6\" >MCC</th>    </tr></thead><tbody>\n",
       "                <tr>\n",
       "                        <th id=\"T_946ceda6_2834_11eb_b1bd_00d8610889aelevel0_row0\" class=\"row_heading level0 row0\" >0</th>\n",
       "                        <td id=\"T_946ceda6_2834_11eb_b1bd_00d8610889aerow0_col0\" class=\"data row0 col0\" >0.9737</td>\n",
       "                        <td id=\"T_946ceda6_2834_11eb_b1bd_00d8610889aerow0_col1\" class=\"data row0 col1\" >0.0000</td>\n",
       "                        <td id=\"T_946ceda6_2834_11eb_b1bd_00d8610889aerow0_col2\" class=\"data row0 col2\" >0.8757</td>\n",
       "                        <td id=\"T_946ceda6_2834_11eb_b1bd_00d8610889aerow0_col3\" class=\"data row0 col3\" >0.9738</td>\n",
       "                        <td id=\"T_946ceda6_2834_11eb_b1bd_00d8610889aerow0_col4\" class=\"data row0 col4\" >0.9728</td>\n",
       "                        <td id=\"T_946ceda6_2834_11eb_b1bd_00d8610889aerow0_col5\" class=\"data row0 col5\" >0.9692</td>\n",
       "                        <td id=\"T_946ceda6_2834_11eb_b1bd_00d8610889aerow0_col6\" class=\"data row0 col6\" >0.9693</td>\n",
       "            </tr>\n",
       "            <tr>\n",
       "                        <th id=\"T_946ceda6_2834_11eb_b1bd_00d8610889aelevel0_row1\" class=\"row_heading level0 row1\" >1</th>\n",
       "                        <td id=\"T_946ceda6_2834_11eb_b1bd_00d8610889aerow1_col0\" class=\"data row1 col0\" >0.9619</td>\n",
       "                        <td id=\"T_946ceda6_2834_11eb_b1bd_00d8610889aerow1_col1\" class=\"data row1 col1\" >0.0000</td>\n",
       "                        <td id=\"T_946ceda6_2834_11eb_b1bd_00d8610889aerow1_col2\" class=\"data row1 col2\" >0.8546</td>\n",
       "                        <td id=\"T_946ceda6_2834_11eb_b1bd_00d8610889aerow1_col3\" class=\"data row1 col3\" >0.9631</td>\n",
       "                        <td id=\"T_946ceda6_2834_11eb_b1bd_00d8610889aerow1_col4\" class=\"data row1 col4\" >0.9613</td>\n",
       "                        <td id=\"T_946ceda6_2834_11eb_b1bd_00d8610889aerow1_col5\" class=\"data row1 col5\" >0.9555</td>\n",
       "                        <td id=\"T_946ceda6_2834_11eb_b1bd_00d8610889aerow1_col6\" class=\"data row1 col6\" >0.9555</td>\n",
       "            </tr>\n",
       "            <tr>\n",
       "                        <th id=\"T_946ceda6_2834_11eb_b1bd_00d8610889aelevel0_row2\" class=\"row_heading level0 row2\" >2</th>\n",
       "                        <td id=\"T_946ceda6_2834_11eb_b1bd_00d8610889aerow2_col0\" class=\"data row2 col0\" >0.9723</td>\n",
       "                        <td id=\"T_946ceda6_2834_11eb_b1bd_00d8610889aerow2_col1\" class=\"data row2 col1\" >0.0000</td>\n",
       "                        <td id=\"T_946ceda6_2834_11eb_b1bd_00d8610889aerow2_col2\" class=\"data row2 col2\" >0.8698</td>\n",
       "                        <td id=\"T_946ceda6_2834_11eb_b1bd_00d8610889aerow2_col3\" class=\"data row2 col3\" >0.9740</td>\n",
       "                        <td id=\"T_946ceda6_2834_11eb_b1bd_00d8610889aerow2_col4\" class=\"data row2 col4\" >0.9716</td>\n",
       "                        <td id=\"T_946ceda6_2834_11eb_b1bd_00d8610889aerow2_col5\" class=\"data row2 col5\" >0.9676</td>\n",
       "                        <td id=\"T_946ceda6_2834_11eb_b1bd_00d8610889aerow2_col6\" class=\"data row2 col6\" >0.9676</td>\n",
       "            </tr>\n",
       "            <tr>\n",
       "                        <th id=\"T_946ceda6_2834_11eb_b1bd_00d8610889aelevel0_row3\" class=\"row_heading level0 row3\" >3</th>\n",
       "                        <td id=\"T_946ceda6_2834_11eb_b1bd_00d8610889aerow3_col0\" class=\"data row3 col0\" >0.9778</td>\n",
       "                        <td id=\"T_946ceda6_2834_11eb_b1bd_00d8610889aerow3_col1\" class=\"data row3 col1\" >0.0000</td>\n",
       "                        <td id=\"T_946ceda6_2834_11eb_b1bd_00d8610889aerow3_col2\" class=\"data row3 col2\" >0.8920</td>\n",
       "                        <td id=\"T_946ceda6_2834_11eb_b1bd_00d8610889aerow3_col3\" class=\"data row3 col3\" >0.9772</td>\n",
       "                        <td id=\"T_946ceda6_2834_11eb_b1bd_00d8610889aerow3_col4\" class=\"data row3 col4\" >0.9768</td>\n",
       "                        <td id=\"T_946ceda6_2834_11eb_b1bd_00d8610889aerow3_col5\" class=\"data row3 col5\" >0.9741</td>\n",
       "                        <td id=\"T_946ceda6_2834_11eb_b1bd_00d8610889aerow3_col6\" class=\"data row3 col6\" >0.9741</td>\n",
       "            </tr>\n",
       "            <tr>\n",
       "                        <th id=\"T_946ceda6_2834_11eb_b1bd_00d8610889aelevel0_row4\" class=\"row_heading level0 row4\" >4</th>\n",
       "                        <td id=\"T_946ceda6_2834_11eb_b1bd_00d8610889aerow4_col0\" class=\"data row4 col0\" >0.9792</td>\n",
       "                        <td id=\"T_946ceda6_2834_11eb_b1bd_00d8610889aerow4_col1\" class=\"data row4 col1\" >0.0000</td>\n",
       "                        <td id=\"T_946ceda6_2834_11eb_b1bd_00d8610889aerow4_col2\" class=\"data row4 col2\" >0.8804</td>\n",
       "                        <td id=\"T_946ceda6_2834_11eb_b1bd_00d8610889aerow4_col3\" class=\"data row4 col3\" >0.9769</td>\n",
       "                        <td id=\"T_946ceda6_2834_11eb_b1bd_00d8610889aerow4_col4\" class=\"data row4 col4\" >0.9779</td>\n",
       "                        <td id=\"T_946ceda6_2834_11eb_b1bd_00d8610889aerow4_col5\" class=\"data row4 col5\" >0.9757</td>\n",
       "                        <td id=\"T_946ceda6_2834_11eb_b1bd_00d8610889aerow4_col6\" class=\"data row4 col6\" >0.9757</td>\n",
       "            </tr>\n",
       "            <tr>\n",
       "                        <th id=\"T_946ceda6_2834_11eb_b1bd_00d8610889aelevel0_row5\" class=\"row_heading level0 row5\" >5</th>\n",
       "                        <td id=\"T_946ceda6_2834_11eb_b1bd_00d8610889aerow5_col0\" class=\"data row5 col0\" >0.9758</td>\n",
       "                        <td id=\"T_946ceda6_2834_11eb_b1bd_00d8610889aerow5_col1\" class=\"data row5 col1\" >0.0000</td>\n",
       "                        <td id=\"T_946ceda6_2834_11eb_b1bd_00d8610889aerow5_col2\" class=\"data row5 col2\" >0.9139</td>\n",
       "                        <td id=\"T_946ceda6_2834_11eb_b1bd_00d8610889aerow5_col3\" class=\"data row5 col3\" >0.9756</td>\n",
       "                        <td id=\"T_946ceda6_2834_11eb_b1bd_00d8610889aerow5_col4\" class=\"data row5 col4\" >0.9750</td>\n",
       "                        <td id=\"T_946ceda6_2834_11eb_b1bd_00d8610889aerow5_col5\" class=\"data row5 col5\" >0.9716</td>\n",
       "                        <td id=\"T_946ceda6_2834_11eb_b1bd_00d8610889aerow5_col6\" class=\"data row5 col6\" >0.9717</td>\n",
       "            </tr>\n",
       "            <tr>\n",
       "                        <th id=\"T_946ceda6_2834_11eb_b1bd_00d8610889aelevel0_row6\" class=\"row_heading level0 row6\" >6</th>\n",
       "                        <td id=\"T_946ceda6_2834_11eb_b1bd_00d8610889aerow6_col0\" class=\"data row6 col0\" >0.9737</td>\n",
       "                        <td id=\"T_946ceda6_2834_11eb_b1bd_00d8610889aerow6_col1\" class=\"data row6 col1\" >0.0000</td>\n",
       "                        <td id=\"T_946ceda6_2834_11eb_b1bd_00d8610889aerow6_col2\" class=\"data row6 col2\" >0.9338</td>\n",
       "                        <td id=\"T_946ceda6_2834_11eb_b1bd_00d8610889aerow6_col3\" class=\"data row6 col3\" >0.9739</td>\n",
       "                        <td id=\"T_946ceda6_2834_11eb_b1bd_00d8610889aerow6_col4\" class=\"data row6 col4\" >0.9729</td>\n",
       "                        <td id=\"T_946ceda6_2834_11eb_b1bd_00d8610889aerow6_col5\" class=\"data row6 col5\" >0.9692</td>\n",
       "                        <td id=\"T_946ceda6_2834_11eb_b1bd_00d8610889aerow6_col6\" class=\"data row6 col6\" >0.9693</td>\n",
       "            </tr>\n",
       "            <tr>\n",
       "                        <th id=\"T_946ceda6_2834_11eb_b1bd_00d8610889aelevel0_row7\" class=\"row_heading level0 row7\" >7</th>\n",
       "                        <td id=\"T_946ceda6_2834_11eb_b1bd_00d8610889aerow7_col0\" class=\"data row7 col0\" >0.9626</td>\n",
       "                        <td id=\"T_946ceda6_2834_11eb_b1bd_00d8610889aerow7_col1\" class=\"data row7 col1\" >0.0000</td>\n",
       "                        <td id=\"T_946ceda6_2834_11eb_b1bd_00d8610889aerow7_col2\" class=\"data row7 col2\" >0.8296</td>\n",
       "                        <td id=\"T_946ceda6_2834_11eb_b1bd_00d8610889aerow7_col3\" class=\"data row7 col3\" >0.9607</td>\n",
       "                        <td id=\"T_946ceda6_2834_11eb_b1bd_00d8610889aerow7_col4\" class=\"data row7 col4\" >0.9610</td>\n",
       "                        <td id=\"T_946ceda6_2834_11eb_b1bd_00d8610889aerow7_col5\" class=\"data row7 col5\" >0.9562</td>\n",
       "                        <td id=\"T_946ceda6_2834_11eb_b1bd_00d8610889aerow7_col6\" class=\"data row7 col6\" >0.9563</td>\n",
       "            </tr>\n",
       "            <tr>\n",
       "                        <th id=\"T_946ceda6_2834_11eb_b1bd_00d8610889aelevel0_row8\" class=\"row_heading level0 row8\" >8</th>\n",
       "                        <td id=\"T_946ceda6_2834_11eb_b1bd_00d8610889aerow8_col0\" class=\"data row8 col0\" >0.9737</td>\n",
       "                        <td id=\"T_946ceda6_2834_11eb_b1bd_00d8610889aerow8_col1\" class=\"data row8 col1\" >0.0000</td>\n",
       "                        <td id=\"T_946ceda6_2834_11eb_b1bd_00d8610889aerow8_col2\" class=\"data row8 col2\" >0.8543</td>\n",
       "                        <td id=\"T_946ceda6_2834_11eb_b1bd_00d8610889aerow8_col3\" class=\"data row8 col3\" >0.9715</td>\n",
       "                        <td id=\"T_946ceda6_2834_11eb_b1bd_00d8610889aerow8_col4\" class=\"data row8 col4\" >0.9721</td>\n",
       "                        <td id=\"T_946ceda6_2834_11eb_b1bd_00d8610889aerow8_col5\" class=\"data row8 col5\" >0.9692</td>\n",
       "                        <td id=\"T_946ceda6_2834_11eb_b1bd_00d8610889aerow8_col6\" class=\"data row8 col6\" >0.9692</td>\n",
       "            </tr>\n",
       "            <tr>\n",
       "                        <th id=\"T_946ceda6_2834_11eb_b1bd_00d8610889aelevel0_row9\" class=\"row_heading level0 row9\" >9</th>\n",
       "                        <td id=\"T_946ceda6_2834_11eb_b1bd_00d8610889aerow9_col0\" class=\"data row9 col0\" >0.9771</td>\n",
       "                        <td id=\"T_946ceda6_2834_11eb_b1bd_00d8610889aerow9_col1\" class=\"data row9 col1\" >0.0000</td>\n",
       "                        <td id=\"T_946ceda6_2834_11eb_b1bd_00d8610889aerow9_col2\" class=\"data row9 col2\" >0.8718</td>\n",
       "                        <td id=\"T_946ceda6_2834_11eb_b1bd_00d8610889aerow9_col3\" class=\"data row9 col3\" >0.9754</td>\n",
       "                        <td id=\"T_946ceda6_2834_11eb_b1bd_00d8610889aerow9_col4\" class=\"data row9 col4\" >0.9756</td>\n",
       "                        <td id=\"T_946ceda6_2834_11eb_b1bd_00d8610889aerow9_col5\" class=\"data row9 col5\" >0.9732</td>\n",
       "                        <td id=\"T_946ceda6_2834_11eb_b1bd_00d8610889aerow9_col6\" class=\"data row9 col6\" >0.9733</td>\n",
       "            </tr>\n",
       "            <tr>\n",
       "                        <th id=\"T_946ceda6_2834_11eb_b1bd_00d8610889aelevel0_row10\" class=\"row_heading level0 row10\" >Mean</th>\n",
       "                        <td id=\"T_946ceda6_2834_11eb_b1bd_00d8610889aerow10_col0\" class=\"data row10 col0\" >0.9728</td>\n",
       "                        <td id=\"T_946ceda6_2834_11eb_b1bd_00d8610889aerow10_col1\" class=\"data row10 col1\" >0.0000</td>\n",
       "                        <td id=\"T_946ceda6_2834_11eb_b1bd_00d8610889aerow10_col2\" class=\"data row10 col2\" >0.8776</td>\n",
       "                        <td id=\"T_946ceda6_2834_11eb_b1bd_00d8610889aerow10_col3\" class=\"data row10 col3\" >0.9722</td>\n",
       "                        <td id=\"T_946ceda6_2834_11eb_b1bd_00d8610889aerow10_col4\" class=\"data row10 col4\" >0.9717</td>\n",
       "                        <td id=\"T_946ceda6_2834_11eb_b1bd_00d8610889aerow10_col5\" class=\"data row10 col5\" >0.9682</td>\n",
       "                        <td id=\"T_946ceda6_2834_11eb_b1bd_00d8610889aerow10_col6\" class=\"data row10 col6\" >0.9682</td>\n",
       "            </tr>\n",
       "            <tr>\n",
       "                        <th id=\"T_946ceda6_2834_11eb_b1bd_00d8610889aelevel0_row11\" class=\"row_heading level0 row11\" >SD</th>\n",
       "                        <td id=\"T_946ceda6_2834_11eb_b1bd_00d8610889aerow11_col0\" class=\"data row11 col0\" >0.0056</td>\n",
       "                        <td id=\"T_946ceda6_2834_11eb_b1bd_00d8610889aerow11_col1\" class=\"data row11 col1\" >0.0000</td>\n",
       "                        <td id=\"T_946ceda6_2834_11eb_b1bd_00d8610889aerow11_col2\" class=\"data row11 col2\" >0.0286</td>\n",
       "                        <td id=\"T_946ceda6_2834_11eb_b1bd_00d8610889aerow11_col3\" class=\"data row11 col3\" >0.0054</td>\n",
       "                        <td id=\"T_946ceda6_2834_11eb_b1bd_00d8610889aerow11_col4\" class=\"data row11 col4\" >0.0056</td>\n",
       "                        <td id=\"T_946ceda6_2834_11eb_b1bd_00d8610889aerow11_col5\" class=\"data row11 col5\" >0.0066</td>\n",
       "                        <td id=\"T_946ceda6_2834_11eb_b1bd_00d8610889aerow11_col6\" class=\"data row11 col6\" >0.0066</td>\n",
       "            </tr>\n",
       "    </tbody></table>"
      ],
      "text/plain": [
       "<pandas.io.formats.style.Styler at 0x29a3ad821c0>"
      ]
     },
     "metadata": {},
     "output_type": "display_data"
    }
   ],
   "source": [
    "setup(data=data,\n",
    "      target=target_label,\n",
    "      numeric_features=num_features,\n",
    "      silent=True)\n",
    "model=create_model('rf')"
   ]
  },
  {
   "cell_type": "markdown",
   "metadata": {},
   "source": [
    "# Create new data set"
   ]
  },
  {
   "cell_type": "code",
   "execution_count": 9,
   "metadata": {},
   "outputs": [
    {
     "name": "stdout",
     "output_type": "stream",
     "text": [
      "current columns are : ['fSSL_session_id_len', 'fSSL_num_extensions', 'fcipher_suites', 'ssl_v', 'packet_count', 'fpackets', 'bpackets', 'fbytes', 'bbytes', 'num_keep_alive', 'mean_fttl', 'min_packet_size', 'max_packet_size', 'mean_packet_size', 'sizevar', 'std_fiat', 'max_fiat', 'max_biat', 'std_biat', 'mean_fiat', 'mean_biat', 'min_fpkt', 'min_bpkt', 'max_fpkt', 'max_bpkt', 'std_fpkt', 'std_bpkt', 'mean_fpkt', 'mean_bpkt']\n"
     ]
    }
   ],
   "source": [
    "features_group = SSL_features + common_features + stat_features\n",
    "new_data = pd.DataFrame(columns=features_group+[target_label])\n",
    "print ('current columns are : ' + str(features_group))\n",
    "for i in features_group:\n",
    "    new_data[i] = data[i]\n",
    "new_data[target_label] = data[target_label]"
   ]
  },
  {
   "cell_type": "code",
   "execution_count": 10,
   "metadata": {},
   "outputs": [],
   "source": [
    "for i in backward_features:\n",
    "    if i in new_data.columns:\n",
    "        new_data = new_data.drop(i, axis=1)"
   ]
  },
  {
   "cell_type": "code",
   "execution_count": 11,
   "metadata": {},
   "outputs": [
    {
     "data": {
      "text/plain": [
       "(20632, 21)"
      ]
     },
     "execution_count": 11,
     "metadata": {},
     "output_type": "execute_result"
    }
   ],
   "source": [
    "new_data.shape"
   ]
  },
  {
   "cell_type": "markdown",
   "metadata": {},
   "source": [
    "using 20 features instead of 59"
   ]
  },
  {
   "cell_type": "code",
   "execution_count": 13,
   "metadata": {
    "tags": []
   },
   "outputs": [
    {
     "data": {
      "text/html": [
       "<style  type=\"text/css\" >\n",
       "#T_b7893b3c_2834_11eb_8c3e_00d8610889aerow10_col0,#T_b7893b3c_2834_11eb_8c3e_00d8610889aerow10_col1,#T_b7893b3c_2834_11eb_8c3e_00d8610889aerow10_col2,#T_b7893b3c_2834_11eb_8c3e_00d8610889aerow10_col3,#T_b7893b3c_2834_11eb_8c3e_00d8610889aerow10_col4,#T_b7893b3c_2834_11eb_8c3e_00d8610889aerow10_col5,#T_b7893b3c_2834_11eb_8c3e_00d8610889aerow10_col6{\n",
       "            background:  yellow;\n",
       "        }</style><table id=\"T_b7893b3c_2834_11eb_8c3e_00d8610889ae\" ><thead>    <tr>        <th class=\"blank level0\" ></th>        <th class=\"col_heading level0 col0\" >Accuracy</th>        <th class=\"col_heading level0 col1\" >AUC</th>        <th class=\"col_heading level0 col2\" >Recall</th>        <th class=\"col_heading level0 col3\" >Prec.</th>        <th class=\"col_heading level0 col4\" >F1</th>        <th class=\"col_heading level0 col5\" >Kappa</th>        <th class=\"col_heading level0 col6\" >MCC</th>    </tr></thead><tbody>\n",
       "                <tr>\n",
       "                        <th id=\"T_b7893b3c_2834_11eb_8c3e_00d8610889aelevel0_row0\" class=\"row_heading level0 row0\" >0</th>\n",
       "                        <td id=\"T_b7893b3c_2834_11eb_8c3e_00d8610889aerow0_col0\" class=\"data row0 col0\" >0.9709</td>\n",
       "                        <td id=\"T_b7893b3c_2834_11eb_8c3e_00d8610889aerow0_col1\" class=\"data row0 col1\" >0.0000</td>\n",
       "                        <td id=\"T_b7893b3c_2834_11eb_8c3e_00d8610889aerow0_col2\" class=\"data row0 col2\" >0.8489</td>\n",
       "                        <td id=\"T_b7893b3c_2834_11eb_8c3e_00d8610889aerow0_col3\" class=\"data row0 col3\" >0.9709</td>\n",
       "                        <td id=\"T_b7893b3c_2834_11eb_8c3e_00d8610889aerow0_col4\" class=\"data row0 col4\" >0.9698</td>\n",
       "                        <td id=\"T_b7893b3c_2834_11eb_8c3e_00d8610889aerow0_col5\" class=\"data row0 col5\" >0.9660</td>\n",
       "                        <td id=\"T_b7893b3c_2834_11eb_8c3e_00d8610889aerow0_col6\" class=\"data row0 col6\" >0.9660</td>\n",
       "            </tr>\n",
       "            <tr>\n",
       "                        <th id=\"T_b7893b3c_2834_11eb_8c3e_00d8610889aelevel0_row1\" class=\"row_heading level0 row1\" >1</th>\n",
       "                        <td id=\"T_b7893b3c_2834_11eb_8c3e_00d8610889aerow1_col0\" class=\"data row1 col0\" >0.9702</td>\n",
       "                        <td id=\"T_b7893b3c_2834_11eb_8c3e_00d8610889aerow1_col1\" class=\"data row1 col1\" >0.0000</td>\n",
       "                        <td id=\"T_b7893b3c_2834_11eb_8c3e_00d8610889aerow1_col2\" class=\"data row1 col2\" >0.8689</td>\n",
       "                        <td id=\"T_b7893b3c_2834_11eb_8c3e_00d8610889aerow1_col3\" class=\"data row1 col3\" >0.9692</td>\n",
       "                        <td id=\"T_b7893b3c_2834_11eb_8c3e_00d8610889aerow1_col4\" class=\"data row1 col4\" >0.9686</td>\n",
       "                        <td id=\"T_b7893b3c_2834_11eb_8c3e_00d8610889aerow1_col5\" class=\"data row1 col5\" >0.9652</td>\n",
       "                        <td id=\"T_b7893b3c_2834_11eb_8c3e_00d8610889aerow1_col6\" class=\"data row1 col6\" >0.9652</td>\n",
       "            </tr>\n",
       "            <tr>\n",
       "                        <th id=\"T_b7893b3c_2834_11eb_8c3e_00d8610889aelevel0_row2\" class=\"row_heading level0 row2\" >2</th>\n",
       "                        <td id=\"T_b7893b3c_2834_11eb_8c3e_00d8610889aerow2_col0\" class=\"data row2 col0\" >0.9709</td>\n",
       "                        <td id=\"T_b7893b3c_2834_11eb_8c3e_00d8610889aerow2_col1\" class=\"data row2 col1\" >0.0000</td>\n",
       "                        <td id=\"T_b7893b3c_2834_11eb_8c3e_00d8610889aerow2_col2\" class=\"data row2 col2\" >0.8316</td>\n",
       "                        <td id=\"T_b7893b3c_2834_11eb_8c3e_00d8610889aerow2_col3\" class=\"data row2 col3\" >0.9708</td>\n",
       "                        <td id=\"T_b7893b3c_2834_11eb_8c3e_00d8610889aerow2_col4\" class=\"data row2 col4\" >0.9695</td>\n",
       "                        <td id=\"T_b7893b3c_2834_11eb_8c3e_00d8610889aerow2_col5\" class=\"data row2 col5\" >0.9659</td>\n",
       "                        <td id=\"T_b7893b3c_2834_11eb_8c3e_00d8610889aerow2_col6\" class=\"data row2 col6\" >0.9660</td>\n",
       "            </tr>\n",
       "            <tr>\n",
       "                        <th id=\"T_b7893b3c_2834_11eb_8c3e_00d8610889aelevel0_row3\" class=\"row_heading level0 row3\" >3</th>\n",
       "                        <td id=\"T_b7893b3c_2834_11eb_8c3e_00d8610889aerow3_col0\" class=\"data row3 col0\" >0.9730</td>\n",
       "                        <td id=\"T_b7893b3c_2834_11eb_8c3e_00d8610889aerow3_col1\" class=\"data row3 col1\" >0.0000</td>\n",
       "                        <td id=\"T_b7893b3c_2834_11eb_8c3e_00d8610889aerow3_col2\" class=\"data row3 col2\" >0.9184</td>\n",
       "                        <td id=\"T_b7893b3c_2834_11eb_8c3e_00d8610889aerow3_col3\" class=\"data row3 col3\" >0.9742</td>\n",
       "                        <td id=\"T_b7893b3c_2834_11eb_8c3e_00d8610889aerow3_col4\" class=\"data row3 col4\" >0.9725</td>\n",
       "                        <td id=\"T_b7893b3c_2834_11eb_8c3e_00d8610889aerow3_col5\" class=\"data row3 col5\" >0.9684</td>\n",
       "                        <td id=\"T_b7893b3c_2834_11eb_8c3e_00d8610889aerow3_col6\" class=\"data row3 col6\" >0.9684</td>\n",
       "            </tr>\n",
       "            <tr>\n",
       "                        <th id=\"T_b7893b3c_2834_11eb_8c3e_00d8610889aelevel0_row4\" class=\"row_heading level0 row4\" >4</th>\n",
       "                        <td id=\"T_b7893b3c_2834_11eb_8c3e_00d8610889aerow4_col0\" class=\"data row4 col0\" >0.9598</td>\n",
       "                        <td id=\"T_b7893b3c_2834_11eb_8c3e_00d8610889aerow4_col1\" class=\"data row4 col1\" >0.0000</td>\n",
       "                        <td id=\"T_b7893b3c_2834_11eb_8c3e_00d8610889aerow4_col2\" class=\"data row4 col2\" >0.8827</td>\n",
       "                        <td id=\"T_b7893b3c_2834_11eb_8c3e_00d8610889aerow4_col3\" class=\"data row4 col3\" >0.9614</td>\n",
       "                        <td id=\"T_b7893b3c_2834_11eb_8c3e_00d8610889aerow4_col4\" class=\"data row4 col4\" >0.9602</td>\n",
       "                        <td id=\"T_b7893b3c_2834_11eb_8c3e_00d8610889aerow4_col5\" class=\"data row4 col5\" >0.9530</td>\n",
       "                        <td id=\"T_b7893b3c_2834_11eb_8c3e_00d8610889aerow4_col6\" class=\"data row4 col6\" >0.9530</td>\n",
       "            </tr>\n",
       "            <tr>\n",
       "                        <th id=\"T_b7893b3c_2834_11eb_8c3e_00d8610889aelevel0_row5\" class=\"row_heading level0 row5\" >5</th>\n",
       "                        <td id=\"T_b7893b3c_2834_11eb_8c3e_00d8610889aerow5_col0\" class=\"data row5 col0\" >0.9737</td>\n",
       "                        <td id=\"T_b7893b3c_2834_11eb_8c3e_00d8610889aerow5_col1\" class=\"data row5 col1\" >0.0000</td>\n",
       "                        <td id=\"T_b7893b3c_2834_11eb_8c3e_00d8610889aerow5_col2\" class=\"data row5 col2\" >0.9079</td>\n",
       "                        <td id=\"T_b7893b3c_2834_11eb_8c3e_00d8610889aerow5_col3\" class=\"data row5 col3\" >0.9739</td>\n",
       "                        <td id=\"T_b7893b3c_2834_11eb_8c3e_00d8610889aerow5_col4\" class=\"data row5 col4\" >0.9729</td>\n",
       "                        <td id=\"T_b7893b3c_2834_11eb_8c3e_00d8610889aerow5_col5\" class=\"data row5 col5\" >0.9692</td>\n",
       "                        <td id=\"T_b7893b3c_2834_11eb_8c3e_00d8610889aerow5_col6\" class=\"data row5 col6\" >0.9692</td>\n",
       "            </tr>\n",
       "            <tr>\n",
       "                        <th id=\"T_b7893b3c_2834_11eb_8c3e_00d8610889aelevel0_row6\" class=\"row_heading level0 row6\" >6</th>\n",
       "                        <td id=\"T_b7893b3c_2834_11eb_8c3e_00d8610889aerow6_col0\" class=\"data row6 col0\" >0.9716</td>\n",
       "                        <td id=\"T_b7893b3c_2834_11eb_8c3e_00d8610889aerow6_col1\" class=\"data row6 col1\" >0.0000</td>\n",
       "                        <td id=\"T_b7893b3c_2834_11eb_8c3e_00d8610889aerow6_col2\" class=\"data row6 col2\" >0.8706</td>\n",
       "                        <td id=\"T_b7893b3c_2834_11eb_8c3e_00d8610889aerow6_col3\" class=\"data row6 col3\" >0.9707</td>\n",
       "                        <td id=\"T_b7893b3c_2834_11eb_8c3e_00d8610889aerow6_col4\" class=\"data row6 col4\" >0.9707</td>\n",
       "                        <td id=\"T_b7893b3c_2834_11eb_8c3e_00d8610889aerow6_col5\" class=\"data row6 col5\" >0.9668</td>\n",
       "                        <td id=\"T_b7893b3c_2834_11eb_8c3e_00d8610889aerow6_col6\" class=\"data row6 col6\" >0.9668</td>\n",
       "            </tr>\n",
       "            <tr>\n",
       "                        <th id=\"T_b7893b3c_2834_11eb_8c3e_00d8610889aelevel0_row7\" class=\"row_heading level0 row7\" >7</th>\n",
       "                        <td id=\"T_b7893b3c_2834_11eb_8c3e_00d8610889aerow7_col0\" class=\"data row7 col0\" >0.9702</td>\n",
       "                        <td id=\"T_b7893b3c_2834_11eb_8c3e_00d8610889aerow7_col1\" class=\"data row7 col1\" >0.0000</td>\n",
       "                        <td id=\"T_b7893b3c_2834_11eb_8c3e_00d8610889aerow7_col2\" class=\"data row7 col2\" >0.8753</td>\n",
       "                        <td id=\"T_b7893b3c_2834_11eb_8c3e_00d8610889aerow7_col3\" class=\"data row7 col3\" >0.9709</td>\n",
       "                        <td id=\"T_b7893b3c_2834_11eb_8c3e_00d8610889aerow7_col4\" class=\"data row7 col4\" >0.9695</td>\n",
       "                        <td id=\"T_b7893b3c_2834_11eb_8c3e_00d8610889aerow7_col5\" class=\"data row7 col5\" >0.9652</td>\n",
       "                        <td id=\"T_b7893b3c_2834_11eb_8c3e_00d8610889aerow7_col6\" class=\"data row7 col6\" >0.9652</td>\n",
       "            </tr>\n",
       "            <tr>\n",
       "                        <th id=\"T_b7893b3c_2834_11eb_8c3e_00d8610889aelevel0_row8\" class=\"row_heading level0 row8\" >8</th>\n",
       "                        <td id=\"T_b7893b3c_2834_11eb_8c3e_00d8610889aerow8_col0\" class=\"data row8 col0\" >0.9654</td>\n",
       "                        <td id=\"T_b7893b3c_2834_11eb_8c3e_00d8610889aerow8_col1\" class=\"data row8 col1\" >0.0000</td>\n",
       "                        <td id=\"T_b7893b3c_2834_11eb_8c3e_00d8610889aerow8_col2\" class=\"data row8 col2\" >0.8865</td>\n",
       "                        <td id=\"T_b7893b3c_2834_11eb_8c3e_00d8610889aerow8_col3\" class=\"data row8 col3\" >0.9646</td>\n",
       "                        <td id=\"T_b7893b3c_2834_11eb_8c3e_00d8610889aerow8_col4\" class=\"data row8 col4\" >0.9645</td>\n",
       "                        <td id=\"T_b7893b3c_2834_11eb_8c3e_00d8610889aerow8_col5\" class=\"data row8 col5\" >0.9595</td>\n",
       "                        <td id=\"T_b7893b3c_2834_11eb_8c3e_00d8610889aerow8_col6\" class=\"data row8 col6\" >0.9595</td>\n",
       "            </tr>\n",
       "            <tr>\n",
       "                        <th id=\"T_b7893b3c_2834_11eb_8c3e_00d8610889aelevel0_row9\" class=\"row_heading level0 row9\" >9</th>\n",
       "                        <td id=\"T_b7893b3c_2834_11eb_8c3e_00d8610889aerow9_col0\" class=\"data row9 col0\" >0.9633</td>\n",
       "                        <td id=\"T_b7893b3c_2834_11eb_8c3e_00d8610889aerow9_col1\" class=\"data row9 col1\" >0.0000</td>\n",
       "                        <td id=\"T_b7893b3c_2834_11eb_8c3e_00d8610889aerow9_col2\" class=\"data row9 col2\" >0.8347</td>\n",
       "                        <td id=\"T_b7893b3c_2834_11eb_8c3e_00d8610889aerow9_col3\" class=\"data row9 col3\" >0.9622</td>\n",
       "                        <td id=\"T_b7893b3c_2834_11eb_8c3e_00d8610889aerow9_col4\" class=\"data row9 col4\" >0.9619</td>\n",
       "                        <td id=\"T_b7893b3c_2834_11eb_8c3e_00d8610889aerow9_col5\" class=\"data row9 col5\" >0.9570</td>\n",
       "                        <td id=\"T_b7893b3c_2834_11eb_8c3e_00d8610889aerow9_col6\" class=\"data row9 col6\" >0.9571</td>\n",
       "            </tr>\n",
       "            <tr>\n",
       "                        <th id=\"T_b7893b3c_2834_11eb_8c3e_00d8610889aelevel0_row10\" class=\"row_heading level0 row10\" >Mean</th>\n",
       "                        <td id=\"T_b7893b3c_2834_11eb_8c3e_00d8610889aerow10_col0\" class=\"data row10 col0\" >0.9689</td>\n",
       "                        <td id=\"T_b7893b3c_2834_11eb_8c3e_00d8610889aerow10_col1\" class=\"data row10 col1\" >0.0000</td>\n",
       "                        <td id=\"T_b7893b3c_2834_11eb_8c3e_00d8610889aerow10_col2\" class=\"data row10 col2\" >0.8725</td>\n",
       "                        <td id=\"T_b7893b3c_2834_11eb_8c3e_00d8610889aerow10_col3\" class=\"data row10 col3\" >0.9689</td>\n",
       "                        <td id=\"T_b7893b3c_2834_11eb_8c3e_00d8610889aerow10_col4\" class=\"data row10 col4\" >0.9680</td>\n",
       "                        <td id=\"T_b7893b3c_2834_11eb_8c3e_00d8610889aerow10_col5\" class=\"data row10 col5\" >0.9636</td>\n",
       "                        <td id=\"T_b7893b3c_2834_11eb_8c3e_00d8610889aerow10_col6\" class=\"data row10 col6\" >0.9637</td>\n",
       "            </tr>\n",
       "            <tr>\n",
       "                        <th id=\"T_b7893b3c_2834_11eb_8c3e_00d8610889aelevel0_row11\" class=\"row_heading level0 row11\" >SD</th>\n",
       "                        <td id=\"T_b7893b3c_2834_11eb_8c3e_00d8610889aerow11_col0\" class=\"data row11 col0\" >0.0043</td>\n",
       "                        <td id=\"T_b7893b3c_2834_11eb_8c3e_00d8610889aerow11_col1\" class=\"data row11 col1\" >0.0000</td>\n",
       "                        <td id=\"T_b7893b3c_2834_11eb_8c3e_00d8610889aerow11_col2\" class=\"data row11 col2\" >0.0271</td>\n",
       "                        <td id=\"T_b7893b3c_2834_11eb_8c3e_00d8610889aerow11_col3\" class=\"data row11 col3\" >0.0043</td>\n",
       "                        <td id=\"T_b7893b3c_2834_11eb_8c3e_00d8610889aerow11_col4\" class=\"data row11 col4\" >0.0041</td>\n",
       "                        <td id=\"T_b7893b3c_2834_11eb_8c3e_00d8610889aerow11_col5\" class=\"data row11 col5\" >0.0050</td>\n",
       "                        <td id=\"T_b7893b3c_2834_11eb_8c3e_00d8610889aerow11_col6\" class=\"data row11 col6\" >0.0050</td>\n",
       "            </tr>\n",
       "    </tbody></table>"
      ],
      "text/plain": [
       "<pandas.io.formats.style.Styler at 0x29a38196c40>"
      ]
     },
     "metadata": {},
     "output_type": "display_data"
    }
   ],
   "source": [
    "setup(data=new_data,\n",
    "      target=target_label,\n",
    "      silent=True)\n",
    "model=create_model('rf')"
   ]
  },
  {
   "cell_type": "markdown",
   "metadata": {},
   "source": [
    "We can see the using only SSL, Common and Statistics Features can establish proper results"
   ]
  },
  {
   "cell_type": "code",
   "execution_count": null,
   "metadata": {},
   "outputs": [],
   "source": []
  }
 ],
 "metadata": {
  "kernelspec": {
   "display_name": "Python 3.8.3 64-bit ('base': conda)",
   "language": "python",
   "name": "python38364bitbasecondaed19ee87b6844ca4b2207fe8765813ad"
  },
  "language_info": {
   "codemirror_mode": {
    "name": "ipython",
    "version": 3
   },
   "file_extension": ".py",
   "mimetype": "text/x-python",
   "name": "python",
   "nbconvert_exporter": "python",
   "pygments_lexer": "ipython3",
   "version": "3.8.5"
  }
 },
 "nbformat": 4,
 "nbformat_minor": 4
}
