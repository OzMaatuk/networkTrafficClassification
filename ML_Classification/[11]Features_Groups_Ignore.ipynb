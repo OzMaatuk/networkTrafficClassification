{
 "cells": [
  {
   "cell_type": "markdown",
   "metadata": {},
   "source": [
    "# Features Groups Importance Test\n",
    "this notebook will present the performance of relevant machine learning scores when in each section we are removing a whole group of features to deteminate thier effection compare to the full features score."
   ]
  },
  {
   "cell_type": "markdown",
   "metadata": {},
   "source": [
    "### Import and Settings"
   ]
  },
  {
   "cell_type": "code",
   "execution_count": 1,
   "metadata": {},
   "outputs": [],
   "source": [
    "import pandas as pd\n",
    "import numpy as np\n",
    "from pycaret.classification import *\n",
    "import time"
   ]
  },
  {
   "cell_type": "code",
   "execution_count": 2,
   "metadata": {},
   "outputs": [],
   "source": [
    "# set constants\n",
    "target_label = 'tuple'\n",
    "learning_model = 'et'\n",
    "num_features = ['min_packet_size', 'min_fpkt', 'min_bpkt']\n",
    "file_name = \"new_all_features_\"\n",
    "path = \"../Datasets/\" + target_label + \"_dataset/\""
   ]
  },
  {
   "cell_type": "code",
   "execution_count": 3,
   "metadata": {},
   "outputs": [],
   "source": [
    "# function for making model-prediction over the data set and measure the run time \n",
    "def timed_prediction(in_data,in_model):\n",
    "    t = time.process_time()\n",
    "    predicted = predict_model(in_model, data=in_data)\n",
    "    elapsed_time = time.process_time() - t\n",
    "    print(\"prediction took: \" + str(elapsed_time))\n",
    "    return predicted"
   ]
  },
  {
   "cell_type": "code",
   "execution_count": 4,
   "metadata": {},
   "outputs": [],
   "source": [
    "# compare answers and labeled test\n",
    "def compare_prediction_with_answers(in_predicted, in_answers):\n",
    "    count=0\n",
    "    index = in_predicted.index\n",
    "    number_of_rows = len(index)\n",
    "    errors_arr = []\n",
    "    for i in range(0,number_of_rows):\n",
    "        if str(int(in_answers.iloc[i])) != str(int(in_predicted.iloc[i]['Label'])):\n",
    "            count=count+1\n",
    "            cur_error = str(in_answers[i]) + \"!=\" + str(in_predicted.iloc[i]['Label'])\n",
    "            errors_arr.append(cur_error)\n",
    "    print(\"Number of error: \" + str(count) + \" from \" +\n",
    "          str(number_of_rows) + \" test samples \\nWhich is \"\n",
    "          + str(100*count/number_of_rows) + \"% of error.\")"
   ]
  },
  {
   "cell_type": "code",
   "execution_count": 5,
   "metadata": {},
   "outputs": [],
   "source": [
    "# set up features groups\n",
    "SSL_features = ['fSSL_session_id_len', 'fSSL_num_extensions', 'fcipher_suites', 'ssl_v', ]\n",
    "size_features = ['size_histogram_1','size_histogram_2','size_histogram_3',\n",
    "                 'size_histogram_4','size_histogram_5','size_histogram_6',\n",
    "                 'size_histogram_7','size_histogram_8','size_histogram_9', 'size_histogram_10',\n",
    "                'fpackets', 'bpackets', 'fbytes', 'bbytes','min_packet_size',\n",
    "                 'max_packet_size', 'mean_packet_size','sizevar']\n",
    "peak_features = ['fpeak_features_1','fpeak_features_2','fpeak_features_3',\n",
    "                 'fpeak_features_4','fpeak_features_5','fpeak_features_6',\n",
    "                 'fpeak_features_7','fpeak_features_8','fpeak_features_9',\n",
    "                 'bpeak_features_1','bpeak_features_2','bpeak_features_3',\n",
    "                 'bpeak_features_4','bpeak_features_5','bpeak_features_6',\n",
    "                 'bpeak_features_7','bpeak_features_8','bpeak_features_9']\n",
    "TCP_features = ['SYN_tcp_scale', 'SYN_tcp_winsize']\n",
    "common_features = ['packet_count','num_keep_alive', 'mean_fttl',\n",
    "                   'max_fpkt','max_bpkt','std_fpkt','std_bpkt','mean_fpkt','mean_bpkt']\n",
    "stat_features = ['min_packet_size', 'max_packet_size', 'mean_packet_size',\n",
    "                 'sizevar', 'std_fiat','max_fiat','max_biat','std_biat','mean_fiat','mean_biat',\n",
    "                'min_fpkt','min_bpkt','max_fpkt','max_bpkt','std_fpkt','std_bpkt','mean_fpkt','mean_bpkt']\n",
    "time_features = ['std_fiat','max_fiat','max_biat','std_biat','mean_fiat','mean_biat']"
   ]
  },
  {
   "cell_type": "markdown",
   "metadata": {},
   "source": [
    "### Read Data"
   ]
  },
  {
   "cell_type": "code",
   "execution_count": 6,
   "metadata": {},
   "outputs": [],
   "source": [
    "data = pd.read_csv(path+file_name+target_label+'_train.csv',\n",
    "                      sep='\\t',\n",
    "                      skiprows=[1])\n",
    "original_data = data.copy()"
   ]
  },
  {
   "cell_type": "markdown",
   "metadata": {},
   "source": [
    "# Full Features"
   ]
  },
  {
   "cell_type": "markdown",
   "metadata": {},
   "source": [
    "### Setup Data and Build Model\n",
    "The output of the function is a table showing averaged score of all models across the folds. By default, the fold is set to 10. "
   ]
  },
  {
   "cell_type": "code",
   "execution_count": 7,
   "metadata": {
    "tags": []
   },
   "outputs": [
    {
     "data": {
      "text/html": [
       "<style  type=\"text/css\" >\n",
       "#T_764a86c5_29a3_11eb_96f4_00d8610889aerow10_col0,#T_764a86c5_29a3_11eb_96f4_00d8610889aerow10_col1,#T_764a86c5_29a3_11eb_96f4_00d8610889aerow10_col2,#T_764a86c5_29a3_11eb_96f4_00d8610889aerow10_col3,#T_764a86c5_29a3_11eb_96f4_00d8610889aerow10_col4,#T_764a86c5_29a3_11eb_96f4_00d8610889aerow10_col5,#T_764a86c5_29a3_11eb_96f4_00d8610889aerow10_col6{\n",
       "            background:  yellow;\n",
       "        }</style><table id=\"T_764a86c5_29a3_11eb_96f4_00d8610889ae\" ><thead>    <tr>        <th class=\"blank level0\" ></th>        <th class=\"col_heading level0 col0\" >Accuracy</th>        <th class=\"col_heading level0 col1\" >AUC</th>        <th class=\"col_heading level0 col2\" >Recall</th>        <th class=\"col_heading level0 col3\" >Prec.</th>        <th class=\"col_heading level0 col4\" >F1</th>        <th class=\"col_heading level0 col5\" >Kappa</th>        <th class=\"col_heading level0 col6\" >MCC</th>    </tr></thead><tbody>\n",
       "                <tr>\n",
       "                        <th id=\"T_764a86c5_29a3_11eb_96f4_00d8610889aelevel0_row0\" class=\"row_heading level0 row0\" >0</th>\n",
       "                        <td id=\"T_764a86c5_29a3_11eb_96f4_00d8610889aerow0_col0\" class=\"data row0 col0\" >0.9802</td>\n",
       "                        <td id=\"T_764a86c5_29a3_11eb_96f4_00d8610889aerow0_col1\" class=\"data row0 col1\" >0.0000</td>\n",
       "                        <td id=\"T_764a86c5_29a3_11eb_96f4_00d8610889aerow0_col2\" class=\"data row0 col2\" >0.9420</td>\n",
       "                        <td id=\"T_764a86c5_29a3_11eb_96f4_00d8610889aerow0_col3\" class=\"data row0 col3\" >0.9773</td>\n",
       "                        <td id=\"T_764a86c5_29a3_11eb_96f4_00d8610889aerow0_col4\" class=\"data row0 col4\" >0.9784</td>\n",
       "                        <td id=\"T_764a86c5_29a3_11eb_96f4_00d8610889aerow0_col5\" class=\"data row0 col5\" >0.9769</td>\n",
       "                        <td id=\"T_764a86c5_29a3_11eb_96f4_00d8610889aerow0_col6\" class=\"data row0 col6\" >0.9769</td>\n",
       "            </tr>\n",
       "            <tr>\n",
       "                        <th id=\"T_764a86c5_29a3_11eb_96f4_00d8610889aelevel0_row1\" class=\"row_heading level0 row1\" >1</th>\n",
       "                        <td id=\"T_764a86c5_29a3_11eb_96f4_00d8610889aerow1_col0\" class=\"data row1 col0\" >0.9773</td>\n",
       "                        <td id=\"T_764a86c5_29a3_11eb_96f4_00d8610889aerow1_col1\" class=\"data row1 col1\" >0.0000</td>\n",
       "                        <td id=\"T_764a86c5_29a3_11eb_96f4_00d8610889aerow1_col2\" class=\"data row1 col2\" >0.8842</td>\n",
       "                        <td id=\"T_764a86c5_29a3_11eb_96f4_00d8610889aerow1_col3\" class=\"data row1 col3\" >0.9784</td>\n",
       "                        <td id=\"T_764a86c5_29a3_11eb_96f4_00d8610889aerow1_col4\" class=\"data row1 col4\" >0.9763</td>\n",
       "                        <td id=\"T_764a86c5_29a3_11eb_96f4_00d8610889aerow1_col5\" class=\"data row1 col5\" >0.9734</td>\n",
       "                        <td id=\"T_764a86c5_29a3_11eb_96f4_00d8610889aerow1_col6\" class=\"data row1 col6\" >0.9734</td>\n",
       "            </tr>\n",
       "            <tr>\n",
       "                        <th id=\"T_764a86c5_29a3_11eb_96f4_00d8610889aelevel0_row2\" class=\"row_heading level0 row2\" >2</th>\n",
       "                        <td id=\"T_764a86c5_29a3_11eb_96f4_00d8610889aerow2_col0\" class=\"data row2 col0\" >0.9703</td>\n",
       "                        <td id=\"T_764a86c5_29a3_11eb_96f4_00d8610889aerow2_col1\" class=\"data row2 col1\" >0.0000</td>\n",
       "                        <td id=\"T_764a86c5_29a3_11eb_96f4_00d8610889aerow2_col2\" class=\"data row2 col2\" >0.8776</td>\n",
       "                        <td id=\"T_764a86c5_29a3_11eb_96f4_00d8610889aerow2_col3\" class=\"data row2 col3\" >0.9691</td>\n",
       "                        <td id=\"T_764a86c5_29a3_11eb_96f4_00d8610889aerow2_col4\" class=\"data row2 col4\" >0.9694</td>\n",
       "                        <td id=\"T_764a86c5_29a3_11eb_96f4_00d8610889aerow2_col5\" class=\"data row2 col5\" >0.9653</td>\n",
       "                        <td id=\"T_764a86c5_29a3_11eb_96f4_00d8610889aerow2_col6\" class=\"data row2 col6\" >0.9653</td>\n",
       "            </tr>\n",
       "            <tr>\n",
       "                        <th id=\"T_764a86c5_29a3_11eb_96f4_00d8610889aelevel0_row3\" class=\"row_heading level0 row3\" >3</th>\n",
       "                        <td id=\"T_764a86c5_29a3_11eb_96f4_00d8610889aerow3_col0\" class=\"data row3 col0\" >0.9763</td>\n",
       "                        <td id=\"T_764a86c5_29a3_11eb_96f4_00d8610889aerow3_col1\" class=\"data row3 col1\" >0.0000</td>\n",
       "                        <td id=\"T_764a86c5_29a3_11eb_96f4_00d8610889aerow3_col2\" class=\"data row3 col2\" >0.8773</td>\n",
       "                        <td id=\"T_764a86c5_29a3_11eb_96f4_00d8610889aerow3_col3\" class=\"data row3 col3\" >0.9766</td>\n",
       "                        <td id=\"T_764a86c5_29a3_11eb_96f4_00d8610889aerow3_col4\" class=\"data row3 col4\" >0.9758</td>\n",
       "                        <td id=\"T_764a86c5_29a3_11eb_96f4_00d8610889aerow3_col5\" class=\"data row3 col5\" >0.9722</td>\n",
       "                        <td id=\"T_764a86c5_29a3_11eb_96f4_00d8610889aerow3_col6\" class=\"data row3 col6\" >0.9723</td>\n",
       "            </tr>\n",
       "            <tr>\n",
       "                        <th id=\"T_764a86c5_29a3_11eb_96f4_00d8610889aelevel0_row4\" class=\"row_heading level0 row4\" >4</th>\n",
       "                        <td id=\"T_764a86c5_29a3_11eb_96f4_00d8610889aerow4_col0\" class=\"data row4 col0\" >0.9812</td>\n",
       "                        <td id=\"T_764a86c5_29a3_11eb_96f4_00d8610889aerow4_col1\" class=\"data row4 col1\" >0.0000</td>\n",
       "                        <td id=\"T_764a86c5_29a3_11eb_96f4_00d8610889aerow4_col2\" class=\"data row4 col2\" >0.9256</td>\n",
       "                        <td id=\"T_764a86c5_29a3_11eb_96f4_00d8610889aerow4_col3\" class=\"data row4 col3\" >0.9815</td>\n",
       "                        <td id=\"T_764a86c5_29a3_11eb_96f4_00d8610889aerow4_col4\" class=\"data row4 col4\" >0.9807</td>\n",
       "                        <td id=\"T_764a86c5_29a3_11eb_96f4_00d8610889aerow4_col5\" class=\"data row4 col5\" >0.9780</td>\n",
       "                        <td id=\"T_764a86c5_29a3_11eb_96f4_00d8610889aerow4_col6\" class=\"data row4 col6\" >0.9781</td>\n",
       "            </tr>\n",
       "            <tr>\n",
       "                        <th id=\"T_764a86c5_29a3_11eb_96f4_00d8610889aelevel0_row5\" class=\"row_heading level0 row5\" >5</th>\n",
       "                        <td id=\"T_764a86c5_29a3_11eb_96f4_00d8610889aerow5_col0\" class=\"data row5 col0\" >0.9743</td>\n",
       "                        <td id=\"T_764a86c5_29a3_11eb_96f4_00d8610889aerow5_col1\" class=\"data row5 col1\" >0.0000</td>\n",
       "                        <td id=\"T_764a86c5_29a3_11eb_96f4_00d8610889aerow5_col2\" class=\"data row5 col2\" >0.9098</td>\n",
       "                        <td id=\"T_764a86c5_29a3_11eb_96f4_00d8610889aerow5_col3\" class=\"data row5 col3\" >0.9747</td>\n",
       "                        <td id=\"T_764a86c5_29a3_11eb_96f4_00d8610889aerow5_col4\" class=\"data row5 col4\" >0.9737</td>\n",
       "                        <td id=\"T_764a86c5_29a3_11eb_96f4_00d8610889aerow5_col5\" class=\"data row5 col5\" >0.9699</td>\n",
       "                        <td id=\"T_764a86c5_29a3_11eb_96f4_00d8610889aerow5_col6\" class=\"data row5 col6\" >0.9700</td>\n",
       "            </tr>\n",
       "            <tr>\n",
       "                        <th id=\"T_764a86c5_29a3_11eb_96f4_00d8610889aelevel0_row6\" class=\"row_heading level0 row6\" >6</th>\n",
       "                        <td id=\"T_764a86c5_29a3_11eb_96f4_00d8610889aerow6_col0\" class=\"data row6 col0\" >0.9654</td>\n",
       "                        <td id=\"T_764a86c5_29a3_11eb_96f4_00d8610889aerow6_col1\" class=\"data row6 col1\" >0.0000</td>\n",
       "                        <td id=\"T_764a86c5_29a3_11eb_96f4_00d8610889aerow6_col2\" class=\"data row6 col2\" >0.8440</td>\n",
       "                        <td id=\"T_764a86c5_29a3_11eb_96f4_00d8610889aerow6_col3\" class=\"data row6 col3\" >0.9634</td>\n",
       "                        <td id=\"T_764a86c5_29a3_11eb_96f4_00d8610889aerow6_col4\" class=\"data row6 col4\" >0.9632</td>\n",
       "                        <td id=\"T_764a86c5_29a3_11eb_96f4_00d8610889aerow6_col5\" class=\"data row6 col5\" >0.9595</td>\n",
       "                        <td id=\"T_764a86c5_29a3_11eb_96f4_00d8610889aerow6_col6\" class=\"data row6 col6\" >0.9595</td>\n",
       "            </tr>\n",
       "            <tr>\n",
       "                        <th id=\"T_764a86c5_29a3_11eb_96f4_00d8610889aelevel0_row7\" class=\"row_heading level0 row7\" >7</th>\n",
       "                        <td id=\"T_764a86c5_29a3_11eb_96f4_00d8610889aerow7_col0\" class=\"data row7 col0\" >0.9753</td>\n",
       "                        <td id=\"T_764a86c5_29a3_11eb_96f4_00d8610889aerow7_col1\" class=\"data row7 col1\" >0.0000</td>\n",
       "                        <td id=\"T_764a86c5_29a3_11eb_96f4_00d8610889aerow7_col2\" class=\"data row7 col2\" >0.9162</td>\n",
       "                        <td id=\"T_764a86c5_29a3_11eb_96f4_00d8610889aerow7_col3\" class=\"data row7 col3\" >0.9756</td>\n",
       "                        <td id=\"T_764a86c5_29a3_11eb_96f4_00d8610889aerow7_col4\" class=\"data row7 col4\" >0.9747</td>\n",
       "                        <td id=\"T_764a86c5_29a3_11eb_96f4_00d8610889aerow7_col5\" class=\"data row7 col5\" >0.9711</td>\n",
       "                        <td id=\"T_764a86c5_29a3_11eb_96f4_00d8610889aerow7_col6\" class=\"data row7 col6\" >0.9711</td>\n",
       "            </tr>\n",
       "            <tr>\n",
       "                        <th id=\"T_764a86c5_29a3_11eb_96f4_00d8610889aelevel0_row8\" class=\"row_heading level0 row8\" >8</th>\n",
       "                        <td id=\"T_764a86c5_29a3_11eb_96f4_00d8610889aerow8_col0\" class=\"data row8 col0\" >0.9773</td>\n",
       "                        <td id=\"T_764a86c5_29a3_11eb_96f4_00d8610889aerow8_col1\" class=\"data row8 col1\" >0.0000</td>\n",
       "                        <td id=\"T_764a86c5_29a3_11eb_96f4_00d8610889aerow8_col2\" class=\"data row8 col2\" >0.8436</td>\n",
       "                        <td id=\"T_764a86c5_29a3_11eb_96f4_00d8610889aerow8_col3\" class=\"data row8 col3\" >0.9744</td>\n",
       "                        <td id=\"T_764a86c5_29a3_11eb_96f4_00d8610889aerow8_col4\" class=\"data row8 col4\" >0.9742</td>\n",
       "                        <td id=\"T_764a86c5_29a3_11eb_96f4_00d8610889aerow8_col5\" class=\"data row8 col5\" >0.9734</td>\n",
       "                        <td id=\"T_764a86c5_29a3_11eb_96f4_00d8610889aerow8_col6\" class=\"data row8 col6\" >0.9735</td>\n",
       "            </tr>\n",
       "            <tr>\n",
       "                        <th id=\"T_764a86c5_29a3_11eb_96f4_00d8610889aelevel0_row9\" class=\"row_heading level0 row9\" >9</th>\n",
       "                        <td id=\"T_764a86c5_29a3_11eb_96f4_00d8610889aerow9_col0\" class=\"data row9 col0\" >0.9752</td>\n",
       "                        <td id=\"T_764a86c5_29a3_11eb_96f4_00d8610889aerow9_col1\" class=\"data row9 col1\" >0.0000</td>\n",
       "                        <td id=\"T_764a86c5_29a3_11eb_96f4_00d8610889aerow9_col2\" class=\"data row9 col2\" >0.9147</td>\n",
       "                        <td id=\"T_764a86c5_29a3_11eb_96f4_00d8610889aerow9_col3\" class=\"data row9 col3\" >0.9748</td>\n",
       "                        <td id=\"T_764a86c5_29a3_11eb_96f4_00d8610889aerow9_col4\" class=\"data row9 col4\" >0.9745</td>\n",
       "                        <td id=\"T_764a86c5_29a3_11eb_96f4_00d8610889aerow9_col5\" class=\"data row9 col5\" >0.9710</td>\n",
       "                        <td id=\"T_764a86c5_29a3_11eb_96f4_00d8610889aerow9_col6\" class=\"data row9 col6\" >0.9710</td>\n",
       "            </tr>\n",
       "            <tr>\n",
       "                        <th id=\"T_764a86c5_29a3_11eb_96f4_00d8610889aelevel0_row10\" class=\"row_heading level0 row10\" >Mean</th>\n",
       "                        <td id=\"T_764a86c5_29a3_11eb_96f4_00d8610889aerow10_col0\" class=\"data row10 col0\" >0.9753</td>\n",
       "                        <td id=\"T_764a86c5_29a3_11eb_96f4_00d8610889aerow10_col1\" class=\"data row10 col1\" >0.0000</td>\n",
       "                        <td id=\"T_764a86c5_29a3_11eb_96f4_00d8610889aerow10_col2\" class=\"data row10 col2\" >0.8935</td>\n",
       "                        <td id=\"T_764a86c5_29a3_11eb_96f4_00d8610889aerow10_col3\" class=\"data row10 col3\" >0.9746</td>\n",
       "                        <td id=\"T_764a86c5_29a3_11eb_96f4_00d8610889aerow10_col4\" class=\"data row10 col4\" >0.9741</td>\n",
       "                        <td id=\"T_764a86c5_29a3_11eb_96f4_00d8610889aerow10_col5\" class=\"data row10 col5\" >0.9711</td>\n",
       "                        <td id=\"T_764a86c5_29a3_11eb_96f4_00d8610889aerow10_col6\" class=\"data row10 col6\" >0.9711</td>\n",
       "            </tr>\n",
       "            <tr>\n",
       "                        <th id=\"T_764a86c5_29a3_11eb_96f4_00d8610889aelevel0_row11\" class=\"row_heading level0 row11\" >SD</th>\n",
       "                        <td id=\"T_764a86c5_29a3_11eb_96f4_00d8610889aerow11_col0\" class=\"data row11 col0\" >0.0044</td>\n",
       "                        <td id=\"T_764a86c5_29a3_11eb_96f4_00d8610889aerow11_col1\" class=\"data row11 col1\" >0.0000</td>\n",
       "                        <td id=\"T_764a86c5_29a3_11eb_96f4_00d8610889aerow11_col2\" class=\"data row11 col2\" >0.0319</td>\n",
       "                        <td id=\"T_764a86c5_29a3_11eb_96f4_00d8610889aerow11_col3\" class=\"data row11 col3\" >0.0048</td>\n",
       "                        <td id=\"T_764a86c5_29a3_11eb_96f4_00d8610889aerow11_col4\" class=\"data row11 col4\" >0.0046</td>\n",
       "                        <td id=\"T_764a86c5_29a3_11eb_96f4_00d8610889aerow11_col5\" class=\"data row11 col5\" >0.0051</td>\n",
       "                        <td id=\"T_764a86c5_29a3_11eb_96f4_00d8610889aerow11_col6\" class=\"data row11 col6\" >0.0051</td>\n",
       "            </tr>\n",
       "    </tbody></table>"
      ],
      "text/plain": [
       "<pandas.io.formats.style.Styler at 0x274baad66d0>"
      ]
     },
     "metadata": {},
     "output_type": "display_data"
    }
   ],
   "source": [
    "setup(data=data,\n",
    "      target=target_label,\n",
    "      silent=True)\n",
    "model=create_model(learning_model)"
   ]
  },
  {
   "cell_type": "markdown",
   "metadata": {},
   "source": [
    "### Read Unseen Data and make Validation Test"
   ]
  },
  {
   "cell_type": "code",
   "execution_count": 8,
   "metadata": {},
   "outputs": [],
   "source": [
    "unseen_data = pd.read_csv(path+file_name+target_label+'_test.csv',\n",
    "                      sep='\\t',\n",
    "                      skiprows=[1])\n",
    "\n",
    "answers = unseen_data[target_label]\n",
    "unseen_data = unseen_data.drop(columns=[target_label])\n",
    "unseen_data_original = unseen_data.copy()"
   ]
  },
  {
   "cell_type": "code",
   "execution_count": 9,
   "metadata": {},
   "outputs": [
    {
     "name": "stdout",
     "output_type": "stream",
     "text": [
      "prediction took: 0.796875\n"
     ]
    }
   ],
   "source": [
    "predicted = timed_prediction(unseen_data,model)"
   ]
  },
  {
   "cell_type": "code",
   "execution_count": 10,
   "metadata": {},
   "outputs": [
    {
     "name": "stdout",
     "output_type": "stream",
     "text": [
      "Number of error: 137 from 6189 test samples \n",
      "Which is 2.2136047826789467% of error.\n"
     ]
    }
   ],
   "source": [
    "compare_prediction_with_answers(predicted,answers)"
   ]
  },
  {
   "cell_type": "markdown",
   "metadata": {},
   "source": [
    "# Remove SSL Features Group"
   ]
  },
  {
   "cell_type": "code",
   "execution_count": 11,
   "metadata": {},
   "outputs": [],
   "source": [
    "data = data.drop(SSL_features, axis=1)"
   ]
  },
  {
   "cell_type": "markdown",
   "metadata": {},
   "source": [
    "### Setup Data and Build Model\n",
    "The output of the function is a table showing averaged score of all models across the folds. By default, the fold is set to 10. "
   ]
  },
  {
   "cell_type": "code",
   "execution_count": 12,
   "metadata": {
    "tags": []
   },
   "outputs": [
    {
     "data": {
      "text/html": [
       "<style  type=\"text/css\" >\n",
       "#T_793c115e_29a3_11eb_a89c_00d8610889aerow10_col0,#T_793c115e_29a3_11eb_a89c_00d8610889aerow10_col1,#T_793c115e_29a3_11eb_a89c_00d8610889aerow10_col2,#T_793c115e_29a3_11eb_a89c_00d8610889aerow10_col3,#T_793c115e_29a3_11eb_a89c_00d8610889aerow10_col4,#T_793c115e_29a3_11eb_a89c_00d8610889aerow10_col5,#T_793c115e_29a3_11eb_a89c_00d8610889aerow10_col6{\n",
       "            background:  yellow;\n",
       "        }</style><table id=\"T_793c115e_29a3_11eb_a89c_00d8610889ae\" ><thead>    <tr>        <th class=\"blank level0\" ></th>        <th class=\"col_heading level0 col0\" >Accuracy</th>        <th class=\"col_heading level0 col1\" >AUC</th>        <th class=\"col_heading level0 col2\" >Recall</th>        <th class=\"col_heading level0 col3\" >Prec.</th>        <th class=\"col_heading level0 col4\" >F1</th>        <th class=\"col_heading level0 col5\" >Kappa</th>        <th class=\"col_heading level0 col6\" >MCC</th>    </tr></thead><tbody>\n",
       "                <tr>\n",
       "                        <th id=\"T_793c115e_29a3_11eb_a89c_00d8610889aelevel0_row0\" class=\"row_heading level0 row0\" >0</th>\n",
       "                        <td id=\"T_793c115e_29a3_11eb_a89c_00d8610889aerow0_col0\" class=\"data row0 col0\" >0.9703</td>\n",
       "                        <td id=\"T_793c115e_29a3_11eb_a89c_00d8610889aerow0_col1\" class=\"data row0 col1\" >0.0000</td>\n",
       "                        <td id=\"T_793c115e_29a3_11eb_a89c_00d8610889aerow0_col2\" class=\"data row0 col2\" >0.8940</td>\n",
       "                        <td id=\"T_793c115e_29a3_11eb_a89c_00d8610889aerow0_col3\" class=\"data row0 col3\" >0.9701</td>\n",
       "                        <td id=\"T_793c115e_29a3_11eb_a89c_00d8610889aerow0_col4\" class=\"data row0 col4\" >0.9698</td>\n",
       "                        <td id=\"T_793c115e_29a3_11eb_a89c_00d8610889aerow0_col5\" class=\"data row0 col5\" >0.9653</td>\n",
       "                        <td id=\"T_793c115e_29a3_11eb_a89c_00d8610889aerow0_col6\" class=\"data row0 col6\" >0.9653</td>\n",
       "            </tr>\n",
       "            <tr>\n",
       "                        <th id=\"T_793c115e_29a3_11eb_a89c_00d8610889aelevel0_row1\" class=\"row_heading level0 row1\" >1</th>\n",
       "                        <td id=\"T_793c115e_29a3_11eb_a89c_00d8610889aerow1_col0\" class=\"data row1 col0\" >0.9644</td>\n",
       "                        <td id=\"T_793c115e_29a3_11eb_a89c_00d8610889aerow1_col1\" class=\"data row1 col1\" >0.0000</td>\n",
       "                        <td id=\"T_793c115e_29a3_11eb_a89c_00d8610889aerow1_col2\" class=\"data row1 col2\" >0.8258</td>\n",
       "                        <td id=\"T_793c115e_29a3_11eb_a89c_00d8610889aerow1_col3\" class=\"data row1 col3\" >0.9617</td>\n",
       "                        <td id=\"T_793c115e_29a3_11eb_a89c_00d8610889aerow1_col4\" class=\"data row1 col4\" >0.9616</td>\n",
       "                        <td id=\"T_793c115e_29a3_11eb_a89c_00d8610889aerow1_col5\" class=\"data row1 col5\" >0.9583</td>\n",
       "                        <td id=\"T_793c115e_29a3_11eb_a89c_00d8610889aerow1_col6\" class=\"data row1 col6\" >0.9583</td>\n",
       "            </tr>\n",
       "            <tr>\n",
       "                        <th id=\"T_793c115e_29a3_11eb_a89c_00d8610889aelevel0_row2\" class=\"row_heading level0 row2\" >2</th>\n",
       "                        <td id=\"T_793c115e_29a3_11eb_a89c_00d8610889aerow2_col0\" class=\"data row2 col0\" >0.9664</td>\n",
       "                        <td id=\"T_793c115e_29a3_11eb_a89c_00d8610889aerow2_col1\" class=\"data row2 col1\" >0.0000</td>\n",
       "                        <td id=\"T_793c115e_29a3_11eb_a89c_00d8610889aerow2_col2\" class=\"data row2 col2\" >0.8635</td>\n",
       "                        <td id=\"T_793c115e_29a3_11eb_a89c_00d8610889aerow2_col3\" class=\"data row2 col3\" >0.9666</td>\n",
       "                        <td id=\"T_793c115e_29a3_11eb_a89c_00d8610889aerow2_col4\" class=\"data row2 col4\" >0.9645</td>\n",
       "                        <td id=\"T_793c115e_29a3_11eb_a89c_00d8610889aerow2_col5\" class=\"data row2 col5\" >0.9606</td>\n",
       "                        <td id=\"T_793c115e_29a3_11eb_a89c_00d8610889aerow2_col6\" class=\"data row2 col6\" >0.9607</td>\n",
       "            </tr>\n",
       "            <tr>\n",
       "                        <th id=\"T_793c115e_29a3_11eb_a89c_00d8610889aelevel0_row3\" class=\"row_heading level0 row3\" >3</th>\n",
       "                        <td id=\"T_793c115e_29a3_11eb_a89c_00d8610889aerow3_col0\" class=\"data row3 col0\" >0.9594</td>\n",
       "                        <td id=\"T_793c115e_29a3_11eb_a89c_00d8610889aerow3_col1\" class=\"data row3 col1\" >0.0000</td>\n",
       "                        <td id=\"T_793c115e_29a3_11eb_a89c_00d8610889aerow3_col2\" class=\"data row3 col2\" >0.8284</td>\n",
       "                        <td id=\"T_793c115e_29a3_11eb_a89c_00d8610889aerow3_col3\" class=\"data row3 col3\" >0.9605</td>\n",
       "                        <td id=\"T_793c115e_29a3_11eb_a89c_00d8610889aerow3_col4\" class=\"data row3 col4\" >0.9587</td>\n",
       "                        <td id=\"T_793c115e_29a3_11eb_a89c_00d8610889aerow3_col5\" class=\"data row3 col5\" >0.9525</td>\n",
       "                        <td id=\"T_793c115e_29a3_11eb_a89c_00d8610889aerow3_col6\" class=\"data row3 col6\" >0.9526</td>\n",
       "            </tr>\n",
       "            <tr>\n",
       "                        <th id=\"T_793c115e_29a3_11eb_a89c_00d8610889aelevel0_row4\" class=\"row_heading level0 row4\" >4</th>\n",
       "                        <td id=\"T_793c115e_29a3_11eb_a89c_00d8610889aerow4_col0\" class=\"data row4 col0\" >0.9604</td>\n",
       "                        <td id=\"T_793c115e_29a3_11eb_a89c_00d8610889aerow4_col1\" class=\"data row4 col1\" >0.0000</td>\n",
       "                        <td id=\"T_793c115e_29a3_11eb_a89c_00d8610889aerow4_col2\" class=\"data row4 col2\" >0.8221</td>\n",
       "                        <td id=\"T_793c115e_29a3_11eb_a89c_00d8610889aerow4_col3\" class=\"data row4 col3\" >0.9634</td>\n",
       "                        <td id=\"T_793c115e_29a3_11eb_a89c_00d8610889aerow4_col4\" class=\"data row4 col4\" >0.9586</td>\n",
       "                        <td id=\"T_793c115e_29a3_11eb_a89c_00d8610889aerow4_col5\" class=\"data row4 col5\" >0.9537</td>\n",
       "                        <td id=\"T_793c115e_29a3_11eb_a89c_00d8610889aerow4_col6\" class=\"data row4 col6\" >0.9538</td>\n",
       "            </tr>\n",
       "            <tr>\n",
       "                        <th id=\"T_793c115e_29a3_11eb_a89c_00d8610889aelevel0_row5\" class=\"row_heading level0 row5\" >5</th>\n",
       "                        <td id=\"T_793c115e_29a3_11eb_a89c_00d8610889aerow5_col0\" class=\"data row5 col0\" >0.9515</td>\n",
       "                        <td id=\"T_793c115e_29a3_11eb_a89c_00d8610889aerow5_col1\" class=\"data row5 col1\" >0.0000</td>\n",
       "                        <td id=\"T_793c115e_29a3_11eb_a89c_00d8610889aerow5_col2\" class=\"data row5 col2\" >0.7781</td>\n",
       "                        <td id=\"T_793c115e_29a3_11eb_a89c_00d8610889aerow5_col3\" class=\"data row5 col3\" >0.9522</td>\n",
       "                        <td id=\"T_793c115e_29a3_11eb_a89c_00d8610889aerow5_col4\" class=\"data row5 col4\" >0.9494</td>\n",
       "                        <td id=\"T_793c115e_29a3_11eb_a89c_00d8610889aerow5_col5\" class=\"data row5 col5\" >0.9432</td>\n",
       "                        <td id=\"T_793c115e_29a3_11eb_a89c_00d8610889aerow5_col6\" class=\"data row5 col6\" >0.9433</td>\n",
       "            </tr>\n",
       "            <tr>\n",
       "                        <th id=\"T_793c115e_29a3_11eb_a89c_00d8610889aelevel0_row6\" class=\"row_heading level0 row6\" >6</th>\n",
       "                        <td id=\"T_793c115e_29a3_11eb_a89c_00d8610889aerow6_col0\" class=\"data row6 col0\" >0.9555</td>\n",
       "                        <td id=\"T_793c115e_29a3_11eb_a89c_00d8610889aerow6_col1\" class=\"data row6 col1\" >0.0000</td>\n",
       "                        <td id=\"T_793c115e_29a3_11eb_a89c_00d8610889aerow6_col2\" class=\"data row6 col2\" >0.8485</td>\n",
       "                        <td id=\"T_793c115e_29a3_11eb_a89c_00d8610889aerow6_col3\" class=\"data row6 col3\" >0.9543</td>\n",
       "                        <td id=\"T_793c115e_29a3_11eb_a89c_00d8610889aerow6_col4\" class=\"data row6 col4\" >0.9542</td>\n",
       "                        <td id=\"T_793c115e_29a3_11eb_a89c_00d8610889aerow6_col5\" class=\"data row6 col5\" >0.9479</td>\n",
       "                        <td id=\"T_793c115e_29a3_11eb_a89c_00d8610889aerow6_col6\" class=\"data row6 col6\" >0.9479</td>\n",
       "            </tr>\n",
       "            <tr>\n",
       "                        <th id=\"T_793c115e_29a3_11eb_a89c_00d8610889aelevel0_row7\" class=\"row_heading level0 row7\" >7</th>\n",
       "                        <td id=\"T_793c115e_29a3_11eb_a89c_00d8610889aerow7_col0\" class=\"data row7 col0\" >0.9703</td>\n",
       "                        <td id=\"T_793c115e_29a3_11eb_a89c_00d8610889aerow7_col1\" class=\"data row7 col1\" >0.0000</td>\n",
       "                        <td id=\"T_793c115e_29a3_11eb_a89c_00d8610889aerow7_col2\" class=\"data row7 col2\" >0.8889</td>\n",
       "                        <td id=\"T_793c115e_29a3_11eb_a89c_00d8610889aerow7_col3\" class=\"data row7 col3\" >0.9728</td>\n",
       "                        <td id=\"T_793c115e_29a3_11eb_a89c_00d8610889aerow7_col4\" class=\"data row7 col4\" >0.9702</td>\n",
       "                        <td id=\"T_793c115e_29a3_11eb_a89c_00d8610889aerow7_col5\" class=\"data row7 col5\" >0.9653</td>\n",
       "                        <td id=\"T_793c115e_29a3_11eb_a89c_00d8610889aerow7_col6\" class=\"data row7 col6\" >0.9653</td>\n",
       "            </tr>\n",
       "            <tr>\n",
       "                        <th id=\"T_793c115e_29a3_11eb_a89c_00d8610889aelevel0_row8\" class=\"row_heading level0 row8\" >8</th>\n",
       "                        <td id=\"T_793c115e_29a3_11eb_a89c_00d8610889aerow8_col0\" class=\"data row8 col0\" >0.9703</td>\n",
       "                        <td id=\"T_793c115e_29a3_11eb_a89c_00d8610889aerow8_col1\" class=\"data row8 col1\" >0.0000</td>\n",
       "                        <td id=\"T_793c115e_29a3_11eb_a89c_00d8610889aerow8_col2\" class=\"data row8 col2\" >0.8158</td>\n",
       "                        <td id=\"T_793c115e_29a3_11eb_a89c_00d8610889aerow8_col3\" class=\"data row8 col3\" >0.9702</td>\n",
       "                        <td id=\"T_793c115e_29a3_11eb_a89c_00d8610889aerow8_col4\" class=\"data row8 col4\" >0.9691</td>\n",
       "                        <td id=\"T_793c115e_29a3_11eb_a89c_00d8610889aerow8_col5\" class=\"data row8 col5\" >0.9653</td>\n",
       "                        <td id=\"T_793c115e_29a3_11eb_a89c_00d8610889aerow8_col6\" class=\"data row8 col6\" >0.9653</td>\n",
       "            </tr>\n",
       "            <tr>\n",
       "                        <th id=\"T_793c115e_29a3_11eb_a89c_00d8610889aelevel0_row9\" class=\"row_heading level0 row9\" >9</th>\n",
       "                        <td id=\"T_793c115e_29a3_11eb_a89c_00d8610889aerow9_col0\" class=\"data row9 col0\" >0.9703</td>\n",
       "                        <td id=\"T_793c115e_29a3_11eb_a89c_00d8610889aerow9_col1\" class=\"data row9 col1\" >0.0000</td>\n",
       "                        <td id=\"T_793c115e_29a3_11eb_a89c_00d8610889aerow9_col2\" class=\"data row9 col2\" >0.8556</td>\n",
       "                        <td id=\"T_793c115e_29a3_11eb_a89c_00d8610889aerow9_col3\" class=\"data row9 col3\" >0.9710</td>\n",
       "                        <td id=\"T_793c115e_29a3_11eb_a89c_00d8610889aerow9_col4\" class=\"data row9 col4\" >0.9692</td>\n",
       "                        <td id=\"T_793c115e_29a3_11eb_a89c_00d8610889aerow9_col5\" class=\"data row9 col5\" >0.9652</td>\n",
       "                        <td id=\"T_793c115e_29a3_11eb_a89c_00d8610889aerow9_col6\" class=\"data row9 col6\" >0.9653</td>\n",
       "            </tr>\n",
       "            <tr>\n",
       "                        <th id=\"T_793c115e_29a3_11eb_a89c_00d8610889aelevel0_row10\" class=\"row_heading level0 row10\" >Mean</th>\n",
       "                        <td id=\"T_793c115e_29a3_11eb_a89c_00d8610889aerow10_col0\" class=\"data row10 col0\" >0.9639</td>\n",
       "                        <td id=\"T_793c115e_29a3_11eb_a89c_00d8610889aerow10_col1\" class=\"data row10 col1\" >0.0000</td>\n",
       "                        <td id=\"T_793c115e_29a3_11eb_a89c_00d8610889aerow10_col2\" class=\"data row10 col2\" >0.8421</td>\n",
       "                        <td id=\"T_793c115e_29a3_11eb_a89c_00d8610889aerow10_col3\" class=\"data row10 col3\" >0.9643</td>\n",
       "                        <td id=\"T_793c115e_29a3_11eb_a89c_00d8610889aerow10_col4\" class=\"data row10 col4\" >0.9625</td>\n",
       "                        <td id=\"T_793c115e_29a3_11eb_a89c_00d8610889aerow10_col5\" class=\"data row10 col5\" >0.9577</td>\n",
       "                        <td id=\"T_793c115e_29a3_11eb_a89c_00d8610889aerow10_col6\" class=\"data row10 col6\" >0.9578</td>\n",
       "            </tr>\n",
       "            <tr>\n",
       "                        <th id=\"T_793c115e_29a3_11eb_a89c_00d8610889aelevel0_row11\" class=\"row_heading level0 row11\" >SD</th>\n",
       "                        <td id=\"T_793c115e_29a3_11eb_a89c_00d8610889aerow11_col0\" class=\"data row11 col0\" >0.0065</td>\n",
       "                        <td id=\"T_793c115e_29a3_11eb_a89c_00d8610889aerow11_col1\" class=\"data row11 col1\" >0.0000</td>\n",
       "                        <td id=\"T_793c115e_29a3_11eb_a89c_00d8610889aerow11_col2\" class=\"data row11 col2\" >0.0335</td>\n",
       "                        <td id=\"T_793c115e_29a3_11eb_a89c_00d8610889aerow11_col3\" class=\"data row11 col3\" >0.0068</td>\n",
       "                        <td id=\"T_793c115e_29a3_11eb_a89c_00d8610889aerow11_col4\" class=\"data row11 col4\" >0.0069</td>\n",
       "                        <td id=\"T_793c115e_29a3_11eb_a89c_00d8610889aerow11_col5\" class=\"data row11 col5\" >0.0077</td>\n",
       "                        <td id=\"T_793c115e_29a3_11eb_a89c_00d8610889aerow11_col6\" class=\"data row11 col6\" >0.0076</td>\n",
       "            </tr>\n",
       "    </tbody></table>"
      ],
      "text/plain": [
       "<pandas.io.formats.style.Styler at 0x274ba713b20>"
      ]
     },
     "metadata": {},
     "output_type": "display_data"
    }
   ],
   "source": [
    "setup(data=data,\n",
    "      target=target_label,\n",
    "      silent=True)\n",
    "model=create_model(learning_model)"
   ]
  },
  {
   "cell_type": "markdown",
   "metadata": {},
   "source": [
    "### Modify Unseen Data and make Validation Test"
   ]
  },
  {
   "cell_type": "code",
   "execution_count": 13,
   "metadata": {},
   "outputs": [],
   "source": [
    "unseen_data = unseen_data.drop(SSL_features, axis=1)"
   ]
  },
  {
   "cell_type": "code",
   "execution_count": 14,
   "metadata": {},
   "outputs": [
    {
     "name": "stdout",
     "output_type": "stream",
     "text": [
      "prediction took: 0.609375\n"
     ]
    }
   ],
   "source": [
    "predicted = timed_prediction(unseen_data,model)"
   ]
  },
  {
   "cell_type": "code",
   "execution_count": 15,
   "metadata": {},
   "outputs": [
    {
     "name": "stdout",
     "output_type": "stream",
     "text": [
      "Number of error: 197 from 6189 test samples \n",
      "Which is 3.183066731297463% of error.\n"
     ]
    }
   ],
   "source": [
    "compare_prediction_with_answers(predicted,answers)"
   ]
  },
  {
   "cell_type": "markdown",
   "metadata": {},
   "source": [
    "# Remove TCP Features Group"
   ]
  },
  {
   "cell_type": "code",
   "execution_count": 16,
   "metadata": {},
   "outputs": [],
   "source": [
    "data = original_data.copy()\n",
    "data = data.drop(TCP_features, axis=1)"
   ]
  },
  {
   "cell_type": "markdown",
   "metadata": {},
   "source": [
    "### Setup Data and Build Model\n",
    "The output of the function is a table showing averaged score of all models across the folds. By default, the fold is set to 10. "
   ]
  },
  {
   "cell_type": "code",
   "execution_count": 17,
   "metadata": {
    "scrolled": true,
    "tags": []
   },
   "outputs": [
    {
     "data": {
      "text/html": [
       "<style  type=\"text/css\" >\n",
       "#T_7c04e2cc_29a3_11eb_a50e_00d8610889aerow10_col0,#T_7c04e2cc_29a3_11eb_a50e_00d8610889aerow10_col1,#T_7c04e2cc_29a3_11eb_a50e_00d8610889aerow10_col2,#T_7c04e2cc_29a3_11eb_a50e_00d8610889aerow10_col3,#T_7c04e2cc_29a3_11eb_a50e_00d8610889aerow10_col4,#T_7c04e2cc_29a3_11eb_a50e_00d8610889aerow10_col5,#T_7c04e2cc_29a3_11eb_a50e_00d8610889aerow10_col6{\n",
       "            background:  yellow;\n",
       "        }</style><table id=\"T_7c04e2cc_29a3_11eb_a50e_00d8610889ae\" ><thead>    <tr>        <th class=\"blank level0\" ></th>        <th class=\"col_heading level0 col0\" >Accuracy</th>        <th class=\"col_heading level0 col1\" >AUC</th>        <th class=\"col_heading level0 col2\" >Recall</th>        <th class=\"col_heading level0 col3\" >Prec.</th>        <th class=\"col_heading level0 col4\" >F1</th>        <th class=\"col_heading level0 col5\" >Kappa</th>        <th class=\"col_heading level0 col6\" >MCC</th>    </tr></thead><tbody>\n",
       "                <tr>\n",
       "                        <th id=\"T_7c04e2cc_29a3_11eb_a50e_00d8610889aelevel0_row0\" class=\"row_heading level0 row0\" >0</th>\n",
       "                        <td id=\"T_7c04e2cc_29a3_11eb_a50e_00d8610889aerow0_col0\" class=\"data row0 col0\" >0.9782</td>\n",
       "                        <td id=\"T_7c04e2cc_29a3_11eb_a50e_00d8610889aerow0_col1\" class=\"data row0 col1\" >0.0000</td>\n",
       "                        <td id=\"T_7c04e2cc_29a3_11eb_a50e_00d8610889aerow0_col2\" class=\"data row0 col2\" >0.8372</td>\n",
       "                        <td id=\"T_7c04e2cc_29a3_11eb_a50e_00d8610889aerow0_col3\" class=\"data row0 col3\" >0.9771</td>\n",
       "                        <td id=\"T_7c04e2cc_29a3_11eb_a50e_00d8610889aerow0_col4\" class=\"data row0 col4\" >0.9764</td>\n",
       "                        <td id=\"T_7c04e2cc_29a3_11eb_a50e_00d8610889aerow0_col5\" class=\"data row0 col5\" >0.9745</td>\n",
       "                        <td id=\"T_7c04e2cc_29a3_11eb_a50e_00d8610889aerow0_col6\" class=\"data row0 col6\" >0.9746</td>\n",
       "            </tr>\n",
       "            <tr>\n",
       "                        <th id=\"T_7c04e2cc_29a3_11eb_a50e_00d8610889aelevel0_row1\" class=\"row_heading level0 row1\" >1</th>\n",
       "                        <td id=\"T_7c04e2cc_29a3_11eb_a50e_00d8610889aerow1_col0\" class=\"data row1 col0\" >0.9753</td>\n",
       "                        <td id=\"T_7c04e2cc_29a3_11eb_a50e_00d8610889aerow1_col1\" class=\"data row1 col1\" >0.0000</td>\n",
       "                        <td id=\"T_7c04e2cc_29a3_11eb_a50e_00d8610889aerow1_col2\" class=\"data row1 col2\" >0.8736</td>\n",
       "                        <td id=\"T_7c04e2cc_29a3_11eb_a50e_00d8610889aerow1_col3\" class=\"data row1 col3\" >0.9731</td>\n",
       "                        <td id=\"T_7c04e2cc_29a3_11eb_a50e_00d8610889aerow1_col4\" class=\"data row1 col4\" >0.9738</td>\n",
       "                        <td id=\"T_7c04e2cc_29a3_11eb_a50e_00d8610889aerow1_col5\" class=\"data row1 col5\" >0.9711</td>\n",
       "                        <td id=\"T_7c04e2cc_29a3_11eb_a50e_00d8610889aerow1_col6\" class=\"data row1 col6\" >0.9711</td>\n",
       "            </tr>\n",
       "            <tr>\n",
       "                        <th id=\"T_7c04e2cc_29a3_11eb_a50e_00d8610889aelevel0_row2\" class=\"row_heading level0 row2\" >2</th>\n",
       "                        <td id=\"T_7c04e2cc_29a3_11eb_a50e_00d8610889aerow2_col0\" class=\"data row2 col0\" >0.9822</td>\n",
       "                        <td id=\"T_7c04e2cc_29a3_11eb_a50e_00d8610889aerow2_col1\" class=\"data row2 col1\" >0.0000</td>\n",
       "                        <td id=\"T_7c04e2cc_29a3_11eb_a50e_00d8610889aerow2_col2\" class=\"data row2 col2\" >0.8750</td>\n",
       "                        <td id=\"T_7c04e2cc_29a3_11eb_a50e_00d8610889aerow2_col3\" class=\"data row2 col3\" >0.9814</td>\n",
       "                        <td id=\"T_7c04e2cc_29a3_11eb_a50e_00d8610889aerow2_col4\" class=\"data row2 col4\" >0.9806</td>\n",
       "                        <td id=\"T_7c04e2cc_29a3_11eb_a50e_00d8610889aerow2_col5\" class=\"data row2 col5\" >0.9792</td>\n",
       "                        <td id=\"T_7c04e2cc_29a3_11eb_a50e_00d8610889aerow2_col6\" class=\"data row2 col6\" >0.9792</td>\n",
       "            </tr>\n",
       "            <tr>\n",
       "                        <th id=\"T_7c04e2cc_29a3_11eb_a50e_00d8610889aelevel0_row3\" class=\"row_heading level0 row3\" >3</th>\n",
       "                        <td id=\"T_7c04e2cc_29a3_11eb_a50e_00d8610889aerow3_col0\" class=\"data row3 col0\" >0.9753</td>\n",
       "                        <td id=\"T_7c04e2cc_29a3_11eb_a50e_00d8610889aerow3_col1\" class=\"data row3 col1\" >0.0000</td>\n",
       "                        <td id=\"T_7c04e2cc_29a3_11eb_a50e_00d8610889aerow3_col2\" class=\"data row3 col2\" >0.8457</td>\n",
       "                        <td id=\"T_7c04e2cc_29a3_11eb_a50e_00d8610889aerow3_col3\" class=\"data row3 col3\" >0.9739</td>\n",
       "                        <td id=\"T_7c04e2cc_29a3_11eb_a50e_00d8610889aerow3_col4\" class=\"data row3 col4\" >0.9738</td>\n",
       "                        <td id=\"T_7c04e2cc_29a3_11eb_a50e_00d8610889aerow3_col5\" class=\"data row3 col5\" >0.9711</td>\n",
       "                        <td id=\"T_7c04e2cc_29a3_11eb_a50e_00d8610889aerow3_col6\" class=\"data row3 col6\" >0.9711</td>\n",
       "            </tr>\n",
       "            <tr>\n",
       "                        <th id=\"T_7c04e2cc_29a3_11eb_a50e_00d8610889aelevel0_row4\" class=\"row_heading level0 row4\" >4</th>\n",
       "                        <td id=\"T_7c04e2cc_29a3_11eb_a50e_00d8610889aerow4_col0\" class=\"data row4 col0\" >0.9693</td>\n",
       "                        <td id=\"T_7c04e2cc_29a3_11eb_a50e_00d8610889aerow4_col1\" class=\"data row4 col1\" >0.0000</td>\n",
       "                        <td id=\"T_7c04e2cc_29a3_11eb_a50e_00d8610889aerow4_col2\" class=\"data row4 col2\" >0.9050</td>\n",
       "                        <td id=\"T_7c04e2cc_29a3_11eb_a50e_00d8610889aerow4_col3\" class=\"data row4 col3\" >0.9712</td>\n",
       "                        <td id=\"T_7c04e2cc_29a3_11eb_a50e_00d8610889aerow4_col4\" class=\"data row4 col4\" >0.9697</td>\n",
       "                        <td id=\"T_7c04e2cc_29a3_11eb_a50e_00d8610889aerow4_col5\" class=\"data row4 col5\" >0.9641</td>\n",
       "                        <td id=\"T_7c04e2cc_29a3_11eb_a50e_00d8610889aerow4_col6\" class=\"data row4 col6\" >0.9642</td>\n",
       "            </tr>\n",
       "            <tr>\n",
       "                        <th id=\"T_7c04e2cc_29a3_11eb_a50e_00d8610889aelevel0_row5\" class=\"row_heading level0 row5\" >5</th>\n",
       "                        <td id=\"T_7c04e2cc_29a3_11eb_a50e_00d8610889aerow5_col0\" class=\"data row5 col0\" >0.9733</td>\n",
       "                        <td id=\"T_7c04e2cc_29a3_11eb_a50e_00d8610889aerow5_col1\" class=\"data row5 col1\" >0.0000</td>\n",
       "                        <td id=\"T_7c04e2cc_29a3_11eb_a50e_00d8610889aerow5_col2\" class=\"data row5 col2\" >0.8853</td>\n",
       "                        <td id=\"T_7c04e2cc_29a3_11eb_a50e_00d8610889aerow5_col3\" class=\"data row5 col3\" >0.9751</td>\n",
       "                        <td id=\"T_7c04e2cc_29a3_11eb_a50e_00d8610889aerow5_col4\" class=\"data row5 col4\" >0.9727</td>\n",
       "                        <td id=\"T_7c04e2cc_29a3_11eb_a50e_00d8610889aerow5_col5\" class=\"data row5 col5\" >0.9688</td>\n",
       "                        <td id=\"T_7c04e2cc_29a3_11eb_a50e_00d8610889aerow5_col6\" class=\"data row5 col6\" >0.9688</td>\n",
       "            </tr>\n",
       "            <tr>\n",
       "                        <th id=\"T_7c04e2cc_29a3_11eb_a50e_00d8610889aelevel0_row6\" class=\"row_heading level0 row6\" >6</th>\n",
       "                        <td id=\"T_7c04e2cc_29a3_11eb_a50e_00d8610889aerow6_col0\" class=\"data row6 col0\" >0.9792</td>\n",
       "                        <td id=\"T_7c04e2cc_29a3_11eb_a50e_00d8610889aerow6_col1\" class=\"data row6 col1\" >0.0000</td>\n",
       "                        <td id=\"T_7c04e2cc_29a3_11eb_a50e_00d8610889aerow6_col2\" class=\"data row6 col2\" >0.8961</td>\n",
       "                        <td id=\"T_7c04e2cc_29a3_11eb_a50e_00d8610889aerow6_col3\" class=\"data row6 col3\" >0.9763</td>\n",
       "                        <td id=\"T_7c04e2cc_29a3_11eb_a50e_00d8610889aerow6_col4\" class=\"data row6 col4\" >0.9772</td>\n",
       "                        <td id=\"T_7c04e2cc_29a3_11eb_a50e_00d8610889aerow6_col5\" class=\"data row6 col5\" >0.9757</td>\n",
       "                        <td id=\"T_7c04e2cc_29a3_11eb_a50e_00d8610889aerow6_col6\" class=\"data row6 col6\" >0.9757</td>\n",
       "            </tr>\n",
       "            <tr>\n",
       "                        <th id=\"T_7c04e2cc_29a3_11eb_a50e_00d8610889aelevel0_row7\" class=\"row_heading level0 row7\" >7</th>\n",
       "                        <td id=\"T_7c04e2cc_29a3_11eb_a50e_00d8610889aerow7_col0\" class=\"data row7 col0\" >0.9703</td>\n",
       "                        <td id=\"T_7c04e2cc_29a3_11eb_a50e_00d8610889aerow7_col1\" class=\"data row7 col1\" >0.0000</td>\n",
       "                        <td id=\"T_7c04e2cc_29a3_11eb_a50e_00d8610889aerow7_col2\" class=\"data row7 col2\" >0.8668</td>\n",
       "                        <td id=\"T_7c04e2cc_29a3_11eb_a50e_00d8610889aerow7_col3\" class=\"data row7 col3\" >0.9701</td>\n",
       "                        <td id=\"T_7c04e2cc_29a3_11eb_a50e_00d8610889aerow7_col4\" class=\"data row7 col4\" >0.9683</td>\n",
       "                        <td id=\"T_7c04e2cc_29a3_11eb_a50e_00d8610889aerow7_col5\" class=\"data row7 col5\" >0.9653</td>\n",
       "                        <td id=\"T_7c04e2cc_29a3_11eb_a50e_00d8610889aerow7_col6\" class=\"data row7 col6\" >0.9653</td>\n",
       "            </tr>\n",
       "            <tr>\n",
       "                        <th id=\"T_7c04e2cc_29a3_11eb_a50e_00d8610889aelevel0_row8\" class=\"row_heading level0 row8\" >8</th>\n",
       "                        <td id=\"T_7c04e2cc_29a3_11eb_a50e_00d8610889aerow8_col0\" class=\"data row8 col0\" >0.9664</td>\n",
       "                        <td id=\"T_7c04e2cc_29a3_11eb_a50e_00d8610889aerow8_col1\" class=\"data row8 col1\" >0.0000</td>\n",
       "                        <td id=\"T_7c04e2cc_29a3_11eb_a50e_00d8610889aerow8_col2\" class=\"data row8 col2\" >0.8674</td>\n",
       "                        <td id=\"T_7c04e2cc_29a3_11eb_a50e_00d8610889aerow8_col3\" class=\"data row8 col3\" >0.9685</td>\n",
       "                        <td id=\"T_7c04e2cc_29a3_11eb_a50e_00d8610889aerow8_col4\" class=\"data row8 col4\" >0.9650</td>\n",
       "                        <td id=\"T_7c04e2cc_29a3_11eb_a50e_00d8610889aerow8_col5\" class=\"data row8 col5\" >0.9606</td>\n",
       "                        <td id=\"T_7c04e2cc_29a3_11eb_a50e_00d8610889aerow8_col6\" class=\"data row8 col6\" >0.9607</td>\n",
       "            </tr>\n",
       "            <tr>\n",
       "                        <th id=\"T_7c04e2cc_29a3_11eb_a50e_00d8610889aelevel0_row9\" class=\"row_heading level0 row9\" >9</th>\n",
       "                        <td id=\"T_7c04e2cc_29a3_11eb_a50e_00d8610889aerow9_col0\" class=\"data row9 col0\" >0.9713</td>\n",
       "                        <td id=\"T_7c04e2cc_29a3_11eb_a50e_00d8610889aerow9_col1\" class=\"data row9 col1\" >0.0000</td>\n",
       "                        <td id=\"T_7c04e2cc_29a3_11eb_a50e_00d8610889aerow9_col2\" class=\"data row9 col2\" >0.9137</td>\n",
       "                        <td id=\"T_7c04e2cc_29a3_11eb_a50e_00d8610889aerow9_col3\" class=\"data row9 col3\" >0.9722</td>\n",
       "                        <td id=\"T_7c04e2cc_29a3_11eb_a50e_00d8610889aerow9_col4\" class=\"data row9 col4\" >0.9711</td>\n",
       "                        <td id=\"T_7c04e2cc_29a3_11eb_a50e_00d8610889aerow9_col5\" class=\"data row9 col5\" >0.9664</td>\n",
       "                        <td id=\"T_7c04e2cc_29a3_11eb_a50e_00d8610889aerow9_col6\" class=\"data row9 col6\" >0.9664</td>\n",
       "            </tr>\n",
       "            <tr>\n",
       "                        <th id=\"T_7c04e2cc_29a3_11eb_a50e_00d8610889aelevel0_row10\" class=\"row_heading level0 row10\" >Mean</th>\n",
       "                        <td id=\"T_7c04e2cc_29a3_11eb_a50e_00d8610889aerow10_col0\" class=\"data row10 col0\" >0.9741</td>\n",
       "                        <td id=\"T_7c04e2cc_29a3_11eb_a50e_00d8610889aerow10_col1\" class=\"data row10 col1\" >0.0000</td>\n",
       "                        <td id=\"T_7c04e2cc_29a3_11eb_a50e_00d8610889aerow10_col2\" class=\"data row10 col2\" >0.8766</td>\n",
       "                        <td id=\"T_7c04e2cc_29a3_11eb_a50e_00d8610889aerow10_col3\" class=\"data row10 col3\" >0.9739</td>\n",
       "                        <td id=\"T_7c04e2cc_29a3_11eb_a50e_00d8610889aerow10_col4\" class=\"data row10 col4\" >0.9729</td>\n",
       "                        <td id=\"T_7c04e2cc_29a3_11eb_a50e_00d8610889aerow10_col5\" class=\"data row10 col5\" >0.9697</td>\n",
       "                        <td id=\"T_7c04e2cc_29a3_11eb_a50e_00d8610889aerow10_col6\" class=\"data row10 col6\" >0.9697</td>\n",
       "            </tr>\n",
       "            <tr>\n",
       "                        <th id=\"T_7c04e2cc_29a3_11eb_a50e_00d8610889aelevel0_row11\" class=\"row_heading level0 row11\" >SD</th>\n",
       "                        <td id=\"T_7c04e2cc_29a3_11eb_a50e_00d8610889aerow11_col0\" class=\"data row11 col0\" >0.0047</td>\n",
       "                        <td id=\"T_7c04e2cc_29a3_11eb_a50e_00d8610889aerow11_col1\" class=\"data row11 col1\" >0.0000</td>\n",
       "                        <td id=\"T_7c04e2cc_29a3_11eb_a50e_00d8610889aerow11_col2\" class=\"data row11 col2\" >0.0231</td>\n",
       "                        <td id=\"T_7c04e2cc_29a3_11eb_a50e_00d8610889aerow11_col3\" class=\"data row11 col3\" >0.0036</td>\n",
       "                        <td id=\"T_7c04e2cc_29a3_11eb_a50e_00d8610889aerow11_col4\" class=\"data row11 col4\" >0.0043</td>\n",
       "                        <td id=\"T_7c04e2cc_29a3_11eb_a50e_00d8610889aerow11_col5\" class=\"data row11 col5\" >0.0055</td>\n",
       "                        <td id=\"T_7c04e2cc_29a3_11eb_a50e_00d8610889aerow11_col6\" class=\"data row11 col6\" >0.0054</td>\n",
       "            </tr>\n",
       "    </tbody></table>"
      ],
      "text/plain": [
       "<pandas.io.formats.style.Styler at 0x274b70faa60>"
      ]
     },
     "metadata": {},
     "output_type": "display_data"
    }
   ],
   "source": [
    "setup(data=data,\n",
    "      target=target_label,\n",
    "      silent=True)\n",
    "model=create_model(learning_model)"
   ]
  },
  {
   "cell_type": "markdown",
   "metadata": {},
   "source": [
    "### Copy and modify Unseen Data and make Validation Test"
   ]
  },
  {
   "cell_type": "code",
   "execution_count": 18,
   "metadata": {},
   "outputs": [],
   "source": [
    "unseen_data = unseen_data_original.copy()\n",
    "unseen_data = unseen_data.drop(TCP_features, axis=1)"
   ]
  },
  {
   "cell_type": "code",
   "execution_count": 19,
   "metadata": {},
   "outputs": [
    {
     "name": "stdout",
     "output_type": "stream",
     "text": [
      "prediction took: 0.84375\n"
     ]
    }
   ],
   "source": [
    "predicted = timed_prediction(unseen_data,model)"
   ]
  },
  {
   "cell_type": "code",
   "execution_count": 20,
   "metadata": {},
   "outputs": [
    {
     "name": "stdout",
     "output_type": "stream",
     "text": [
      "Number of error: 144 from 6189 test samples \n",
      "Which is 2.32670867668444% of error.\n"
     ]
    }
   ],
   "source": [
    "compare_prediction_with_answers(predicted,answers)"
   ]
  },
  {
   "cell_type": "markdown",
   "metadata": {},
   "source": [
    "# Remove Both TCP and SSL Features Group"
   ]
  },
  {
   "cell_type": "code",
   "execution_count": 21,
   "metadata": {},
   "outputs": [],
   "source": [
    "data = original_data.copy()\n",
    "data = data.drop(TCP_features+SSL_features, axis=1)"
   ]
  },
  {
   "cell_type": "markdown",
   "metadata": {},
   "source": [
    "### Setup Data and Build Model\n",
    "The output of the function is a table showing averaged score of all models across the folds. By default, the fold is set to 10. "
   ]
  },
  {
   "cell_type": "code",
   "execution_count": 22,
   "metadata": {
    "tags": []
   },
   "outputs": [
    {
     "data": {
      "text/html": [
       "<style  type=\"text/css\" >\n",
       "#T_7eeaa16c_29a3_11eb_b809_00d8610889aerow10_col0,#T_7eeaa16c_29a3_11eb_b809_00d8610889aerow10_col1,#T_7eeaa16c_29a3_11eb_b809_00d8610889aerow10_col2,#T_7eeaa16c_29a3_11eb_b809_00d8610889aerow10_col3,#T_7eeaa16c_29a3_11eb_b809_00d8610889aerow10_col4,#T_7eeaa16c_29a3_11eb_b809_00d8610889aerow10_col5,#T_7eeaa16c_29a3_11eb_b809_00d8610889aerow10_col6{\n",
       "            background:  yellow;\n",
       "        }</style><table id=\"T_7eeaa16c_29a3_11eb_b809_00d8610889ae\" ><thead>    <tr>        <th class=\"blank level0\" ></th>        <th class=\"col_heading level0 col0\" >Accuracy</th>        <th class=\"col_heading level0 col1\" >AUC</th>        <th class=\"col_heading level0 col2\" >Recall</th>        <th class=\"col_heading level0 col3\" >Prec.</th>        <th class=\"col_heading level0 col4\" >F1</th>        <th class=\"col_heading level0 col5\" >Kappa</th>        <th class=\"col_heading level0 col6\" >MCC</th>    </tr></thead><tbody>\n",
       "                <tr>\n",
       "                        <th id=\"T_7eeaa16c_29a3_11eb_b809_00d8610889aelevel0_row0\" class=\"row_heading level0 row0\" >0</th>\n",
       "                        <td id=\"T_7eeaa16c_29a3_11eb_b809_00d8610889aerow0_col0\" class=\"data row0 col0\" >0.9624</td>\n",
       "                        <td id=\"T_7eeaa16c_29a3_11eb_b809_00d8610889aerow0_col1\" class=\"data row0 col1\" >0.0000</td>\n",
       "                        <td id=\"T_7eeaa16c_29a3_11eb_b809_00d8610889aerow0_col2\" class=\"data row0 col2\" >0.8178</td>\n",
       "                        <td id=\"T_7eeaa16c_29a3_11eb_b809_00d8610889aerow0_col3\" class=\"data row0 col3\" >0.9602</td>\n",
       "                        <td id=\"T_7eeaa16c_29a3_11eb_b809_00d8610889aerow0_col4\" class=\"data row0 col4\" >0.9602</td>\n",
       "                        <td id=\"T_7eeaa16c_29a3_11eb_b809_00d8610889aerow0_col5\" class=\"data row0 col5\" >0.9559</td>\n",
       "                        <td id=\"T_7eeaa16c_29a3_11eb_b809_00d8610889aerow0_col6\" class=\"data row0 col6\" >0.9560</td>\n",
       "            </tr>\n",
       "            <tr>\n",
       "                        <th id=\"T_7eeaa16c_29a3_11eb_b809_00d8610889aelevel0_row1\" class=\"row_heading level0 row1\" >1</th>\n",
       "                        <td id=\"T_7eeaa16c_29a3_11eb_b809_00d8610889aerow1_col0\" class=\"data row1 col0\" >0.9614</td>\n",
       "                        <td id=\"T_7eeaa16c_29a3_11eb_b809_00d8610889aerow1_col1\" class=\"data row1 col1\" >0.0000</td>\n",
       "                        <td id=\"T_7eeaa16c_29a3_11eb_b809_00d8610889aerow1_col2\" class=\"data row1 col2\" >0.8033</td>\n",
       "                        <td id=\"T_7eeaa16c_29a3_11eb_b809_00d8610889aerow1_col3\" class=\"data row1 col3\" >0.9592</td>\n",
       "                        <td id=\"T_7eeaa16c_29a3_11eb_b809_00d8610889aerow1_col4\" class=\"data row1 col4\" >0.9586</td>\n",
       "                        <td id=\"T_7eeaa16c_29a3_11eb_b809_00d8610889aerow1_col5\" class=\"data row1 col5\" >0.9548</td>\n",
       "                        <td id=\"T_7eeaa16c_29a3_11eb_b809_00d8610889aerow1_col6\" class=\"data row1 col6\" >0.9549</td>\n",
       "            </tr>\n",
       "            <tr>\n",
       "                        <th id=\"T_7eeaa16c_29a3_11eb_b809_00d8610889aelevel0_row2\" class=\"row_heading level0 row2\" >2</th>\n",
       "                        <td id=\"T_7eeaa16c_29a3_11eb_b809_00d8610889aerow2_col0\" class=\"data row2 col0\" >0.9594</td>\n",
       "                        <td id=\"T_7eeaa16c_29a3_11eb_b809_00d8610889aerow2_col1\" class=\"data row2 col1\" >0.0000</td>\n",
       "                        <td id=\"T_7eeaa16c_29a3_11eb_b809_00d8610889aerow2_col2\" class=\"data row2 col2\" >0.8283</td>\n",
       "                        <td id=\"T_7eeaa16c_29a3_11eb_b809_00d8610889aerow2_col3\" class=\"data row2 col3\" >0.9582</td>\n",
       "                        <td id=\"T_7eeaa16c_29a3_11eb_b809_00d8610889aerow2_col4\" class=\"data row2 col4\" >0.9580</td>\n",
       "                        <td id=\"T_7eeaa16c_29a3_11eb_b809_00d8610889aerow2_col5\" class=\"data row2 col5\" >0.9525</td>\n",
       "                        <td id=\"T_7eeaa16c_29a3_11eb_b809_00d8610889aerow2_col6\" class=\"data row2 col6\" >0.9525</td>\n",
       "            </tr>\n",
       "            <tr>\n",
       "                        <th id=\"T_7eeaa16c_29a3_11eb_b809_00d8610889aelevel0_row3\" class=\"row_heading level0 row3\" >3</th>\n",
       "                        <td id=\"T_7eeaa16c_29a3_11eb_b809_00d8610889aerow3_col0\" class=\"data row3 col0\" >0.9664</td>\n",
       "                        <td id=\"T_7eeaa16c_29a3_11eb_b809_00d8610889aerow3_col1\" class=\"data row3 col1\" >0.0000</td>\n",
       "                        <td id=\"T_7eeaa16c_29a3_11eb_b809_00d8610889aerow3_col2\" class=\"data row3 col2\" >0.8340</td>\n",
       "                        <td id=\"T_7eeaa16c_29a3_11eb_b809_00d8610889aerow3_col3\" class=\"data row3 col3\" >0.9640</td>\n",
       "                        <td id=\"T_7eeaa16c_29a3_11eb_b809_00d8610889aerow3_col4\" class=\"data row3 col4\" >0.9637</td>\n",
       "                        <td id=\"T_7eeaa16c_29a3_11eb_b809_00d8610889aerow3_col5\" class=\"data row3 col5\" >0.9606</td>\n",
       "                        <td id=\"T_7eeaa16c_29a3_11eb_b809_00d8610889aerow3_col6\" class=\"data row3 col6\" >0.9607</td>\n",
       "            </tr>\n",
       "            <tr>\n",
       "                        <th id=\"T_7eeaa16c_29a3_11eb_b809_00d8610889aelevel0_row4\" class=\"row_heading level0 row4\" >4</th>\n",
       "                        <td id=\"T_7eeaa16c_29a3_11eb_b809_00d8610889aerow4_col0\" class=\"data row4 col0\" >0.9674</td>\n",
       "                        <td id=\"T_7eeaa16c_29a3_11eb_b809_00d8610889aerow4_col1\" class=\"data row4 col1\" >0.0000</td>\n",
       "                        <td id=\"T_7eeaa16c_29a3_11eb_b809_00d8610889aerow4_col2\" class=\"data row4 col2\" >0.9038</td>\n",
       "                        <td id=\"T_7eeaa16c_29a3_11eb_b809_00d8610889aerow4_col3\" class=\"data row4 col3\" >0.9684</td>\n",
       "                        <td id=\"T_7eeaa16c_29a3_11eb_b809_00d8610889aerow4_col4\" class=\"data row4 col4\" >0.9672</td>\n",
       "                        <td id=\"T_7eeaa16c_29a3_11eb_b809_00d8610889aerow4_col5\" class=\"data row4 col5\" >0.9618</td>\n",
       "                        <td id=\"T_7eeaa16c_29a3_11eb_b809_00d8610889aerow4_col6\" class=\"data row4 col6\" >0.9619</td>\n",
       "            </tr>\n",
       "            <tr>\n",
       "                        <th id=\"T_7eeaa16c_29a3_11eb_b809_00d8610889aelevel0_row5\" class=\"row_heading level0 row5\" >5</th>\n",
       "                        <td id=\"T_7eeaa16c_29a3_11eb_b809_00d8610889aerow5_col0\" class=\"data row5 col0\" >0.9674</td>\n",
       "                        <td id=\"T_7eeaa16c_29a3_11eb_b809_00d8610889aerow5_col1\" class=\"data row5 col1\" >0.0000</td>\n",
       "                        <td id=\"T_7eeaa16c_29a3_11eb_b809_00d8610889aerow5_col2\" class=\"data row5 col2\" >0.9032</td>\n",
       "                        <td id=\"T_7eeaa16c_29a3_11eb_b809_00d8610889aerow5_col3\" class=\"data row5 col3\" >0.9688</td>\n",
       "                        <td id=\"T_7eeaa16c_29a3_11eb_b809_00d8610889aerow5_col4\" class=\"data row5 col4\" >0.9671</td>\n",
       "                        <td id=\"T_7eeaa16c_29a3_11eb_b809_00d8610889aerow5_col5\" class=\"data row5 col5\" >0.9618</td>\n",
       "                        <td id=\"T_7eeaa16c_29a3_11eb_b809_00d8610889aerow5_col6\" class=\"data row5 col6\" >0.9618</td>\n",
       "            </tr>\n",
       "            <tr>\n",
       "                        <th id=\"T_7eeaa16c_29a3_11eb_b809_00d8610889aelevel0_row6\" class=\"row_heading level0 row6\" >6</th>\n",
       "                        <td id=\"T_7eeaa16c_29a3_11eb_b809_00d8610889aerow6_col0\" class=\"data row6 col0\" >0.9614</td>\n",
       "                        <td id=\"T_7eeaa16c_29a3_11eb_b809_00d8610889aerow6_col1\" class=\"data row6 col1\" >0.0000</td>\n",
       "                        <td id=\"T_7eeaa16c_29a3_11eb_b809_00d8610889aerow6_col2\" class=\"data row6 col2\" >0.8506</td>\n",
       "                        <td id=\"T_7eeaa16c_29a3_11eb_b809_00d8610889aerow6_col3\" class=\"data row6 col3\" >0.9593</td>\n",
       "                        <td id=\"T_7eeaa16c_29a3_11eb_b809_00d8610889aerow6_col4\" class=\"data row6 col4\" >0.9595</td>\n",
       "                        <td id=\"T_7eeaa16c_29a3_11eb_b809_00d8610889aerow6_col5\" class=\"data row6 col5\" >0.9549</td>\n",
       "                        <td id=\"T_7eeaa16c_29a3_11eb_b809_00d8610889aerow6_col6\" class=\"data row6 col6\" >0.9549</td>\n",
       "            </tr>\n",
       "            <tr>\n",
       "                        <th id=\"T_7eeaa16c_29a3_11eb_b809_00d8610889aelevel0_row7\" class=\"row_heading level0 row7\" >7</th>\n",
       "                        <td id=\"T_7eeaa16c_29a3_11eb_b809_00d8610889aerow7_col0\" class=\"data row7 col0\" >0.9634</td>\n",
       "                        <td id=\"T_7eeaa16c_29a3_11eb_b809_00d8610889aerow7_col1\" class=\"data row7 col1\" >0.0000</td>\n",
       "                        <td id=\"T_7eeaa16c_29a3_11eb_b809_00d8610889aerow7_col2\" class=\"data row7 col2\" >0.8752</td>\n",
       "                        <td id=\"T_7eeaa16c_29a3_11eb_b809_00d8610889aerow7_col3\" class=\"data row7 col3\" >0.9637</td>\n",
       "                        <td id=\"T_7eeaa16c_29a3_11eb_b809_00d8610889aerow7_col4\" class=\"data row7 col4\" >0.9625</td>\n",
       "                        <td id=\"T_7eeaa16c_29a3_11eb_b809_00d8610889aerow7_col5\" class=\"data row7 col5\" >0.9572</td>\n",
       "                        <td id=\"T_7eeaa16c_29a3_11eb_b809_00d8610889aerow7_col6\" class=\"data row7 col6\" >0.9572</td>\n",
       "            </tr>\n",
       "            <tr>\n",
       "                        <th id=\"T_7eeaa16c_29a3_11eb_b809_00d8610889aelevel0_row8\" class=\"row_heading level0 row8\" >8</th>\n",
       "                        <td id=\"T_7eeaa16c_29a3_11eb_b809_00d8610889aerow8_col0\" class=\"data row8 col0\" >0.9624</td>\n",
       "                        <td id=\"T_7eeaa16c_29a3_11eb_b809_00d8610889aerow8_col1\" class=\"data row8 col1\" >0.0000</td>\n",
       "                        <td id=\"T_7eeaa16c_29a3_11eb_b809_00d8610889aerow8_col2\" class=\"data row8 col2\" >0.9055</td>\n",
       "                        <td id=\"T_7eeaa16c_29a3_11eb_b809_00d8610889aerow8_col3\" class=\"data row8 col3\" >0.9621</td>\n",
       "                        <td id=\"T_7eeaa16c_29a3_11eb_b809_00d8610889aerow8_col4\" class=\"data row8 col4\" >0.9610</td>\n",
       "                        <td id=\"T_7eeaa16c_29a3_11eb_b809_00d8610889aerow8_col5\" class=\"data row8 col5\" >0.9560</td>\n",
       "                        <td id=\"T_7eeaa16c_29a3_11eb_b809_00d8610889aerow8_col6\" class=\"data row8 col6\" >0.9561</td>\n",
       "            </tr>\n",
       "            <tr>\n",
       "                        <th id=\"T_7eeaa16c_29a3_11eb_b809_00d8610889aelevel0_row9\" class=\"row_heading level0 row9\" >9</th>\n",
       "                        <td id=\"T_7eeaa16c_29a3_11eb_b809_00d8610889aerow9_col0\" class=\"data row9 col0\" >0.9525</td>\n",
       "                        <td id=\"T_7eeaa16c_29a3_11eb_b809_00d8610889aerow9_col1\" class=\"data row9 col1\" >0.0000</td>\n",
       "                        <td id=\"T_7eeaa16c_29a3_11eb_b809_00d8610889aerow9_col2\" class=\"data row9 col2\" >0.8005</td>\n",
       "                        <td id=\"T_7eeaa16c_29a3_11eb_b809_00d8610889aerow9_col3\" class=\"data row9 col3\" >0.9528</td>\n",
       "                        <td id=\"T_7eeaa16c_29a3_11eb_b809_00d8610889aerow9_col4\" class=\"data row9 col4\" >0.9498</td>\n",
       "                        <td id=\"T_7eeaa16c_29a3_11eb_b809_00d8610889aerow9_col5\" class=\"data row9 col5\" >0.9443</td>\n",
       "                        <td id=\"T_7eeaa16c_29a3_11eb_b809_00d8610889aerow9_col6\" class=\"data row9 col6\" >0.9445</td>\n",
       "            </tr>\n",
       "            <tr>\n",
       "                        <th id=\"T_7eeaa16c_29a3_11eb_b809_00d8610889aelevel0_row10\" class=\"row_heading level0 row10\" >Mean</th>\n",
       "                        <td id=\"T_7eeaa16c_29a3_11eb_b809_00d8610889aerow10_col0\" class=\"data row10 col0\" >0.9624</td>\n",
       "                        <td id=\"T_7eeaa16c_29a3_11eb_b809_00d8610889aerow10_col1\" class=\"data row10 col1\" >0.0000</td>\n",
       "                        <td id=\"T_7eeaa16c_29a3_11eb_b809_00d8610889aerow10_col2\" class=\"data row10 col2\" >0.8522</td>\n",
       "                        <td id=\"T_7eeaa16c_29a3_11eb_b809_00d8610889aerow10_col3\" class=\"data row10 col3\" >0.9617</td>\n",
       "                        <td id=\"T_7eeaa16c_29a3_11eb_b809_00d8610889aerow10_col4\" class=\"data row10 col4\" >0.9608</td>\n",
       "                        <td id=\"T_7eeaa16c_29a3_11eb_b809_00d8610889aerow10_col5\" class=\"data row10 col5\" >0.9560</td>\n",
       "                        <td id=\"T_7eeaa16c_29a3_11eb_b809_00d8610889aerow10_col6\" class=\"data row10 col6\" >0.9561</td>\n",
       "            </tr>\n",
       "            <tr>\n",
       "                        <th id=\"T_7eeaa16c_29a3_11eb_b809_00d8610889aelevel0_row11\" class=\"row_heading level0 row11\" >SD</th>\n",
       "                        <td id=\"T_7eeaa16c_29a3_11eb_b809_00d8610889aerow11_col0\" class=\"data row11 col0\" >0.0042</td>\n",
       "                        <td id=\"T_7eeaa16c_29a3_11eb_b809_00d8610889aerow11_col1\" class=\"data row11 col1\" >0.0000</td>\n",
       "                        <td id=\"T_7eeaa16c_29a3_11eb_b809_00d8610889aerow11_col2\" class=\"data row11 col2\" >0.0397</td>\n",
       "                        <td id=\"T_7eeaa16c_29a3_11eb_b809_00d8610889aerow11_col3\" class=\"data row11 col3\" >0.0046</td>\n",
       "                        <td id=\"T_7eeaa16c_29a3_11eb_b809_00d8610889aerow11_col4\" class=\"data row11 col4\" >0.0048</td>\n",
       "                        <td id=\"T_7eeaa16c_29a3_11eb_b809_00d8610889aerow11_col5\" class=\"data row11 col5\" >0.0049</td>\n",
       "                        <td id=\"T_7eeaa16c_29a3_11eb_b809_00d8610889aerow11_col6\" class=\"data row11 col6\" >0.0049</td>\n",
       "            </tr>\n",
       "    </tbody></table>"
      ],
      "text/plain": [
       "<pandas.io.formats.style.Styler at 0x274baad6bb0>"
      ]
     },
     "metadata": {},
     "output_type": "display_data"
    }
   ],
   "source": [
    "setup(data=data,\n",
    "      target=target_label,\n",
    "      silent=True)\n",
    "model=create_model(learning_model)"
   ]
  },
  {
   "cell_type": "markdown",
   "metadata": {},
   "source": [
    "### Copy and modify Unseen Data and make Validation Test"
   ]
  },
  {
   "cell_type": "code",
   "execution_count": 23,
   "metadata": {},
   "outputs": [],
   "source": [
    "unseen_data = unseen_data_original.copy()\n",
    "unseen_data = unseen_data.drop(TCP_features+SSL_features, axis=1)"
   ]
  },
  {
   "cell_type": "code",
   "execution_count": 24,
   "metadata": {},
   "outputs": [
    {
     "name": "stdout",
     "output_type": "stream",
     "text": [
      "prediction took: 0.53125\n"
     ]
    }
   ],
   "source": [
    "predicted = timed_prediction(unseen_data,model)"
   ]
  },
  {
   "cell_type": "code",
   "execution_count": 25,
   "metadata": {
    "scrolled": true
   },
   "outputs": [
    {
     "name": "stdout",
     "output_type": "stream",
     "text": [
      "Number of error: 223 from 6189 test samples \n",
      "Which is 3.603166909032154% of error.\n"
     ]
    }
   ],
   "source": [
    "compare_prediction_with_answers(predicted,answers)"
   ]
  },
  {
   "cell_type": "markdown",
   "metadata": {},
   "source": [
    "# Remove Size Features Group"
   ]
  },
  {
   "cell_type": "code",
   "execution_count": 26,
   "metadata": {},
   "outputs": [],
   "source": [
    "data = original_data.copy()\n",
    "data = data.drop(size_features, axis=1)"
   ]
  },
  {
   "cell_type": "markdown",
   "metadata": {},
   "source": [
    "### Setup Data and Build Model\n",
    "The output of the function is a table showing averaged score of all models across the folds. By default, the fold is set to 10. "
   ]
  },
  {
   "cell_type": "code",
   "execution_count": 27,
   "metadata": {
    "scrolled": true,
    "tags": []
   },
   "outputs": [
    {
     "data": {
      "text/html": [
       "<style  type=\"text/css\" >\n",
       "#T_81955ef8_29a3_11eb_a3a4_00d8610889aerow10_col0,#T_81955ef8_29a3_11eb_a3a4_00d8610889aerow10_col1,#T_81955ef8_29a3_11eb_a3a4_00d8610889aerow10_col2,#T_81955ef8_29a3_11eb_a3a4_00d8610889aerow10_col3,#T_81955ef8_29a3_11eb_a3a4_00d8610889aerow10_col4,#T_81955ef8_29a3_11eb_a3a4_00d8610889aerow10_col5,#T_81955ef8_29a3_11eb_a3a4_00d8610889aerow10_col6{\n",
       "            background:  yellow;\n",
       "        }</style><table id=\"T_81955ef8_29a3_11eb_a3a4_00d8610889ae\" ><thead>    <tr>        <th class=\"blank level0\" ></th>        <th class=\"col_heading level0 col0\" >Accuracy</th>        <th class=\"col_heading level0 col1\" >AUC</th>        <th class=\"col_heading level0 col2\" >Recall</th>        <th class=\"col_heading level0 col3\" >Prec.</th>        <th class=\"col_heading level0 col4\" >F1</th>        <th class=\"col_heading level0 col5\" >Kappa</th>        <th class=\"col_heading level0 col6\" >MCC</th>    </tr></thead><tbody>\n",
       "                <tr>\n",
       "                        <th id=\"T_81955ef8_29a3_11eb_a3a4_00d8610889aelevel0_row0\" class=\"row_heading level0 row0\" >0</th>\n",
       "                        <td id=\"T_81955ef8_29a3_11eb_a3a4_00d8610889aerow0_col0\" class=\"data row0 col0\" >0.9802</td>\n",
       "                        <td id=\"T_81955ef8_29a3_11eb_a3a4_00d8610889aerow0_col1\" class=\"data row0 col1\" >0.0000</td>\n",
       "                        <td id=\"T_81955ef8_29a3_11eb_a3a4_00d8610889aerow0_col2\" class=\"data row0 col2\" >0.8893</td>\n",
       "                        <td id=\"T_81955ef8_29a3_11eb_a3a4_00d8610889aerow0_col3\" class=\"data row0 col3\" >0.9785</td>\n",
       "                        <td id=\"T_81955ef8_29a3_11eb_a3a4_00d8610889aerow0_col4\" class=\"data row0 col4\" >0.9790</td>\n",
       "                        <td id=\"T_81955ef8_29a3_11eb_a3a4_00d8610889aerow0_col5\" class=\"data row0 col5\" >0.9768</td>\n",
       "                        <td id=\"T_81955ef8_29a3_11eb_a3a4_00d8610889aerow0_col6\" class=\"data row0 col6\" >0.9769</td>\n",
       "            </tr>\n",
       "            <tr>\n",
       "                        <th id=\"T_81955ef8_29a3_11eb_a3a4_00d8610889aelevel0_row1\" class=\"row_heading level0 row1\" >1</th>\n",
       "                        <td id=\"T_81955ef8_29a3_11eb_a3a4_00d8610889aerow1_col0\" class=\"data row1 col0\" >0.9812</td>\n",
       "                        <td id=\"T_81955ef8_29a3_11eb_a3a4_00d8610889aerow1_col1\" class=\"data row1 col1\" >0.0000</td>\n",
       "                        <td id=\"T_81955ef8_29a3_11eb_a3a4_00d8610889aerow1_col2\" class=\"data row1 col2\" >0.9466</td>\n",
       "                        <td id=\"T_81955ef8_29a3_11eb_a3a4_00d8610889aerow1_col3\" class=\"data row1 col3\" >0.9833</td>\n",
       "                        <td id=\"T_81955ef8_29a3_11eb_a3a4_00d8610889aerow1_col4\" class=\"data row1 col4\" >0.9817</td>\n",
       "                        <td id=\"T_81955ef8_29a3_11eb_a3a4_00d8610889aerow1_col5\" class=\"data row1 col5\" >0.9780</td>\n",
       "                        <td id=\"T_81955ef8_29a3_11eb_a3a4_00d8610889aerow1_col6\" class=\"data row1 col6\" >0.9780</td>\n",
       "            </tr>\n",
       "            <tr>\n",
       "                        <th id=\"T_81955ef8_29a3_11eb_a3a4_00d8610889aelevel0_row2\" class=\"row_heading level0 row2\" >2</th>\n",
       "                        <td id=\"T_81955ef8_29a3_11eb_a3a4_00d8610889aerow2_col0\" class=\"data row2 col0\" >0.9693</td>\n",
       "                        <td id=\"T_81955ef8_29a3_11eb_a3a4_00d8610889aerow2_col1\" class=\"data row2 col1\" >0.0000</td>\n",
       "                        <td id=\"T_81955ef8_29a3_11eb_a3a4_00d8610889aerow2_col2\" class=\"data row2 col2\" >0.8342</td>\n",
       "                        <td id=\"T_81955ef8_29a3_11eb_a3a4_00d8610889aerow2_col3\" class=\"data row2 col3\" >0.9670</td>\n",
       "                        <td id=\"T_81955ef8_29a3_11eb_a3a4_00d8610889aerow2_col4\" class=\"data row2 col4\" >0.9669</td>\n",
       "                        <td id=\"T_81955ef8_29a3_11eb_a3a4_00d8610889aerow2_col5\" class=\"data row2 col5\" >0.9641</td>\n",
       "                        <td id=\"T_81955ef8_29a3_11eb_a3a4_00d8610889aerow2_col6\" class=\"data row2 col6\" >0.9642</td>\n",
       "            </tr>\n",
       "            <tr>\n",
       "                        <th id=\"T_81955ef8_29a3_11eb_a3a4_00d8610889aelevel0_row3\" class=\"row_heading level0 row3\" >3</th>\n",
       "                        <td id=\"T_81955ef8_29a3_11eb_a3a4_00d8610889aerow3_col0\" class=\"data row3 col0\" >0.9733</td>\n",
       "                        <td id=\"T_81955ef8_29a3_11eb_a3a4_00d8610889aerow3_col1\" class=\"data row3 col1\" >0.0000</td>\n",
       "                        <td id=\"T_81955ef8_29a3_11eb_a3a4_00d8610889aerow3_col2\" class=\"data row3 col2\" >0.8807</td>\n",
       "                        <td id=\"T_81955ef8_29a3_11eb_a3a4_00d8610889aerow3_col3\" class=\"data row3 col3\" >0.9735</td>\n",
       "                        <td id=\"T_81955ef8_29a3_11eb_a3a4_00d8610889aerow3_col4\" class=\"data row3 col4\" >0.9720</td>\n",
       "                        <td id=\"T_81955ef8_29a3_11eb_a3a4_00d8610889aerow3_col5\" class=\"data row3 col5\" >0.9687</td>\n",
       "                        <td id=\"T_81955ef8_29a3_11eb_a3a4_00d8610889aerow3_col6\" class=\"data row3 col6\" >0.9688</td>\n",
       "            </tr>\n",
       "            <tr>\n",
       "                        <th id=\"T_81955ef8_29a3_11eb_a3a4_00d8610889aelevel0_row4\" class=\"row_heading level0 row4\" >4</th>\n",
       "                        <td id=\"T_81955ef8_29a3_11eb_a3a4_00d8610889aerow4_col0\" class=\"data row4 col0\" >0.9753</td>\n",
       "                        <td id=\"T_81955ef8_29a3_11eb_a3a4_00d8610889aerow4_col1\" class=\"data row4 col1\" >0.0000</td>\n",
       "                        <td id=\"T_81955ef8_29a3_11eb_a3a4_00d8610889aerow4_col2\" class=\"data row4 col2\" >0.8917</td>\n",
       "                        <td id=\"T_81955ef8_29a3_11eb_a3a4_00d8610889aerow4_col3\" class=\"data row4 col3\" >0.9753</td>\n",
       "                        <td id=\"T_81955ef8_29a3_11eb_a3a4_00d8610889aerow4_col4\" class=\"data row4 col4\" >0.9744</td>\n",
       "                        <td id=\"T_81955ef8_29a3_11eb_a3a4_00d8610889aerow4_col5\" class=\"data row4 col5\" >0.9711</td>\n",
       "                        <td id=\"T_81955ef8_29a3_11eb_a3a4_00d8610889aerow4_col6\" class=\"data row4 col6\" >0.9711</td>\n",
       "            </tr>\n",
       "            <tr>\n",
       "                        <th id=\"T_81955ef8_29a3_11eb_a3a4_00d8610889aelevel0_row5\" class=\"row_heading level0 row5\" >5</th>\n",
       "                        <td id=\"T_81955ef8_29a3_11eb_a3a4_00d8610889aerow5_col0\" class=\"data row5 col0\" >0.9674</td>\n",
       "                        <td id=\"T_81955ef8_29a3_11eb_a3a4_00d8610889aerow5_col1\" class=\"data row5 col1\" >0.0000</td>\n",
       "                        <td id=\"T_81955ef8_29a3_11eb_a3a4_00d8610889aerow5_col2\" class=\"data row5 col2\" >0.8254</td>\n",
       "                        <td id=\"T_81955ef8_29a3_11eb_a3a4_00d8610889aerow5_col3\" class=\"data row5 col3\" >0.9693</td>\n",
       "                        <td id=\"T_81955ef8_29a3_11eb_a3a4_00d8610889aerow5_col4\" class=\"data row5 col4\" >0.9669</td>\n",
       "                        <td id=\"T_81955ef8_29a3_11eb_a3a4_00d8610889aerow5_col5\" class=\"data row5 col5\" >0.9618</td>\n",
       "                        <td id=\"T_81955ef8_29a3_11eb_a3a4_00d8610889aerow5_col6\" class=\"data row5 col6\" >0.9618</td>\n",
       "            </tr>\n",
       "            <tr>\n",
       "                        <th id=\"T_81955ef8_29a3_11eb_a3a4_00d8610889aelevel0_row6\" class=\"row_heading level0 row6\" >6</th>\n",
       "                        <td id=\"T_81955ef8_29a3_11eb_a3a4_00d8610889aerow6_col0\" class=\"data row6 col0\" >0.9743</td>\n",
       "                        <td id=\"T_81955ef8_29a3_11eb_a3a4_00d8610889aerow6_col1\" class=\"data row6 col1\" >0.0000</td>\n",
       "                        <td id=\"T_81955ef8_29a3_11eb_a3a4_00d8610889aerow6_col2\" class=\"data row6 col2\" >0.8919</td>\n",
       "                        <td id=\"T_81955ef8_29a3_11eb_a3a4_00d8610889aerow6_col3\" class=\"data row6 col3\" >0.9752</td>\n",
       "                        <td id=\"T_81955ef8_29a3_11eb_a3a4_00d8610889aerow6_col4\" class=\"data row6 col4\" >0.9739</td>\n",
       "                        <td id=\"T_81955ef8_29a3_11eb_a3a4_00d8610889aerow6_col5\" class=\"data row6 col5\" >0.9699</td>\n",
       "                        <td id=\"T_81955ef8_29a3_11eb_a3a4_00d8610889aerow6_col6\" class=\"data row6 col6\" >0.9699</td>\n",
       "            </tr>\n",
       "            <tr>\n",
       "                        <th id=\"T_81955ef8_29a3_11eb_a3a4_00d8610889aelevel0_row7\" class=\"row_heading level0 row7\" >7</th>\n",
       "                        <td id=\"T_81955ef8_29a3_11eb_a3a4_00d8610889aerow7_col0\" class=\"data row7 col0\" >0.9763</td>\n",
       "                        <td id=\"T_81955ef8_29a3_11eb_a3a4_00d8610889aerow7_col1\" class=\"data row7 col1\" >0.0000</td>\n",
       "                        <td id=\"T_81955ef8_29a3_11eb_a3a4_00d8610889aerow7_col2\" class=\"data row7 col2\" >0.8834</td>\n",
       "                        <td id=\"T_81955ef8_29a3_11eb_a3a4_00d8610889aerow7_col3\" class=\"data row7 col3\" >0.9749</td>\n",
       "                        <td id=\"T_81955ef8_29a3_11eb_a3a4_00d8610889aerow7_col4\" class=\"data row7 col4\" >0.9749</td>\n",
       "                        <td id=\"T_81955ef8_29a3_11eb_a3a4_00d8610889aerow7_col5\" class=\"data row7 col5\" >0.9722</td>\n",
       "                        <td id=\"T_81955ef8_29a3_11eb_a3a4_00d8610889aerow7_col6\" class=\"data row7 col6\" >0.9722</td>\n",
       "            </tr>\n",
       "            <tr>\n",
       "                        <th id=\"T_81955ef8_29a3_11eb_a3a4_00d8610889aelevel0_row8\" class=\"row_heading level0 row8\" >8</th>\n",
       "                        <td id=\"T_81955ef8_29a3_11eb_a3a4_00d8610889aerow8_col0\" class=\"data row8 col0\" >0.9723</td>\n",
       "                        <td id=\"T_81955ef8_29a3_11eb_a3a4_00d8610889aerow8_col1\" class=\"data row8 col1\" >0.0000</td>\n",
       "                        <td id=\"T_81955ef8_29a3_11eb_a3a4_00d8610889aerow8_col2\" class=\"data row8 col2\" >0.8778</td>\n",
       "                        <td id=\"T_81955ef8_29a3_11eb_a3a4_00d8610889aerow8_col3\" class=\"data row8 col3\" >0.9738</td>\n",
       "                        <td id=\"T_81955ef8_29a3_11eb_a3a4_00d8610889aerow8_col4\" class=\"data row8 col4\" >0.9709</td>\n",
       "                        <td id=\"T_81955ef8_29a3_11eb_a3a4_00d8610889aerow8_col5\" class=\"data row8 col5\" >0.9676</td>\n",
       "                        <td id=\"T_81955ef8_29a3_11eb_a3a4_00d8610889aerow8_col6\" class=\"data row8 col6\" >0.9677</td>\n",
       "            </tr>\n",
       "            <tr>\n",
       "                        <th id=\"T_81955ef8_29a3_11eb_a3a4_00d8610889aelevel0_row9\" class=\"row_heading level0 row9\" >9</th>\n",
       "                        <td id=\"T_81955ef8_29a3_11eb_a3a4_00d8610889aerow9_col0\" class=\"data row9 col0\" >0.9832</td>\n",
       "                        <td id=\"T_81955ef8_29a3_11eb_a3a4_00d8610889aerow9_col1\" class=\"data row9 col1\" >0.0000</td>\n",
       "                        <td id=\"T_81955ef8_29a3_11eb_a3a4_00d8610889aerow9_col2\" class=\"data row9 col2\" >0.8540</td>\n",
       "                        <td id=\"T_81955ef8_29a3_11eb_a3a4_00d8610889aerow9_col3\" class=\"data row9 col3\" >0.9806</td>\n",
       "                        <td id=\"T_81955ef8_29a3_11eb_a3a4_00d8610889aerow9_col4\" class=\"data row9 col4\" >0.9809</td>\n",
       "                        <td id=\"T_81955ef8_29a3_11eb_a3a4_00d8610889aerow9_col5\" class=\"data row9 col5\" >0.9803</td>\n",
       "                        <td id=\"T_81955ef8_29a3_11eb_a3a4_00d8610889aerow9_col6\" class=\"data row9 col6\" >0.9803</td>\n",
       "            </tr>\n",
       "            <tr>\n",
       "                        <th id=\"T_81955ef8_29a3_11eb_a3a4_00d8610889aelevel0_row10\" class=\"row_heading level0 row10\" >Mean</th>\n",
       "                        <td id=\"T_81955ef8_29a3_11eb_a3a4_00d8610889aerow10_col0\" class=\"data row10 col0\" >0.9753</td>\n",
       "                        <td id=\"T_81955ef8_29a3_11eb_a3a4_00d8610889aerow10_col1\" class=\"data row10 col1\" >0.0000</td>\n",
       "                        <td id=\"T_81955ef8_29a3_11eb_a3a4_00d8610889aerow10_col2\" class=\"data row10 col2\" >0.8775</td>\n",
       "                        <td id=\"T_81955ef8_29a3_11eb_a3a4_00d8610889aerow10_col3\" class=\"data row10 col3\" >0.9751</td>\n",
       "                        <td id=\"T_81955ef8_29a3_11eb_a3a4_00d8610889aerow10_col4\" class=\"data row10 col4\" >0.9741</td>\n",
       "                        <td id=\"T_81955ef8_29a3_11eb_a3a4_00d8610889aerow10_col5\" class=\"data row10 col5\" >0.9711</td>\n",
       "                        <td id=\"T_81955ef8_29a3_11eb_a3a4_00d8610889aerow10_col6\" class=\"data row10 col6\" >0.9711</td>\n",
       "            </tr>\n",
       "            <tr>\n",
       "                        <th id=\"T_81955ef8_29a3_11eb_a3a4_00d8610889aelevel0_row11\" class=\"row_heading level0 row11\" >SD</th>\n",
       "                        <td id=\"T_81955ef8_29a3_11eb_a3a4_00d8610889aerow11_col0\" class=\"data row11 col0\" >0.0048</td>\n",
       "                        <td id=\"T_81955ef8_29a3_11eb_a3a4_00d8610889aerow11_col1\" class=\"data row11 col1\" >0.0000</td>\n",
       "                        <td id=\"T_81955ef8_29a3_11eb_a3a4_00d8610889aerow11_col2\" class=\"data row11 col2\" >0.0324</td>\n",
       "                        <td id=\"T_81955ef8_29a3_11eb_a3a4_00d8610889aerow11_col3\" class=\"data row11 col3\" >0.0046</td>\n",
       "                        <td id=\"T_81955ef8_29a3_11eb_a3a4_00d8610889aerow11_col4\" class=\"data row11 col4\" >0.0050</td>\n",
       "                        <td id=\"T_81955ef8_29a3_11eb_a3a4_00d8610889aerow11_col5\" class=\"data row11 col5\" >0.0057</td>\n",
       "                        <td id=\"T_81955ef8_29a3_11eb_a3a4_00d8610889aerow11_col6\" class=\"data row11 col6\" >0.0057</td>\n",
       "            </tr>\n",
       "    </tbody></table>"
      ],
      "text/plain": [
       "<pandas.io.formats.style.Styler at 0x274bac9ea00>"
      ]
     },
     "metadata": {},
     "output_type": "display_data"
    }
   ],
   "source": [
    "setup(data=data,\n",
    "      target=target_label,\n",
    "      silent=True)\n",
    "model=create_model(learning_model)"
   ]
  },
  {
   "cell_type": "markdown",
   "metadata": {},
   "source": [
    "### Copy and modify Unseen Data and make Validation Test"
   ]
  },
  {
   "cell_type": "code",
   "execution_count": 28,
   "metadata": {},
   "outputs": [],
   "source": [
    "unseen_data = unseen_data_original.copy()\n",
    "unseen_data = unseen_data.drop(size_features, axis=1)"
   ]
  },
  {
   "cell_type": "code",
   "execution_count": 29,
   "metadata": {},
   "outputs": [
    {
     "name": "stdout",
     "output_type": "stream",
     "text": [
      "prediction took: 0.703125\n"
     ]
    }
   ],
   "source": [
    "predicted = timed_prediction(unseen_data,model)"
   ]
  },
  {
   "cell_type": "code",
   "execution_count": 30,
   "metadata": {},
   "outputs": [
    {
     "name": "stdout",
     "output_type": "stream",
     "text": [
      "Number of error: 140 from 6189 test samples \n",
      "Which is 2.262077880109872% of error.\n"
     ]
    }
   ],
   "source": [
    "compare_prediction_with_answers(predicted,answers)"
   ]
  },
  {
   "cell_type": "markdown",
   "metadata": {},
   "source": [
    "# Remove Peak Features Group"
   ]
  },
  {
   "cell_type": "code",
   "execution_count": 31,
   "metadata": {},
   "outputs": [],
   "source": [
    "data = original_data.copy()\n",
    "data = data.drop(peak_features, axis=1)"
   ]
  },
  {
   "cell_type": "markdown",
   "metadata": {},
   "source": [
    "### Setup Data and Build Model\n",
    "The output of the function is a table showing averaged score of all models across the folds. By default, the fold is set to 10. "
   ]
  },
  {
   "cell_type": "code",
   "execution_count": 32,
   "metadata": {
    "scrolled": true,
    "tags": []
   },
   "outputs": [
    {
     "data": {
      "text/html": [
       "<style  type=\"text/css\" >\n",
       "#T_84459776_29a3_11eb_83e6_00d8610889aerow10_col0,#T_84459776_29a3_11eb_83e6_00d8610889aerow10_col1,#T_84459776_29a3_11eb_83e6_00d8610889aerow10_col2,#T_84459776_29a3_11eb_83e6_00d8610889aerow10_col3,#T_84459776_29a3_11eb_83e6_00d8610889aerow10_col4,#T_84459776_29a3_11eb_83e6_00d8610889aerow10_col5,#T_84459776_29a3_11eb_83e6_00d8610889aerow10_col6{\n",
       "            background:  yellow;\n",
       "        }</style><table id=\"T_84459776_29a3_11eb_83e6_00d8610889ae\" ><thead>    <tr>        <th class=\"blank level0\" ></th>        <th class=\"col_heading level0 col0\" >Accuracy</th>        <th class=\"col_heading level0 col1\" >AUC</th>        <th class=\"col_heading level0 col2\" >Recall</th>        <th class=\"col_heading level0 col3\" >Prec.</th>        <th class=\"col_heading level0 col4\" >F1</th>        <th class=\"col_heading level0 col5\" >Kappa</th>        <th class=\"col_heading level0 col6\" >MCC</th>    </tr></thead><tbody>\n",
       "                <tr>\n",
       "                        <th id=\"T_84459776_29a3_11eb_83e6_00d8610889aelevel0_row0\" class=\"row_heading level0 row0\" >0</th>\n",
       "                        <td id=\"T_84459776_29a3_11eb_83e6_00d8610889aerow0_col0\" class=\"data row0 col0\" >0.9723</td>\n",
       "                        <td id=\"T_84459776_29a3_11eb_83e6_00d8610889aerow0_col1\" class=\"data row0 col1\" >0.0000</td>\n",
       "                        <td id=\"T_84459776_29a3_11eb_83e6_00d8610889aerow0_col2\" class=\"data row0 col2\" >0.8730</td>\n",
       "                        <td id=\"T_84459776_29a3_11eb_83e6_00d8610889aerow0_col3\" class=\"data row0 col3\" >0.9705</td>\n",
       "                        <td id=\"T_84459776_29a3_11eb_83e6_00d8610889aerow0_col4\" class=\"data row0 col4\" >0.9711</td>\n",
       "                        <td id=\"T_84459776_29a3_11eb_83e6_00d8610889aerow0_col5\" class=\"data row0 col5\" >0.9676</td>\n",
       "                        <td id=\"T_84459776_29a3_11eb_83e6_00d8610889aerow0_col6\" class=\"data row0 col6\" >0.9676</td>\n",
       "            </tr>\n",
       "            <tr>\n",
       "                        <th id=\"T_84459776_29a3_11eb_83e6_00d8610889aelevel0_row1\" class=\"row_heading level0 row1\" >1</th>\n",
       "                        <td id=\"T_84459776_29a3_11eb_83e6_00d8610889aerow1_col0\" class=\"data row1 col0\" >0.9733</td>\n",
       "                        <td id=\"T_84459776_29a3_11eb_83e6_00d8610889aerow1_col1\" class=\"data row1 col1\" >0.0000</td>\n",
       "                        <td id=\"T_84459776_29a3_11eb_83e6_00d8610889aerow1_col2\" class=\"data row1 col2\" >0.9025</td>\n",
       "                        <td id=\"T_84459776_29a3_11eb_83e6_00d8610889aerow1_col3\" class=\"data row1 col3\" >0.9739</td>\n",
       "                        <td id=\"T_84459776_29a3_11eb_83e6_00d8610889aerow1_col4\" class=\"data row1 col4\" >0.9729</td>\n",
       "                        <td id=\"T_84459776_29a3_11eb_83e6_00d8610889aerow1_col5\" class=\"data row1 col5\" >0.9688</td>\n",
       "                        <td id=\"T_84459776_29a3_11eb_83e6_00d8610889aerow1_col6\" class=\"data row1 col6\" >0.9688</td>\n",
       "            </tr>\n",
       "            <tr>\n",
       "                        <th id=\"T_84459776_29a3_11eb_83e6_00d8610889aelevel0_row2\" class=\"row_heading level0 row2\" >2</th>\n",
       "                        <td id=\"T_84459776_29a3_11eb_83e6_00d8610889aerow2_col0\" class=\"data row2 col0\" >0.9753</td>\n",
       "                        <td id=\"T_84459776_29a3_11eb_83e6_00d8610889aerow2_col1\" class=\"data row2 col1\" >0.0000</td>\n",
       "                        <td id=\"T_84459776_29a3_11eb_83e6_00d8610889aerow2_col2\" class=\"data row2 col2\" >0.9240</td>\n",
       "                        <td id=\"T_84459776_29a3_11eb_83e6_00d8610889aerow2_col3\" class=\"data row2 col3\" >0.9766</td>\n",
       "                        <td id=\"T_84459776_29a3_11eb_83e6_00d8610889aerow2_col4\" class=\"data row2 col4\" >0.9746</td>\n",
       "                        <td id=\"T_84459776_29a3_11eb_83e6_00d8610889aerow2_col5\" class=\"data row2 col5\" >0.9711</td>\n",
       "                        <td id=\"T_84459776_29a3_11eb_83e6_00d8610889aerow2_col6\" class=\"data row2 col6\" >0.9711</td>\n",
       "            </tr>\n",
       "            <tr>\n",
       "                        <th id=\"T_84459776_29a3_11eb_83e6_00d8610889aelevel0_row3\" class=\"row_heading level0 row3\" >3</th>\n",
       "                        <td id=\"T_84459776_29a3_11eb_83e6_00d8610889aerow3_col0\" class=\"data row3 col0\" >0.9773</td>\n",
       "                        <td id=\"T_84459776_29a3_11eb_83e6_00d8610889aerow3_col1\" class=\"data row3 col1\" >0.0000</td>\n",
       "                        <td id=\"T_84459776_29a3_11eb_83e6_00d8610889aerow3_col2\" class=\"data row3 col2\" >0.8678</td>\n",
       "                        <td id=\"T_84459776_29a3_11eb_83e6_00d8610889aerow3_col3\" class=\"data row3 col3\" >0.9759</td>\n",
       "                        <td id=\"T_84459776_29a3_11eb_83e6_00d8610889aerow3_col4\" class=\"data row3 col4\" >0.9760</td>\n",
       "                        <td id=\"T_84459776_29a3_11eb_83e6_00d8610889aerow3_col5\" class=\"data row3 col5\" >0.9734</td>\n",
       "                        <td id=\"T_84459776_29a3_11eb_83e6_00d8610889aerow3_col6\" class=\"data row3 col6\" >0.9734</td>\n",
       "            </tr>\n",
       "            <tr>\n",
       "                        <th id=\"T_84459776_29a3_11eb_83e6_00d8610889aelevel0_row4\" class=\"row_heading level0 row4\" >4</th>\n",
       "                        <td id=\"T_84459776_29a3_11eb_83e6_00d8610889aerow4_col0\" class=\"data row4 col0\" >0.9723</td>\n",
       "                        <td id=\"T_84459776_29a3_11eb_83e6_00d8610889aerow4_col1\" class=\"data row4 col1\" >0.0000</td>\n",
       "                        <td id=\"T_84459776_29a3_11eb_83e6_00d8610889aerow4_col2\" class=\"data row4 col2\" >0.9284</td>\n",
       "                        <td id=\"T_84459776_29a3_11eb_83e6_00d8610889aerow4_col3\" class=\"data row4 col3\" >0.9729</td>\n",
       "                        <td id=\"T_84459776_29a3_11eb_83e6_00d8610889aerow4_col4\" class=\"data row4 col4\" >0.9721</td>\n",
       "                        <td id=\"T_84459776_29a3_11eb_83e6_00d8610889aerow4_col5\" class=\"data row4 col5\" >0.9676</td>\n",
       "                        <td id=\"T_84459776_29a3_11eb_83e6_00d8610889aerow4_col6\" class=\"data row4 col6\" >0.9676</td>\n",
       "            </tr>\n",
       "            <tr>\n",
       "                        <th id=\"T_84459776_29a3_11eb_83e6_00d8610889aelevel0_row5\" class=\"row_heading level0 row5\" >5</th>\n",
       "                        <td id=\"T_84459776_29a3_11eb_83e6_00d8610889aerow5_col0\" class=\"data row5 col0\" >0.9763</td>\n",
       "                        <td id=\"T_84459776_29a3_11eb_83e6_00d8610889aerow5_col1\" class=\"data row5 col1\" >0.0000</td>\n",
       "                        <td id=\"T_84459776_29a3_11eb_83e6_00d8610889aerow5_col2\" class=\"data row5 col2\" >0.8682</td>\n",
       "                        <td id=\"T_84459776_29a3_11eb_83e6_00d8610889aerow5_col3\" class=\"data row5 col3\" >0.9772</td>\n",
       "                        <td id=\"T_84459776_29a3_11eb_83e6_00d8610889aerow5_col4\" class=\"data row5 col4\" >0.9753</td>\n",
       "                        <td id=\"T_84459776_29a3_11eb_83e6_00d8610889aerow5_col5\" class=\"data row5 col5\" >0.9722</td>\n",
       "                        <td id=\"T_84459776_29a3_11eb_83e6_00d8610889aerow5_col6\" class=\"data row5 col6\" >0.9723</td>\n",
       "            </tr>\n",
       "            <tr>\n",
       "                        <th id=\"T_84459776_29a3_11eb_83e6_00d8610889aelevel0_row6\" class=\"row_heading level0 row6\" >6</th>\n",
       "                        <td id=\"T_84459776_29a3_11eb_83e6_00d8610889aerow6_col0\" class=\"data row6 col0\" >0.9763</td>\n",
       "                        <td id=\"T_84459776_29a3_11eb_83e6_00d8610889aerow6_col1\" class=\"data row6 col1\" >0.0000</td>\n",
       "                        <td id=\"T_84459776_29a3_11eb_83e6_00d8610889aerow6_col2\" class=\"data row6 col2\" >0.8395</td>\n",
       "                        <td id=\"T_84459776_29a3_11eb_83e6_00d8610889aerow6_col3\" class=\"data row6 col3\" >0.9745</td>\n",
       "                        <td id=\"T_84459776_29a3_11eb_83e6_00d8610889aerow6_col4\" class=\"data row6 col4\" >0.9746</td>\n",
       "                        <td id=\"T_84459776_29a3_11eb_83e6_00d8610889aerow6_col5\" class=\"data row6 col5\" >0.9722</td>\n",
       "                        <td id=\"T_84459776_29a3_11eb_83e6_00d8610889aerow6_col6\" class=\"data row6 col6\" >0.9722</td>\n",
       "            </tr>\n",
       "            <tr>\n",
       "                        <th id=\"T_84459776_29a3_11eb_83e6_00d8610889aelevel0_row7\" class=\"row_heading level0 row7\" >7</th>\n",
       "                        <td id=\"T_84459776_29a3_11eb_83e6_00d8610889aerow7_col0\" class=\"data row7 col0\" >0.9693</td>\n",
       "                        <td id=\"T_84459776_29a3_11eb_83e6_00d8610889aerow7_col1\" class=\"data row7 col1\" >0.0000</td>\n",
       "                        <td id=\"T_84459776_29a3_11eb_83e6_00d8610889aerow7_col2\" class=\"data row7 col2\" >0.8377</td>\n",
       "                        <td id=\"T_84459776_29a3_11eb_83e6_00d8610889aerow7_col3\" class=\"data row7 col3\" >0.9692</td>\n",
       "                        <td id=\"T_84459776_29a3_11eb_83e6_00d8610889aerow7_col4\" class=\"data row7 col4\" >0.9678</td>\n",
       "                        <td id=\"T_84459776_29a3_11eb_83e6_00d8610889aerow7_col5\" class=\"data row7 col5\" >0.9641</td>\n",
       "                        <td id=\"T_84459776_29a3_11eb_83e6_00d8610889aerow7_col6\" class=\"data row7 col6\" >0.9641</td>\n",
       "            </tr>\n",
       "            <tr>\n",
       "                        <th id=\"T_84459776_29a3_11eb_83e6_00d8610889aelevel0_row8\" class=\"row_heading level0 row8\" >8</th>\n",
       "                        <td id=\"T_84459776_29a3_11eb_83e6_00d8610889aerow8_col0\" class=\"data row8 col0\" >0.9693</td>\n",
       "                        <td id=\"T_84459776_29a3_11eb_83e6_00d8610889aerow8_col1\" class=\"data row8 col1\" >0.0000</td>\n",
       "                        <td id=\"T_84459776_29a3_11eb_83e6_00d8610889aerow8_col2\" class=\"data row8 col2\" >0.8590</td>\n",
       "                        <td id=\"T_84459776_29a3_11eb_83e6_00d8610889aerow8_col3\" class=\"data row8 col3\" >0.9712</td>\n",
       "                        <td id=\"T_84459776_29a3_11eb_83e6_00d8610889aerow8_col4\" class=\"data row8 col4\" >0.9697</td>\n",
       "                        <td id=\"T_84459776_29a3_11eb_83e6_00d8610889aerow8_col5\" class=\"data row8 col5\" >0.9641</td>\n",
       "                        <td id=\"T_84459776_29a3_11eb_83e6_00d8610889aerow8_col6\" class=\"data row8 col6\" >0.9642</td>\n",
       "            </tr>\n",
       "            <tr>\n",
       "                        <th id=\"T_84459776_29a3_11eb_83e6_00d8610889aelevel0_row9\" class=\"row_heading level0 row9\" >9</th>\n",
       "                        <td id=\"T_84459776_29a3_11eb_83e6_00d8610889aerow9_col0\" class=\"data row9 col0\" >0.9792</td>\n",
       "                        <td id=\"T_84459776_29a3_11eb_83e6_00d8610889aerow9_col1\" class=\"data row9 col1\" >0.0000</td>\n",
       "                        <td id=\"T_84459776_29a3_11eb_83e6_00d8610889aerow9_col2\" class=\"data row9 col2\" >0.8857</td>\n",
       "                        <td id=\"T_84459776_29a3_11eb_83e6_00d8610889aerow9_col3\" class=\"data row9 col3\" >0.9778</td>\n",
       "                        <td id=\"T_84459776_29a3_11eb_83e6_00d8610889aerow9_col4\" class=\"data row9 col4\" >0.9775</td>\n",
       "                        <td id=\"T_84459776_29a3_11eb_83e6_00d8610889aerow9_col5\" class=\"data row9 col5\" >0.9757</td>\n",
       "                        <td id=\"T_84459776_29a3_11eb_83e6_00d8610889aerow9_col6\" class=\"data row9 col6\" >0.9757</td>\n",
       "            </tr>\n",
       "            <tr>\n",
       "                        <th id=\"T_84459776_29a3_11eb_83e6_00d8610889aelevel0_row10\" class=\"row_heading level0 row10\" >Mean</th>\n",
       "                        <td id=\"T_84459776_29a3_11eb_83e6_00d8610889aerow10_col0\" class=\"data row10 col0\" >0.9741</td>\n",
       "                        <td id=\"T_84459776_29a3_11eb_83e6_00d8610889aerow10_col1\" class=\"data row10 col1\" >0.0000</td>\n",
       "                        <td id=\"T_84459776_29a3_11eb_83e6_00d8610889aerow10_col2\" class=\"data row10 col2\" >0.8786</td>\n",
       "                        <td id=\"T_84459776_29a3_11eb_83e6_00d8610889aerow10_col3\" class=\"data row10 col3\" >0.9740</td>\n",
       "                        <td id=\"T_84459776_29a3_11eb_83e6_00d8610889aerow10_col4\" class=\"data row10 col4\" >0.9732</td>\n",
       "                        <td id=\"T_84459776_29a3_11eb_83e6_00d8610889aerow10_col5\" class=\"data row10 col5\" >0.9697</td>\n",
       "                        <td id=\"T_84459776_29a3_11eb_83e6_00d8610889aerow10_col6\" class=\"data row10 col6\" >0.9697</td>\n",
       "            </tr>\n",
       "            <tr>\n",
       "                        <th id=\"T_84459776_29a3_11eb_83e6_00d8610889aelevel0_row11\" class=\"row_heading level0 row11\" >SD</th>\n",
       "                        <td id=\"T_84459776_29a3_11eb_83e6_00d8610889aerow11_col0\" class=\"data row11 col0\" >0.0031</td>\n",
       "                        <td id=\"T_84459776_29a3_11eb_83e6_00d8610889aerow11_col1\" class=\"data row11 col1\" >0.0000</td>\n",
       "                        <td id=\"T_84459776_29a3_11eb_83e6_00d8610889aerow11_col2\" class=\"data row11 col2\" >0.0300</td>\n",
       "                        <td id=\"T_84459776_29a3_11eb_83e6_00d8610889aerow11_col3\" class=\"data row11 col3\" >0.0028</td>\n",
       "                        <td id=\"T_84459776_29a3_11eb_83e6_00d8610889aerow11_col4\" class=\"data row11 col4\" >0.0029</td>\n",
       "                        <td id=\"T_84459776_29a3_11eb_83e6_00d8610889aerow11_col5\" class=\"data row11 col5\" >0.0037</td>\n",
       "                        <td id=\"T_84459776_29a3_11eb_83e6_00d8610889aerow11_col6\" class=\"data row11 col6\" >0.0037</td>\n",
       "            </tr>\n",
       "    </tbody></table>"
      ],
      "text/plain": [
       "<pandas.io.formats.style.Styler at 0x274ba713dc0>"
      ]
     },
     "metadata": {},
     "output_type": "display_data"
    }
   ],
   "source": [
    "setup(data=data,\n",
    "      target=target_label,\n",
    "      silent=True)\n",
    "model=create_model(learning_model)"
   ]
  },
  {
   "cell_type": "markdown",
   "metadata": {},
   "source": [
    "### Copy and modify Unseen Data and make Validation Test"
   ]
  },
  {
   "cell_type": "code",
   "execution_count": 33,
   "metadata": {},
   "outputs": [],
   "source": [
    "unseen_data = unseen_data_original.copy()\n",
    "unseen_data = unseen_data.drop(peak_features, axis=1)"
   ]
  },
  {
   "cell_type": "code",
   "execution_count": 34,
   "metadata": {},
   "outputs": [
    {
     "name": "stdout",
     "output_type": "stream",
     "text": [
      "prediction took: 0.6875\n"
     ]
    }
   ],
   "source": [
    "predicted = timed_prediction(unseen_data,model)"
   ]
  },
  {
   "cell_type": "code",
   "execution_count": 35,
   "metadata": {},
   "outputs": [
    {
     "name": "stdout",
     "output_type": "stream",
     "text": [
      "Number of error: 160 from 6189 test samples \n",
      "Which is 2.5852318629827113% of error.\n"
     ]
    }
   ],
   "source": [
    "compare_prediction_with_answers(predicted,answers)"
   ]
  },
  {
   "cell_type": "markdown",
   "metadata": {},
   "source": [
    "# Remove Common Features Group"
   ]
  },
  {
   "cell_type": "code",
   "execution_count": 36,
   "metadata": {},
   "outputs": [],
   "source": [
    "data = original_data.copy()\n",
    "data = data.drop(common_features, axis=1)"
   ]
  },
  {
   "cell_type": "markdown",
   "metadata": {},
   "source": [
    "### Setup Data and Build Model\n",
    "The output of the function is a table showing averaged score of all models across the folds. By default, the fold is set to 10. "
   ]
  },
  {
   "cell_type": "code",
   "execution_count": 37,
   "metadata": {
    "scrolled": true,
    "tags": []
   },
   "outputs": [
    {
     "data": {
      "text/html": [
       "<style  type=\"text/css\" >\n",
       "#T_87090650_29a3_11eb_8b42_00d8610889aerow10_col0,#T_87090650_29a3_11eb_8b42_00d8610889aerow10_col1,#T_87090650_29a3_11eb_8b42_00d8610889aerow10_col2,#T_87090650_29a3_11eb_8b42_00d8610889aerow10_col3,#T_87090650_29a3_11eb_8b42_00d8610889aerow10_col4,#T_87090650_29a3_11eb_8b42_00d8610889aerow10_col5,#T_87090650_29a3_11eb_8b42_00d8610889aerow10_col6{\n",
       "            background:  yellow;\n",
       "        }</style><table id=\"T_87090650_29a3_11eb_8b42_00d8610889ae\" ><thead>    <tr>        <th class=\"blank level0\" ></th>        <th class=\"col_heading level0 col0\" >Accuracy</th>        <th class=\"col_heading level0 col1\" >AUC</th>        <th class=\"col_heading level0 col2\" >Recall</th>        <th class=\"col_heading level0 col3\" >Prec.</th>        <th class=\"col_heading level0 col4\" >F1</th>        <th class=\"col_heading level0 col5\" >Kappa</th>        <th class=\"col_heading level0 col6\" >MCC</th>    </tr></thead><tbody>\n",
       "                <tr>\n",
       "                        <th id=\"T_87090650_29a3_11eb_8b42_00d8610889aelevel0_row0\" class=\"row_heading level0 row0\" >0</th>\n",
       "                        <td id=\"T_87090650_29a3_11eb_8b42_00d8610889aerow0_col0\" class=\"data row0 col0\" >0.9733</td>\n",
       "                        <td id=\"T_87090650_29a3_11eb_8b42_00d8610889aerow0_col1\" class=\"data row0 col1\" >0.0000</td>\n",
       "                        <td id=\"T_87090650_29a3_11eb_8b42_00d8610889aerow0_col2\" class=\"data row0 col2\" >0.8864</td>\n",
       "                        <td id=\"T_87090650_29a3_11eb_8b42_00d8610889aerow0_col3\" class=\"data row0 col3\" >0.9724</td>\n",
       "                        <td id=\"T_87090650_29a3_11eb_8b42_00d8610889aerow0_col4\" class=\"data row0 col4\" >0.9722</td>\n",
       "                        <td id=\"T_87090650_29a3_11eb_8b42_00d8610889aerow0_col5\" class=\"data row0 col5\" >0.9687</td>\n",
       "                        <td id=\"T_87090650_29a3_11eb_8b42_00d8610889aerow0_col6\" class=\"data row0 col6\" >0.9688</td>\n",
       "            </tr>\n",
       "            <tr>\n",
       "                        <th id=\"T_87090650_29a3_11eb_8b42_00d8610889aelevel0_row1\" class=\"row_heading level0 row1\" >1</th>\n",
       "                        <td id=\"T_87090650_29a3_11eb_8b42_00d8610889aerow1_col0\" class=\"data row1 col0\" >0.9683</td>\n",
       "                        <td id=\"T_87090650_29a3_11eb_8b42_00d8610889aerow1_col1\" class=\"data row1 col1\" >0.0000</td>\n",
       "                        <td id=\"T_87090650_29a3_11eb_8b42_00d8610889aerow1_col2\" class=\"data row1 col2\" >0.8384</td>\n",
       "                        <td id=\"T_87090650_29a3_11eb_8b42_00d8610889aerow1_col3\" class=\"data row1 col3\" >0.9681</td>\n",
       "                        <td id=\"T_87090650_29a3_11eb_8b42_00d8610889aerow1_col4\" class=\"data row1 col4\" >0.9668</td>\n",
       "                        <td id=\"T_87090650_29a3_11eb_8b42_00d8610889aerow1_col5\" class=\"data row1 col5\" >0.9629</td>\n",
       "                        <td id=\"T_87090650_29a3_11eb_8b42_00d8610889aerow1_col6\" class=\"data row1 col6\" >0.9630</td>\n",
       "            </tr>\n",
       "            <tr>\n",
       "                        <th id=\"T_87090650_29a3_11eb_8b42_00d8610889aelevel0_row2\" class=\"row_heading level0 row2\" >2</th>\n",
       "                        <td id=\"T_87090650_29a3_11eb_8b42_00d8610889aerow2_col0\" class=\"data row2 col0\" >0.9743</td>\n",
       "                        <td id=\"T_87090650_29a3_11eb_8b42_00d8610889aerow2_col1\" class=\"data row2 col1\" >0.0000</td>\n",
       "                        <td id=\"T_87090650_29a3_11eb_8b42_00d8610889aerow2_col2\" class=\"data row2 col2\" >0.8527</td>\n",
       "                        <td id=\"T_87090650_29a3_11eb_8b42_00d8610889aerow2_col3\" class=\"data row2 col3\" >0.9735</td>\n",
       "                        <td id=\"T_87090650_29a3_11eb_8b42_00d8610889aerow2_col4\" class=\"data row2 col4\" >0.9720</td>\n",
       "                        <td id=\"T_87090650_29a3_11eb_8b42_00d8610889aerow2_col5\" class=\"data row2 col5\" >0.9699</td>\n",
       "                        <td id=\"T_87090650_29a3_11eb_8b42_00d8610889aerow2_col6\" class=\"data row2 col6\" >0.9700</td>\n",
       "            </tr>\n",
       "            <tr>\n",
       "                        <th id=\"T_87090650_29a3_11eb_8b42_00d8610889aelevel0_row3\" class=\"row_heading level0 row3\" >3</th>\n",
       "                        <td id=\"T_87090650_29a3_11eb_8b42_00d8610889aerow3_col0\" class=\"data row3 col0\" >0.9723</td>\n",
       "                        <td id=\"T_87090650_29a3_11eb_8b42_00d8610889aerow3_col1\" class=\"data row3 col1\" >0.0000</td>\n",
       "                        <td id=\"T_87090650_29a3_11eb_8b42_00d8610889aerow3_col2\" class=\"data row3 col2\" >0.8808</td>\n",
       "                        <td id=\"T_87090650_29a3_11eb_8b42_00d8610889aerow3_col3\" class=\"data row3 col3\" >0.9716</td>\n",
       "                        <td id=\"T_87090650_29a3_11eb_8b42_00d8610889aerow3_col4\" class=\"data row3 col4\" >0.9714</td>\n",
       "                        <td id=\"T_87090650_29a3_11eb_8b42_00d8610889aerow3_col5\" class=\"data row3 col5\" >0.9676</td>\n",
       "                        <td id=\"T_87090650_29a3_11eb_8b42_00d8610889aerow3_col6\" class=\"data row3 col6\" >0.9676</td>\n",
       "            </tr>\n",
       "            <tr>\n",
       "                        <th id=\"T_87090650_29a3_11eb_8b42_00d8610889aelevel0_row4\" class=\"row_heading level0 row4\" >4</th>\n",
       "                        <td id=\"T_87090650_29a3_11eb_8b42_00d8610889aerow4_col0\" class=\"data row4 col0\" >0.9703</td>\n",
       "                        <td id=\"T_87090650_29a3_11eb_8b42_00d8610889aerow4_col1\" class=\"data row4 col1\" >0.0000</td>\n",
       "                        <td id=\"T_87090650_29a3_11eb_8b42_00d8610889aerow4_col2\" class=\"data row4 col2\" >0.9045</td>\n",
       "                        <td id=\"T_87090650_29a3_11eb_8b42_00d8610889aerow4_col3\" class=\"data row4 col3\" >0.9715</td>\n",
       "                        <td id=\"T_87090650_29a3_11eb_8b42_00d8610889aerow4_col4\" class=\"data row4 col4\" >0.9701</td>\n",
       "                        <td id=\"T_87090650_29a3_11eb_8b42_00d8610889aerow4_col5\" class=\"data row4 col5\" >0.9653</td>\n",
       "                        <td id=\"T_87090650_29a3_11eb_8b42_00d8610889aerow4_col6\" class=\"data row4 col6\" >0.9653</td>\n",
       "            </tr>\n",
       "            <tr>\n",
       "                        <th id=\"T_87090650_29a3_11eb_8b42_00d8610889aelevel0_row5\" class=\"row_heading level0 row5\" >5</th>\n",
       "                        <td id=\"T_87090650_29a3_11eb_8b42_00d8610889aerow5_col0\" class=\"data row5 col0\" >0.9763</td>\n",
       "                        <td id=\"T_87090650_29a3_11eb_8b42_00d8610889aerow5_col1\" class=\"data row5 col1\" >0.0000</td>\n",
       "                        <td id=\"T_87090650_29a3_11eb_8b42_00d8610889aerow5_col2\" class=\"data row5 col2\" >0.8939</td>\n",
       "                        <td id=\"T_87090650_29a3_11eb_8b42_00d8610889aerow5_col3\" class=\"data row5 col3\" >0.9748</td>\n",
       "                        <td id=\"T_87090650_29a3_11eb_8b42_00d8610889aerow5_col4\" class=\"data row5 col4\" >0.9750</td>\n",
       "                        <td id=\"T_87090650_29a3_11eb_8b42_00d8610889aerow5_col5\" class=\"data row5 col5\" >0.9722</td>\n",
       "                        <td id=\"T_87090650_29a3_11eb_8b42_00d8610889aerow5_col6\" class=\"data row5 col6\" >0.9723</td>\n",
       "            </tr>\n",
       "            <tr>\n",
       "                        <th id=\"T_87090650_29a3_11eb_8b42_00d8610889aelevel0_row6\" class=\"row_heading level0 row6\" >6</th>\n",
       "                        <td id=\"T_87090650_29a3_11eb_8b42_00d8610889aerow6_col0\" class=\"data row6 col0\" >0.9644</td>\n",
       "                        <td id=\"T_87090650_29a3_11eb_8b42_00d8610889aerow6_col1\" class=\"data row6 col1\" >0.0000</td>\n",
       "                        <td id=\"T_87090650_29a3_11eb_8b42_00d8610889aerow6_col2\" class=\"data row6 col2\" >0.8330</td>\n",
       "                        <td id=\"T_87090650_29a3_11eb_8b42_00d8610889aerow6_col3\" class=\"data row6 col3\" >0.9633</td>\n",
       "                        <td id=\"T_87090650_29a3_11eb_8b42_00d8610889aerow6_col4\" class=\"data row6 col4\" >0.9624</td>\n",
       "                        <td id=\"T_87090650_29a3_11eb_8b42_00d8610889aerow6_col5\" class=\"data row6 col5\" >0.9583</td>\n",
       "                        <td id=\"T_87090650_29a3_11eb_8b42_00d8610889aerow6_col6\" class=\"data row6 col6\" >0.9584</td>\n",
       "            </tr>\n",
       "            <tr>\n",
       "                        <th id=\"T_87090650_29a3_11eb_8b42_00d8610889aelevel0_row7\" class=\"row_heading level0 row7\" >7</th>\n",
       "                        <td id=\"T_87090650_29a3_11eb_8b42_00d8610889aerow7_col0\" class=\"data row7 col0\" >0.9703</td>\n",
       "                        <td id=\"T_87090650_29a3_11eb_8b42_00d8610889aerow7_col1\" class=\"data row7 col1\" >0.0000</td>\n",
       "                        <td id=\"T_87090650_29a3_11eb_8b42_00d8610889aerow7_col2\" class=\"data row7 col2\" >0.8477</td>\n",
       "                        <td id=\"T_87090650_29a3_11eb_8b42_00d8610889aerow7_col3\" class=\"data row7 col3\" >0.9696</td>\n",
       "                        <td id=\"T_87090650_29a3_11eb_8b42_00d8610889aerow7_col4\" class=\"data row7 col4\" >0.9695</td>\n",
       "                        <td id=\"T_87090650_29a3_11eb_8b42_00d8610889aerow7_col5\" class=\"data row7 col5\" >0.9653</td>\n",
       "                        <td id=\"T_87090650_29a3_11eb_8b42_00d8610889aerow7_col6\" class=\"data row7 col6\" >0.9653</td>\n",
       "            </tr>\n",
       "            <tr>\n",
       "                        <th id=\"T_87090650_29a3_11eb_8b42_00d8610889aelevel0_row8\" class=\"row_heading level0 row8\" >8</th>\n",
       "                        <td id=\"T_87090650_29a3_11eb_8b42_00d8610889aerow8_col0\" class=\"data row8 col0\" >0.9743</td>\n",
       "                        <td id=\"T_87090650_29a3_11eb_8b42_00d8610889aerow8_col1\" class=\"data row8 col1\" >0.0000</td>\n",
       "                        <td id=\"T_87090650_29a3_11eb_8b42_00d8610889aerow8_col2\" class=\"data row8 col2\" >0.8753</td>\n",
       "                        <td id=\"T_87090650_29a3_11eb_8b42_00d8610889aerow8_col3\" class=\"data row8 col3\" >0.9744</td>\n",
       "                        <td id=\"T_87090650_29a3_11eb_8b42_00d8610889aerow8_col4\" class=\"data row8 col4\" >0.9735</td>\n",
       "                        <td id=\"T_87090650_29a3_11eb_8b42_00d8610889aerow8_col5\" class=\"data row8 col5\" >0.9699</td>\n",
       "                        <td id=\"T_87090650_29a3_11eb_8b42_00d8610889aerow8_col6\" class=\"data row8 col6\" >0.9699</td>\n",
       "            </tr>\n",
       "            <tr>\n",
       "                        <th id=\"T_87090650_29a3_11eb_8b42_00d8610889aelevel0_row9\" class=\"row_heading level0 row9\" >9</th>\n",
       "                        <td id=\"T_87090650_29a3_11eb_8b42_00d8610889aerow9_col0\" class=\"data row9 col0\" >0.9792</td>\n",
       "                        <td id=\"T_87090650_29a3_11eb_8b42_00d8610889aerow9_col1\" class=\"data row9 col1\" >0.0000</td>\n",
       "                        <td id=\"T_87090650_29a3_11eb_8b42_00d8610889aerow9_col2\" class=\"data row9 col2\" >0.8981</td>\n",
       "                        <td id=\"T_87090650_29a3_11eb_8b42_00d8610889aerow9_col3\" class=\"data row9 col3\" >0.9786</td>\n",
       "                        <td id=\"T_87090650_29a3_11eb_8b42_00d8610889aerow9_col4\" class=\"data row9 col4\" >0.9782</td>\n",
       "                        <td id=\"T_87090650_29a3_11eb_8b42_00d8610889aerow9_col5\" class=\"data row9 col5\" >0.9757</td>\n",
       "                        <td id=\"T_87090650_29a3_11eb_8b42_00d8610889aerow9_col6\" class=\"data row9 col6\" >0.9757</td>\n",
       "            </tr>\n",
       "            <tr>\n",
       "                        <th id=\"T_87090650_29a3_11eb_8b42_00d8610889aelevel0_row10\" class=\"row_heading level0 row10\" >Mean</th>\n",
       "                        <td id=\"T_87090650_29a3_11eb_8b42_00d8610889aerow10_col0\" class=\"data row10 col0\" >0.9723</td>\n",
       "                        <td id=\"T_87090650_29a3_11eb_8b42_00d8610889aerow10_col1\" class=\"data row10 col1\" >0.0000</td>\n",
       "                        <td id=\"T_87090650_29a3_11eb_8b42_00d8610889aerow10_col2\" class=\"data row10 col2\" >0.8711</td>\n",
       "                        <td id=\"T_87090650_29a3_11eb_8b42_00d8610889aerow10_col3\" class=\"data row10 col3\" >0.9718</td>\n",
       "                        <td id=\"T_87090650_29a3_11eb_8b42_00d8610889aerow10_col4\" class=\"data row10 col4\" >0.9711</td>\n",
       "                        <td id=\"T_87090650_29a3_11eb_8b42_00d8610889aerow10_col5\" class=\"data row10 col5\" >0.9676</td>\n",
       "                        <td id=\"T_87090650_29a3_11eb_8b42_00d8610889aerow10_col6\" class=\"data row10 col6\" >0.9676</td>\n",
       "            </tr>\n",
       "            <tr>\n",
       "                        <th id=\"T_87090650_29a3_11eb_8b42_00d8610889aelevel0_row11\" class=\"row_heading level0 row11\" >SD</th>\n",
       "                        <td id=\"T_87090650_29a3_11eb_8b42_00d8610889aerow11_col0\" class=\"data row11 col0\" >0.0040</td>\n",
       "                        <td id=\"T_87090650_29a3_11eb_8b42_00d8610889aerow11_col1\" class=\"data row11 col1\" >0.0000</td>\n",
       "                        <td id=\"T_87090650_29a3_11eb_8b42_00d8610889aerow11_col2\" class=\"data row11 col2\" >0.0248</td>\n",
       "                        <td id=\"T_87090650_29a3_11eb_8b42_00d8610889aerow11_col3\" class=\"data row11 col3\" >0.0039</td>\n",
       "                        <td id=\"T_87090650_29a3_11eb_8b42_00d8610889aerow11_col4\" class=\"data row11 col4\" >0.0041</td>\n",
       "                        <td id=\"T_87090650_29a3_11eb_8b42_00d8610889aerow11_col5\" class=\"data row11 col5\" >0.0047</td>\n",
       "                        <td id=\"T_87090650_29a3_11eb_8b42_00d8610889aerow11_col6\" class=\"data row11 col6\" >0.0047</td>\n",
       "            </tr>\n",
       "    </tbody></table>"
      ],
      "text/plain": [
       "<pandas.io.formats.style.Styler at 0x274bacbc3a0>"
      ]
     },
     "metadata": {},
     "output_type": "display_data"
    }
   ],
   "source": [
    "setup(data=data,\n",
    "      target=target_label,\n",
    "      silent=True)\n",
    "model=create_model(learning_model)"
   ]
  },
  {
   "cell_type": "markdown",
   "metadata": {},
   "source": [
    "### Copy and modify Unseen Data and make Validation Test"
   ]
  },
  {
   "cell_type": "code",
   "execution_count": 38,
   "metadata": {},
   "outputs": [],
   "source": [
    "unseen_data = unseen_data_original.copy()\n",
    "unseen_data = unseen_data.drop(common_features, axis=1)"
   ]
  },
  {
   "cell_type": "code",
   "execution_count": 39,
   "metadata": {},
   "outputs": [
    {
     "name": "stdout",
     "output_type": "stream",
     "text": [
      "prediction took: 0.765625\n"
     ]
    }
   ],
   "source": [
    "predicted = timed_prediction(unseen_data,model)"
   ]
  },
  {
   "cell_type": "code",
   "execution_count": 40,
   "metadata": {
    "scrolled": true
   },
   "outputs": [
    {
     "name": "stdout",
     "output_type": "stream",
     "text": [
      "Number of error: 154 from 6189 test samples \n",
      "Which is 2.4882856681208594% of error.\n"
     ]
    }
   ],
   "source": [
    "compare_prediction_with_answers(predicted,answers)"
   ]
  },
  {
   "cell_type": "markdown",
   "metadata": {},
   "source": [
    "# Remove Statistics Features Group"
   ]
  },
  {
   "cell_type": "code",
   "execution_count": 41,
   "metadata": {},
   "outputs": [],
   "source": [
    "data = original_data.copy()\n",
    "data = data.drop(stat_features, axis=1)"
   ]
  },
  {
   "cell_type": "markdown",
   "metadata": {},
   "source": [
    "### Setup Data and Build Model\n",
    "The output of the function is a table showing averaged score of all models across the folds. By default, the fold is set to 10. "
   ]
  },
  {
   "cell_type": "code",
   "execution_count": 42,
   "metadata": {
    "scrolled": true,
    "tags": []
   },
   "outputs": [
    {
     "data": {
      "text/html": [
       "<style  type=\"text/css\" >\n",
       "#T_89c04ae8_29a3_11eb_bb4d_00d8610889aerow10_col0,#T_89c04ae8_29a3_11eb_bb4d_00d8610889aerow10_col1,#T_89c04ae8_29a3_11eb_bb4d_00d8610889aerow10_col2,#T_89c04ae8_29a3_11eb_bb4d_00d8610889aerow10_col3,#T_89c04ae8_29a3_11eb_bb4d_00d8610889aerow10_col4,#T_89c04ae8_29a3_11eb_bb4d_00d8610889aerow10_col5,#T_89c04ae8_29a3_11eb_bb4d_00d8610889aerow10_col6{\n",
       "            background:  yellow;\n",
       "        }</style><table id=\"T_89c04ae8_29a3_11eb_bb4d_00d8610889ae\" ><thead>    <tr>        <th class=\"blank level0\" ></th>        <th class=\"col_heading level0 col0\" >Accuracy</th>        <th class=\"col_heading level0 col1\" >AUC</th>        <th class=\"col_heading level0 col2\" >Recall</th>        <th class=\"col_heading level0 col3\" >Prec.</th>        <th class=\"col_heading level0 col4\" >F1</th>        <th class=\"col_heading level0 col5\" >Kappa</th>        <th class=\"col_heading level0 col6\" >MCC</th>    </tr></thead><tbody>\n",
       "                <tr>\n",
       "                        <th id=\"T_89c04ae8_29a3_11eb_bb4d_00d8610889aelevel0_row0\" class=\"row_heading level0 row0\" >0</th>\n",
       "                        <td id=\"T_89c04ae8_29a3_11eb_bb4d_00d8610889aerow0_col0\" class=\"data row0 col0\" >0.9664</td>\n",
       "                        <td id=\"T_89c04ae8_29a3_11eb_bb4d_00d8610889aerow0_col1\" class=\"data row0 col1\" >0.0000</td>\n",
       "                        <td id=\"T_89c04ae8_29a3_11eb_bb4d_00d8610889aerow0_col2\" class=\"data row0 col2\" >0.8633</td>\n",
       "                        <td id=\"T_89c04ae8_29a3_11eb_bb4d_00d8610889aerow0_col3\" class=\"data row0 col3\" >0.9664</td>\n",
       "                        <td id=\"T_89c04ae8_29a3_11eb_bb4d_00d8610889aerow0_col4\" class=\"data row0 col4\" >0.9648</td>\n",
       "                        <td id=\"T_89c04ae8_29a3_11eb_bb4d_00d8610889aerow0_col5\" class=\"data row0 col5\" >0.9606</td>\n",
       "                        <td id=\"T_89c04ae8_29a3_11eb_bb4d_00d8610889aerow0_col6\" class=\"data row0 col6\" >0.9607</td>\n",
       "            </tr>\n",
       "            <tr>\n",
       "                        <th id=\"T_89c04ae8_29a3_11eb_bb4d_00d8610889aelevel0_row1\" class=\"row_heading level0 row1\" >1</th>\n",
       "                        <td id=\"T_89c04ae8_29a3_11eb_bb4d_00d8610889aerow1_col0\" class=\"data row1 col0\" >0.9743</td>\n",
       "                        <td id=\"T_89c04ae8_29a3_11eb_bb4d_00d8610889aerow1_col1\" class=\"data row1 col1\" >0.0000</td>\n",
       "                        <td id=\"T_89c04ae8_29a3_11eb_bb4d_00d8610889aerow1_col2\" class=\"data row1 col2\" >0.9355</td>\n",
       "                        <td id=\"T_89c04ae8_29a3_11eb_bb4d_00d8610889aerow1_col3\" class=\"data row1 col3\" >0.9750</td>\n",
       "                        <td id=\"T_89c04ae8_29a3_11eb_bb4d_00d8610889aerow1_col4\" class=\"data row1 col4\" >0.9740</td>\n",
       "                        <td id=\"T_89c04ae8_29a3_11eb_bb4d_00d8610889aerow1_col5\" class=\"data row1 col5\" >0.9699</td>\n",
       "                        <td id=\"T_89c04ae8_29a3_11eb_bb4d_00d8610889aerow1_col6\" class=\"data row1 col6\" >0.9699</td>\n",
       "            </tr>\n",
       "            <tr>\n",
       "                        <th id=\"T_89c04ae8_29a3_11eb_bb4d_00d8610889aelevel0_row2\" class=\"row_heading level0 row2\" >2</th>\n",
       "                        <td id=\"T_89c04ae8_29a3_11eb_bb4d_00d8610889aerow2_col0\" class=\"data row2 col0\" >0.9693</td>\n",
       "                        <td id=\"T_89c04ae8_29a3_11eb_bb4d_00d8610889aerow2_col1\" class=\"data row2 col1\" >0.0000</td>\n",
       "                        <td id=\"T_89c04ae8_29a3_11eb_bb4d_00d8610889aerow2_col2\" class=\"data row2 col2\" >0.8484</td>\n",
       "                        <td id=\"T_89c04ae8_29a3_11eb_bb4d_00d8610889aerow2_col3\" class=\"data row2 col3\" >0.9689</td>\n",
       "                        <td id=\"T_89c04ae8_29a3_11eb_bb4d_00d8610889aerow2_col4\" class=\"data row2 col4\" >0.9679</td>\n",
       "                        <td id=\"T_89c04ae8_29a3_11eb_bb4d_00d8610889aerow2_col5\" class=\"data row2 col5\" >0.9641</td>\n",
       "                        <td id=\"T_89c04ae8_29a3_11eb_bb4d_00d8610889aerow2_col6\" class=\"data row2 col6\" >0.9642</td>\n",
       "            </tr>\n",
       "            <tr>\n",
       "                        <th id=\"T_89c04ae8_29a3_11eb_bb4d_00d8610889aelevel0_row3\" class=\"row_heading level0 row3\" >3</th>\n",
       "                        <td id=\"T_89c04ae8_29a3_11eb_bb4d_00d8610889aerow3_col0\" class=\"data row3 col0\" >0.9733</td>\n",
       "                        <td id=\"T_89c04ae8_29a3_11eb_bb4d_00d8610889aerow3_col1\" class=\"data row3 col1\" >0.0000</td>\n",
       "                        <td id=\"T_89c04ae8_29a3_11eb_bb4d_00d8610889aerow3_col2\" class=\"data row3 col2\" >0.8731</td>\n",
       "                        <td id=\"T_89c04ae8_29a3_11eb_bb4d_00d8610889aerow3_col3\" class=\"data row3 col3\" >0.9718</td>\n",
       "                        <td id=\"T_89c04ae8_29a3_11eb_bb4d_00d8610889aerow3_col4\" class=\"data row3 col4\" >0.9719</td>\n",
       "                        <td id=\"T_89c04ae8_29a3_11eb_bb4d_00d8610889aerow3_col5\" class=\"data row3 col5\" >0.9687</td>\n",
       "                        <td id=\"T_89c04ae8_29a3_11eb_bb4d_00d8610889aerow3_col6\" class=\"data row3 col6\" >0.9688</td>\n",
       "            </tr>\n",
       "            <tr>\n",
       "                        <th id=\"T_89c04ae8_29a3_11eb_bb4d_00d8610889aelevel0_row4\" class=\"row_heading level0 row4\" >4</th>\n",
       "                        <td id=\"T_89c04ae8_29a3_11eb_bb4d_00d8610889aerow4_col0\" class=\"data row4 col0\" >0.9703</td>\n",
       "                        <td id=\"T_89c04ae8_29a3_11eb_bb4d_00d8610889aerow4_col1\" class=\"data row4 col1\" >0.0000</td>\n",
       "                        <td id=\"T_89c04ae8_29a3_11eb_bb4d_00d8610889aerow4_col2\" class=\"data row4 col2\" >0.8199</td>\n",
       "                        <td id=\"T_89c04ae8_29a3_11eb_bb4d_00d8610889aerow4_col3\" class=\"data row4 col3\" >0.9704</td>\n",
       "                        <td id=\"T_89c04ae8_29a3_11eb_bb4d_00d8610889aerow4_col4\" class=\"data row4 col4\" >0.9696</td>\n",
       "                        <td id=\"T_89c04ae8_29a3_11eb_bb4d_00d8610889aerow4_col5\" class=\"data row4 col5\" >0.9653</td>\n",
       "                        <td id=\"T_89c04ae8_29a3_11eb_bb4d_00d8610889aerow4_col6\" class=\"data row4 col6\" >0.9653</td>\n",
       "            </tr>\n",
       "            <tr>\n",
       "                        <th id=\"T_89c04ae8_29a3_11eb_bb4d_00d8610889aelevel0_row5\" class=\"row_heading level0 row5\" >5</th>\n",
       "                        <td id=\"T_89c04ae8_29a3_11eb_bb4d_00d8610889aerow5_col0\" class=\"data row5 col0\" >0.9664</td>\n",
       "                        <td id=\"T_89c04ae8_29a3_11eb_bb4d_00d8610889aerow5_col1\" class=\"data row5 col1\" >0.0000</td>\n",
       "                        <td id=\"T_89c04ae8_29a3_11eb_bb4d_00d8610889aerow5_col2\" class=\"data row5 col2\" >0.8586</td>\n",
       "                        <td id=\"T_89c04ae8_29a3_11eb_bb4d_00d8610889aerow5_col3\" class=\"data row5 col3\" >0.9666</td>\n",
       "                        <td id=\"T_89c04ae8_29a3_11eb_bb4d_00d8610889aerow5_col4\" class=\"data row5 col4\" >0.9650</td>\n",
       "                        <td id=\"T_89c04ae8_29a3_11eb_bb4d_00d8610889aerow5_col5\" class=\"data row5 col5\" >0.9607</td>\n",
       "                        <td id=\"T_89c04ae8_29a3_11eb_bb4d_00d8610889aerow5_col6\" class=\"data row5 col6\" >0.9607</td>\n",
       "            </tr>\n",
       "            <tr>\n",
       "                        <th id=\"T_89c04ae8_29a3_11eb_bb4d_00d8610889aelevel0_row6\" class=\"row_heading level0 row6\" >6</th>\n",
       "                        <td id=\"T_89c04ae8_29a3_11eb_bb4d_00d8610889aerow6_col0\" class=\"data row6 col0\" >0.9802</td>\n",
       "                        <td id=\"T_89c04ae8_29a3_11eb_bb4d_00d8610889aerow6_col1\" class=\"data row6 col1\" >0.0000</td>\n",
       "                        <td id=\"T_89c04ae8_29a3_11eb_bb4d_00d8610889aerow6_col2\" class=\"data row6 col2\" >0.8850</td>\n",
       "                        <td id=\"T_89c04ae8_29a3_11eb_bb4d_00d8610889aerow6_col3\" class=\"data row6 col3\" >0.9791</td>\n",
       "                        <td id=\"T_89c04ae8_29a3_11eb_bb4d_00d8610889aerow6_col4\" class=\"data row6 col4\" >0.9791</td>\n",
       "                        <td id=\"T_89c04ae8_29a3_11eb_bb4d_00d8610889aerow6_col5\" class=\"data row6 col5\" >0.9769</td>\n",
       "                        <td id=\"T_89c04ae8_29a3_11eb_bb4d_00d8610889aerow6_col6\" class=\"data row6 col6\" >0.9769</td>\n",
       "            </tr>\n",
       "            <tr>\n",
       "                        <th id=\"T_89c04ae8_29a3_11eb_bb4d_00d8610889aelevel0_row7\" class=\"row_heading level0 row7\" >7</th>\n",
       "                        <td id=\"T_89c04ae8_29a3_11eb_bb4d_00d8610889aerow7_col0\" class=\"data row7 col0\" >0.9723</td>\n",
       "                        <td id=\"T_89c04ae8_29a3_11eb_bb4d_00d8610889aerow7_col1\" class=\"data row7 col1\" >0.0000</td>\n",
       "                        <td id=\"T_89c04ae8_29a3_11eb_bb4d_00d8610889aerow7_col2\" class=\"data row7 col2\" >0.8954</td>\n",
       "                        <td id=\"T_89c04ae8_29a3_11eb_bb4d_00d8610889aerow7_col3\" class=\"data row7 col3\" >0.9721</td>\n",
       "                        <td id=\"T_89c04ae8_29a3_11eb_bb4d_00d8610889aerow7_col4\" class=\"data row7 col4\" >0.9716</td>\n",
       "                        <td id=\"T_89c04ae8_29a3_11eb_bb4d_00d8610889aerow7_col5\" class=\"data row7 col5\" >0.9676</td>\n",
       "                        <td id=\"T_89c04ae8_29a3_11eb_bb4d_00d8610889aerow7_col6\" class=\"data row7 col6\" >0.9676</td>\n",
       "            </tr>\n",
       "            <tr>\n",
       "                        <th id=\"T_89c04ae8_29a3_11eb_bb4d_00d8610889aelevel0_row8\" class=\"row_heading level0 row8\" >8</th>\n",
       "                        <td id=\"T_89c04ae8_29a3_11eb_bb4d_00d8610889aerow8_col0\" class=\"data row8 col0\" >0.9693</td>\n",
       "                        <td id=\"T_89c04ae8_29a3_11eb_bb4d_00d8610889aerow8_col1\" class=\"data row8 col1\" >0.0000</td>\n",
       "                        <td id=\"T_89c04ae8_29a3_11eb_bb4d_00d8610889aerow8_col2\" class=\"data row8 col2\" >0.9037</td>\n",
       "                        <td id=\"T_89c04ae8_29a3_11eb_bb4d_00d8610889aerow8_col3\" class=\"data row8 col3\" >0.9692</td>\n",
       "                        <td id=\"T_89c04ae8_29a3_11eb_bb4d_00d8610889aerow8_col4\" class=\"data row8 col4\" >0.9688</td>\n",
       "                        <td id=\"T_89c04ae8_29a3_11eb_bb4d_00d8610889aerow8_col5\" class=\"data row8 col5\" >0.9642</td>\n",
       "                        <td id=\"T_89c04ae8_29a3_11eb_bb4d_00d8610889aerow8_col6\" class=\"data row8 col6\" >0.9642</td>\n",
       "            </tr>\n",
       "            <tr>\n",
       "                        <th id=\"T_89c04ae8_29a3_11eb_bb4d_00d8610889aelevel0_row9\" class=\"row_heading level0 row9\" >9</th>\n",
       "                        <td id=\"T_89c04ae8_29a3_11eb_bb4d_00d8610889aerow9_col0\" class=\"data row9 col0\" >0.9842</td>\n",
       "                        <td id=\"T_89c04ae8_29a3_11eb_bb4d_00d8610889aerow9_col1\" class=\"data row9 col1\" >0.0000</td>\n",
       "                        <td id=\"T_89c04ae8_29a3_11eb_bb4d_00d8610889aerow9_col2\" class=\"data row9 col2\" >0.8988</td>\n",
       "                        <td id=\"T_89c04ae8_29a3_11eb_bb4d_00d8610889aerow9_col3\" class=\"data row9 col3\" >0.9825</td>\n",
       "                        <td id=\"T_89c04ae8_29a3_11eb_bb4d_00d8610889aerow9_col4\" class=\"data row9 col4\" >0.9830</td>\n",
       "                        <td id=\"T_89c04ae8_29a3_11eb_bb4d_00d8610889aerow9_col5\" class=\"data row9 col5\" >0.9815</td>\n",
       "                        <td id=\"T_89c04ae8_29a3_11eb_bb4d_00d8610889aerow9_col6\" class=\"data row9 col6\" >0.9815</td>\n",
       "            </tr>\n",
       "            <tr>\n",
       "                        <th id=\"T_89c04ae8_29a3_11eb_bb4d_00d8610889aelevel0_row10\" class=\"row_heading level0 row10\" >Mean</th>\n",
       "                        <td id=\"T_89c04ae8_29a3_11eb_bb4d_00d8610889aerow10_col0\" class=\"data row10 col0\" >0.9726</td>\n",
       "                        <td id=\"T_89c04ae8_29a3_11eb_bb4d_00d8610889aerow10_col1\" class=\"data row10 col1\" >0.0000</td>\n",
       "                        <td id=\"T_89c04ae8_29a3_11eb_bb4d_00d8610889aerow10_col2\" class=\"data row10 col2\" >0.8782</td>\n",
       "                        <td id=\"T_89c04ae8_29a3_11eb_bb4d_00d8610889aerow10_col3\" class=\"data row10 col3\" >0.9722</td>\n",
       "                        <td id=\"T_89c04ae8_29a3_11eb_bb4d_00d8610889aerow10_col4\" class=\"data row10 col4\" >0.9716</td>\n",
       "                        <td id=\"T_89c04ae8_29a3_11eb_bb4d_00d8610889aerow10_col5\" class=\"data row10 col5\" >0.9679</td>\n",
       "                        <td id=\"T_89c04ae8_29a3_11eb_bb4d_00d8610889aerow10_col6\" class=\"data row10 col6\" >0.9680</td>\n",
       "            </tr>\n",
       "            <tr>\n",
       "                        <th id=\"T_89c04ae8_29a3_11eb_bb4d_00d8610889aelevel0_row11\" class=\"row_heading level0 row11\" >SD</th>\n",
       "                        <td id=\"T_89c04ae8_29a3_11eb_bb4d_00d8610889aerow11_col0\" class=\"data row11 col0\" >0.0055</td>\n",
       "                        <td id=\"T_89c04ae8_29a3_11eb_bb4d_00d8610889aerow11_col1\" class=\"data row11 col1\" >0.0000</td>\n",
       "                        <td id=\"T_89c04ae8_29a3_11eb_bb4d_00d8610889aerow11_col2\" class=\"data row11 col2\" >0.0310</td>\n",
       "                        <td id=\"T_89c04ae8_29a3_11eb_bb4d_00d8610889aerow11_col3\" class=\"data row11 col3\" >0.0050</td>\n",
       "                        <td id=\"T_89c04ae8_29a3_11eb_bb4d_00d8610889aerow11_col4\" class=\"data row11 col4\" >0.0055</td>\n",
       "                        <td id=\"T_89c04ae8_29a3_11eb_bb4d_00d8610889aerow11_col5\" class=\"data row11 col5\" >0.0064</td>\n",
       "                        <td id=\"T_89c04ae8_29a3_11eb_bb4d_00d8610889aerow11_col6\" class=\"data row11 col6\" >0.0064</td>\n",
       "            </tr>\n",
       "    </tbody></table>"
      ],
      "text/plain": [
       "<pandas.io.formats.style.Styler at 0x274bab9e7c0>"
      ]
     },
     "metadata": {},
     "output_type": "display_data"
    }
   ],
   "source": [
    "setup(data=data,\n",
    "      target=target_label,\n",
    "      silent=True)\n",
    "model=create_model(learning_model)"
   ]
  },
  {
   "cell_type": "markdown",
   "metadata": {},
   "source": [
    "### Copy and modify Unseen Data and make Validation Test"
   ]
  },
  {
   "cell_type": "code",
   "execution_count": 43,
   "metadata": {},
   "outputs": [],
   "source": [
    "unseen_data = unseen_data_original.copy()\n",
    "unseen_data = unseen_data.drop(stat_features, axis=1)"
   ]
  },
  {
   "cell_type": "code",
   "execution_count": 44,
   "metadata": {},
   "outputs": [
    {
     "name": "stdout",
     "output_type": "stream",
     "text": [
      "prediction took: 0.5625\n"
     ]
    }
   ],
   "source": [
    "predicted = timed_prediction(unseen_data,model)"
   ]
  },
  {
   "cell_type": "code",
   "execution_count": 45,
   "metadata": {
    "scrolled": true
   },
   "outputs": [
    {
     "name": "stdout",
     "output_type": "stream",
     "text": [
      "Number of error: 164 from 6189 test samples \n",
      "Which is 2.649862659557279% of error.\n"
     ]
    }
   ],
   "source": [
    "compare_prediction_with_answers(predicted,answers)"
   ]
  },
  {
   "cell_type": "markdown",
   "metadata": {},
   "source": [
    "# Remove Time Features Group"
   ]
  },
  {
   "cell_type": "code",
   "execution_count": 46,
   "metadata": {},
   "outputs": [],
   "source": [
    "data = original_data.copy()\n",
    "data = data.drop(time_features, axis=1)"
   ]
  },
  {
   "cell_type": "markdown",
   "metadata": {},
   "source": [
    "### Setup Data and Build Model\n",
    "The output of the function is a table showing averaged score of all models across the folds. By default, the fold is set to 10. "
   ]
  },
  {
   "cell_type": "code",
   "execution_count": 47,
   "metadata": {
    "scrolled": true,
    "tags": []
   },
   "outputs": [
    {
     "data": {
      "text/html": [
       "<style  type=\"text/css\" >\n",
       "#T_8c920ffa_29a3_11eb_ae43_00d8610889aerow10_col0,#T_8c920ffa_29a3_11eb_ae43_00d8610889aerow10_col1,#T_8c920ffa_29a3_11eb_ae43_00d8610889aerow10_col2,#T_8c920ffa_29a3_11eb_ae43_00d8610889aerow10_col3,#T_8c920ffa_29a3_11eb_ae43_00d8610889aerow10_col4,#T_8c920ffa_29a3_11eb_ae43_00d8610889aerow10_col5,#T_8c920ffa_29a3_11eb_ae43_00d8610889aerow10_col6{\n",
       "            background:  yellow;\n",
       "        }</style><table id=\"T_8c920ffa_29a3_11eb_ae43_00d8610889ae\" ><thead>    <tr>        <th class=\"blank level0\" ></th>        <th class=\"col_heading level0 col0\" >Accuracy</th>        <th class=\"col_heading level0 col1\" >AUC</th>        <th class=\"col_heading level0 col2\" >Recall</th>        <th class=\"col_heading level0 col3\" >Prec.</th>        <th class=\"col_heading level0 col4\" >F1</th>        <th class=\"col_heading level0 col5\" >Kappa</th>        <th class=\"col_heading level0 col6\" >MCC</th>    </tr></thead><tbody>\n",
       "                <tr>\n",
       "                        <th id=\"T_8c920ffa_29a3_11eb_ae43_00d8610889aelevel0_row0\" class=\"row_heading level0 row0\" >0</th>\n",
       "                        <td id=\"T_8c920ffa_29a3_11eb_ae43_00d8610889aerow0_col0\" class=\"data row0 col0\" >0.9753</td>\n",
       "                        <td id=\"T_8c920ffa_29a3_11eb_ae43_00d8610889aerow0_col1\" class=\"data row0 col1\" >0.0000</td>\n",
       "                        <td id=\"T_8c920ffa_29a3_11eb_ae43_00d8610889aerow0_col2\" class=\"data row0 col2\" >0.8695</td>\n",
       "                        <td id=\"T_8c920ffa_29a3_11eb_ae43_00d8610889aerow0_col3\" class=\"data row0 col3\" >0.9751</td>\n",
       "                        <td id=\"T_8c920ffa_29a3_11eb_ae43_00d8610889aerow0_col4\" class=\"data row0 col4\" >0.9742</td>\n",
       "                        <td id=\"T_8c920ffa_29a3_11eb_ae43_00d8610889aerow0_col5\" class=\"data row0 col5\" >0.9711</td>\n",
       "                        <td id=\"T_8c920ffa_29a3_11eb_ae43_00d8610889aerow0_col6\" class=\"data row0 col6\" >0.9711</td>\n",
       "            </tr>\n",
       "            <tr>\n",
       "                        <th id=\"T_8c920ffa_29a3_11eb_ae43_00d8610889aelevel0_row1\" class=\"row_heading level0 row1\" >1</th>\n",
       "                        <td id=\"T_8c920ffa_29a3_11eb_ae43_00d8610889aerow1_col0\" class=\"data row1 col0\" >0.9782</td>\n",
       "                        <td id=\"T_8c920ffa_29a3_11eb_ae43_00d8610889aerow1_col1\" class=\"data row1 col1\" >0.0000</td>\n",
       "                        <td id=\"T_8c920ffa_29a3_11eb_ae43_00d8610889aerow1_col2\" class=\"data row1 col2\" >0.8932</td>\n",
       "                        <td id=\"T_8c920ffa_29a3_11eb_ae43_00d8610889aerow1_col3\" class=\"data row1 col3\" >0.9778</td>\n",
       "                        <td id=\"T_8c920ffa_29a3_11eb_ae43_00d8610889aerow1_col4\" class=\"data row1 col4\" >0.9775</td>\n",
       "                        <td id=\"T_8c920ffa_29a3_11eb_ae43_00d8610889aerow1_col5\" class=\"data row1 col5\" >0.9745</td>\n",
       "                        <td id=\"T_8c920ffa_29a3_11eb_ae43_00d8610889aerow1_col6\" class=\"data row1 col6\" >0.9746</td>\n",
       "            </tr>\n",
       "            <tr>\n",
       "                        <th id=\"T_8c920ffa_29a3_11eb_ae43_00d8610889aelevel0_row2\" class=\"row_heading level0 row2\" >2</th>\n",
       "                        <td id=\"T_8c920ffa_29a3_11eb_ae43_00d8610889aerow2_col0\" class=\"data row2 col0\" >0.9812</td>\n",
       "                        <td id=\"T_8c920ffa_29a3_11eb_ae43_00d8610889aerow2_col1\" class=\"data row2 col1\" >0.0000</td>\n",
       "                        <td id=\"T_8c920ffa_29a3_11eb_ae43_00d8610889aerow2_col2\" class=\"data row2 col2\" >0.8957</td>\n",
       "                        <td id=\"T_8c920ffa_29a3_11eb_ae43_00d8610889aerow2_col3\" class=\"data row2 col3\" >0.9796</td>\n",
       "                        <td id=\"T_8c920ffa_29a3_11eb_ae43_00d8610889aerow2_col4\" class=\"data row2 col4\" >0.9801</td>\n",
       "                        <td id=\"T_8c920ffa_29a3_11eb_ae43_00d8610889aerow2_col5\" class=\"data row2 col5\" >0.9780</td>\n",
       "                        <td id=\"T_8c920ffa_29a3_11eb_ae43_00d8610889aerow2_col6\" class=\"data row2 col6\" >0.9780</td>\n",
       "            </tr>\n",
       "            <tr>\n",
       "                        <th id=\"T_8c920ffa_29a3_11eb_ae43_00d8610889aelevel0_row3\" class=\"row_heading level0 row3\" >3</th>\n",
       "                        <td id=\"T_8c920ffa_29a3_11eb_ae43_00d8610889aerow3_col0\" class=\"data row3 col0\" >0.9634</td>\n",
       "                        <td id=\"T_8c920ffa_29a3_11eb_ae43_00d8610889aerow3_col1\" class=\"data row3 col1\" >0.0000</td>\n",
       "                        <td id=\"T_8c920ffa_29a3_11eb_ae43_00d8610889aerow3_col2\" class=\"data row3 col2\" >0.8747</td>\n",
       "                        <td id=\"T_8c920ffa_29a3_11eb_ae43_00d8610889aerow3_col3\" class=\"data row3 col3\" >0.9647</td>\n",
       "                        <td id=\"T_8c920ffa_29a3_11eb_ae43_00d8610889aerow3_col4\" class=\"data row3 col4\" >0.9629</td>\n",
       "                        <td id=\"T_8c920ffa_29a3_11eb_ae43_00d8610889aerow3_col5\" class=\"data row3 col5\" >0.9572</td>\n",
       "                        <td id=\"T_8c920ffa_29a3_11eb_ae43_00d8610889aerow3_col6\" class=\"data row3 col6\" >0.9572</td>\n",
       "            </tr>\n",
       "            <tr>\n",
       "                        <th id=\"T_8c920ffa_29a3_11eb_ae43_00d8610889aelevel0_row4\" class=\"row_heading level0 row4\" >4</th>\n",
       "                        <td id=\"T_8c920ffa_29a3_11eb_ae43_00d8610889aerow4_col0\" class=\"data row4 col0\" >0.9802</td>\n",
       "                        <td id=\"T_8c920ffa_29a3_11eb_ae43_00d8610889aerow4_col1\" class=\"data row4 col1\" >0.0000</td>\n",
       "                        <td id=\"T_8c920ffa_29a3_11eb_ae43_00d8610889aerow4_col2\" class=\"data row4 col2\" >0.9178</td>\n",
       "                        <td id=\"T_8c920ffa_29a3_11eb_ae43_00d8610889aerow4_col3\" class=\"data row4 col3\" >0.9797</td>\n",
       "                        <td id=\"T_8c920ffa_29a3_11eb_ae43_00d8610889aerow4_col4\" class=\"data row4 col4\" >0.9794</td>\n",
       "                        <td id=\"T_8c920ffa_29a3_11eb_ae43_00d8610889aerow4_col5\" class=\"data row4 col5\" >0.9769</td>\n",
       "                        <td id=\"T_8c920ffa_29a3_11eb_ae43_00d8610889aerow4_col6\" class=\"data row4 col6\" >0.9769</td>\n",
       "            </tr>\n",
       "            <tr>\n",
       "                        <th id=\"T_8c920ffa_29a3_11eb_ae43_00d8610889aelevel0_row5\" class=\"row_heading level0 row5\" >5</th>\n",
       "                        <td id=\"T_8c920ffa_29a3_11eb_ae43_00d8610889aerow5_col0\" class=\"data row5 col0\" >0.9753</td>\n",
       "                        <td id=\"T_8c920ffa_29a3_11eb_ae43_00d8610889aerow5_col1\" class=\"data row5 col1\" >0.0000</td>\n",
       "                        <td id=\"T_8c920ffa_29a3_11eb_ae43_00d8610889aerow5_col2\" class=\"data row5 col2\" >0.8676</td>\n",
       "                        <td id=\"T_8c920ffa_29a3_11eb_ae43_00d8610889aerow5_col3\" class=\"data row5 col3\" >0.9747</td>\n",
       "                        <td id=\"T_8c920ffa_29a3_11eb_ae43_00d8610889aerow5_col4\" class=\"data row5 col4\" >0.9741</td>\n",
       "                        <td id=\"T_8c920ffa_29a3_11eb_ae43_00d8610889aerow5_col5\" class=\"data row5 col5\" >0.9710</td>\n",
       "                        <td id=\"T_8c920ffa_29a3_11eb_ae43_00d8610889aerow5_col6\" class=\"data row5 col6\" >0.9711</td>\n",
       "            </tr>\n",
       "            <tr>\n",
       "                        <th id=\"T_8c920ffa_29a3_11eb_ae43_00d8610889aelevel0_row6\" class=\"row_heading level0 row6\" >6</th>\n",
       "                        <td id=\"T_8c920ffa_29a3_11eb_ae43_00d8610889aerow6_col0\" class=\"data row6 col0\" >0.9753</td>\n",
       "                        <td id=\"T_8c920ffa_29a3_11eb_ae43_00d8610889aerow6_col1\" class=\"data row6 col1\" >0.0000</td>\n",
       "                        <td id=\"T_8c920ffa_29a3_11eb_ae43_00d8610889aerow6_col2\" class=\"data row6 col2\" >0.8778</td>\n",
       "                        <td id=\"T_8c920ffa_29a3_11eb_ae43_00d8610889aerow6_col3\" class=\"data row6 col3\" >0.9746</td>\n",
       "                        <td id=\"T_8c920ffa_29a3_11eb_ae43_00d8610889aerow6_col4\" class=\"data row6 col4\" >0.9742</td>\n",
       "                        <td id=\"T_8c920ffa_29a3_11eb_ae43_00d8610889aerow6_col5\" class=\"data row6 col5\" >0.9711</td>\n",
       "                        <td id=\"T_8c920ffa_29a3_11eb_ae43_00d8610889aerow6_col6\" class=\"data row6 col6\" >0.9711</td>\n",
       "            </tr>\n",
       "            <tr>\n",
       "                        <th id=\"T_8c920ffa_29a3_11eb_ae43_00d8610889aelevel0_row7\" class=\"row_heading level0 row7\" >7</th>\n",
       "                        <td id=\"T_8c920ffa_29a3_11eb_ae43_00d8610889aerow7_col0\" class=\"data row7 col0\" >0.9743</td>\n",
       "                        <td id=\"T_8c920ffa_29a3_11eb_ae43_00d8610889aerow7_col1\" class=\"data row7 col1\" >0.0000</td>\n",
       "                        <td id=\"T_8c920ffa_29a3_11eb_ae43_00d8610889aerow7_col2\" class=\"data row7 col2\" >0.9329</td>\n",
       "                        <td id=\"T_8c920ffa_29a3_11eb_ae43_00d8610889aerow7_col3\" class=\"data row7 col3\" >0.9754</td>\n",
       "                        <td id=\"T_8c920ffa_29a3_11eb_ae43_00d8610889aerow7_col4\" class=\"data row7 col4\" >0.9742</td>\n",
       "                        <td id=\"T_8c920ffa_29a3_11eb_ae43_00d8610889aerow7_col5\" class=\"data row7 col5\" >0.9699</td>\n",
       "                        <td id=\"T_8c920ffa_29a3_11eb_ae43_00d8610889aerow7_col6\" class=\"data row7 col6\" >0.9699</td>\n",
       "            </tr>\n",
       "            <tr>\n",
       "                        <th id=\"T_8c920ffa_29a3_11eb_ae43_00d8610889aelevel0_row8\" class=\"row_heading level0 row8\" >8</th>\n",
       "                        <td id=\"T_8c920ffa_29a3_11eb_ae43_00d8610889aerow8_col0\" class=\"data row8 col0\" >0.9624</td>\n",
       "                        <td id=\"T_8c920ffa_29a3_11eb_ae43_00d8610889aerow8_col1\" class=\"data row8 col1\" >0.0000</td>\n",
       "                        <td id=\"T_8c920ffa_29a3_11eb_ae43_00d8610889aerow8_col2\" class=\"data row8 col2\" >0.7871</td>\n",
       "                        <td id=\"T_8c920ffa_29a3_11eb_ae43_00d8610889aerow8_col3\" class=\"data row8 col3\" >0.9613</td>\n",
       "                        <td id=\"T_8c920ffa_29a3_11eb_ae43_00d8610889aerow8_col4\" class=\"data row8 col4\" >0.9593</td>\n",
       "                        <td id=\"T_8c920ffa_29a3_11eb_ae43_00d8610889aerow8_col5\" class=\"data row8 col5\" >0.9560</td>\n",
       "                        <td id=\"T_8c920ffa_29a3_11eb_ae43_00d8610889aerow8_col6\" class=\"data row8 col6\" >0.9561</td>\n",
       "            </tr>\n",
       "            <tr>\n",
       "                        <th id=\"T_8c920ffa_29a3_11eb_ae43_00d8610889aelevel0_row9\" class=\"row_heading level0 row9\" >9</th>\n",
       "                        <td id=\"T_8c920ffa_29a3_11eb_ae43_00d8610889aerow9_col0\" class=\"data row9 col0\" >0.9703</td>\n",
       "                        <td id=\"T_8c920ffa_29a3_11eb_ae43_00d8610889aerow9_col1\" class=\"data row9 col1\" >0.0000</td>\n",
       "                        <td id=\"T_8c920ffa_29a3_11eb_ae43_00d8610889aerow9_col2\" class=\"data row9 col2\" >0.8924</td>\n",
       "                        <td id=\"T_8c920ffa_29a3_11eb_ae43_00d8610889aerow9_col3\" class=\"data row9 col3\" >0.9715</td>\n",
       "                        <td id=\"T_8c920ffa_29a3_11eb_ae43_00d8610889aerow9_col4\" class=\"data row9 col4\" >0.9705</td>\n",
       "                        <td id=\"T_8c920ffa_29a3_11eb_ae43_00d8610889aerow9_col5\" class=\"data row9 col5\" >0.9652</td>\n",
       "                        <td id=\"T_8c920ffa_29a3_11eb_ae43_00d8610889aerow9_col6\" class=\"data row9 col6\" >0.9653</td>\n",
       "            </tr>\n",
       "            <tr>\n",
       "                        <th id=\"T_8c920ffa_29a3_11eb_ae43_00d8610889aelevel0_row10\" class=\"row_heading level0 row10\" >Mean</th>\n",
       "                        <td id=\"T_8c920ffa_29a3_11eb_ae43_00d8610889aerow10_col0\" class=\"data row10 col0\" >0.9736</td>\n",
       "                        <td id=\"T_8c920ffa_29a3_11eb_ae43_00d8610889aerow10_col1\" class=\"data row10 col1\" >0.0000</td>\n",
       "                        <td id=\"T_8c920ffa_29a3_11eb_ae43_00d8610889aerow10_col2\" class=\"data row10 col2\" >0.8809</td>\n",
       "                        <td id=\"T_8c920ffa_29a3_11eb_ae43_00d8610889aerow10_col3\" class=\"data row10 col3\" >0.9734</td>\n",
       "                        <td id=\"T_8c920ffa_29a3_11eb_ae43_00d8610889aerow10_col4\" class=\"data row10 col4\" >0.9726</td>\n",
       "                        <td id=\"T_8c920ffa_29a3_11eb_ae43_00d8610889aerow10_col5\" class=\"data row10 col5\" >0.9691</td>\n",
       "                        <td id=\"T_8c920ffa_29a3_11eb_ae43_00d8610889aerow10_col6\" class=\"data row10 col6\" >0.9691</td>\n",
       "            </tr>\n",
       "            <tr>\n",
       "                        <th id=\"T_8c920ffa_29a3_11eb_ae43_00d8610889aelevel0_row11\" class=\"row_heading level0 row11\" >SD</th>\n",
       "                        <td id=\"T_8c920ffa_29a3_11eb_ae43_00d8610889aerow11_col0\" class=\"data row11 col0\" >0.0061</td>\n",
       "                        <td id=\"T_8c920ffa_29a3_11eb_ae43_00d8610889aerow11_col1\" class=\"data row11 col1\" >0.0000</td>\n",
       "                        <td id=\"T_8c920ffa_29a3_11eb_ae43_00d8610889aerow11_col2\" class=\"data row11 col2\" >0.0370</td>\n",
       "                        <td id=\"T_8c920ffa_29a3_11eb_ae43_00d8610889aerow11_col3\" class=\"data row11 col3\" >0.0058</td>\n",
       "                        <td id=\"T_8c920ffa_29a3_11eb_ae43_00d8610889aerow11_col4\" class=\"data row11 col4\" >0.0064</td>\n",
       "                        <td id=\"T_8c920ffa_29a3_11eb_ae43_00d8610889aerow11_col5\" class=\"data row11 col5\" >0.0071</td>\n",
       "                        <td id=\"T_8c920ffa_29a3_11eb_ae43_00d8610889aerow11_col6\" class=\"data row11 col6\" >0.0071</td>\n",
       "            </tr>\n",
       "    </tbody></table>"
      ],
      "text/plain": [
       "<pandas.io.formats.style.Styler at 0x274b710fac0>"
      ]
     },
     "metadata": {},
     "output_type": "display_data"
    }
   ],
   "source": [
    "setup(data=data,\n",
    "      target=target_label,\n",
    "      silent=True)\n",
    "model=create_model(learning_model)"
   ]
  },
  {
   "cell_type": "markdown",
   "metadata": {},
   "source": [
    "### Copy and modify Unseen Data and make Validation Test"
   ]
  },
  {
   "cell_type": "code",
   "execution_count": 48,
   "metadata": {},
   "outputs": [],
   "source": [
    "unseen_data = unseen_data_original.copy()\n",
    "unseen_data = unseen_data.drop(time_features, axis=1)"
   ]
  },
  {
   "cell_type": "code",
   "execution_count": 49,
   "metadata": {},
   "outputs": [
    {
     "name": "stdout",
     "output_type": "stream",
     "text": [
      "prediction took: 0.6875\n"
     ]
    }
   ],
   "source": [
    "predicted = timed_prediction(unseen_data,model)"
   ]
  },
  {
   "cell_type": "code",
   "execution_count": 50,
   "metadata": {},
   "outputs": [
    {
     "name": "stdout",
     "output_type": "stream",
     "text": [
      "Number of error: 146 from 6189 test samples \n",
      "Which is 2.359024074971724% of error.\n"
     ]
    }
   ],
   "source": [
    "compare_prediction_with_answers(predicted,answers)"
   ]
  },
  {
   "cell_type": "markdown",
   "metadata": {},
   "source": [
    "we can see that Time, Common, Size Groups are fot the lowest effect over the scores when using all the other features."
   ]
  },
  {
   "cell_type": "code",
   "execution_count": null,
   "metadata": {},
   "outputs": [],
   "source": []
  }
 ],
 "metadata": {
  "kernelspec": {
   "display_name": "Python 3.8.3 64-bit ('base': conda)",
   "language": "python",
   "name": "python38364bitbasecondaed19ee87b6844ca4b2207fe8765813ad"
  },
  "language_info": {
   "codemirror_mode": {
    "name": "ipython",
    "version": 3
   },
   "file_extension": ".py",
   "mimetype": "text/x-python",
   "name": "python",
   "nbconvert_exporter": "python",
   "pygments_lexer": "ipython3",
   "version": "3.8.5"
  }
 },
 "nbformat": 4,
 "nbformat_minor": 4
}
