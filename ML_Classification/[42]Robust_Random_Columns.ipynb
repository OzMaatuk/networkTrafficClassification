{
 "cells": [
  {
   "cell_type": "markdown",
   "metadata": {},
   "source": [
    "# Robust Test - Random in Range - columns\n",
    "for each column in the data we will permute the values by setting randomly values in the original values range."
   ]
  },
  {
   "cell_type": "markdown",
   "metadata": {},
   "source": [
    "# Import"
   ]
  },
  {
   "cell_type": "code",
   "execution_count": 1,
   "metadata": {},
   "outputs": [],
   "source": [
    "import pandas as pd\n",
    "import numpy as np\n",
    "from pycaret.classification import *\n",
    "import time\n",
    "#from DB_scripts import rnd_bln_split_CSV as shf"
   ]
  },
  {
   "cell_type": "markdown",
   "metadata": {},
   "source": [
    "# Settings"
   ]
  },
  {
   "cell_type": "code",
   "execution_count": 2,
   "metadata": {},
   "outputs": [],
   "source": [
    "# set constants\n",
    "target_label = 'tuple'\n",
    "learning_model = 'rf' # ['rf','et','lightgbm','xgboost']\n",
    "num_features = ['min_packet_size', 'min_fpkt', 'min_bpkt']\n",
    "file_name = \"new_all_features_\"\n",
    "path = \"../Datasets/\" + target_label + \"_dataset/\""
   ]
  },
  {
   "cell_type": "code",
   "execution_count": 3,
   "metadata": {},
   "outputs": [],
   "source": [
    "# function for making model-prediction over the data set and measure the run time \n",
    "def timed_prediction(in_data,in_model):\n",
    "    t = time.process_time()\n",
    "    predicted = predict_model(in_model, data=in_data)\n",
    "    elapsed_time = time.process_time() - t\n",
    "    print(\"prediction took: \" + str(elapsed_time))\n",
    "    return predicted"
   ]
  },
  {
   "cell_type": "code",
   "execution_count": 4,
   "metadata": {},
   "outputs": [],
   "source": [
    "# compare answers and labeled test\n",
    "def compare_prediction_with_answers(in_predicted, in_answers):\n",
    "    count=0\n",
    "    index = in_predicted.index\n",
    "    number_of_rows = len(index)\n",
    "    errors_arr = []\n",
    "    for i in range(0,number_of_rows):\n",
    "        if str(int(in_answers.iloc[i])) != str(int(in_predicted.iloc[i]['Label'])):\n",
    "            count=count+1\n",
    "            cur_error = str(in_answers[i]) + \"!=\" + str(in_predicted.iloc[i]['Label'])\n",
    "            errors_arr.append(cur_error)\n",
    "#             print(\"error in line \" + str(i) +\n",
    "#                   \" \" + str(in_answers[i]) +\n",
    "#                   \"!=\" + str(in_predicted.iloc[i]['Label']))\n",
    "#     print(\"Errors: \" + str(errors_arr))\n",
    "#     print(\"Number of error: \" + str(count) + \" from \" +\n",
    "#           str(number_of_rows) + \" test samples \\nWhich is \"\n",
    "#           + str(100*count/number_of_rows) + \"% of error.\")\n",
    "    return count"
   ]
  },
  {
   "cell_type": "code",
   "execution_count": 5,
   "metadata": {},
   "outputs": [],
   "source": [
    "# function for checkign the correction of the model-prediction over the data\n",
    "def check_correction(in_predicted):\n",
    "    in_answers=in_predicted['Label']\n",
    "    return compare_prediction_with_answers(in_predicted, in_answers)"
   ]
  },
  {
   "cell_type": "code",
   "execution_count": 6,
   "metadata": {},
   "outputs": [],
   "source": [
    "# activating balanced random data shuffling\n",
    "# shf.split_CSV_randomly_balanced(target_label,file_name)"
   ]
  },
  {
   "cell_type": "code",
   "execution_count": 7,
   "metadata": {},
   "outputs": [],
   "source": [
    "def get_rand_dataframe(in_data):\n",
    "    np.random.seed(1)\n",
    "    row_len = len(in_data)\n",
    "    max_value = 0\n",
    "    value = 0\n",
    "    min_value = in_data.values[0]\n",
    "    for value in in_data:\n",
    "        if value > max_value: max_value = value\n",
    "        if value < min_value: min_value = value\n",
    "#     print ('max_value = ' + str(max_value))\n",
    "#     print ('min_value = ' + str(min_value))\n",
    "    if 'int64' == in_data.dtypes:\n",
    "#         print('data type is ' + str(in_data.dtypes))\n",
    "#         print('values are: ' + str(in_data.unique()))\n",
    "        return pd.DataFrame(np.random.randint(min_value, max_value, size=row_len, dtype=np.int64))\n",
    "    if 'float64' == in_data.dtypes:\n",
    "#         print('data type is ' + str(in_data.dtypes))\n",
    "#         print('values are: ' + str(in_data.unique()))\n",
    "        return pd.DataFrame((max_value - min_value) * np.random.random_sample(row_len) + min_value)"
   ]
  },
  {
   "cell_type": "markdown",
   "metadata": {},
   "source": [
    "# Read Data"
   ]
  },
  {
   "cell_type": "code",
   "execution_count": 8,
   "metadata": {},
   "outputs": [],
   "source": [
    "data = pd.read_csv(path+file_name+target_label+'_train.csv',\n",
    "                      sep='\\t',\n",
    "                      skiprows=[1])"
   ]
  },
  {
   "cell_type": "markdown",
   "metadata": {},
   "source": [
    "# Setup Data and Build Model"
   ]
  },
  {
   "cell_type": "code",
   "execution_count": 9,
   "metadata": {
    "tags": []
   },
   "outputs": [
    {
     "data": {
      "text/html": [
       "<style  type=\"text/css\" >\n",
       "    #T_340e7902_f0ac_11ea_a235_00d8610889aerow10_col0 {\n",
       "            background:  yellow;\n",
       "        }    #T_340e7902_f0ac_11ea_a235_00d8610889aerow10_col1 {\n",
       "            background:  yellow;\n",
       "        }    #T_340e7902_f0ac_11ea_a235_00d8610889aerow10_col2 {\n",
       "            background:  yellow;\n",
       "        }    #T_340e7902_f0ac_11ea_a235_00d8610889aerow10_col3 {\n",
       "            background:  yellow;\n",
       "        }    #T_340e7902_f0ac_11ea_a235_00d8610889aerow10_col4 {\n",
       "            background:  yellow;\n",
       "        }    #T_340e7902_f0ac_11ea_a235_00d8610889aerow10_col5 {\n",
       "            background:  yellow;\n",
       "        }    #T_340e7902_f0ac_11ea_a235_00d8610889aerow10_col6 {\n",
       "            background:  yellow;\n",
       "        }</style><table id=\"T_340e7902_f0ac_11ea_a235_00d8610889ae\" ><thead>    <tr>        <th class=\"blank level0\" ></th>        <th class=\"col_heading level0 col0\" >Accuracy</th>        <th class=\"col_heading level0 col1\" >AUC</th>        <th class=\"col_heading level0 col2\" >Recall</th>        <th class=\"col_heading level0 col3\" >Prec.</th>        <th class=\"col_heading level0 col4\" >F1</th>        <th class=\"col_heading level0 col5\" >Kappa</th>        <th class=\"col_heading level0 col6\" >MCC</th>    </tr></thead><tbody>\n",
       "                <tr>\n",
       "                        <th id=\"T_340e7902_f0ac_11ea_a235_00d8610889aelevel0_row0\" class=\"row_heading level0 row0\" >0</th>\n",
       "                        <td id=\"T_340e7902_f0ac_11ea_a235_00d8610889aerow0_col0\" class=\"data row0 col0\" >0.9683</td>\n",
       "                        <td id=\"T_340e7902_f0ac_11ea_a235_00d8610889aerow0_col1\" class=\"data row0 col1\" >0.0000</td>\n",
       "                        <td id=\"T_340e7902_f0ac_11ea_a235_00d8610889aerow0_col2\" class=\"data row0 col2\" >0.8061</td>\n",
       "                        <td id=\"T_340e7902_f0ac_11ea_a235_00d8610889aerow0_col3\" class=\"data row0 col3\" >0.9650</td>\n",
       "                        <td id=\"T_340e7902_f0ac_11ea_a235_00d8610889aerow0_col4\" class=\"data row0 col4\" >0.9651</td>\n",
       "                        <td id=\"T_340e7902_f0ac_11ea_a235_00d8610889aerow0_col5\" class=\"data row0 col5\" >0.9629</td>\n",
       "                        <td id=\"T_340e7902_f0ac_11ea_a235_00d8610889aerow0_col6\" class=\"data row0 col6\" >0.9630</td>\n",
       "            </tr>\n",
       "            <tr>\n",
       "                        <th id=\"T_340e7902_f0ac_11ea_a235_00d8610889aelevel0_row1\" class=\"row_heading level0 row1\" >1</th>\n",
       "                        <td id=\"T_340e7902_f0ac_11ea_a235_00d8610889aerow1_col0\" class=\"data row1 col0\" >0.9683</td>\n",
       "                        <td id=\"T_340e7902_f0ac_11ea_a235_00d8610889aerow1_col1\" class=\"data row1 col1\" >0.0000</td>\n",
       "                        <td id=\"T_340e7902_f0ac_11ea_a235_00d8610889aerow1_col2\" class=\"data row1 col2\" >0.8545</td>\n",
       "                        <td id=\"T_340e7902_f0ac_11ea_a235_00d8610889aerow1_col3\" class=\"data row1 col3\" >0.9690</td>\n",
       "                        <td id=\"T_340e7902_f0ac_11ea_a235_00d8610889aerow1_col4\" class=\"data row1 col4\" >0.9655</td>\n",
       "                        <td id=\"T_340e7902_f0ac_11ea_a235_00d8610889aerow1_col5\" class=\"data row1 col5\" >0.9629</td>\n",
       "                        <td id=\"T_340e7902_f0ac_11ea_a235_00d8610889aerow1_col6\" class=\"data row1 col6\" >0.9630</td>\n",
       "            </tr>\n",
       "            <tr>\n",
       "                        <th id=\"T_340e7902_f0ac_11ea_a235_00d8610889aelevel0_row2\" class=\"row_heading level0 row2\" >2</th>\n",
       "                        <td id=\"T_340e7902_f0ac_11ea_a235_00d8610889aerow2_col0\" class=\"data row2 col0\" >0.9614</td>\n",
       "                        <td id=\"T_340e7902_f0ac_11ea_a235_00d8610889aerow2_col1\" class=\"data row2 col1\" >0.0000</td>\n",
       "                        <td id=\"T_340e7902_f0ac_11ea_a235_00d8610889aerow2_col2\" class=\"data row2 col2\" >0.8962</td>\n",
       "                        <td id=\"T_340e7902_f0ac_11ea_a235_00d8610889aerow2_col3\" class=\"data row2 col3\" >0.9642</td>\n",
       "                        <td id=\"T_340e7902_f0ac_11ea_a235_00d8610889aerow2_col4\" class=\"data row2 col4\" >0.9601</td>\n",
       "                        <td id=\"T_340e7902_f0ac_11ea_a235_00d8610889aerow2_col5\" class=\"data row2 col5\" >0.9548</td>\n",
       "                        <td id=\"T_340e7902_f0ac_11ea_a235_00d8610889aerow2_col6\" class=\"data row2 col6\" >0.9549</td>\n",
       "            </tr>\n",
       "            <tr>\n",
       "                        <th id=\"T_340e7902_f0ac_11ea_a235_00d8610889aelevel0_row3\" class=\"row_heading level0 row3\" >3</th>\n",
       "                        <td id=\"T_340e7902_f0ac_11ea_a235_00d8610889aerow3_col0\" class=\"data row3 col0\" >0.9723</td>\n",
       "                        <td id=\"T_340e7902_f0ac_11ea_a235_00d8610889aerow3_col1\" class=\"data row3 col1\" >0.0000</td>\n",
       "                        <td id=\"T_340e7902_f0ac_11ea_a235_00d8610889aerow3_col2\" class=\"data row3 col2\" >0.8456</td>\n",
       "                        <td id=\"T_340e7902_f0ac_11ea_a235_00d8610889aerow3_col3\" class=\"data row3 col3\" >0.9712</td>\n",
       "                        <td id=\"T_340e7902_f0ac_11ea_a235_00d8610889aerow3_col4\" class=\"data row3 col4\" >0.9708</td>\n",
       "                        <td id=\"T_340e7902_f0ac_11ea_a235_00d8610889aerow3_col5\" class=\"data row3 col5\" >0.9676</td>\n",
       "                        <td id=\"T_340e7902_f0ac_11ea_a235_00d8610889aerow3_col6\" class=\"data row3 col6\" >0.9676</td>\n",
       "            </tr>\n",
       "            <tr>\n",
       "                        <th id=\"T_340e7902_f0ac_11ea_a235_00d8610889aelevel0_row4\" class=\"row_heading level0 row4\" >4</th>\n",
       "                        <td id=\"T_340e7902_f0ac_11ea_a235_00d8610889aerow4_col0\" class=\"data row4 col0\" >0.9693</td>\n",
       "                        <td id=\"T_340e7902_f0ac_11ea_a235_00d8610889aerow4_col1\" class=\"data row4 col1\" >0.0000</td>\n",
       "                        <td id=\"T_340e7902_f0ac_11ea_a235_00d8610889aerow4_col2\" class=\"data row4 col2\" >0.8500</td>\n",
       "                        <td id=\"T_340e7902_f0ac_11ea_a235_00d8610889aerow4_col3\" class=\"data row4 col3\" >0.9679</td>\n",
       "                        <td id=\"T_340e7902_f0ac_11ea_a235_00d8610889aerow4_col4\" class=\"data row4 col4\" >0.9673</td>\n",
       "                        <td id=\"T_340e7902_f0ac_11ea_a235_00d8610889aerow4_col5\" class=\"data row4 col5\" >0.9641</td>\n",
       "                        <td id=\"T_340e7902_f0ac_11ea_a235_00d8610889aerow4_col6\" class=\"data row4 col6\" >0.9641</td>\n",
       "            </tr>\n",
       "            <tr>\n",
       "                        <th id=\"T_340e7902_f0ac_11ea_a235_00d8610889aelevel0_row5\" class=\"row_heading level0 row5\" >5</th>\n",
       "                        <td id=\"T_340e7902_f0ac_11ea_a235_00d8610889aerow5_col0\" class=\"data row5 col0\" >0.9674</td>\n",
       "                        <td id=\"T_340e7902_f0ac_11ea_a235_00d8610889aerow5_col1\" class=\"data row5 col1\" >0.0000</td>\n",
       "                        <td id=\"T_340e7902_f0ac_11ea_a235_00d8610889aerow5_col2\" class=\"data row5 col2\" >0.8684</td>\n",
       "                        <td id=\"T_340e7902_f0ac_11ea_a235_00d8610889aerow5_col3\" class=\"data row5 col3\" >0.9671</td>\n",
       "                        <td id=\"T_340e7902_f0ac_11ea_a235_00d8610889aerow5_col4\" class=\"data row5 col4\" >0.9657</td>\n",
       "                        <td id=\"T_340e7902_f0ac_11ea_a235_00d8610889aerow5_col5\" class=\"data row5 col5\" >0.9618</td>\n",
       "                        <td id=\"T_340e7902_f0ac_11ea_a235_00d8610889aerow5_col6\" class=\"data row5 col6\" >0.9618</td>\n",
       "            </tr>\n",
       "            <tr>\n",
       "                        <th id=\"T_340e7902_f0ac_11ea_a235_00d8610889aelevel0_row6\" class=\"row_heading level0 row6\" >6</th>\n",
       "                        <td id=\"T_340e7902_f0ac_11ea_a235_00d8610889aerow6_col0\" class=\"data row6 col0\" >0.9713</td>\n",
       "                        <td id=\"T_340e7902_f0ac_11ea_a235_00d8610889aerow6_col1\" class=\"data row6 col1\" >0.0000</td>\n",
       "                        <td id=\"T_340e7902_f0ac_11ea_a235_00d8610889aerow6_col2\" class=\"data row6 col2\" >0.8387</td>\n",
       "                        <td id=\"T_340e7902_f0ac_11ea_a235_00d8610889aerow6_col3\" class=\"data row6 col3\" >0.9680</td>\n",
       "                        <td id=\"T_340e7902_f0ac_11ea_a235_00d8610889aerow6_col4\" class=\"data row6 col4\" >0.9688</td>\n",
       "                        <td id=\"T_340e7902_f0ac_11ea_a235_00d8610889aerow6_col5\" class=\"data row6 col5\" >0.9664</td>\n",
       "                        <td id=\"T_340e7902_f0ac_11ea_a235_00d8610889aerow6_col6\" class=\"data row6 col6\" >0.9665</td>\n",
       "            </tr>\n",
       "            <tr>\n",
       "                        <th id=\"T_340e7902_f0ac_11ea_a235_00d8610889aelevel0_row7\" class=\"row_heading level0 row7\" >7</th>\n",
       "                        <td id=\"T_340e7902_f0ac_11ea_a235_00d8610889aerow7_col0\" class=\"data row7 col0\" >0.9763</td>\n",
       "                        <td id=\"T_340e7902_f0ac_11ea_a235_00d8610889aerow7_col1\" class=\"data row7 col1\" >0.0000</td>\n",
       "                        <td id=\"T_340e7902_f0ac_11ea_a235_00d8610889aerow7_col2\" class=\"data row7 col2\" >0.8731</td>\n",
       "                        <td id=\"T_340e7902_f0ac_11ea_a235_00d8610889aerow7_col3\" class=\"data row7 col3\" >0.9768</td>\n",
       "                        <td id=\"T_340e7902_f0ac_11ea_a235_00d8610889aerow7_col4\" class=\"data row7 col4\" >0.9760</td>\n",
       "                        <td id=\"T_340e7902_f0ac_11ea_a235_00d8610889aerow7_col5\" class=\"data row7 col5\" >0.9722</td>\n",
       "                        <td id=\"T_340e7902_f0ac_11ea_a235_00d8610889aerow7_col6\" class=\"data row7 col6\" >0.9723</td>\n",
       "            </tr>\n",
       "            <tr>\n",
       "                        <th id=\"T_340e7902_f0ac_11ea_a235_00d8610889aelevel0_row8\" class=\"row_heading level0 row8\" >8</th>\n",
       "                        <td id=\"T_340e7902_f0ac_11ea_a235_00d8610889aerow8_col0\" class=\"data row8 col0\" >0.9614</td>\n",
       "                        <td id=\"T_340e7902_f0ac_11ea_a235_00d8610889aerow8_col1\" class=\"data row8 col1\" >0.0000</td>\n",
       "                        <td id=\"T_340e7902_f0ac_11ea_a235_00d8610889aerow8_col2\" class=\"data row8 col2\" >0.8717</td>\n",
       "                        <td id=\"T_340e7902_f0ac_11ea_a235_00d8610889aerow8_col3\" class=\"data row8 col3\" >0.9629</td>\n",
       "                        <td id=\"T_340e7902_f0ac_11ea_a235_00d8610889aerow8_col4\" class=\"data row8 col4\" >0.9605</td>\n",
       "                        <td id=\"T_340e7902_f0ac_11ea_a235_00d8610889aerow8_col5\" class=\"data row8 col5\" >0.9549</td>\n",
       "                        <td id=\"T_340e7902_f0ac_11ea_a235_00d8610889aerow8_col6\" class=\"data row8 col6\" >0.9550</td>\n",
       "            </tr>\n",
       "            <tr>\n",
       "                        <th id=\"T_340e7902_f0ac_11ea_a235_00d8610889aelevel0_row9\" class=\"row_heading level0 row9\" >9</th>\n",
       "                        <td id=\"T_340e7902_f0ac_11ea_a235_00d8610889aerow9_col0\" class=\"data row9 col0\" >0.9653</td>\n",
       "                        <td id=\"T_340e7902_f0ac_11ea_a235_00d8610889aerow9_col1\" class=\"data row9 col1\" >0.0000</td>\n",
       "                        <td id=\"T_340e7902_f0ac_11ea_a235_00d8610889aerow9_col2\" class=\"data row9 col2\" >0.8805</td>\n",
       "                        <td id=\"T_340e7902_f0ac_11ea_a235_00d8610889aerow9_col3\" class=\"data row9 col3\" >0.9653</td>\n",
       "                        <td id=\"T_340e7902_f0ac_11ea_a235_00d8610889aerow9_col4\" class=\"data row9 col4\" >0.9642</td>\n",
       "                        <td id=\"T_340e7902_f0ac_11ea_a235_00d8610889aerow9_col5\" class=\"data row9 col5\" >0.9594</td>\n",
       "                        <td id=\"T_340e7902_f0ac_11ea_a235_00d8610889aerow9_col6\" class=\"data row9 col6\" >0.9595</td>\n",
       "            </tr>\n",
       "            <tr>\n",
       "                        <th id=\"T_340e7902_f0ac_11ea_a235_00d8610889aelevel0_row10\" class=\"row_heading level0 row10\" >Mean</th>\n",
       "                        <td id=\"T_340e7902_f0ac_11ea_a235_00d8610889aerow10_col0\" class=\"data row10 col0\" >0.9681</td>\n",
       "                        <td id=\"T_340e7902_f0ac_11ea_a235_00d8610889aerow10_col1\" class=\"data row10 col1\" >0.0000</td>\n",
       "                        <td id=\"T_340e7902_f0ac_11ea_a235_00d8610889aerow10_col2\" class=\"data row10 col2\" >0.8585</td>\n",
       "                        <td id=\"T_340e7902_f0ac_11ea_a235_00d8610889aerow10_col3\" class=\"data row10 col3\" >0.9678</td>\n",
       "                        <td id=\"T_340e7902_f0ac_11ea_a235_00d8610889aerow10_col4\" class=\"data row10 col4\" >0.9664</td>\n",
       "                        <td id=\"T_340e7902_f0ac_11ea_a235_00d8610889aerow10_col5\" class=\"data row10 col5\" >0.9627</td>\n",
       "                        <td id=\"T_340e7902_f0ac_11ea_a235_00d8610889aerow10_col6\" class=\"data row10 col6\" >0.9628</td>\n",
       "            </tr>\n",
       "            <tr>\n",
       "                        <th id=\"T_340e7902_f0ac_11ea_a235_00d8610889aelevel0_row11\" class=\"row_heading level0 row11\" >SD</th>\n",
       "                        <td id=\"T_340e7902_f0ac_11ea_a235_00d8610889aerow11_col0\" class=\"data row11 col0\" >0.0044</td>\n",
       "                        <td id=\"T_340e7902_f0ac_11ea_a235_00d8610889aerow11_col1\" class=\"data row11 col1\" >0.0000</td>\n",
       "                        <td id=\"T_340e7902_f0ac_11ea_a235_00d8610889aerow11_col2\" class=\"data row11 col2\" >0.0241</td>\n",
       "                        <td id=\"T_340e7902_f0ac_11ea_a235_00d8610889aerow11_col3\" class=\"data row11 col3\" >0.0038</td>\n",
       "                        <td id=\"T_340e7902_f0ac_11ea_a235_00d8610889aerow11_col4\" class=\"data row11 col4\" >0.0045</td>\n",
       "                        <td id=\"T_340e7902_f0ac_11ea_a235_00d8610889aerow11_col5\" class=\"data row11 col5\" >0.0052</td>\n",
       "                        <td id=\"T_340e7902_f0ac_11ea_a235_00d8610889aerow11_col6\" class=\"data row11 col6\" >0.0051</td>\n",
       "            </tr>\n",
       "    </tbody></table>"
      ],
      "text/plain": [
       "<pandas.io.formats.style.Styler at 0x1a6af2548b0>"
      ]
     },
     "metadata": {},
     "output_type": "display_data"
    }
   ],
   "source": [
    "setup(data=data,\n",
    "      target=target_label,\n",
    "      numeric_features=num_features,\n",
    "      silent=True)\n",
    "model=create_model(learning_model)"
   ]
  },
  {
   "cell_type": "markdown",
   "metadata": {},
   "source": [
    "### Read Test Data"
   ]
  },
  {
   "cell_type": "code",
   "execution_count": 10,
   "metadata": {},
   "outputs": [],
   "source": [
    "unseen_data = pd.read_csv(path+file_name+target_label+'_test.csv',\n",
    "                      sep='\\t',\n",
    "                      skiprows=[1])"
   ]
  },
  {
   "cell_type": "markdown",
   "metadata": {},
   "source": [
    "### Predicte and Check"
   ]
  },
  {
   "cell_type": "code",
   "execution_count": 11,
   "metadata": {},
   "outputs": [],
   "source": [
    "answers = unseen_data[target_label]\n",
    "unseen_data = unseen_data.drop(columns=[target_label])"
   ]
  },
  {
   "cell_type": "code",
   "execution_count": 12,
   "metadata": {},
   "outputs": [],
   "source": [
    "predicted = predict_model(model, data=unseen_data)"
   ]
  },
  {
   "cell_type": "markdown",
   "metadata": {},
   "source": [
    "### number of errors of the model for current test set"
   ]
  },
  {
   "cell_type": "code",
   "execution_count": 13,
   "metadata": {
    "scrolled": true
   },
   "outputs": [
    {
     "data": {
      "text/plain": [
       "191"
      ]
     },
     "execution_count": 13,
     "metadata": {},
     "output_type": "execute_result"
    }
   ],
   "source": [
    "compare_prediction_with_answers(predicted,answers)"
   ]
  },
  {
   "cell_type": "markdown",
   "metadata": {},
   "source": [
    "# Change column values and run test"
   ]
  },
  {
   "cell_type": "code",
   "execution_count": 14,
   "metadata": {},
   "outputs": [],
   "source": [
    "results = []\n",
    "### for any clolumn in the data set\n",
    "for cur_col in data.columns:\n",
    "    ### Read Test Data\n",
    "    unseen_data = pd.read_csv(path+file_name+target_label+'_test.csv',\n",
    "                      sep='\\t',\n",
    "                      skiprows=[1])\n",
    "    ### Change column values\n",
    "    unseen_data[cur_col] = get_rand_dataframe(unseen_data[cur_col])\n",
    "    ### Predicte and Check\n",
    "    answers = unseen_data[target_label]\n",
    "    unseen_data = unseen_data.drop(columns=[target_label])\n",
    "    predicted = predict_model(model, data=unseen_data)\n",
    "    results.append(compare_prediction_with_answers(predicted,answers))\n",
    "    \n",
    "### creaing map of results and column names for printing\n",
    "results_map = {}\n",
    "count = 0\n",
    "for cur_col in data.columns:\n",
    "    results_map[cur_col] = results[count]\n",
    "    count=count+1"
   ]
  },
  {
   "cell_type": "code",
   "execution_count": 15,
   "metadata": {},
   "outputs": [
    {
     "data": {
      "text/plain": [
       "[('tuple', 6188),\n",
       " ('fcipher_suites', 410),\n",
       " ('fSSL_num_extensions', 315),\n",
       " ('std_biat', 252),\n",
       " ('ssl_v', 234),\n",
       " ('SYN_tcp_winsize', 230),\n",
       " ('SYN_tcp_scale', 223),\n",
       " ('max_biat', 220),\n",
       " ('mean_bpkt', 220),\n",
       " ('size_histogram_10', 213),\n",
       " ('max_fiat', 211),\n",
       " ('mean_fiat', 211),\n",
       " ('std_fpkt', 209),\n",
       " ('std_bpkt', 209),\n",
       " ('bpeak_features_7', 208),\n",
       " ('max_fpkt', 208),\n",
       " ('bpeak_features_1', 206),\n",
       " ('mean_packet_size', 205),\n",
       " ('num_keep_alive', 205),\n",
       " ('size_histogram_4', 204),\n",
       " ('bpeak_features_9', 204),\n",
       " ('max_packet_size', 204),\n",
       " ('std_fiat', 204),\n",
       " ('bpeak_features_8', 203),\n",
       " ('size_histogram_2', 202),\n",
       " ('size_histogram_6', 202),\n",
       " ('fpeak_features_1', 201),\n",
       " ('fpeak_features_3', 201),\n",
       " ('fpeak_features_5', 201),\n",
       " ('bpeak_features_2', 201),\n",
       " ('bpeak_features_5', 201),\n",
       " ('fbytes', 201),\n",
       " ('mean_biat', 200),\n",
       " ('min_fpkt', 200),\n",
       " ('fpeak_features_8', 199),\n",
       " ('bpeak_features_3', 199),\n",
       " ('mean_fpkt', 199),\n",
       " ('min_packet_size', 198),\n",
       " ('bpeak_features_4', 197),\n",
       " ('bpackets', 197),\n",
       " ('size_histogram_1', 195),\n",
       " ('size_histogram_8', 195),\n",
       " ('size_histogram_5', 194),\n",
       " ('fpeak_features_9', 194),\n",
       " ('fpeak_features_7', 193),\n",
       " ('sizevar', 193),\n",
       " ('min_bpkt', 193),\n",
       " ('fSSL_session_id_len', 192),\n",
       " ('size_histogram_9', 192),\n",
       " ('fpeak_features_6', 192),\n",
       " ('packet_count', 192),\n",
       " ('fpackets', 192),\n",
       " ('mean_fttl', 192),\n",
       " ('fpeak_features_4', 191),\n",
       " ('size_histogram_7', 190),\n",
       " ('fpeak_features_2', 190),\n",
       " ('bbytes', 190),\n",
       " ('bpeak_features_6', 189),\n",
       " ('max_bpkt', 188),\n",
       " ('size_histogram_3', 187)]"
      ]
     },
     "execution_count": 15,
     "metadata": {},
     "output_type": "execute_result"
    }
   ],
   "source": [
    "### prints results map sorted by values\n",
    "[(k, v) for k, v in sorted(results_map.items(), key=lambda x: x[1], reverse=True)]"
   ]
  },
  {
   "cell_type": "markdown",
   "metadata": {},
   "source": [
    "obviously the tuple feature is the most sensative one, but it is the predicted feature so just ignore it.\n",
    "we can see that the Cipher-suite, SSL-number-of-Extenstion and Standart-Backwards-Internal-Arrival-Time of packets features (each one represented with one sigle column in our dataset) are the most effective (maximum errors) features when noise added."
   ]
  }
 ],
 "metadata": {
  "kernelspec": {
   "display_name": "Python 3.8.3 64-bit ('base': conda)",
   "language": "python",
   "name": "python38364bitbasecondaed19ee87b6844ca4b2207fe8765813ad"
  },
  "language_info": {
   "codemirror_mode": {
    "name": "ipython",
    "version": 3
   },
   "file_extension": ".py",
   "mimetype": "text/x-python",
   "name": "python",
   "nbconvert_exporter": "python",
   "pygments_lexer": "ipython3",
   "version": "3.8.5"
  }
 },
 "nbformat": 4,
 "nbformat_minor": 4
}
