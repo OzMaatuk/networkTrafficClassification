{
 "cells": [
  {
   "cell_type": "markdown",
   "metadata": {},
   "source": [
    "# Robust Test - Random  values - features\n",
    "for each feature (which can be presented by several columns in the data) we will permute the values by setting randomly values in range of the original values.\n",
    "because the features order in unmatched the column order, this was done manually."
   ]
  },
  {
   "cell_type": "markdown",
   "metadata": {},
   "source": [
    "# Import"
   ]
  },
  {
   "cell_type": "code",
   "execution_count": 1,
   "metadata": {},
   "outputs": [],
   "source": [
    "import pandas as pd\n",
    "import numpy as np\n",
    "from pycaret.classification import *"
   ]
  },
  {
   "cell_type": "markdown",
   "metadata": {},
   "source": [
    "# Settings"
   ]
  },
  {
   "cell_type": "code",
   "execution_count": 2,
   "metadata": {},
   "outputs": [],
   "source": [
    "# set constants\n",
    "target_label = 'tuple'\n",
    "learning_model = 'et' # ['rf','et','lightgbm','xgboost']\n",
    "num_features = ['min_packet_size', 'min_fpkt', 'min_bpkt']\n",
    "file_name = \"new_all_features_\"\n",
    "path = \"../Datasets/\" + target_label + \"_dataset/\"\n",
    "results_map = {}"
   ]
  },
  {
   "cell_type": "code",
   "execution_count": 3,
   "metadata": {},
   "outputs": [],
   "source": [
    "# compare answers and labeled test\n",
    "def compare_prediction_with_answers(in_predicted, in_answers):\n",
    "    count=0\n",
    "    index = in_predicted.index\n",
    "    number_of_rows = len(index)\n",
    "    for i in range(0,number_of_rows):\n",
    "        if str(int(in_answers.iloc[i])) != str(int(in_predicted.iloc[i]['Label'])):\n",
    "            count=count+1\n",
    "    return count"
   ]
  },
  {
   "cell_type": "code",
   "execution_count": 4,
   "metadata": {},
   "outputs": [],
   "source": [
    "def get_rand_dataframe(in_data, in_column_indx):\n",
    "    cur_col=in_data[in_column_indx]\n",
    "    row_len = len(cur_col)\n",
    "    max_value = cur_col.max()\n",
    "    value = cur_col[0]\n",
    "    min_value = cur_col.min()\n",
    "    if 'int64' == in_data[in_column_indx].dtypes:\n",
    "        cur_col = pd.DataFrame(np.random.randint(min_value, max_value, size=row_len, dtype=np.int64))\n",
    "    if 'float64' == in_data[in_column_indx].dtypes:\n",
    "        cur_col = pd.DataFrame((max_value - min_value) * np.random.random_sample(row_len) + min_value)\n",
    "    in_data[in_column_indx] = cur_col\n",
    "    return in_data"
   ]
  },
  {
   "cell_type": "markdown",
   "metadata": {},
   "source": [
    "# Read Data"
   ]
  },
  {
   "cell_type": "code",
   "execution_count": 5,
   "metadata": {},
   "outputs": [],
   "source": [
    "data = pd.read_csv(path+file_name+target_label+'_train.csv',\n",
    "                      sep='\\t',\n",
    "                      skiprows=[1])"
   ]
  },
  {
   "cell_type": "markdown",
   "metadata": {},
   "source": [
    "# Setup Data and Build Model"
   ]
  },
  {
   "cell_type": "code",
   "execution_count": 6,
   "metadata": {
    "tags": []
   },
   "outputs": [
    {
     "data": {
      "text/html": [
       "<style  type=\"text/css\" >\n",
       "#T_51b26140_29a0_11eb_bfc7_00d8610889aerow10_col0,#T_51b26140_29a0_11eb_bfc7_00d8610889aerow10_col1,#T_51b26140_29a0_11eb_bfc7_00d8610889aerow10_col2,#T_51b26140_29a0_11eb_bfc7_00d8610889aerow10_col3,#T_51b26140_29a0_11eb_bfc7_00d8610889aerow10_col4,#T_51b26140_29a0_11eb_bfc7_00d8610889aerow10_col5,#T_51b26140_29a0_11eb_bfc7_00d8610889aerow10_col6{\n",
       "            background:  yellow;\n",
       "        }</style><table id=\"T_51b26140_29a0_11eb_bfc7_00d8610889ae\" ><thead>    <tr>        <th class=\"blank level0\" ></th>        <th class=\"col_heading level0 col0\" >Accuracy</th>        <th class=\"col_heading level0 col1\" >AUC</th>        <th class=\"col_heading level0 col2\" >Recall</th>        <th class=\"col_heading level0 col3\" >Prec.</th>        <th class=\"col_heading level0 col4\" >F1</th>        <th class=\"col_heading level0 col5\" >Kappa</th>        <th class=\"col_heading level0 col6\" >MCC</th>    </tr></thead><tbody>\n",
       "                <tr>\n",
       "                        <th id=\"T_51b26140_29a0_11eb_bfc7_00d8610889aelevel0_row0\" class=\"row_heading level0 row0\" >0</th>\n",
       "                        <td id=\"T_51b26140_29a0_11eb_bfc7_00d8610889aerow0_col0\" class=\"data row0 col0\" >0.9703</td>\n",
       "                        <td id=\"T_51b26140_29a0_11eb_bfc7_00d8610889aerow0_col1\" class=\"data row0 col1\" >0.0000</td>\n",
       "                        <td id=\"T_51b26140_29a0_11eb_bfc7_00d8610889aerow0_col2\" class=\"data row0 col2\" >0.8862</td>\n",
       "                        <td id=\"T_51b26140_29a0_11eb_bfc7_00d8610889aerow0_col3\" class=\"data row0 col3\" >0.9704</td>\n",
       "                        <td id=\"T_51b26140_29a0_11eb_bfc7_00d8610889aerow0_col4\" class=\"data row0 col4\" >0.9700</td>\n",
       "                        <td id=\"T_51b26140_29a0_11eb_bfc7_00d8610889aerow0_col5\" class=\"data row0 col5\" >0.9653</td>\n",
       "                        <td id=\"T_51b26140_29a0_11eb_bfc7_00d8610889aerow0_col6\" class=\"data row0 col6\" >0.9653</td>\n",
       "            </tr>\n",
       "            <tr>\n",
       "                        <th id=\"T_51b26140_29a0_11eb_bfc7_00d8610889aelevel0_row1\" class=\"row_heading level0 row1\" >1</th>\n",
       "                        <td id=\"T_51b26140_29a0_11eb_bfc7_00d8610889aerow1_col0\" class=\"data row1 col0\" >0.9782</td>\n",
       "                        <td id=\"T_51b26140_29a0_11eb_bfc7_00d8610889aerow1_col1\" class=\"data row1 col1\" >0.0000</td>\n",
       "                        <td id=\"T_51b26140_29a0_11eb_bfc7_00d8610889aerow1_col2\" class=\"data row1 col2\" >0.8774</td>\n",
       "                        <td id=\"T_51b26140_29a0_11eb_bfc7_00d8610889aerow1_col3\" class=\"data row1 col3\" >0.9771</td>\n",
       "                        <td id=\"T_51b26140_29a0_11eb_bfc7_00d8610889aerow1_col4\" class=\"data row1 col4\" >0.9770</td>\n",
       "                        <td id=\"T_51b26140_29a0_11eb_bfc7_00d8610889aerow1_col5\" class=\"data row1 col5\" >0.9745</td>\n",
       "                        <td id=\"T_51b26140_29a0_11eb_bfc7_00d8610889aerow1_col6\" class=\"data row1 col6\" >0.9746</td>\n",
       "            </tr>\n",
       "            <tr>\n",
       "                        <th id=\"T_51b26140_29a0_11eb_bfc7_00d8610889aelevel0_row2\" class=\"row_heading level0 row2\" >2</th>\n",
       "                        <td id=\"T_51b26140_29a0_11eb_bfc7_00d8610889aerow2_col0\" class=\"data row2 col0\" >0.9634</td>\n",
       "                        <td id=\"T_51b26140_29a0_11eb_bfc7_00d8610889aerow2_col1\" class=\"data row2 col1\" >0.0000</td>\n",
       "                        <td id=\"T_51b26140_29a0_11eb_bfc7_00d8610889aerow2_col2\" class=\"data row2 col2\" >0.8445</td>\n",
       "                        <td id=\"T_51b26140_29a0_11eb_bfc7_00d8610889aerow2_col3\" class=\"data row2 col3\" >0.9627</td>\n",
       "                        <td id=\"T_51b26140_29a0_11eb_bfc7_00d8610889aerow2_col4\" class=\"data row2 col4\" >0.9623</td>\n",
       "                        <td id=\"T_51b26140_29a0_11eb_bfc7_00d8610889aerow2_col5\" class=\"data row2 col5\" >0.9572</td>\n",
       "                        <td id=\"T_51b26140_29a0_11eb_bfc7_00d8610889aerow2_col6\" class=\"data row2 col6\" >0.9572</td>\n",
       "            </tr>\n",
       "            <tr>\n",
       "                        <th id=\"T_51b26140_29a0_11eb_bfc7_00d8610889aelevel0_row3\" class=\"row_heading level0 row3\" >3</th>\n",
       "                        <td id=\"T_51b26140_29a0_11eb_bfc7_00d8610889aerow3_col0\" class=\"data row3 col0\" >0.9773</td>\n",
       "                        <td id=\"T_51b26140_29a0_11eb_bfc7_00d8610889aerow3_col1\" class=\"data row3 col1\" >0.0000</td>\n",
       "                        <td id=\"T_51b26140_29a0_11eb_bfc7_00d8610889aerow3_col2\" class=\"data row3 col2\" >0.8690</td>\n",
       "                        <td id=\"T_51b26140_29a0_11eb_bfc7_00d8610889aerow3_col3\" class=\"data row3 col3\" >0.9772</td>\n",
       "                        <td id=\"T_51b26140_29a0_11eb_bfc7_00d8610889aerow3_col4\" class=\"data row3 col4\" >0.9765</td>\n",
       "                        <td id=\"T_51b26140_29a0_11eb_bfc7_00d8610889aerow3_col5\" class=\"data row3 col5\" >0.9734</td>\n",
       "                        <td id=\"T_51b26140_29a0_11eb_bfc7_00d8610889aerow3_col6\" class=\"data row3 col6\" >0.9734</td>\n",
       "            </tr>\n",
       "            <tr>\n",
       "                        <th id=\"T_51b26140_29a0_11eb_bfc7_00d8610889aelevel0_row4\" class=\"row_heading level0 row4\" >4</th>\n",
       "                        <td id=\"T_51b26140_29a0_11eb_bfc7_00d8610889aerow4_col0\" class=\"data row4 col0\" >0.9782</td>\n",
       "                        <td id=\"T_51b26140_29a0_11eb_bfc7_00d8610889aerow4_col1\" class=\"data row4 col1\" >0.0000</td>\n",
       "                        <td id=\"T_51b26140_29a0_11eb_bfc7_00d8610889aerow4_col2\" class=\"data row4 col2\" >0.9111</td>\n",
       "                        <td id=\"T_51b26140_29a0_11eb_bfc7_00d8610889aerow4_col3\" class=\"data row4 col3\" >0.9784</td>\n",
       "                        <td id=\"T_51b26140_29a0_11eb_bfc7_00d8610889aerow4_col4\" class=\"data row4 col4\" >0.9772</td>\n",
       "                        <td id=\"T_51b26140_29a0_11eb_bfc7_00d8610889aerow4_col5\" class=\"data row4 col5\" >0.9745</td>\n",
       "                        <td id=\"T_51b26140_29a0_11eb_bfc7_00d8610889aerow4_col6\" class=\"data row4 col6\" >0.9746</td>\n",
       "            </tr>\n",
       "            <tr>\n",
       "                        <th id=\"T_51b26140_29a0_11eb_bfc7_00d8610889aelevel0_row5\" class=\"row_heading level0 row5\" >5</th>\n",
       "                        <td id=\"T_51b26140_29a0_11eb_bfc7_00d8610889aerow5_col0\" class=\"data row5 col0\" >0.9713</td>\n",
       "                        <td id=\"T_51b26140_29a0_11eb_bfc7_00d8610889aerow5_col1\" class=\"data row5 col1\" >0.0000</td>\n",
       "                        <td id=\"T_51b26140_29a0_11eb_bfc7_00d8610889aerow5_col2\" class=\"data row5 col2\" >0.8686</td>\n",
       "                        <td id=\"T_51b26140_29a0_11eb_bfc7_00d8610889aerow5_col3\" class=\"data row5 col3\" >0.9721</td>\n",
       "                        <td id=\"T_51b26140_29a0_11eb_bfc7_00d8610889aerow5_col4\" class=\"data row5 col4\" >0.9702</td>\n",
       "                        <td id=\"T_51b26140_29a0_11eb_bfc7_00d8610889aerow5_col5\" class=\"data row5 col5\" >0.9664</td>\n",
       "                        <td id=\"T_51b26140_29a0_11eb_bfc7_00d8610889aerow5_col6\" class=\"data row5 col6\" >0.9665</td>\n",
       "            </tr>\n",
       "            <tr>\n",
       "                        <th id=\"T_51b26140_29a0_11eb_bfc7_00d8610889aelevel0_row6\" class=\"row_heading level0 row6\" >6</th>\n",
       "                        <td id=\"T_51b26140_29a0_11eb_bfc7_00d8610889aerow6_col0\" class=\"data row6 col0\" >0.9763</td>\n",
       "                        <td id=\"T_51b26140_29a0_11eb_bfc7_00d8610889aerow6_col1\" class=\"data row6 col1\" >0.0000</td>\n",
       "                        <td id=\"T_51b26140_29a0_11eb_bfc7_00d8610889aerow6_col2\" class=\"data row6 col2\" >0.8693</td>\n",
       "                        <td id=\"T_51b26140_29a0_11eb_bfc7_00d8610889aerow6_col3\" class=\"data row6 col3\" >0.9754</td>\n",
       "                        <td id=\"T_51b26140_29a0_11eb_bfc7_00d8610889aerow6_col4\" class=\"data row6 col4\" >0.9746</td>\n",
       "                        <td id=\"T_51b26140_29a0_11eb_bfc7_00d8610889aerow6_col5\" class=\"data row6 col5\" >0.9722</td>\n",
       "                        <td id=\"T_51b26140_29a0_11eb_bfc7_00d8610889aerow6_col6\" class=\"data row6 col6\" >0.9722</td>\n",
       "            </tr>\n",
       "            <tr>\n",
       "                        <th id=\"T_51b26140_29a0_11eb_bfc7_00d8610889aelevel0_row7\" class=\"row_heading level0 row7\" >7</th>\n",
       "                        <td id=\"T_51b26140_29a0_11eb_bfc7_00d8610889aerow7_col0\" class=\"data row7 col0\" >0.9693</td>\n",
       "                        <td id=\"T_51b26140_29a0_11eb_bfc7_00d8610889aerow7_col1\" class=\"data row7 col1\" >0.0000</td>\n",
       "                        <td id=\"T_51b26140_29a0_11eb_bfc7_00d8610889aerow7_col2\" class=\"data row7 col2\" >0.8538</td>\n",
       "                        <td id=\"T_51b26140_29a0_11eb_bfc7_00d8610889aerow7_col3\" class=\"data row7 col3\" >0.9664</td>\n",
       "                        <td id=\"T_51b26140_29a0_11eb_bfc7_00d8610889aerow7_col4\" class=\"data row7 col4\" >0.9674</td>\n",
       "                        <td id=\"T_51b26140_29a0_11eb_bfc7_00d8610889aerow7_col5\" class=\"data row7 col5\" >0.9641</td>\n",
       "                        <td id=\"T_51b26140_29a0_11eb_bfc7_00d8610889aerow7_col6\" class=\"data row7 col6\" >0.9641</td>\n",
       "            </tr>\n",
       "            <tr>\n",
       "                        <th id=\"T_51b26140_29a0_11eb_bfc7_00d8610889aelevel0_row8\" class=\"row_heading level0 row8\" >8</th>\n",
       "                        <td id=\"T_51b26140_29a0_11eb_bfc7_00d8610889aerow8_col0\" class=\"data row8 col0\" >0.9713</td>\n",
       "                        <td id=\"T_51b26140_29a0_11eb_bfc7_00d8610889aerow8_col1\" class=\"data row8 col1\" >0.0000</td>\n",
       "                        <td id=\"T_51b26140_29a0_11eb_bfc7_00d8610889aerow8_col2\" class=\"data row8 col2\" >0.8644</td>\n",
       "                        <td id=\"T_51b26140_29a0_11eb_bfc7_00d8610889aerow8_col3\" class=\"data row8 col3\" >0.9704</td>\n",
       "                        <td id=\"T_51b26140_29a0_11eb_bfc7_00d8610889aerow8_col4\" class=\"data row8 col4\" >0.9693</td>\n",
       "                        <td id=\"T_51b26140_29a0_11eb_bfc7_00d8610889aerow8_col5\" class=\"data row8 col5\" >0.9664</td>\n",
       "                        <td id=\"T_51b26140_29a0_11eb_bfc7_00d8610889aerow8_col6\" class=\"data row8 col6\" >0.9665</td>\n",
       "            </tr>\n",
       "            <tr>\n",
       "                        <th id=\"T_51b26140_29a0_11eb_bfc7_00d8610889aelevel0_row9\" class=\"row_heading level0 row9\" >9</th>\n",
       "                        <td id=\"T_51b26140_29a0_11eb_bfc7_00d8610889aerow9_col0\" class=\"data row9 col0\" >0.9743</td>\n",
       "                        <td id=\"T_51b26140_29a0_11eb_bfc7_00d8610889aerow9_col1\" class=\"data row9 col1\" >0.0000</td>\n",
       "                        <td id=\"T_51b26140_29a0_11eb_bfc7_00d8610889aerow9_col2\" class=\"data row9 col2\" >0.8849</td>\n",
       "                        <td id=\"T_51b26140_29a0_11eb_bfc7_00d8610889aerow9_col3\" class=\"data row9 col3\" >0.9748</td>\n",
       "                        <td id=\"T_51b26140_29a0_11eb_bfc7_00d8610889aerow9_col4\" class=\"data row9 col4\" >0.9728</td>\n",
       "                        <td id=\"T_51b26140_29a0_11eb_bfc7_00d8610889aerow9_col5\" class=\"data row9 col5\" >0.9699</td>\n",
       "                        <td id=\"T_51b26140_29a0_11eb_bfc7_00d8610889aerow9_col6\" class=\"data row9 col6\" >0.9699</td>\n",
       "            </tr>\n",
       "            <tr>\n",
       "                        <th id=\"T_51b26140_29a0_11eb_bfc7_00d8610889aelevel0_row10\" class=\"row_heading level0 row10\" >Mean</th>\n",
       "                        <td id=\"T_51b26140_29a0_11eb_bfc7_00d8610889aerow10_col0\" class=\"data row10 col0\" >0.9730</td>\n",
       "                        <td id=\"T_51b26140_29a0_11eb_bfc7_00d8610889aerow10_col1\" class=\"data row10 col1\" >0.0000</td>\n",
       "                        <td id=\"T_51b26140_29a0_11eb_bfc7_00d8610889aerow10_col2\" class=\"data row10 col2\" >0.8729</td>\n",
       "                        <td id=\"T_51b26140_29a0_11eb_bfc7_00d8610889aerow10_col3\" class=\"data row10 col3\" >0.9725</td>\n",
       "                        <td id=\"T_51b26140_29a0_11eb_bfc7_00d8610889aerow10_col4\" class=\"data row10 col4\" >0.9717</td>\n",
       "                        <td id=\"T_51b26140_29a0_11eb_bfc7_00d8610889aerow10_col5\" class=\"data row10 col5\" >0.9684</td>\n",
       "                        <td id=\"T_51b26140_29a0_11eb_bfc7_00d8610889aerow10_col6\" class=\"data row10 col6\" >0.9684</td>\n",
       "            </tr>\n",
       "            <tr>\n",
       "                        <th id=\"T_51b26140_29a0_11eb_bfc7_00d8610889aelevel0_row11\" class=\"row_heading level0 row11\" >SD</th>\n",
       "                        <td id=\"T_51b26140_29a0_11eb_bfc7_00d8610889aerow11_col0\" class=\"data row11 col0\" >0.0045</td>\n",
       "                        <td id=\"T_51b26140_29a0_11eb_bfc7_00d8610889aerow11_col1\" class=\"data row11 col1\" >0.0000</td>\n",
       "                        <td id=\"T_51b26140_29a0_11eb_bfc7_00d8610889aerow11_col2\" class=\"data row11 col2\" >0.0176</td>\n",
       "                        <td id=\"T_51b26140_29a0_11eb_bfc7_00d8610889aerow11_col3\" class=\"data row11 col3\" >0.0048</td>\n",
       "                        <td id=\"T_51b26140_29a0_11eb_bfc7_00d8610889aerow11_col4\" class=\"data row11 col4\" >0.0046</td>\n",
       "                        <td id=\"T_51b26140_29a0_11eb_bfc7_00d8610889aerow11_col5\" class=\"data row11 col5\" >0.0053</td>\n",
       "                        <td id=\"T_51b26140_29a0_11eb_bfc7_00d8610889aerow11_col6\" class=\"data row11 col6\" >0.0053</td>\n",
       "            </tr>\n",
       "    </tbody></table>"
      ],
      "text/plain": [
       "<pandas.io.formats.style.Styler at 0x16942496190>"
      ]
     },
     "metadata": {},
     "output_type": "display_data"
    }
   ],
   "source": [
    "setup(data=data,\n",
    "      target=target_label,\n",
    "      numeric_features=num_features,\n",
    "      silent=True)\n",
    "model=create_model(learning_model)"
   ]
  },
  {
   "cell_type": "markdown",
   "metadata": {},
   "source": [
    "### Read Test Data"
   ]
  },
  {
   "cell_type": "code",
   "execution_count": 7,
   "metadata": {},
   "outputs": [],
   "source": [
    "unseen_data = pd.read_csv(path+file_name+target_label+'_test.csv',\n",
    "                      sep='\\t',\n",
    "                      skiprows=[1])"
   ]
  },
  {
   "cell_type": "markdown",
   "metadata": {},
   "source": [
    "### Predicte and Check"
   ]
  },
  {
   "cell_type": "markdown",
   "metadata": {},
   "source": [
    "this is the number of error for clean prediction over the unseen test data"
   ]
  },
  {
   "cell_type": "code",
   "execution_count": 8,
   "metadata": {},
   "outputs": [
    {
     "data": {
      "text/plain": [
       "130"
      ]
     },
     "execution_count": 8,
     "metadata": {},
     "output_type": "execute_result"
    }
   ],
   "source": [
    "answers = unseen_data[target_label]\n",
    "unseen_data = unseen_data.drop(columns=[target_label])\n",
    "predicted = predict_model(model, data=unseen_data)\n",
    "compare_prediction_with_answers(predicted,answers)"
   ]
  },
  {
   "cell_type": "markdown",
   "metadata": {},
   "source": [
    "next, each section will read the unseen test data, permute values of specific feature as described, and check the number of errors while predicting the tuple with the manipulated unseen test data."
   ]
  },
  {
   "cell_type": "markdown",
   "metadata": {},
   "source": [
    "# fSSL_session_id_len column"
   ]
  },
  {
   "cell_type": "code",
   "execution_count": 9,
   "metadata": {},
   "outputs": [],
   "source": [
    "unseen_data = pd.read_csv(path+file_name+target_label+'_test.csv',\n",
    "                      sep='\\t',\n",
    "                      skiprows=[1])"
   ]
  },
  {
   "cell_type": "code",
   "execution_count": 10,
   "metadata": {
    "scrolled": true
   },
   "outputs": [],
   "source": [
    "cur_col = unseen_data.columns[0]\n",
    "unseen_data = get_rand_dataframe(unseen_data,cur_col)\n",
    "\n",
    "answers = unseen_data[target_label]\n",
    "unseen_data = unseen_data.drop(columns=[target_label])\n",
    "predicted = predict_model(model, data=unseen_data)\n",
    "result = compare_prediction_with_answers(predicted,answers)\n",
    "results_map[cur_col] = result"
   ]
  },
  {
   "cell_type": "markdown",
   "metadata": {},
   "source": [
    "# fSSL_num_extensions column"
   ]
  },
  {
   "cell_type": "code",
   "execution_count": 11,
   "metadata": {},
   "outputs": [],
   "source": [
    "unseen_data = pd.read_csv(path+file_name+target_label+'_test.csv',\n",
    "                      sep='\\t',\n",
    "                      skiprows=[1])"
   ]
  },
  {
   "cell_type": "code",
   "execution_count": 12,
   "metadata": {
    "scrolled": true
   },
   "outputs": [],
   "source": [
    "cur_col = data.columns[1]\n",
    "unseen_data = get_rand_dataframe(unseen_data,cur_col)\n",
    "answers = unseen_data[target_label]\n",
    "unseen_data = unseen_data.drop(columns=[target_label])\n",
    "predicted = predict_model(model, data=unseen_data)\n",
    "result = compare_prediction_with_answers(predicted,answers)\n",
    "results_map[cur_col] = result"
   ]
  },
  {
   "cell_type": "markdown",
   "metadata": {},
   "source": [
    "# SYN_tcp_scale"
   ]
  },
  {
   "cell_type": "code",
   "execution_count": 13,
   "metadata": {},
   "outputs": [],
   "source": [
    "unseen_data = pd.read_csv(path+file_name+target_label+'_test.csv',\n",
    "                      sep='\\t',\n",
    "                      skiprows=[1])"
   ]
  },
  {
   "cell_type": "code",
   "execution_count": 14,
   "metadata": {
    "scrolled": true
   },
   "outputs": [],
   "source": [
    "cur_col = data.columns[2]\n",
    "unseen_data = get_rand_dataframe(unseen_data,cur_col)\n",
    "answers = unseen_data[target_label]\n",
    "unseen_data = unseen_data.drop(columns=[target_label])\n",
    "predicted = predict_model(model, data=unseen_data)\n",
    "result = compare_prediction_with_answers(predicted,answers)\n",
    "results_map[cur_col] = result"
   ]
  },
  {
   "cell_type": "markdown",
   "metadata": {},
   "source": [
    "# SYN_tcp_winsize"
   ]
  },
  {
   "cell_type": "code",
   "execution_count": 15,
   "metadata": {},
   "outputs": [],
   "source": [
    "unseen_data = pd.read_csv(path+file_name+target_label+'_test.csv',\n",
    "                      sep='\\t',\n",
    "                      skiprows=[1])"
   ]
  },
  {
   "cell_type": "code",
   "execution_count": 16,
   "metadata": {
    "scrolled": true
   },
   "outputs": [],
   "source": [
    "cur_col = data.columns[3]\n",
    "unseen_data = get_rand_dataframe(unseen_data,cur_col)\n",
    "answers = unseen_data[target_label]\n",
    "unseen_data = unseen_data.drop(columns=[target_label])\n",
    "predicted = predict_model(model, data=unseen_data)\n",
    "result = compare_prediction_with_answers(predicted,answers)\n",
    "results_map[cur_col] = result"
   ]
  },
  {
   "cell_type": "markdown",
   "metadata": {},
   "source": [
    "# size_histogram_ column"
   ]
  },
  {
   "cell_type": "code",
   "execution_count": 17,
   "metadata": {},
   "outputs": [],
   "source": [
    "unseen_data = pd.read_csv(path+file_name+target_label+'_test.csv',\n",
    "                      sep='\\t',\n",
    "                      skiprows=[1])"
   ]
  },
  {
   "cell_type": "code",
   "execution_count": 18,
   "metadata": {
    "scrolled": true
   },
   "outputs": [],
   "source": [
    "cur_col = data.columns[4]\n",
    "unseen_data = get_rand_dataframe(unseen_data,cur_col)\n",
    "cur_col = data.columns[5]\n",
    "unseen_data = get_rand_dataframe(unseen_data,cur_col)\n",
    "cur_col = data.columns[6]\n",
    "unseen_data = get_rand_dataframe(unseen_data,cur_col)\n",
    "cur_col = data.columns[7]\n",
    "unseen_data = get_rand_dataframe(unseen_data,cur_col)\n",
    "cur_col = data.columns[8]\n",
    "unseen_data = get_rand_dataframe(unseen_data,cur_col)\n",
    "cur_col = data.columns[9]\n",
    "unseen_data = get_rand_dataframe(unseen_data,cur_col)\n",
    "cur_col = data.columns[10]\n",
    "unseen_data = get_rand_dataframe(unseen_data,cur_col)\n",
    "cur_col = data.columns[11]\n",
    "unseen_data = get_rand_dataframe(unseen_data,cur_col)\n",
    "cur_col = data.columns[12]\n",
    "unseen_data = get_rand_dataframe(unseen_data,cur_col)\n",
    "cur_col = data.columns[13]\n",
    "unseen_data = get_rand_dataframe(unseen_data,cur_col)\n",
    "\n",
    "answers = unseen_data[target_label]\n",
    "unseen_data = unseen_data.drop(columns=[target_label])\n",
    "predicted = predict_model(model, data=unseen_data)\n",
    "result = compare_prediction_with_answers(predicted,answers)\n",
    "results_map[cur_col] = result"
   ]
  },
  {
   "cell_type": "markdown",
   "metadata": {},
   "source": [
    "# Forward number of bursts column"
   ]
  },
  {
   "cell_type": "code",
   "execution_count": 19,
   "metadata": {},
   "outputs": [],
   "source": [
    "unseen_data = pd.read_csv(path+file_name+target_label+'_test.csv',\n",
    "                      sep='\\t',\n",
    "                      skiprows=[1])"
   ]
  },
  {
   "cell_type": "code",
   "execution_count": 20,
   "metadata": {
    "scrolled": true
   },
   "outputs": [],
   "source": [
    "cur_col = data.columns[15]\n",
    "unseen_data = get_rand_dataframe(unseen_data,cur_col)\n",
    "answers = unseen_data[target_label]\n",
    "unseen_data = unseen_data.drop(columns=[target_label])\n",
    "predicted = predict_model(model, data=unseen_data)\n",
    "result = compare_prediction_with_answers(predicted,answers)\n",
    "results_map[cur_col] = result"
   ]
  },
  {
   "cell_type": "markdown",
   "metadata": {},
   "source": [
    "# Forward peak MAX throughput"
   ]
  },
  {
   "cell_type": "markdown",
   "metadata": {},
   "source": [
    "# Mean throughput of forward peaks"
   ]
  },
  {
   "cell_type": "markdown",
   "metadata": {},
   "source": [
    "# Forward min peak throughput "
   ]
  },
  {
   "cell_type": "markdown",
   "metadata": {},
   "source": [
    "# Forward STD peak throughput"
   ]
  },
  {
   "cell_type": "code",
   "execution_count": 21,
   "metadata": {},
   "outputs": [],
   "source": [
    "unseen_data = pd.read_csv(path+file_name+target_label+'_test.csv',\n",
    "                      sep='\\t',\n",
    "                      skiprows=[1])"
   ]
  },
  {
   "cell_type": "code",
   "execution_count": 22,
   "metadata": {
    "scrolled": true
   },
   "outputs": [],
   "source": [
    "cur_col = data.columns[14]\n",
    "unseen_data = get_rand_dataframe(unseen_data,cur_col)\n",
    "cur_col = data.columns[16]\n",
    "unseen_data = get_rand_dataframe(unseen_data,cur_col)\n",
    "cur_col = data.columns[17]\n",
    "unseen_data = get_rand_dataframe(unseen_data,cur_col)\n",
    "cur_col = data.columns[18]\n",
    "unseen_data = get_rand_dataframe(unseen_data,cur_col)\n",
    "answers = unseen_data[target_label]\n",
    "unseen_data = unseen_data.drop(columns=[target_label])\n",
    "predicted = predict_model(model, data=unseen_data)\n",
    "result = compare_prediction_with_answers(predicted,answers)\n",
    "results_map[cur_col] = result"
   ]
  },
  {
   "cell_type": "markdown",
   "metadata": {},
   "source": [
    "# Mean forward peak inter arrival time diff"
   ]
  },
  {
   "cell_type": "markdown",
   "metadata": {},
   "source": [
    "# Minimum forward peak inter arrival time diff"
   ]
  },
  {
   "cell_type": "markdown",
   "metadata": {},
   "source": [
    "# Maximum forward peak inter arrival time diff"
   ]
  },
  {
   "cell_type": "markdown",
   "metadata": {},
   "source": [
    "# STD forward peak inter arrival time diff"
   ]
  },
  {
   "cell_type": "code",
   "execution_count": 23,
   "metadata": {},
   "outputs": [],
   "source": [
    "unseen_data = pd.read_csv(path+file_name+target_label+'_test.csv',\n",
    "                      sep='\\t',\n",
    "                      skiprows=[1])"
   ]
  },
  {
   "cell_type": "code",
   "execution_count": 24,
   "metadata": {
    "scrolled": true
   },
   "outputs": [],
   "source": [
    "cur_col = data.columns[19]\n",
    "unseen_data = get_rand_dataframe(unseen_data,cur_col)\n",
    "cur_col = data.columns[20]\n",
    "unseen_data = get_rand_dataframe(unseen_data,cur_col)\n",
    "cur_col = data.columns[21]\n",
    "unseen_data = get_rand_dataframe(unseen_data,cur_col)\n",
    "cur_col = data.columns[22]\n",
    "unseen_data = get_rand_dataframe(unseen_data,cur_col)\n",
    "\n",
    "answers = unseen_data[target_label]\n",
    "unseen_data = unseen_data.drop(columns=[target_label])\n",
    "predicted = predict_model(model, data=unseen_data)\n",
    "result = compare_prediction_with_answers(predicted,answers)\n",
    "results_map[cur_col] = result"
   ]
  },
  {
   "cell_type": "markdown",
   "metadata": {},
   "source": [
    "# Mean throughput of backward peaks"
   ]
  },
  {
   "cell_type": "markdown",
   "metadata": {},
   "source": [
    "# Max throughput of backward peaks"
   ]
  },
  {
   "cell_type": "markdown",
   "metadata": {},
   "source": [
    "# Backward min peak throughput"
   ]
  },
  {
   "cell_type": "markdown",
   "metadata": {},
   "source": [
    "# Backward STD peak throughput"
   ]
  },
  {
   "cell_type": "code",
   "execution_count": 25,
   "metadata": {},
   "outputs": [],
   "source": [
    "unseen_data = pd.read_csv(path+file_name+target_label+'_test.csv',\n",
    "                      sep='\\t',\n",
    "                      skiprows=[1])"
   ]
  },
  {
   "cell_type": "code",
   "execution_count": 26,
   "metadata": {
    "scrolled": true
   },
   "outputs": [],
   "source": [
    "cur_col = data.columns[23]\n",
    "unseen_data = get_rand_dataframe(unseen_data,cur_col)\n",
    "cur_col = data.columns[24]\n",
    "unseen_data = get_rand_dataframe(unseen_data,cur_col)\n",
    "cur_col = data.columns[25]\n",
    "unseen_data = get_rand_dataframe(unseen_data,cur_col)\n",
    "cur_col = data.columns[26]\n",
    "unseen_data = get_rand_dataframe(unseen_data,cur_col)\n",
    "\n",
    "answers = unseen_data[target_label]\n",
    "unseen_data = unseen_data.drop(columns=[target_label])\n",
    "predicted = predict_model(model, data=unseen_data)\n",
    "result = compare_prediction_with_answers(predicted,answers)\n",
    "results_map[cur_col] = result"
   ]
  },
  {
   "cell_type": "markdown",
   "metadata": {},
   "source": [
    "# Backward number of bursts"
   ]
  },
  {
   "cell_type": "code",
   "execution_count": 27,
   "metadata": {},
   "outputs": [],
   "source": [
    "unseen_data = pd.read_csv(path+file_name+target_label+'_test.csv',\n",
    "                      sep='\\t',\n",
    "                      skiprows=[1])"
   ]
  },
  {
   "cell_type": "code",
   "execution_count": 28,
   "metadata": {
    "scrolled": false
   },
   "outputs": [],
   "source": [
    "cur_col = data.columns[27]\n",
    "unseen_data = get_rand_dataframe(unseen_data,cur_col)\n",
    "answers = unseen_data[target_label]\n",
    "unseen_data = unseen_data.drop(columns=[target_label])\n",
    "predicted = predict_model(model, data=unseen_data)\n",
    "result = compare_prediction_with_answers(predicted,answers)\n",
    "results_map[cur_col] = result"
   ]
  },
  {
   "cell_type": "markdown",
   "metadata": {},
   "source": [
    "# Mean backward peak inter arrival time diff"
   ]
  },
  {
   "cell_type": "markdown",
   "metadata": {},
   "source": [
    "# Minimum backward peak inter arrival time diff"
   ]
  },
  {
   "cell_type": "markdown",
   "metadata": {},
   "source": [
    "# Maximum backward peak inter arrival time diff"
   ]
  },
  {
   "cell_type": "markdown",
   "metadata": {},
   "source": [
    "# STD backward peak inter arrival time diff"
   ]
  },
  {
   "cell_type": "code",
   "execution_count": 29,
   "metadata": {},
   "outputs": [],
   "source": [
    "unseen_data = pd.read_csv(path+file_name+target_label+'_test.csv',\n",
    "                      sep='\\t',\n",
    "                      skiprows=[1])"
   ]
  },
  {
   "cell_type": "code",
   "execution_count": 30,
   "metadata": {
    "scrolled": true
   },
   "outputs": [],
   "source": [
    "cur_col = data.columns[28]\n",
    "unseen_data = get_rand_dataframe(unseen_data,cur_col)\n",
    "cur_col = data.columns[29]\n",
    "unseen_data = get_rand_dataframe(unseen_data,cur_col)\n",
    "cur_col = data.columns[30]\n",
    "unseen_data = get_rand_dataframe(unseen_data,cur_col)\n",
    "cur_col = data.columns[31]\n",
    "unseen_data = get_rand_dataframe(unseen_data,cur_col)\n",
    "\n",
    "answers = unseen_data[target_label]\n",
    "unseen_data = unseen_data.drop(columns=[target_label])\n",
    "predicted = predict_model(model, data=unseen_data)\n",
    "result = compare_prediction_with_answers(predicted,answers)\n",
    "results_map[cur_col] = result"
   ]
  },
  {
   "cell_type": "markdown",
   "metadata": {},
   "source": [
    "# packet_count column"
   ]
  },
  {
   "cell_type": "code",
   "execution_count": 31,
   "metadata": {},
   "outputs": [],
   "source": [
    "unseen_data = pd.read_csv(path+file_name+target_label+'_test.csv',\n",
    "                      sep='\\t',\n",
    "                      skiprows=[1])"
   ]
  },
  {
   "cell_type": "code",
   "execution_count": 32,
   "metadata": {
    "scrolled": true
   },
   "outputs": [],
   "source": [
    "cur_col = data.columns[32]\n",
    "unseen_data = get_rand_dataframe(unseen_data,cur_col)\n",
    "\n",
    "answers = unseen_data[target_label]\n",
    "unseen_data = unseen_data.drop(columns=[target_label])\n",
    "predicted = predict_model(model, data=unseen_data)\n",
    "result = compare_prediction_with_answers(predicted,answers)\n",
    "results_map[cur_col] = result"
   ]
  },
  {
   "cell_type": "markdown",
   "metadata": {},
   "source": [
    "# max_packet_size column"
   ]
  },
  {
   "cell_type": "markdown",
   "metadata": {},
   "source": [
    "# min_packet_size column"
   ]
  },
  {
   "cell_type": "markdown",
   "metadata": {},
   "source": [
    "# mean_packet_size"
   ]
  },
  {
   "cell_type": "markdown",
   "metadata": {},
   "source": [
    "# sizevar"
   ]
  },
  {
   "cell_type": "code",
   "execution_count": 33,
   "metadata": {},
   "outputs": [],
   "source": [
    "unseen_data = pd.read_csv(path+file_name+target_label+'_test.csv',\n",
    "                      sep='\\t',\n",
    "                      skiprows=[1])"
   ]
  },
  {
   "cell_type": "code",
   "execution_count": 34,
   "metadata": {
    "scrolled": true
   },
   "outputs": [],
   "source": [
    "cur_col = data.columns[33]\n",
    "unseen_data = get_rand_dataframe(unseen_data,cur_col)\n",
    "cur_col = data.columns[34]\n",
    "unseen_data = get_rand_dataframe(unseen_data,cur_col)\n",
    "cur_col = data.columns[35]\n",
    "unseen_data = get_rand_dataframe(unseen_data,cur_col)\n",
    "cur_col = data.columns[36]\n",
    "unseen_data = get_rand_dataframe(unseen_data,cur_col)\n",
    "\n",
    "answers = unseen_data[target_label]\n",
    "unseen_data = unseen_data.drop(columns=[target_label])\n",
    "predicted = predict_model(model, data=unseen_data)\n",
    "result = compare_prediction_with_answers(predicted,answers)\n",
    "results_map[cur_col] = result"
   ]
  },
  {
   "cell_type": "markdown",
   "metadata": {},
   "source": [
    "# fpackets column"
   ]
  },
  {
   "cell_type": "markdown",
   "metadata": {},
   "source": [
    "# fbytes column"
   ]
  },
  {
   "cell_type": "code",
   "execution_count": 35,
   "metadata": {},
   "outputs": [],
   "source": [
    "unseen_data = pd.read_csv(path+file_name+target_label+'_test.csv',\n",
    "                      sep='\\t',\n",
    "                      skiprows=[1])"
   ]
  },
  {
   "cell_type": "code",
   "execution_count": 36,
   "metadata": {
    "scrolled": true
   },
   "outputs": [],
   "source": [
    "cur_col = data.columns[38]\n",
    "unseen_data = get_rand_dataframe(unseen_data,cur_col)\n",
    "cur_col = data.columns[40]\n",
    "unseen_data = get_rand_dataframe(unseen_data,cur_col)\n",
    "\n",
    "answers = unseen_data[target_label]\n",
    "unseen_data = unseen_data.drop(columns=[target_label])\n",
    "predicted = predict_model(model, data=unseen_data)\n",
    "result = compare_prediction_with_answers(predicted,answers)\n",
    "results_map[cur_col] = result"
   ]
  },
  {
   "cell_type": "markdown",
   "metadata": {},
   "source": [
    "# bpackets column"
   ]
  },
  {
   "cell_type": "markdown",
   "metadata": {},
   "source": [
    "# bbytes column"
   ]
  },
  {
   "cell_type": "code",
   "execution_count": 37,
   "metadata": {},
   "outputs": [],
   "source": [
    "unseen_data = pd.read_csv(path+file_name+target_label+'_test.csv',\n",
    "                      sep='\\t',\n",
    "                      skiprows=[1])"
   ]
  },
  {
   "cell_type": "code",
   "execution_count": 38,
   "metadata": {
    "scrolled": true
   },
   "outputs": [],
   "source": [
    "cur_col = data.columns[39]\n",
    "unseen_data = get_rand_dataframe(unseen_data,cur_col)\n",
    "cur_col = data.columns[41]\n",
    "unseen_data = get_rand_dataframe(unseen_data,cur_col)\n",
    "\n",
    "answers = unseen_data[target_label]\n",
    "unseen_data = unseen_data.drop(columns=[target_label])\n",
    "predicted = predict_model(model, data=unseen_data)\n",
    "result = compare_prediction_with_answers(predicted,answers)\n",
    "results_map[cur_col] = result"
   ]
  },
  {
   "cell_type": "markdown",
   "metadata": {},
   "source": [
    "# max_biat column"
   ]
  },
  {
   "cell_type": "markdown",
   "metadata": {},
   "source": [
    "# mean_biat column"
   ]
  },
  {
   "cell_type": "markdown",
   "metadata": {},
   "source": [
    "# std_biat column"
   ]
  },
  {
   "cell_type": "code",
   "execution_count": 39,
   "metadata": {},
   "outputs": [],
   "source": [
    "unseen_data = pd.read_csv(path+file_name+target_label+'_test.csv',\n",
    "                      sep='\\t',\n",
    "                      skiprows=[1])"
   ]
  },
  {
   "cell_type": "code",
   "execution_count": 40,
   "metadata": {
    "scrolled": true
   },
   "outputs": [],
   "source": [
    "cur_col = data.columns[43]\n",
    "unseen_data = get_rand_dataframe(unseen_data,cur_col)\n",
    "cur_col = data.columns[46]\n",
    "unseen_data = get_rand_dataframe(unseen_data,cur_col)\n",
    "cur_col = data.columns[44]\n",
    "unseen_data = get_rand_dataframe(unseen_data,cur_col)\n",
    "\n",
    "answers = unseen_data[target_label]\n",
    "unseen_data = unseen_data.drop(columns=[target_label])\n",
    "predicted = predict_model(model, data=unseen_data)\n",
    "result = compare_prediction_with_answers(predicted,answers)\n",
    "results_map[cur_col] = result"
   ]
  },
  {
   "cell_type": "markdown",
   "metadata": {},
   "source": [
    "# max_fiat column"
   ]
  },
  {
   "cell_type": "markdown",
   "metadata": {},
   "source": [
    "# mean_fiat column"
   ]
  },
  {
   "cell_type": "markdown",
   "metadata": {},
   "source": [
    "# std_fiat column"
   ]
  },
  {
   "cell_type": "code",
   "execution_count": 41,
   "metadata": {},
   "outputs": [],
   "source": [
    "unseen_data = pd.read_csv(path+file_name+target_label+'_test.csv',\n",
    "                      sep='\\t',\n",
    "                      skiprows=[1])"
   ]
  },
  {
   "cell_type": "code",
   "execution_count": 42,
   "metadata": {
    "scrolled": true
   },
   "outputs": [],
   "source": [
    "cur_col = data.columns[42]\n",
    "unseen_data = get_rand_dataframe(unseen_data,cur_col)\n",
    "cur_col = data.columns[45]\n",
    "unseen_data = get_rand_dataframe(unseen_data,cur_col)\n",
    "cur_col = data.columns[37]\n",
    "unseen_data = get_rand_dataframe(unseen_data,cur_col)\n",
    "\n",
    "answers = unseen_data[target_label]\n",
    "unseen_data = unseen_data.drop(columns=[target_label])\n",
    "predicted = predict_model(model, data=unseen_data)\n",
    "result = compare_prediction_with_answers(predicted,answers)\n",
    "results_map[cur_col] = result"
   ]
  },
  {
   "cell_type": "markdown",
   "metadata": {},
   "source": [
    "# min_fpkt column"
   ]
  },
  {
   "cell_type": "markdown",
   "metadata": {},
   "source": [
    "# max_fpkt column"
   ]
  },
  {
   "cell_type": "markdown",
   "metadata": {},
   "source": [
    "# std_fpkt column"
   ]
  },
  {
   "cell_type": "markdown",
   "metadata": {},
   "source": [
    "# mean_fpkt column"
   ]
  },
  {
   "cell_type": "code",
   "execution_count": 43,
   "metadata": {},
   "outputs": [],
   "source": [
    "unseen_data = pd.read_csv(path+file_name+target_label+'_test.csv',\n",
    "                      sep='\\t',\n",
    "                      skiprows=[1])"
   ]
  },
  {
   "cell_type": "code",
   "execution_count": 44,
   "metadata": {
    "scrolled": true
   },
   "outputs": [],
   "source": [
    "cur_col = data.columns[47]\n",
    "unseen_data = get_rand_dataframe(unseen_data,cur_col)\n",
    "cur_col = data.columns[49]\n",
    "unseen_data = get_rand_dataframe(unseen_data,cur_col)\n",
    "cur_col = data.columns[51]\n",
    "unseen_data = get_rand_dataframe(unseen_data,cur_col)\n",
    "cur_col = data.columns[53]\n",
    "unseen_data = get_rand_dataframe(unseen_data,cur_col)\n",
    "\n",
    "answers = unseen_data[target_label]\n",
    "unseen_data = unseen_data.drop(columns=[target_label])\n",
    "predicted = predict_model(model, data=unseen_data)\n",
    "result = compare_prediction_with_answers(predicted,answers)\n",
    "results_map[cur_col] = result"
   ]
  },
  {
   "cell_type": "markdown",
   "metadata": {},
   "source": [
    "# min_bpkt column"
   ]
  },
  {
   "cell_type": "markdown",
   "metadata": {},
   "source": [
    "# max_bpkt column"
   ]
  },
  {
   "cell_type": "markdown",
   "metadata": {},
   "source": [
    "# std_bpkt column"
   ]
  },
  {
   "cell_type": "markdown",
   "metadata": {},
   "source": [
    "# mean_bpkt column"
   ]
  },
  {
   "cell_type": "code",
   "execution_count": 45,
   "metadata": {},
   "outputs": [],
   "source": [
    "unseen_data = pd.read_csv(path+file_name+target_label+'_test.csv',\n",
    "                      sep='\\t',\n",
    "                      skiprows=[1])"
   ]
  },
  {
   "cell_type": "code",
   "execution_count": 46,
   "metadata": {
    "scrolled": true
   },
   "outputs": [],
   "source": [
    "cur_col = data.columns[48]\n",
    "unseen_data = get_rand_dataframe(unseen_data,cur_col)\n",
    "cur_col = data.columns[50]\n",
    "unseen_data = get_rand_dataframe(unseen_data,cur_col)\n",
    "cur_col = data.columns[52]\n",
    "unseen_data = get_rand_dataframe(unseen_data,cur_col)\n",
    "cur_col = data.columns[54]\n",
    "unseen_data = get_rand_dataframe(unseen_data,cur_col)\n",
    "\n",
    "answers = unseen_data[target_label]\n",
    "unseen_data = unseen_data.drop(columns=[target_label])\n",
    "predicted = predict_model(model, data=unseen_data)\n",
    "result = compare_prediction_with_answers(predicted,answers)\n",
    "results_map[cur_col] = result"
   ]
  },
  {
   "cell_type": "markdown",
   "metadata": {},
   "source": [
    "# num_keep_alive column"
   ]
  },
  {
   "cell_type": "code",
   "execution_count": 47,
   "metadata": {},
   "outputs": [],
   "source": [
    "unseen_data = pd.read_csv(path+file_name+target_label+'_test.csv',\n",
    "                      sep='\\t',\n",
    "                      skiprows=[1])"
   ]
  },
  {
   "cell_type": "code",
   "execution_count": 48,
   "metadata": {
    "scrolled": true
   },
   "outputs": [],
   "source": [
    "cur_col = unseen_data.columns[55]\n",
    "unseen_data = get_rand_dataframe(unseen_data,cur_col)\n",
    "\n",
    "answers = unseen_data[target_label]\n",
    "unseen_data = unseen_data.drop(columns=[target_label])\n",
    "predicted = predict_model(model, data=unseen_data)\n",
    "result = compare_prediction_with_answers(predicted,answers)\n",
    "results_map[cur_col] = result"
   ]
  },
  {
   "cell_type": "markdown",
   "metadata": {},
   "source": [
    "# ssl_v column"
   ]
  },
  {
   "cell_type": "code",
   "execution_count": 49,
   "metadata": {},
   "outputs": [],
   "source": [
    "unseen_data = pd.read_csv(path+file_name+target_label+'_test.csv',\n",
    "                      sep='\\t',\n",
    "                      skiprows=[1])"
   ]
  },
  {
   "cell_type": "code",
   "execution_count": 50,
   "metadata": {
    "scrolled": true
   },
   "outputs": [],
   "source": [
    "cur_col = data.columns[57]\n",
    "unseen_data = get_rand_dataframe(unseen_data,cur_col)\n",
    "\n",
    "answers = unseen_data[target_label]\n",
    "unseen_data = unseen_data.drop(columns=[target_label])\n",
    "predicted = predict_model(model, data=unseen_data)\n",
    "result = compare_prediction_with_answers(predicted,answers)\n",
    "results_map[cur_col] = result"
   ]
  },
  {
   "cell_type": "markdown",
   "metadata": {},
   "source": [
    "# fcipher_suites column"
   ]
  },
  {
   "cell_type": "code",
   "execution_count": 51,
   "metadata": {},
   "outputs": [],
   "source": [
    "unseen_data = pd.read_csv(path+file_name+target_label+'_test.csv',\n",
    "                      sep='\\t',\n",
    "                      skiprows=[1])"
   ]
  },
  {
   "cell_type": "code",
   "execution_count": 52,
   "metadata": {
    "scrolled": true
   },
   "outputs": [],
   "source": [
    "cur_col = data.columns[58]\n",
    "unseen_data = get_rand_dataframe(unseen_data,cur_col)\n",
    "\n",
    "answers = unseen_data[target_label]\n",
    "unseen_data = unseen_data.drop(columns=[target_label])\n",
    "predicted = predict_model(model, data=unseen_data)\n",
    "result = compare_prediction_with_answers(predicted,answers)\n",
    "results_map[cur_col] = result"
   ]
  },
  {
   "cell_type": "markdown",
   "metadata": {},
   "source": [
    "# mean_fttl column"
   ]
  },
  {
   "cell_type": "code",
   "execution_count": 53,
   "metadata": {},
   "outputs": [],
   "source": [
    "unseen_data = pd.read_csv(path+file_name+target_label+'_test.csv',\n",
    "                      sep='\\t',\n",
    "                      skiprows=[1])"
   ]
  },
  {
   "cell_type": "code",
   "execution_count": 54,
   "metadata": {
    "scrolled": true
   },
   "outputs": [],
   "source": [
    "cur_col = data.columns[59]\n",
    "unseen_data = get_rand_dataframe(unseen_data,cur_col)\n",
    "\n",
    "answers = unseen_data[target_label]\n",
    "unseen_data = unseen_data.drop(columns=[target_label])\n",
    "predicted = predict_model(model, data=unseen_data)\n",
    "result = compare_prediction_with_answers(predicted,answers)\n",
    "results_map[cur_col] = result"
   ]
  },
  {
   "cell_type": "markdown",
   "metadata": {},
   "source": [
    "# Results Map"
   ]
  },
  {
   "cell_type": "code",
   "execution_count": 55,
   "metadata": {},
   "outputs": [
    {
     "data": {
      "text/plain": [
       "[('SYN_tcp_winsize', 2175),\n",
       " ('ssl_v', 584),\n",
       " ('fcipher_suites', 575),\n",
       " ('mean_fpkt', 378),\n",
       " ('size_histogram_10', 342),\n",
       " ('bpeak_features_9', 315),\n",
       " ('fSSL_num_extensions', 287),\n",
       " ('fSSL_session_id_len', 285),\n",
       " ('bpeak_features_4', 222),\n",
       " ('std_biat', 202),\n",
       " ('sizevar', 189),\n",
       " ('std_fiat', 180),\n",
       " ('mean_bpkt', 177),\n",
       " ('fpeak_features_9', 164),\n",
       " ('fpeak_features_5', 144),\n",
       " ('bbytes', 140),\n",
       " ('SYN_tcp_scale', 134),\n",
       " ('packet_count', 132),\n",
       " ('fbytes', 132),\n",
       " ('fpeak_features_2', 131),\n",
       " ('bpeak_features_5', 130),\n",
       " ('num_keep_alive', 130),\n",
       " ('mean_fttl', 129)]"
      ]
     },
     "execution_count": 55,
     "metadata": {},
     "output_type": "execute_result"
    }
   ],
   "source": [
    "[(k, v) for k, v in sorted(results_map.items(), key=lambda x: x[1], reverse=True)]"
   ]
  },
  {
   "cell_type": "markdown",
   "metadata": {},
   "source": [
    "the above present the number of errors while permuting the matched features values"
   ]
  },
  {
   "cell_type": "code",
   "execution_count": null,
   "metadata": {},
   "outputs": [],
   "source": []
  }
 ],
 "metadata": {
  "kernelspec": {
   "display_name": "Python 3.8.3 64-bit ('base': conda)",
   "language": "python",
   "name": "python38364bitbasecondaed19ee87b6844ca4b2207fe8765813ad"
  },
  "language_info": {
   "codemirror_mode": {
    "name": "ipython",
    "version": 3
   },
   "file_extension": ".py",
   "mimetype": "text/x-python",
   "name": "python",
   "nbconvert_exporter": "python",
   "pygments_lexer": "ipython3",
   "version": "3.8.5"
  }
 },
 "nbformat": 4,
 "nbformat_minor": 4
}
