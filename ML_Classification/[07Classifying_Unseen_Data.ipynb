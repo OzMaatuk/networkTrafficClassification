{
 "cells": [
  {
   "cell_type": "markdown",
   "metadata": {},
   "source": [
    "# Classifying unseen data\n",
    "this notebook will build Extra-Trees classifier using based on 70% of our data, and then test it over the other 30%. NOTE the data splited blanced."
   ]
  },
  {
   "cell_type": "markdown",
   "metadata": {},
   "source": [
    "# Import"
   ]
  },
  {
   "cell_type": "code",
   "execution_count": 1,
   "metadata": {},
   "outputs": [],
   "source": [
    "import pandas as pd\n",
    "from pycaret.classification import *\n",
    "import time"
   ]
  },
  {
   "cell_type": "markdown",
   "metadata": {},
   "source": [
    "# Settings"
   ]
  },
  {
   "cell_type": "code",
   "execution_count": 2,
   "metadata": {},
   "outputs": [],
   "source": [
    "# set constants\n",
    "target_label = 'tuple'\n",
    "learning_model = ['rf'] # ['rf','et','lightgbm','xgboost']\n",
    "num_features = ['min_packet_size', 'min_fpkt', 'min_bpkt']\n",
    "file_name = \"new_all_features_\"\n",
    "path = \"../Datasets/\" + target_label + \"_dataset/\""
   ]
  },
  {
   "cell_type": "code",
   "execution_count": 3,
   "metadata": {},
   "outputs": [],
   "source": [
    "# function for making model-prediction over the data set and measure the run time \n",
    "def timed_prediction(in_data,in_model):\n",
    "    t = time.process_time()\n",
    "    predicted = predict_model(in_model, data=in_data)\n",
    "    elapsed_time = time.process_time() - t\n",
    "    print(\"prediction took: \" + str(elapsed_time))\n",
    "    return predicted"
   ]
  },
  {
   "cell_type": "code",
   "execution_count": 23,
   "metadata": {},
   "outputs": [],
   "source": [
    "# compare answers and labeled test\n",
    "def compare_prediction_with_answers(in_predicted, in_answers):\n",
    "    count=0\n",
    "    index = in_predicted.index\n",
    "    number_of_rows = len(index)\n",
    "    errors_arr = []\n",
    "    for i in range(0,number_of_rows):\n",
    "        if str(int(in_answers.iloc[i])) != str(int(in_predicted.iloc[i]['Label'])):\n",
    "            count=count+1\n",
    "            cur_error = str(in_answers[i]) + \"!=\" + str(in_predicted.iloc[i]['Label'])\n",
    "            errors_arr.append(cur_error)\n",
    "#             print(\"error in line \" + str(i) +\n",
    "#                   \" \" + str(in_answers[i]) +\n",
    "#                   \"!=\" + str(in_predicted.iloc[i]['Label']))\n",
    "#     print(\"Errors: \" + str(errors_arr))\n",
    "    print(\"Number of error: \" + str(count) + \" from \" +\n",
    "          str(number_of_rows) + \" test samples \\nWhich is \"\n",
    "          + str(100*count/number_of_rows) + \"% of error.\")"
   ]
  },
  {
   "cell_type": "code",
   "execution_count": 5,
   "metadata": {},
   "outputs": [],
   "source": [
    "# function for checkign the correction of the model-prediction over the data\n",
    "def check_correction(in_predicted):\n",
    "    in_answers=in_predicted['Label']\n",
    "    compare_prediction_with_answers(in_predicted, in_answers)"
   ]
  },
  {
   "cell_type": "markdown",
   "metadata": {},
   "source": [
    "# Read Data"
   ]
  },
  {
   "cell_type": "code",
   "execution_count": 6,
   "metadata": {},
   "outputs": [],
   "source": [
    "data = pd.read_csv(path+file_name+target_label+'_train.csv',\n",
    "                      sep='\\t',\n",
    "                      skiprows=[1])"
   ]
  },
  {
   "cell_type": "code",
   "execution_count": 7,
   "metadata": {
    "scrolled": true
   },
   "outputs": [
    {
     "data": {
      "text/plain": [
       "array([16102, 14602, 15602, 18102, 13102, 11602, 16201, 13201, 18201,\n",
       "       16101, 13101, 18101, 16202, 18202, 13202, 16302, 18302, 13302,\n",
       "       13403, 18403, 17403, 14601, 17101, 12101, 17201, 12201, 16403,\n",
       "       16103, 13103, 18103], dtype=int64)"
      ]
     },
     "execution_count": 7,
     "metadata": {},
     "output_type": "execute_result"
    }
   ],
   "source": [
    "data[target_label].unique()"
   ]
  },
  {
   "cell_type": "markdown",
   "metadata": {},
   "source": [
    "# Setup Classifier and Comparing Learning Models"
   ]
  },
  {
   "cell_type": "code",
   "execution_count": 10,
   "metadata": {
    "tags": []
   },
   "outputs": [
    {
     "data": {
      "text/html": [
       "<style  type=\"text/css\" >\n",
       "#T_5b5bcb92_282e_11eb_9de2_00d8610889aerow10_col0,#T_5b5bcb92_282e_11eb_9de2_00d8610889aerow10_col1,#T_5b5bcb92_282e_11eb_9de2_00d8610889aerow10_col2,#T_5b5bcb92_282e_11eb_9de2_00d8610889aerow10_col3,#T_5b5bcb92_282e_11eb_9de2_00d8610889aerow10_col4,#T_5b5bcb92_282e_11eb_9de2_00d8610889aerow10_col5,#T_5b5bcb92_282e_11eb_9de2_00d8610889aerow10_col6{\n",
       "            background:  yellow;\n",
       "        }</style><table id=\"T_5b5bcb92_282e_11eb_9de2_00d8610889ae\" ><thead>    <tr>        <th class=\"blank level0\" ></th>        <th class=\"col_heading level0 col0\" >Accuracy</th>        <th class=\"col_heading level0 col1\" >AUC</th>        <th class=\"col_heading level0 col2\" >Recall</th>        <th class=\"col_heading level0 col3\" >Prec.</th>        <th class=\"col_heading level0 col4\" >F1</th>        <th class=\"col_heading level0 col5\" >Kappa</th>        <th class=\"col_heading level0 col6\" >MCC</th>    </tr></thead><tbody>\n",
       "                <tr>\n",
       "                        <th id=\"T_5b5bcb92_282e_11eb_9de2_00d8610889aelevel0_row0\" class=\"row_heading level0 row0\" >0</th>\n",
       "                        <td id=\"T_5b5bcb92_282e_11eb_9de2_00d8610889aerow0_col0\" class=\"data row0 col0\" >0.9693</td>\n",
       "                        <td id=\"T_5b5bcb92_282e_11eb_9de2_00d8610889aerow0_col1\" class=\"data row0 col1\" >0.0000</td>\n",
       "                        <td id=\"T_5b5bcb92_282e_11eb_9de2_00d8610889aerow0_col2\" class=\"data row0 col2\" >0.9034</td>\n",
       "                        <td id=\"T_5b5bcb92_282e_11eb_9de2_00d8610889aerow0_col3\" class=\"data row0 col3\" >0.9697</td>\n",
       "                        <td id=\"T_5b5bcb92_282e_11eb_9de2_00d8610889aerow0_col4\" class=\"data row0 col4\" >0.9683</td>\n",
       "                        <td id=\"T_5b5bcb92_282e_11eb_9de2_00d8610889aerow0_col5\" class=\"data row0 col5\" >0.9641</td>\n",
       "                        <td id=\"T_5b5bcb92_282e_11eb_9de2_00d8610889aerow0_col6\" class=\"data row0 col6\" >0.9642</td>\n",
       "            </tr>\n",
       "            <tr>\n",
       "                        <th id=\"T_5b5bcb92_282e_11eb_9de2_00d8610889aelevel0_row1\" class=\"row_heading level0 row1\" >1</th>\n",
       "                        <td id=\"T_5b5bcb92_282e_11eb_9de2_00d8610889aerow1_col0\" class=\"data row1 col0\" >0.9654</td>\n",
       "                        <td id=\"T_5b5bcb92_282e_11eb_9de2_00d8610889aerow1_col1\" class=\"data row1 col1\" >0.0000</td>\n",
       "                        <td id=\"T_5b5bcb92_282e_11eb_9de2_00d8610889aerow1_col2\" class=\"data row1 col2\" >0.8731</td>\n",
       "                        <td id=\"T_5b5bcb92_282e_11eb_9de2_00d8610889aerow1_col3\" class=\"data row1 col3\" >0.9651</td>\n",
       "                        <td id=\"T_5b5bcb92_282e_11eb_9de2_00d8610889aerow1_col4\" class=\"data row1 col4\" >0.9637</td>\n",
       "                        <td id=\"T_5b5bcb92_282e_11eb_9de2_00d8610889aerow1_col5\" class=\"data row1 col5\" >0.9595</td>\n",
       "                        <td id=\"T_5b5bcb92_282e_11eb_9de2_00d8610889aerow1_col6\" class=\"data row1 col6\" >0.9595</td>\n",
       "            </tr>\n",
       "            <tr>\n",
       "                        <th id=\"T_5b5bcb92_282e_11eb_9de2_00d8610889aelevel0_row2\" class=\"row_heading level0 row2\" >2</th>\n",
       "                        <td id=\"T_5b5bcb92_282e_11eb_9de2_00d8610889aerow2_col0\" class=\"data row2 col0\" >0.9832</td>\n",
       "                        <td id=\"T_5b5bcb92_282e_11eb_9de2_00d8610889aerow2_col1\" class=\"data row2 col1\" >0.0000</td>\n",
       "                        <td id=\"T_5b5bcb92_282e_11eb_9de2_00d8610889aerow2_col2\" class=\"data row2 col2\" >0.9324</td>\n",
       "                        <td id=\"T_5b5bcb92_282e_11eb_9de2_00d8610889aerow2_col3\" class=\"data row2 col3\" >0.9841</td>\n",
       "                        <td id=\"T_5b5bcb92_282e_11eb_9de2_00d8610889aerow2_col4\" class=\"data row2 col4\" >0.9828</td>\n",
       "                        <td id=\"T_5b5bcb92_282e_11eb_9de2_00d8610889aerow2_col5\" class=\"data row2 col5\" >0.9803</td>\n",
       "                        <td id=\"T_5b5bcb92_282e_11eb_9de2_00d8610889aerow2_col6\" class=\"data row2 col6\" >0.9803</td>\n",
       "            </tr>\n",
       "            <tr>\n",
       "                        <th id=\"T_5b5bcb92_282e_11eb_9de2_00d8610889aelevel0_row3\" class=\"row_heading level0 row3\" >3</th>\n",
       "                        <td id=\"T_5b5bcb92_282e_11eb_9de2_00d8610889aerow3_col0\" class=\"data row3 col0\" >0.9753</td>\n",
       "                        <td id=\"T_5b5bcb92_282e_11eb_9de2_00d8610889aerow3_col1\" class=\"data row3 col1\" >0.0000</td>\n",
       "                        <td id=\"T_5b5bcb92_282e_11eb_9de2_00d8610889aerow3_col2\" class=\"data row3 col2\" >0.8624</td>\n",
       "                        <td id=\"T_5b5bcb92_282e_11eb_9de2_00d8610889aerow3_col3\" class=\"data row3 col3\" >0.9734</td>\n",
       "                        <td id=\"T_5b5bcb92_282e_11eb_9de2_00d8610889aerow3_col4\" class=\"data row3 col4\" >0.9739</td>\n",
       "                        <td id=\"T_5b5bcb92_282e_11eb_9de2_00d8610889aerow3_col5\" class=\"data row3 col5\" >0.9711</td>\n",
       "                        <td id=\"T_5b5bcb92_282e_11eb_9de2_00d8610889aerow3_col6\" class=\"data row3 col6\" >0.9711</td>\n",
       "            </tr>\n",
       "            <tr>\n",
       "                        <th id=\"T_5b5bcb92_282e_11eb_9de2_00d8610889aelevel0_row4\" class=\"row_heading level0 row4\" >4</th>\n",
       "                        <td id=\"T_5b5bcb92_282e_11eb_9de2_00d8610889aerow4_col0\" class=\"data row4 col0\" >0.9782</td>\n",
       "                        <td id=\"T_5b5bcb92_282e_11eb_9de2_00d8610889aerow4_col1\" class=\"data row4 col1\" >0.0000</td>\n",
       "                        <td id=\"T_5b5bcb92_282e_11eb_9de2_00d8610889aerow4_col2\" class=\"data row4 col2\" >0.9186</td>\n",
       "                        <td id=\"T_5b5bcb92_282e_11eb_9de2_00d8610889aerow4_col3\" class=\"data row4 col3\" >0.9782</td>\n",
       "                        <td id=\"T_5b5bcb92_282e_11eb_9de2_00d8610889aerow4_col4\" class=\"data row4 col4\" >0.9775</td>\n",
       "                        <td id=\"T_5b5bcb92_282e_11eb_9de2_00d8610889aerow4_col5\" class=\"data row4 col5\" >0.9746</td>\n",
       "                        <td id=\"T_5b5bcb92_282e_11eb_9de2_00d8610889aerow4_col6\" class=\"data row4 col6\" >0.9746</td>\n",
       "            </tr>\n",
       "            <tr>\n",
       "                        <th id=\"T_5b5bcb92_282e_11eb_9de2_00d8610889aelevel0_row5\" class=\"row_heading level0 row5\" >5</th>\n",
       "                        <td id=\"T_5b5bcb92_282e_11eb_9de2_00d8610889aerow5_col0\" class=\"data row5 col0\" >0.9782</td>\n",
       "                        <td id=\"T_5b5bcb92_282e_11eb_9de2_00d8610889aerow5_col1\" class=\"data row5 col1\" >0.0000</td>\n",
       "                        <td id=\"T_5b5bcb92_282e_11eb_9de2_00d8610889aerow5_col2\" class=\"data row5 col2\" >0.8763</td>\n",
       "                        <td id=\"T_5b5bcb92_282e_11eb_9de2_00d8610889aerow5_col3\" class=\"data row5 col3\" >0.9775</td>\n",
       "                        <td id=\"T_5b5bcb92_282e_11eb_9de2_00d8610889aerow5_col4\" class=\"data row5 col4\" >0.9765</td>\n",
       "                        <td id=\"T_5b5bcb92_282e_11eb_9de2_00d8610889aerow5_col5\" class=\"data row5 col5\" >0.9745</td>\n",
       "                        <td id=\"T_5b5bcb92_282e_11eb_9de2_00d8610889aerow5_col6\" class=\"data row5 col6\" >0.9746</td>\n",
       "            </tr>\n",
       "            <tr>\n",
       "                        <th id=\"T_5b5bcb92_282e_11eb_9de2_00d8610889aelevel0_row6\" class=\"row_heading level0 row6\" >6</th>\n",
       "                        <td id=\"T_5b5bcb92_282e_11eb_9de2_00d8610889aerow6_col0\" class=\"data row6 col0\" >0.9812</td>\n",
       "                        <td id=\"T_5b5bcb92_282e_11eb_9de2_00d8610889aerow6_col1\" class=\"data row6 col1\" >0.0000</td>\n",
       "                        <td id=\"T_5b5bcb92_282e_11eb_9de2_00d8610889aerow6_col2\" class=\"data row6 col2\" >0.9279</td>\n",
       "                        <td id=\"T_5b5bcb92_282e_11eb_9de2_00d8610889aerow6_col3\" class=\"data row6 col3\" >0.9809</td>\n",
       "                        <td id=\"T_5b5bcb92_282e_11eb_9de2_00d8610889aerow6_col4\" class=\"data row6 col4\" >0.9808</td>\n",
       "                        <td id=\"T_5b5bcb92_282e_11eb_9de2_00d8610889aerow6_col5\" class=\"data row6 col5\" >0.9780</td>\n",
       "                        <td id=\"T_5b5bcb92_282e_11eb_9de2_00d8610889aerow6_col6\" class=\"data row6 col6\" >0.9780</td>\n",
       "            </tr>\n",
       "            <tr>\n",
       "                        <th id=\"T_5b5bcb92_282e_11eb_9de2_00d8610889aelevel0_row7\" class=\"row_heading level0 row7\" >7</th>\n",
       "                        <td id=\"T_5b5bcb92_282e_11eb_9de2_00d8610889aerow7_col0\" class=\"data row7 col0\" >0.9733</td>\n",
       "                        <td id=\"T_5b5bcb92_282e_11eb_9de2_00d8610889aerow7_col1\" class=\"data row7 col1\" >0.0000</td>\n",
       "                        <td id=\"T_5b5bcb92_282e_11eb_9de2_00d8610889aerow7_col2\" class=\"data row7 col2\" >0.8852</td>\n",
       "                        <td id=\"T_5b5bcb92_282e_11eb_9de2_00d8610889aerow7_col3\" class=\"data row7 col3\" >0.9748</td>\n",
       "                        <td id=\"T_5b5bcb92_282e_11eb_9de2_00d8610889aerow7_col4\" class=\"data row7 col4\" >0.9734</td>\n",
       "                        <td id=\"T_5b5bcb92_282e_11eb_9de2_00d8610889aerow7_col5\" class=\"data row7 col5\" >0.9688</td>\n",
       "                        <td id=\"T_5b5bcb92_282e_11eb_9de2_00d8610889aerow7_col6\" class=\"data row7 col6\" >0.9688</td>\n",
       "            </tr>\n",
       "            <tr>\n",
       "                        <th id=\"T_5b5bcb92_282e_11eb_9de2_00d8610889aelevel0_row8\" class=\"row_heading level0 row8\" >8</th>\n",
       "                        <td id=\"T_5b5bcb92_282e_11eb_9de2_00d8610889aerow8_col0\" class=\"data row8 col0\" >0.9753</td>\n",
       "                        <td id=\"T_5b5bcb92_282e_11eb_9de2_00d8610889aerow8_col1\" class=\"data row8 col1\" >0.0000</td>\n",
       "                        <td id=\"T_5b5bcb92_282e_11eb_9de2_00d8610889aerow8_col2\" class=\"data row8 col2\" >0.8893</td>\n",
       "                        <td id=\"T_5b5bcb92_282e_11eb_9de2_00d8610889aerow8_col3\" class=\"data row8 col3\" >0.9728</td>\n",
       "                        <td id=\"T_5b5bcb92_282e_11eb_9de2_00d8610889aerow8_col4\" class=\"data row8 col4\" >0.9731</td>\n",
       "                        <td id=\"T_5b5bcb92_282e_11eb_9de2_00d8610889aerow8_col5\" class=\"data row8 col5\" >0.9711</td>\n",
       "                        <td id=\"T_5b5bcb92_282e_11eb_9de2_00d8610889aerow8_col6\" class=\"data row8 col6\" >0.9711</td>\n",
       "            </tr>\n",
       "            <tr>\n",
       "                        <th id=\"T_5b5bcb92_282e_11eb_9de2_00d8610889aelevel0_row9\" class=\"row_heading level0 row9\" >9</th>\n",
       "                        <td id=\"T_5b5bcb92_282e_11eb_9de2_00d8610889aerow9_col0\" class=\"data row9 col0\" >0.9743</td>\n",
       "                        <td id=\"T_5b5bcb92_282e_11eb_9de2_00d8610889aerow9_col1\" class=\"data row9 col1\" >0.0000</td>\n",
       "                        <td id=\"T_5b5bcb92_282e_11eb_9de2_00d8610889aerow9_col2\" class=\"data row9 col2\" >0.8589</td>\n",
       "                        <td id=\"T_5b5bcb92_282e_11eb_9de2_00d8610889aerow9_col3\" class=\"data row9 col3\" >0.9744</td>\n",
       "                        <td id=\"T_5b5bcb92_282e_11eb_9de2_00d8610889aerow9_col4\" class=\"data row9 col4\" >0.9726</td>\n",
       "                        <td id=\"T_5b5bcb92_282e_11eb_9de2_00d8610889aerow9_col5\" class=\"data row9 col5\" >0.9699</td>\n",
       "                        <td id=\"T_5b5bcb92_282e_11eb_9de2_00d8610889aerow9_col6\" class=\"data row9 col6\" >0.9699</td>\n",
       "            </tr>\n",
       "            <tr>\n",
       "                        <th id=\"T_5b5bcb92_282e_11eb_9de2_00d8610889aelevel0_row10\" class=\"row_heading level0 row10\" >Mean</th>\n",
       "                        <td id=\"T_5b5bcb92_282e_11eb_9de2_00d8610889aerow10_col0\" class=\"data row10 col0\" >0.9754</td>\n",
       "                        <td id=\"T_5b5bcb92_282e_11eb_9de2_00d8610889aerow10_col1\" class=\"data row10 col1\" >0.0000</td>\n",
       "                        <td id=\"T_5b5bcb92_282e_11eb_9de2_00d8610889aerow10_col2\" class=\"data row10 col2\" >0.8927</td>\n",
       "                        <td id=\"T_5b5bcb92_282e_11eb_9de2_00d8610889aerow10_col3\" class=\"data row10 col3\" >0.9751</td>\n",
       "                        <td id=\"T_5b5bcb92_282e_11eb_9de2_00d8610889aerow10_col4\" class=\"data row10 col4\" >0.9742</td>\n",
       "                        <td id=\"T_5b5bcb92_282e_11eb_9de2_00d8610889aerow10_col5\" class=\"data row10 col5\" >0.9712</td>\n",
       "                        <td id=\"T_5b5bcb92_282e_11eb_9de2_00d8610889aerow10_col6\" class=\"data row10 col6\" >0.9712</td>\n",
       "            </tr>\n",
       "            <tr>\n",
       "                        <th id=\"T_5b5bcb92_282e_11eb_9de2_00d8610889aelevel0_row11\" class=\"row_heading level0 row11\" >SD</th>\n",
       "                        <td id=\"T_5b5bcb92_282e_11eb_9de2_00d8610889aerow11_col0\" class=\"data row11 col0\" >0.0050</td>\n",
       "                        <td id=\"T_5b5bcb92_282e_11eb_9de2_00d8610889aerow11_col1\" class=\"data row11 col1\" >0.0000</td>\n",
       "                        <td id=\"T_5b5bcb92_282e_11eb_9de2_00d8610889aerow11_col2\" class=\"data row11 col2\" >0.0253</td>\n",
       "                        <td id=\"T_5b5bcb92_282e_11eb_9de2_00d8610889aerow11_col3\" class=\"data row11 col3\" >0.0052</td>\n",
       "                        <td id=\"T_5b5bcb92_282e_11eb_9de2_00d8610889aerow11_col4\" class=\"data row11 col4\" >0.0053</td>\n",
       "                        <td id=\"T_5b5bcb92_282e_11eb_9de2_00d8610889aerow11_col5\" class=\"data row11 col5\" >0.0059</td>\n",
       "                        <td id=\"T_5b5bcb92_282e_11eb_9de2_00d8610889aerow11_col6\" class=\"data row11 col6\" >0.0059</td>\n",
       "            </tr>\n",
       "    </tbody></table>"
      ],
      "text/plain": [
       "<pandas.io.formats.style.Styler at 0x14dcd757f70>"
      ]
     },
     "metadata": {},
     "output_type": "display_data"
    }
   ],
   "source": [
    "setup(data=data,\n",
    "      target=target_label,\n",
    "      numeric_features=num_features,\n",
    "      silent=True)\n",
    "model = create_model('et')"
   ]
  },
  {
   "cell_type": "markdown",
   "metadata": {},
   "source": [
    "# Prediction"
   ]
  },
  {
   "cell_type": "code",
   "execution_count": 11,
   "metadata": {
    "scrolled": true
   },
   "outputs": [
    {
     "name": "stdout",
     "output_type": "stream",
     "text": [
      "prediction took: 1.5625\n"
     ]
    }
   ],
   "source": [
    "predicted = timed_prediction(data,model)"
   ]
  },
  {
   "cell_type": "code",
   "execution_count": 12,
   "metadata": {},
   "outputs": [
    {
     "name": "stdout",
     "output_type": "stream",
     "text": [
      "Number of error: 0 from 14442 test samples \n",
      "Which is 0.0% of error.\n"
     ]
    }
   ],
   "source": [
    "check_correction(predicted)"
   ]
  },
  {
   "cell_type": "markdown",
   "metadata": {},
   "source": [
    "# Read Unseen Test"
   ]
  },
  {
   "cell_type": "code",
   "execution_count": 13,
   "metadata": {},
   "outputs": [],
   "source": [
    "unseen_data = pd.read_csv(path+file_name+target_label+'_test.csv',\n",
    "                      sep='\\t',\n",
    "                      skiprows=[1])"
   ]
  },
  {
   "cell_type": "code",
   "execution_count": 14,
   "metadata": {},
   "outputs": [],
   "source": [
    "# saving the target column\n",
    "answers = unseen_data[target_label]"
   ]
  },
  {
   "cell_type": "code",
   "execution_count": 15,
   "metadata": {},
   "outputs": [],
   "source": [
    "# dropping traget column from test.\n",
    "unseen_data = unseen_data.drop(columns=[target_label])"
   ]
  },
  {
   "cell_type": "markdown",
   "metadata": {},
   "source": [
    "# Make Unseen Test"
   ]
  },
  {
   "cell_type": "code",
   "execution_count": 16,
   "metadata": {},
   "outputs": [
    {
     "name": "stdout",
     "output_type": "stream",
     "text": [
      "prediction took: 0.765625\n"
     ]
    }
   ],
   "source": [
    "predicted = timed_prediction(unseen_data,model)"
   ]
  },
  {
   "cell_type": "code",
   "execution_count": 17,
   "metadata": {},
   "outputs": [
    {
     "data": {
      "text/plain": [
       "array([16102, 14602, 16302, 15602, 18102, 13102, 13202, 11602, 16201,\n",
       "       18201, 13201, 18101, 13101, 16101, 12201, 17101, 12101, 14601,\n",
       "       16202, 18202, 18302, 13302, 13403, 16403, 18403, 17403, 17201,\n",
       "       16103, 13103, 18103], dtype=int64)"
      ]
     },
     "execution_count": 17,
     "metadata": {},
     "output_type": "execute_result"
    }
   ],
   "source": [
    "predicted['Label'].unique()"
   ]
  },
  {
   "cell_type": "code",
   "execution_count": 18,
   "metadata": {},
   "outputs": [
    {
     "data": {
      "text/plain": [
       "array([16102, 14602, 15602, 18102, 13102, 11602, 16201, 13201, 18201,\n",
       "       16101, 13101, 18101, 16202, 18202, 13202, 16302, 18302, 13302,\n",
       "       13403, 18403, 17403, 14601, 17101, 12101, 17201, 12201, 16403,\n",
       "       16103, 13103, 18103], dtype=int64)"
      ]
     },
     "execution_count": 18,
     "metadata": {},
     "output_type": "execute_result"
    }
   ],
   "source": [
    "answers.unique()"
   ]
  },
  {
   "cell_type": "code",
   "execution_count": null,
   "metadata": {},
   "outputs": [],
   "source": [
    "compare_prediction_with_answers(predicted,answers)"
   ]
  },
  {
   "cell_type": "code",
   "execution_count": null,
   "metadata": {},
   "outputs": [],
   "source": []
  }
 ],
 "metadata": {
  "kernelspec": {
   "display_name": "Python 3.8.3 64-bit ('base': conda)",
   "language": "python",
   "name": "python38364bitbasecondaed19ee87b6844ca4b2207fe8765813ad"
  },
  "language_info": {
   "codemirror_mode": {
    "name": "ipython",
    "version": 3
   },
   "file_extension": ".py",
   "mimetype": "text/x-python",
   "name": "python",
   "nbconvert_exporter": "python",
   "pygments_lexer": "ipython3",
   "version": "3.8.5"
  }
 },
 "nbformat": 4,
 "nbformat_minor": 4
}
